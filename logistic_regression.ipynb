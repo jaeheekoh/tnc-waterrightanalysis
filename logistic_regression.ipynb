{
 "cells": [
  {
   "cell_type": "markdown",
   "source": "# Logistic Regression Predictive Model",
   "metadata": {
    "cell_id": "e0e494b7b39348f9ba39c0b74aa8cd6d",
    "tags": [],
    "is_collapsed": false,
    "deepnote_cell_type": "text-cell-h1"
   }
  },
  {
   "cell_type": "markdown",
   "source": "We created a logistic regression model to predict whether a given pending water rights application would be approved or not permitted.",
   "metadata": {
    "cell_id": "b4c6c25c12534082b4e8cd53aa77e493",
    "tags": [],
    "is_collapsed": false,
    "deepnote_cell_type": "text-cell-p"
   }
  },
  {
   "cell_type": "code",
   "metadata": {
    "cell_id": "2ec0b49f-3e9c-4754-93df-5a136b366ede",
    "deepnote_to_be_reexecuted": false,
    "source_hash": "5ea5f229",
    "execution_start": 1651705586041,
    "execution_millis": 2494,
    "deepnote_cell_type": "code",
    "deepnote_cell_height": 459
   },
   "source": "# Run this cell to set up your notebook.  Make sure ds100_utils.py is in this assignment's folder\nimport seaborn as sns\nimport csv\nimport numpy as np\nimport pandas as pd\nimport matplotlib.pyplot as plt\nimport zipfile\nfrom pathlib import Path\nimport scipy\nfrom scipy import stats\n\n\n# Default plot configurations\n%matplotlib inline\nplt.rcParams['figure.figsize'] = (16,8)\nplt.rcParams['figure.dpi'] = 150\nsns.set()\n\nimport warnings\nwarnings.filterwarnings(\"ignore\")\n\nfrom IPython.display import display, Latex, Markdown",
   "outputs": [],
   "execution_count": null
  },
  {
   "cell_type": "markdown",
   "source": "### Data Preprocessing",
   "metadata": {
    "cell_id": "eb1898688a354b6295cc70b3288388d6",
    "tags": [],
    "is_collapsed": false,
    "deepnote_cell_type": "text-cell-h3"
   }
  },
  {
   "cell_type": "code",
   "metadata": {
    "cell_id": "53fc7c28892f4956a0cc6d7a579e13d5",
    "tags": [],
    "deepnote_to_be_reexecuted": false,
    "source_hash": "33a03a91",
    "execution_start": 1651705602958,
    "execution_millis": 3397,
    "deepnote_cell_type": "code",
    "deepnote_cell_height": 467
   },
   "source": "#Run this cell to see list of columns in the dataset\n#Insp conatains number of violations\norg = pd.read_csv('water-rights-status-history.csv')\ninsp = pd.read_csv('water-rights-inspections.csv')\ninsp.head(5)",
   "outputs": [
    {
     "output_type": "execute_result",
     "execution_count": 2,
     "data": {
      "application/vnd.deepnote.dataframe.v3+json": {
       "column_count": 45,
       "row_count": 5,
       "columns": [
        {
         "name": "INSPECTION_ID",
         "dtype": "int64",
         "stats": {
          "unique_count": 5,
          "nan_count": 0,
          "min": "1",
          "max": "5",
          "histogram": [
           {
            "bin_start": 1,
            "bin_end": 1.4,
            "count": 1
           },
           {
            "bin_start": 1.4,
            "bin_end": 1.8,
            "count": 0
           },
           {
            "bin_start": 1.8,
            "bin_end": 2.2,
            "count": 1
           },
           {
            "bin_start": 2.2,
            "bin_end": 2.6,
            "count": 0
           },
           {
            "bin_start": 2.6,
            "bin_end": 3,
            "count": 0
           },
           {
            "bin_start": 3,
            "bin_end": 3.4000000000000004,
            "count": 1
           },
           {
            "bin_start": 3.4000000000000004,
            "bin_end": 3.8000000000000003,
            "count": 0
           },
           {
            "bin_start": 3.8000000000000003,
            "bin_end": 4.2,
            "count": 1
           },
           {
            "bin_start": 4.2,
            "bin_end": 4.6,
            "count": 0
           },
           {
            "bin_start": 4.6,
            "bin_end": 5,
            "count": 1
           }
          ]
         }
        },
        {
         "name": "INSPECTION_DATE",
         "dtype": "object",
         "stats": {
          "unique_count": 5,
          "nan_count": 0,
          "categories": [
           {
            "name": "6/6/2008",
            "count": 1
           },
           {
            "name": "6/6/2012",
            "count": 1
           },
           {
            "name": "3 others",
            "count": 3
           }
          ]
         }
        },
        {
         "name": "INSPECTION_METHOD",
         "dtype": "object",
         "stats": {
          "unique_count": 1,
          "nan_count": 2,
          "categories": [
           {
            "name": "Field",
            "count": 3
           },
           {
            "name": "Missing",
            "count": 2
           }
          ]
         }
        },
        {
         "name": "INSPECTION_REPORT_DATE",
         "dtype": "object",
         "stats": {
          "unique_count": 4,
          "nan_count": 1,
          "categories": [
           {
            "name": "6/6/2008",
            "count": 1
           },
           {
            "name": "3 others",
            "count": 3
           },
           {
            "name": "Missing",
            "count": 1
           }
          ]
         }
        },
        {
         "name": "INSPECTION_NOTES",
         "dtype": "object",
         "stats": {
          "unique_count": 0,
          "nan_count": 5,
          "categories": [
           {
            "name": "Missing",
            "count": 5
           }
          ]
         }
        },
        {
         "name": "NUM_INSPECTION",
         "dtype": "int64",
         "stats": {
          "unique_count": 1,
          "nan_count": 0,
          "min": "1",
          "max": "1",
          "histogram": [
           {
            "bin_start": 0.5,
            "bin_end": 0.6,
            "count": 0
           },
           {
            "bin_start": 0.6,
            "bin_end": 0.7,
            "count": 0
           },
           {
            "bin_start": 0.7,
            "bin_end": 0.8,
            "count": 0
           },
           {
            "bin_start": 0.8,
            "bin_end": 0.9,
            "count": 0
           },
           {
            "bin_start": 0.9,
            "bin_end": 1,
            "count": 0
           },
           {
            "bin_start": 1,
            "bin_end": 1.1,
            "count": 5
           },
           {
            "bin_start": 1.1,
            "bin_end": 1.2000000000000002,
            "count": 0
           },
           {
            "bin_start": 1.2000000000000002,
            "bin_end": 1.3,
            "count": 0
           },
           {
            "bin_start": 1.3,
            "bin_end": 1.4,
            "count": 0
           },
           {
            "bin_start": 1.4,
            "bin_end": 1.5,
            "count": 0
           }
          ]
         }
        },
        {
         "name": "NUM_POI",
         "dtype": "float64",
         "stats": {
          "unique_count": 3,
          "nan_count": 0,
          "min": "1.0",
          "max": "6.0",
          "histogram": [
           {
            "bin_start": 1,
            "bin_end": 1.5,
            "count": 3
           },
           {
            "bin_start": 1.5,
            "bin_end": 2,
            "count": 0
           },
           {
            "bin_start": 2,
            "bin_end": 2.5,
            "count": 1
           },
           {
            "bin_start": 2.5,
            "bin_end": 3,
            "count": 0
           },
           {
            "bin_start": 3,
            "bin_end": 3.5,
            "count": 0
           },
           {
            "bin_start": 3.5,
            "bin_end": 4,
            "count": 0
           },
           {
            "bin_start": 4,
            "bin_end": 4.5,
            "count": 0
           },
           {
            "bin_start": 4.5,
            "bin_end": 5,
            "count": 0
           },
           {
            "bin_start": 5,
            "bin_end": 5.5,
            "count": 0
           },
           {
            "bin_start": 5.5,
            "bin_end": 6,
            "count": 1
           }
          ]
         }
        },
        {
         "name": "POI_ID_1",
         "dtype": "float64",
         "stats": {
          "unique_count": 5,
          "nan_count": 0,
          "min": "1226.0",
          "max": "8162.0",
          "histogram": [
           {
            "bin_start": 1226,
            "bin_end": 1919.6,
            "count": 2
           },
           {
            "bin_start": 1919.6,
            "bin_end": 2613.2,
            "count": 0
           },
           {
            "bin_start": 2613.2,
            "bin_end": 3306.8,
            "count": 0
           },
           {
            "bin_start": 3306.8,
            "bin_end": 4000.4,
            "count": 0
           },
           {
            "bin_start": 4000.4,
            "bin_end": 4694,
            "count": 0
           },
           {
            "bin_start": 4694,
            "bin_end": 5387.6,
            "count": 0
           },
           {
            "bin_start": 5387.6,
            "bin_end": 6081.2,
            "count": 1
           },
           {
            "bin_start": 6081.2,
            "bin_end": 6774.8,
            "count": 0
           },
           {
            "bin_start": 6774.8,
            "bin_end": 7468.400000000001,
            "count": 0
           },
           {
            "bin_start": 7468.400000000001,
            "bin_end": 8162,
            "count": 2
           }
          ]
         }
        },
        {
         "name": "POI_COUNTY_1",
         "dtype": "object",
         "stats": {
          "unique_count": 5,
          "nan_count": 0,
          "categories": [
           {
            "name": "Sonoma",
            "count": 1
           },
           {
            "name": "Napa",
            "count": 1
           },
           {
            "name": "3 others",
            "count": 3
           }
          ]
         }
        },
        {
         "name": "POI_SOURCE_1",
         "dtype": "object",
         "stats": {
          "unique_count": 3,
          "nan_count": 0,
          "categories": [
           {
            "name": "Unnamed stream",
            "count": 3
           },
           {
            "name": "Tulucay Creek",
            "count": 1
           },
           {
            "name": "Stanshaw Creek",
            "count": 1
           }
          ]
         }
        },
        {
         "name": "POI_TRIBUTARY_TO_1",
         "dtype": "object",
         "stats": {
          "unique_count": 2,
          "nan_count": 3,
          "categories": [
           {
            "name": "Matanzas Creek",
            "count": 1
           },
           {
            "name": "Cahto Creek",
            "count": 1
           },
           {
            "name": "Missing",
            "count": 3
           }
          ]
         }
        },
        {
         "name": "POI_LATITUDE_1",
         "dtype": "float64",
         "stats": {
          "unique_count": 5,
          "nan_count": 0,
          "min": "38.2454",
          "max": "41.47918741",
          "histogram": [
           {
            "bin_start": 38.2454,
            "bin_end": 38.568778740999996,
            "count": 3
           },
           {
            "bin_start": 38.568778740999996,
            "bin_end": 38.892157481999995,
            "count": 0
           },
           {
            "bin_start": 38.892157481999995,
            "bin_end": 39.215536223,
            "count": 0
           },
           {
            "bin_start": 39.215536223,
            "bin_end": 39.538914964,
            "count": 0
           },
           {
            "bin_start": 39.538914964,
            "bin_end": 39.862293705,
            "count": 1
           },
           {
            "bin_start": 39.862293705,
            "bin_end": 40.185672446,
            "count": 0
           },
           {
            "bin_start": 40.185672446,
            "bin_end": 40.509051187,
            "count": 0
           },
           {
            "bin_start": 40.509051187,
            "bin_end": 40.832429928,
            "count": 0
           },
           {
            "bin_start": 40.832429928,
            "bin_end": 41.155808669,
            "count": 0
           },
           {
            "bin_start": 41.155808669,
            "bin_end": 41.47918741,
            "count": 1
           }
          ]
         }
        },
        {
         "name": "POI_LONGITUDE_1",
         "dtype": "float64",
         "stats": {
          "unique_count": 5,
          "nan_count": 0,
          "min": "-123.526",
          "max": "-121.017",
          "histogram": [
           {
            "bin_start": -123.526,
            "bin_end": -123.2751,
            "count": 2
           },
           {
            "bin_start": -123.2751,
            "bin_end": -123.0242,
            "count": 0
           },
           {
            "bin_start": -123.0242,
            "bin_end": -122.77329999999999,
            "count": 0
           },
           {
            "bin_start": -122.77329999999999,
            "bin_end": -122.52239999999999,
            "count": 1
           },
           {
            "bin_start": -122.52239999999999,
            "bin_end": -122.2715,
            "count": 0
           },
           {
            "bin_start": -122.2715,
            "bin_end": -122.0206,
            "count": 1
           },
           {
            "bin_start": -122.0206,
            "bin_end": -121.7697,
            "count": 0
           },
           {
            "bin_start": -121.7697,
            "bin_end": -121.5188,
            "count": 0
           },
           {
            "bin_start": -121.5188,
            "bin_end": -121.2679,
            "count": 0
           },
           {
            "bin_start": -121.2679,
            "bin_end": -121.017,
            "count": 1
           }
          ]
         }
        },
        {
         "name": "POI_DESCRIPTION_1",
         "dtype": "object",
         "stats": {
          "unique_count": 5,
          "nan_count": 0,
          "categories": [
           {
            "name": "A031737 01",
            "count": 1
           },
           {
            "name": "A025455 01",
            "count": 1
           },
           {
            "name": "3 others",
            "count": 3
           }
          ]
         }
        },
        {
         "name": "PRIMARY_POI_1",
         "dtype": "object",
         "stats": {
          "unique_count": 1,
          "nan_count": 0,
          "categories": [
           {
            "name": "Y",
            "count": 5
           }
          ]
         }
        },
        {
         "name": "POI_ID_2",
         "dtype": "float64",
         "stats": {
          "unique_count": 2,
          "nan_count": 3,
          "min": "7686.0",
          "max": "8163.0",
          "histogram": [
           {
            "bin_start": 7686,
            "bin_end": 7733.7,
            "count": 1
           },
           {
            "bin_start": 7733.7,
            "bin_end": 7781.4,
            "count": 0
           },
           {
            "bin_start": 7781.4,
            "bin_end": 7829.1,
            "count": 0
           },
           {
            "bin_start": 7829.1,
            "bin_end": 7876.8,
            "count": 0
           },
           {
            "bin_start": 7876.8,
            "bin_end": 7924.5,
            "count": 0
           },
           {
            "bin_start": 7924.5,
            "bin_end": 7972.2,
            "count": 0
           },
           {
            "bin_start": 7972.2,
            "bin_end": 8019.9,
            "count": 0
           },
           {
            "bin_start": 8019.9,
            "bin_end": 8067.6,
            "count": 0
           },
           {
            "bin_start": 8067.6,
            "bin_end": 8115.3,
            "count": 0
           },
           {
            "bin_start": 8115.3,
            "bin_end": 8163,
            "count": 1
           }
          ]
         }
        },
        {
         "name": "POI_COUNTY_2",
         "dtype": "object",
         "stats": {
          "unique_count": 2,
          "nan_count": 3,
          "categories": [
           {
            "name": "Siskiyou",
            "count": 1
           },
           {
            "name": "Mendocino",
            "count": 1
           },
           {
            "name": "Missing",
            "count": 3
           }
          ]
         }
        },
        {
         "name": "POI_SOURCE_2",
         "dtype": "object",
         "stats": {
          "unique_count": 2,
          "nan_count": 3,
          "categories": [
           {
            "name": "Stanshaw Creek",
            "count": 1
           },
           {
            "name": "Cahto Creek",
            "count": 1
           },
           {
            "name": "Missing",
            "count": 3
           }
          ]
         }
        },
        {
         "name": "POI_TRIBUTARY_TO_2",
         "dtype": "object",
         "stats": {
          "unique_count": 0,
          "nan_count": 5,
          "categories": [
           {
            "name": "Missing",
            "count": 5
           }
          ]
         }
        },
        {
         "name": "POI_LATITUDE_2",
         "dtype": "float64",
         "stats": {
          "unique_count": 2,
          "nan_count": 3,
          "min": "39.6626",
          "max": "41.47918741",
          "histogram": [
           {
            "bin_start": 39.6626,
            "bin_end": 39.844258741,
            "count": 1
           },
           {
            "bin_start": 39.844258741,
            "bin_end": 40.025917482,
            "count": 0
           },
           {
            "bin_start": 40.025917482,
            "bin_end": 40.207576223,
            "count": 0
           },
           {
            "bin_start": 40.207576223,
            "bin_end": 40.389234963999996,
            "count": 0
           },
           {
            "bin_start": 40.389234963999996,
            "bin_end": 40.570893705,
            "count": 0
           },
           {
            "bin_start": 40.570893705,
            "bin_end": 40.752552446,
            "count": 0
           },
           {
            "bin_start": 40.752552446,
            "bin_end": 40.934211187,
            "count": 0
           },
           {
            "bin_start": 40.934211187,
            "bin_end": 41.115869928,
            "count": 0
           },
           {
            "bin_start": 41.115869928,
            "bin_end": 41.297528669,
            "count": 0
           },
           {
            "bin_start": 41.297528669,
            "bin_end": 41.47918741,
            "count": 1
           }
          ]
         }
        },
        {
         "name": "POI_LONGITUDE_2",
         "dtype": "float64",
         "stats": {
          "unique_count": 2,
          "nan_count": 3,
          "min": "-123.525",
          "max": "-123.50004043",
          "histogram": [
           {
            "bin_start": -123.525,
            "bin_end": -123.522504043,
            "count": 1
           },
           {
            "bin_start": -123.522504043,
            "bin_end": -123.520008086,
            "count": 0
           },
           {
            "bin_start": -123.520008086,
            "bin_end": -123.51751212900001,
            "count": 0
           },
           {
            "bin_start": -123.51751212900001,
            "bin_end": -123.515016172,
            "count": 0
           },
           {
            "bin_start": -123.515016172,
            "bin_end": -123.512520215,
            "count": 0
           },
           {
            "bin_start": -123.512520215,
            "bin_end": -123.510024258,
            "count": 0
           },
           {
            "bin_start": -123.510024258,
            "bin_end": -123.50752830100001,
            "count": 0
           },
           {
            "bin_start": -123.50752830100001,
            "bin_end": -123.505032344,
            "count": 0
           },
           {
            "bin_start": -123.505032344,
            "bin_end": -123.50253638699999,
            "count": 0
           },
           {
            "bin_start": -123.50253638699999,
            "bin_end": -123.50004043,
            "count": 1
           }
          ]
         }
        },
        {
         "name": "POI_DESCRIPTION_2",
         "dtype": "object",
         "stats": {
          "unique_count": 2,
          "nan_count": 3,
          "categories": [
           {
            "name": "A029450 01",
            "count": 1
           },
           {
            "name": "A030966_05",
            "count": 1
           },
           {
            "name": "Missing",
            "count": 3
           }
          ]
         }
        },
        {
         "name": "PRIMARY_POI_2",
         "dtype": "object",
         "stats": {
          "unique_count": 1,
          "nan_count": 4,
          "categories": [
           {
            "name": "N",
            "count": 1
           },
           {
            "name": "Missing",
            "count": 4
           }
          ]
         }
        },
        {
         "name": "POI_ID_3",
         "dtype": "float64",
         "stats": {
          "unique_count": 1,
          "nan_count": 4,
          "min": "7685.0",
          "max": "7685.0",
          "histogram": [
           {
            "bin_start": 7684.5,
            "bin_end": 7684.6,
            "count": 0
           },
           {
            "bin_start": 7684.6,
            "bin_end": 7684.7,
            "count": 0
           },
           {
            "bin_start": 7684.7,
            "bin_end": 7684.8,
            "count": 0
           },
           {
            "bin_start": 7684.8,
            "bin_end": 7684.9,
            "count": 0
           },
           {
            "bin_start": 7684.9,
            "bin_end": 7685,
            "count": 0
           },
           {
            "bin_start": 7685,
            "bin_end": 7685.1,
            "count": 1
           },
           {
            "bin_start": 7685.1,
            "bin_end": 7685.2,
            "count": 0
           },
           {
            "bin_start": 7685.2,
            "bin_end": 7685.3,
            "count": 0
           },
           {
            "bin_start": 7685.3,
            "bin_end": 7685.4,
            "count": 0
           },
           {
            "bin_start": 7685.4,
            "bin_end": 7685.5,
            "count": 0
           }
          ]
         }
        },
        {
         "name": "POI_COUNTY_3",
         "dtype": "object",
         "stats": {
          "unique_count": 1,
          "nan_count": 4,
          "categories": [
           {
            "name": "Mendocino",
            "count": 1
           },
           {
            "name": "Missing",
            "count": 4
           }
          ]
         }
        },
        {
         "name": "POI_SOURCE_3",
         "dtype": "object",
         "stats": {
          "unique_count": 1,
          "nan_count": 4,
          "categories": [
           {
            "name": "Cahto Creek",
            "count": 1
           },
           {
            "name": "Missing",
            "count": 4
           }
          ]
         }
        },
        {
         "name": "POI_TRIBUTARY_TO_3",
         "dtype": "object",
         "stats": {
          "unique_count": 0,
          "nan_count": 5,
          "categories": [
           {
            "name": "Missing",
            "count": 5
           }
          ]
         }
        },
        {
         "name": "POI_LATITUDE_3",
         "dtype": "float64",
         "stats": {
          "unique_count": 1,
          "nan_count": 4,
          "min": "39.663",
          "max": "39.663",
          "histogram": [
           {
            "bin_start": 39.163,
            "bin_end": 39.263,
            "count": 0
           },
           {
            "bin_start": 39.263,
            "bin_end": 39.363,
            "count": 0
           },
           {
            "bin_start": 39.363,
            "bin_end": 39.462999999999994,
            "count": 0
           },
           {
            "bin_start": 39.462999999999994,
            "bin_end": 39.562999999999995,
            "count": 0
           },
           {
            "bin_start": 39.562999999999995,
            "bin_end": 39.663,
            "count": 0
           },
           {
            "bin_start": 39.663,
            "bin_end": 39.763,
            "count": 1
           },
           {
            "bin_start": 39.763,
            "bin_end": 39.863,
            "count": 0
           },
           {
            "bin_start": 39.863,
            "bin_end": 39.962999999999994,
            "count": 0
           },
           {
            "bin_start": 39.962999999999994,
            "bin_end": 40.062999999999995,
            "count": 0
           },
           {
            "bin_start": 40.062999999999995,
            "bin_end": 40.163,
            "count": 0
           }
          ]
         }
        },
        {
         "name": "POI_LONGITUDE_3",
         "dtype": "float64",
         "stats": {
          "unique_count": 1,
          "nan_count": 4,
          "min": "-123.526",
          "max": "-123.526",
          "histogram": [
           {
            "bin_start": -124.026,
            "bin_end": -123.926,
            "count": 0
           },
           {
            "bin_start": -123.926,
            "bin_end": -123.826,
            "count": 0
           },
           {
            "bin_start": -123.826,
            "bin_end": -123.726,
            "count": 0
           },
           {
            "bin_start": -123.726,
            "bin_end": -123.62599999999999,
            "count": 0
           },
           {
            "bin_start": -123.62599999999999,
            "bin_end": -123.526,
            "count": 0
           },
           {
            "bin_start": -123.526,
            "bin_end": -123.426,
            "count": 1
           },
           {
            "bin_start": -123.426,
            "bin_end": -123.326,
            "count": 0
           },
           {
            "bin_start": -123.326,
            "bin_end": -123.226,
            "count": 0
           },
           {
            "bin_start": -123.226,
            "bin_end": -123.12599999999999,
            "count": 0
           },
           {
            "bin_start": -123.12599999999999,
            "bin_end": -123.026,
            "count": 0
           }
          ]
         }
        },
        {
         "name": "POI_DESCRIPTION_3",
         "dtype": "object",
         "stats": {
          "unique_count": 1,
          "nan_count": 4,
          "categories": [
           {
            "name": "A030966_04",
            "count": 1
           },
           {
            "name": "Missing",
            "count": 4
           }
          ]
         }
        },
        {
         "name": "PRIMARY_POI_3",
         "dtype": "object",
         "stats": {
          "unique_count": 0,
          "nan_count": 5,
          "categories": [
           {
            "name": "Missing",
            "count": 5
           }
          ]
         }
        },
        {
         "name": "INVESTIGATION_ID",
         "dtype": "int64",
         "stats": {
          "unique_count": 5,
          "nan_count": 0,
          "min": "1962",
          "max": "4553",
          "histogram": [
           {
            "bin_start": 1962,
            "bin_end": 2221.1,
            "count": 3
           },
           {
            "bin_start": 2221.1,
            "bin_end": 2480.2,
            "count": 1
           },
           {
            "bin_start": 2480.2,
            "bin_end": 2739.3,
            "count": 0
           },
           {
            "bin_start": 2739.3,
            "bin_end": 2998.4,
            "count": 0
           },
           {
            "bin_start": 2998.4,
            "bin_end": 3257.5,
            "count": 0
           },
           {
            "bin_start": 3257.5,
            "bin_end": 3516.6000000000004,
            "count": 0
           },
           {
            "bin_start": 3516.6000000000004,
            "bin_end": 3775.7000000000003,
            "count": 0
           },
           {
            "bin_start": 3775.7000000000003,
            "bin_end": 4034.8,
            "count": 0
           },
           {
            "bin_start": 4034.8,
            "bin_end": 4293.9,
            "count": 0
           },
           {
            "bin_start": 4293.9,
            "bin_end": 4553,
            "count": 1
           }
          ]
         }
        },
        {
         "name": "INVESTIGATION_TYPE",
         "dtype": "object",
         "stats": {
          "unique_count": 4,
          "nan_count": 0,
          "categories": [
           {
            "name": "Complaint",
            "count": 2
           },
           {
            "name": "Unauthorized Diversion",
            "count": 1
           },
           {
            "name": "2 others",
            "count": 2
           }
          ]
         }
        },
        {
         "name": "INVESTIGATION_START_DATE",
         "dtype": "object",
         "stats": {
          "unique_count": 5,
          "nan_count": 0,
          "categories": [
           {
            "name": "6/6/2008",
            "count": 1
           },
           {
            "name": "4/16/2012",
            "count": 1
           },
           {
            "name": "3 others",
            "count": 3
           }
          ]
         }
        },
        {
         "name": "INVESTIGATION_CLOSURE_DATE",
         "dtype": "object",
         "stats": {
          "unique_count": 5,
          "nan_count": 0,
          "categories": [
           {
            "name": "6/6/2008",
            "count": 1
           },
           {
            "name": "8/3/2012",
            "count": 1
           },
           {
            "name": "3 others",
            "count": 3
           }
          ]
         }
        },
        {
         "name": "NUM_OF_VIOLATIONS",
         "dtype": "int64",
         "stats": {
          "unique_count": 3,
          "nan_count": 0,
          "min": "0",
          "max": "2",
          "histogram": [
           {
            "bin_start": 0,
            "bin_end": 0.2,
            "count": 3
           },
           {
            "bin_start": 0.2,
            "bin_end": 0.4,
            "count": 0
           },
           {
            "bin_start": 0.4,
            "bin_end": 0.6000000000000001,
            "count": 0
           },
           {
            "bin_start": 0.6000000000000001,
            "bin_end": 0.8,
            "count": 0
           },
           {
            "bin_start": 0.8,
            "bin_end": 1,
            "count": 0
           },
           {
            "bin_start": 1,
            "bin_end": 1.2000000000000002,
            "count": 1
           },
           {
            "bin_start": 1.2000000000000002,
            "bin_end": 1.4000000000000001,
            "count": 0
           },
           {
            "bin_start": 1.4000000000000001,
            "bin_end": 1.6,
            "count": 0
           },
           {
            "bin_start": 1.6,
            "bin_end": 1.8,
            "count": 0
           },
           {
            "bin_start": 1.8,
            "bin_end": 2,
            "count": 1
           }
          ]
         }
        },
        {
         "name": "ENF_CASE_NUMBER",
         "dtype": "object",
         "stats": {
          "unique_count": 2,
          "nan_count": 3,
          "categories": [
           {
            "name": "ENF00518",
            "count": 1
           },
           {
            "name": "ENF00945",
            "count": 1
           },
           {
            "name": "Missing",
            "count": 3
           }
          ]
         }
        },
        {
         "name": "ENFOCEMENT_ACTION_TYPE",
         "dtype": "object",
         "stats": {
          "unique_count": 2,
          "nan_count": 3,
          "categories": [
           {
            "name": "Notification of Violations and Voluntary Compliance, Cease and Desist Order",
            "count": 1
           },
           {
            "name": "Notification of Violations and Voluntary Compliance",
            "count": 1
           },
           {
            "name": "Missing",
            "count": 3
           }
          ]
         }
        },
        {
         "name": "ENF_CASE_CLOSURE_DATE",
         "dtype": "object",
         "stats": {
          "unique_count": 1,
          "nan_count": 4,
          "categories": [
           {
            "name": "4/22/2015",
            "count": 1
           },
           {
            "name": "Missing",
            "count": 4
           }
          ]
         }
        },
        {
         "name": "INVESTIGATION_LEAD_STAFF",
         "dtype": "object",
         "stats": {
          "unique_count": 5,
          "nan_count": 0,
          "categories": [
           {
            "name": "Chuck Arnold",
            "count": 1
           },
           {
            "name": "Bill  Rigby",
            "count": 1
           },
           {
            "name": "3 others",
            "count": 3
           }
          ]
         }
        },
        {
         "name": "INVEST_SECTION_OR_OFFICE",
         "dtype": "object",
         "stats": {
          "unique_count": 1,
          "nan_count": 0,
          "categories": [
           {
            "name": "Water Rights - Enforcement",
            "count": 5
           }
          ]
         }
        },
        {
         "name": "INVESTIGATION_SWEEP",
         "dtype": "object",
         "stats": {
          "unique_count": 0,
          "nan_count": 5,
          "categories": [
           {
            "name": "Missing",
            "count": 5
           }
          ]
         }
        },
        {
         "name": "RESOURCE_VALUE_PRIORITY",
         "dtype": "object",
         "stats": {
          "unique_count": 0,
          "nan_count": 5,
          "categories": [
           {
            "name": "Missing",
            "count": 5
           }
          ]
         }
        },
        {
         "name": "INVESTIGATION_SUMMARY",
         "dtype": "object",
         "stats": {
          "unique_count": 4,
          "nan_count": 1,
          "categories": [
           {
            "name": "Inspection found licensee out ot compliance with the in-line flow meter measuring device requirement and threatening to violate the minimum bypass requirement by not keeping records of diversion or the flow in Tulucay Creek.",
            "count": 1
           },
           {
            "name": "3 others",
            "count": 3
           },
           {
            "name": "Missing",
            "count": 1
           }
          ]
         }
        },
        {
         "name": "ASSOCIATED_WR_TO_INV",
         "dtype": "object",
         "stats": {
          "unique_count": 5,
          "nan_count": 0,
          "categories": [
           {
            "name": "A031737",
            "count": 1
           },
           {
            "name": "A025455",
            "count": 1
           },
           {
            "name": "3 others",
            "count": 3
           }
          ]
         }
        },
        {
         "name": "_deepnote_index_column",
         "dtype": "int64"
        }
       ],
       "rows": [
        {
         "INSPECTION_ID": 1,
         "INSPECTION_DATE": "6/6/2008",
         "INSPECTION_METHOD": "nan",
         "INSPECTION_REPORT_DATE": "6/6/2008",
         "INSPECTION_NOTES": "nan",
         "NUM_INSPECTION": 1,
         "NUM_POI": 1,
         "POI_ID_1": 5576,
         "POI_COUNTY_1": "Sonoma",
         "POI_SOURCE_1": "Unnamed stream",
         "POI_TRIBUTARY_TO_1": "Matanzas Creek",
         "POI_LATITUDE_1": 38.3922,
         "POI_LONGITUDE_1": -122.6067,
         "POI_DESCRIPTION_1": "A031737 01",
         "PRIMARY_POI_1": "Y",
         "POI_ID_2": "nan",
         "POI_COUNTY_2": "nan",
         "POI_SOURCE_2": "nan",
         "POI_TRIBUTARY_TO_2": "nan",
         "POI_LATITUDE_2": "nan",
         "POI_LONGITUDE_2": "nan",
         "POI_DESCRIPTION_2": "nan",
         "PRIMARY_POI_2": "nan",
         "POI_ID_3": "nan",
         "POI_COUNTY_3": "nan",
         "POI_SOURCE_3": "nan",
         "POI_TRIBUTARY_TO_3": "nan",
         "POI_LATITUDE_3": "nan",
         "POI_LONGITUDE_3": "nan",
         "POI_DESCRIPTION_3": "nan",
         "PRIMARY_POI_3": "nan",
         "INVESTIGATION_ID": 1962,
         "INVESTIGATION_TYPE": "Unauthorized Diversion",
         "INVESTIGATION_START_DATE": "6/6/2008",
         "INVESTIGATION_CLOSURE_DATE": "6/6/2008",
         "NUM_OF_VIOLATIONS": 0,
         "ENF_CASE_NUMBER": "nan",
         "ENFOCEMENT_ACTION_TYPE": "nan",
         "ENF_CASE_CLOSURE_DATE": "nan",
         "INVESTIGATION_LEAD_STAFF": "Chuck Arnold",
         "INVEST_SECTION_OR_OFFICE": "Water Rights - Enforcement",
         "INVESTIGATION_SWEEP": "nan",
         "RESOURCE_VALUE_PRIORITY": "nan",
         "INVESTIGATION_SUMMARY": "nan",
         "ASSOCIATED_WR_TO_INV": "A031737",
         "_deepnote_index_column": 0
        },
        {
         "INSPECTION_ID": 2,
         "INSPECTION_DATE": "6/6/2012",
         "INSPECTION_METHOD": "Field",
         "INSPECTION_REPORT_DATE": "8/3/2012",
         "INSPECTION_NOTES": "nan",
         "NUM_INSPECTION": 1,
         "NUM_POI": 1,
         "POI_ID_1": 1226,
         "POI_COUNTY_1": "Napa",
         "POI_SOURCE_1": "Tulucay Creek",
         "POI_TRIBUTARY_TO_1": "nan",
         "POI_LATITUDE_1": 38.29045832,
         "POI_LONGITUDE_1": -122.25933254,
         "POI_DESCRIPTION_1": "A025455 01",
         "PRIMARY_POI_1": "Y",
         "POI_ID_2": "nan",
         "POI_COUNTY_2": "nan",
         "POI_SOURCE_2": "nan",
         "POI_TRIBUTARY_TO_2": "nan",
         "POI_LATITUDE_2": "nan",
         "POI_LONGITUDE_2": "nan",
         "POI_DESCRIPTION_2": "nan",
         "PRIMARY_POI_2": "nan",
         "POI_ID_3": "nan",
         "POI_COUNTY_3": "nan",
         "POI_SOURCE_3": "nan",
         "POI_TRIBUTARY_TO_3": "nan",
         "POI_LATITUDE_3": "nan",
         "POI_LONGITUDE_3": "nan",
         "POI_DESCRIPTION_3": "nan",
         "PRIMARY_POI_3": "nan",
         "INVESTIGATION_ID": 4553,
         "INVESTIGATION_TYPE": "Compliance",
         "INVESTIGATION_START_DATE": "4/16/2012",
         "INVESTIGATION_CLOSURE_DATE": "8/3/2012",
         "NUM_OF_VIOLATIONS": 2,
         "ENF_CASE_NUMBER": "ENF00518",
         "ENFOCEMENT_ACTION_TYPE": "Notification of Violations and Voluntary Compliance, Cease and Desist Order",
         "ENF_CASE_CLOSURE_DATE": "nan",
         "INVESTIGATION_LEAD_STAFF": "Bill  Rigby",
         "INVEST_SECTION_OR_OFFICE": "Water Rights - Enforcement",
         "INVESTIGATION_SWEEP": "nan",
         "RESOURCE_VALUE_PRIORITY": "nan",
         "INVESTIGATION_SUMMARY": "Inspection found licensee out ot compliance with the in-line flow meter measuring device requirement and threatening to violate the minimum bypass requirement by not keeping records of diversion or the flow in Tulucay Creek.",
         "ASSOCIATED_WR_TO_INV": "A025455",
         "_deepnote_index_column": 1
        },
        {
         "INSPECTION_ID": 3,
         "INSPECTION_DATE": "10/15/2009",
         "INSPECTION_METHOD": "nan",
         "INSPECTION_REPORT_DATE": "nan",
         "INSPECTION_NOTES": "nan",
         "NUM_INSPECTION": 1,
         "NUM_POI": 1,
         "POI_ID_1": 1359,
         "POI_COUNTY_1": "San Joaquin",
         "POI_SOURCE_1": "Unnamed stream",
         "POI_TRIBUTARY_TO_1": "nan",
         "POI_LATITUDE_1": 38.2454,
         "POI_LONGITUDE_1": -121.017,
         "POI_DESCRIPTION_1": "A021472 01",
         "PRIMARY_POI_1": "Y",
         "POI_ID_2": "nan",
         "POI_COUNTY_2": "nan",
         "POI_SOURCE_2": "nan",
         "POI_TRIBUTARY_TO_2": "nan",
         "POI_LATITUDE_2": "nan",
         "POI_LONGITUDE_2": "nan",
         "POI_DESCRIPTION_2": "nan",
         "PRIMARY_POI_2": "nan",
         "POI_ID_3": "nan",
         "POI_COUNTY_3": "nan",
         "POI_SOURCE_3": "nan",
         "POI_TRIBUTARY_TO_3": "nan",
         "POI_LATITUDE_3": "nan",
         "POI_LONGITUDE_3": "nan",
         "POI_DESCRIPTION_3": "nan",
         "PRIMARY_POI_3": "nan",
         "INVESTIGATION_ID": 2142,
         "INVESTIGATION_TYPE": "Revocation - Voluntary",
         "INVESTIGATION_START_DATE": "10/15/2009",
         "INVESTIGATION_CLOSURE_DATE": "10/22/2009",
         "NUM_OF_VIOLATIONS": 0,
         "ENF_CASE_NUMBER": "nan",
         "ENFOCEMENT_ACTION_TYPE": "nan",
         "ENF_CASE_CLOSURE_DATE": "nan",
         "INVESTIGATION_LEAD_STAFF": "Matthew Quint",
         "INVEST_SECTION_OR_OFFICE": "Water Rights - Enforcement",
         "INVESTIGATION_SWEEP": "nan",
         "RESOURCE_VALUE_PRIORITY": "nan",
         "INVESTIGATION_SUMMARY": "Request for Revocation by William Race. Unable to revoke license because Mr. Race has a private road dam on his property which stores water.",
         "ASSOCIATED_WR_TO_INV": "A021472",
         "_deepnote_index_column": 2
        },
        {
         "INSPECTION_ID": 4,
         "INSPECTION_DATE": "10/17/2001",
         "INSPECTION_METHOD": "Field",
         "INSPECTION_REPORT_DATE": "5/23/2002",
         "INSPECTION_NOTES": "nan",
         "NUM_INSPECTION": 1,
         "NUM_POI": 2,
         "POI_ID_1": 8162,
         "POI_COUNTY_1": "Siskiyou",
         "POI_SOURCE_1": "Stanshaw Creek",
         "POI_TRIBUTARY_TO_1": "nan",
         "POI_LATITUDE_1": 41.47918741,
         "POI_LONGITUDE_1": -123.50004043,
         "POI_DESCRIPTION_1": "A029449 01",
         "PRIMARY_POI_1": "Y",
         "POI_ID_2": 8163,
         "POI_COUNTY_2": "Siskiyou",
         "POI_SOURCE_2": "Stanshaw Creek",
         "POI_TRIBUTARY_TO_2": "nan",
         "POI_LATITUDE_2": 41.47918741,
         "POI_LONGITUDE_2": -123.50004043,
         "POI_DESCRIPTION_2": "A029450 01",
         "PRIMARY_POI_2": "N",
         "POI_ID_3": "nan",
         "POI_COUNTY_3": "nan",
         "POI_SOURCE_3": "nan",
         "POI_TRIBUTARY_TO_3": "nan",
         "POI_LATITUDE_3": "nan",
         "POI_LONGITUDE_3": "nan",
         "POI_DESCRIPTION_3": "nan",
         "PRIMARY_POI_3": "nan",
         "INVESTIGATION_ID": 2122,
         "INVESTIGATION_TYPE": "Complaint",
         "INVESTIGATION_START_DATE": "10/17/2001",
         "INVESTIGATION_CLOSURE_DATE": "5/23/2002",
         "NUM_OF_VIOLATIONS": 0,
         "ENF_CASE_NUMBER": "nan",
         "ENFOCEMENT_ACTION_TYPE": "nan",
         "ENF_CASE_CLOSURE_DATE": "nan",
         "INVESTIGATION_LEAD_STAFF": "Michael Contreras",
         "INVEST_SECTION_OR_OFFICE": "Water Rights - Enforcement",
         "INVESTIGATION_SWEEP": "nan",
         "RESOURCE_VALUE_PRIORITY": "nan",
         "INVESTIGATION_SUMMARY": "Likely lawful holder of a pre-1914 right for domestic & irrigation; and A029449, if approved, should cover power uses.  Recommendation for a physical solution including a 0.7 cfs by-pass for flow continuity between Stanshaw Creek and the Klamath River.",
         "ASSOCIATED_WR_TO_INV": "A029449,A029450,A029450,S015022,A029449,S015022",
         "_deepnote_index_column": 3
        },
        {
         "INSPECTION_ID": 5,
         "INSPECTION_DATE": "11/17/2009",
         "INSPECTION_METHOD": "Field",
         "INSPECTION_REPORT_DATE": "3/29/2010",
         "INSPECTION_NOTES": "nan",
         "NUM_INSPECTION": 1,
         "NUM_POI": 6,
         "POI_ID_1": 7681,
         "POI_COUNTY_1": "Mendocino",
         "POI_SOURCE_1": "Unnamed stream",
         "POI_TRIBUTARY_TO_1": "Cahto Creek",
         "POI_LATITUDE_1": 39.6662,
         "POI_LONGITUDE_1": -123.526,
         "POI_DESCRIPTION_1": "A020971, A030966_o6",
         "PRIMARY_POI_1": "Y",
         "POI_ID_2": 7686,
         "POI_COUNTY_2": "Mendocino",
         "POI_SOURCE_2": "Cahto Creek",
         "POI_TRIBUTARY_TO_2": "nan",
         "POI_LATITUDE_2": 39.6626,
         "POI_LONGITUDE_2": -123.525,
         "POI_DESCRIPTION_2": "A030966_05",
         "PRIMARY_POI_2": "nan",
         "POI_ID_3": 7685,
         "POI_COUNTY_3": "Mendocino",
         "POI_SOURCE_3": "Cahto Creek",
         "POI_TRIBUTARY_TO_3": "nan",
         "POI_LATITUDE_3": 39.663,
         "POI_LONGITUDE_3": -123.526,
         "POI_DESCRIPTION_3": "A030966_04",
         "PRIMARY_POI_3": "nan",
         "INVESTIGATION_ID": 2305,
         "INVESTIGATION_TYPE": "Complaint",
         "INVESTIGATION_START_DATE": "8/12/2009",
         "INVESTIGATION_CLOSURE_DATE": "4/12/2010",
         "NUM_OF_VIOLATIONS": 1,
         "ENF_CASE_NUMBER": "ENF00945",
         "ENFOCEMENT_ACTION_TYPE": "Notification of Violations and Voluntary Compliance",
         "ENF_CASE_CLOSURE_DATE": "4/22/2015",
         "INVESTIGATION_LEAD_STAFF": "Laura  Lavallee",
         "INVEST_SECTION_OR_OFFICE": "Water Rights - Enforcement",
         "INVESTIGATION_SWEEP": "nan",
         "RESOURCE_VALUE_PRIORITY": "nan",
         "INVESTIGATION_SUMMARY": "Pursuant to Complaint 23-35-03 - Allegations for unauthorized diversion due to no permit issued under pending A030966; failure to release water stored under License 9842; and for harm to fish due to first two allegations.  No actual violations to License 9842 but potential threat of unauthorized diversion -  DWR staff report included 5 recommended actions.  Diverter filed Statement 17021 for unpermitted diversions; installed staff gage to prevent threat of unauthorized divesion and is consulting with DFG.",
         "ASSOCIATED_WR_TO_INV": "A030966,A020971,A020971,A030966,S017021",
         "_deepnote_index_column": 4
        }
       ]
      },
      "text/plain": "   INSPECTION_ID INSPECTION_DATE INSPECTION_METHOD INSPECTION_REPORT_DATE  \\\n0              1        6/6/2008               NaN               6/6/2008   \n1              2        6/6/2012             Field               8/3/2012   \n2              3      10/15/2009               NaN                    NaN   \n3              4      10/17/2001             Field              5/23/2002   \n4              5      11/17/2009             Field              3/29/2010   \n\n  INSPECTION_NOTES  NUM_INSPECTION  NUM_POI  POI_ID_1 POI_COUNTY_1  \\\n0              NaN               1      1.0    5576.0       Sonoma   \n1              NaN               1      1.0    1226.0         Napa   \n2              NaN               1      1.0    1359.0  San Joaquin   \n3              NaN               1      2.0    8162.0     Siskiyou   \n4              NaN               1      6.0    7681.0    Mendocino   \n\n     POI_SOURCE_1  ... NUM_OF_VIOLATIONS  ENF_CASE_NUMBER  \\\n0  Unnamed stream  ...                 0              NaN   \n1   Tulucay Creek  ...                 2         ENF00518   \n2  Unnamed stream  ...                 0              NaN   \n3  Stanshaw Creek  ...                 0              NaN   \n4  Unnamed stream  ...                 1         ENF00945   \n\n                              ENFOCEMENT_ACTION_TYPE ENF_CASE_CLOSURE_DATE  \\\n0                                                NaN                   NaN   \n1  Notification of Violations and Voluntary Compl...                   NaN   \n2                                                NaN                   NaN   \n3                                                NaN                   NaN   \n4  Notification of Violations and Voluntary Compl...             4/22/2015   \n\n  INVESTIGATION_LEAD_STAFF    INVEST_SECTION_OR_OFFICE INVESTIGATION_SWEEP  \\\n0             Chuck Arnold  Water Rights - Enforcement                 NaN   \n1              Bill  Rigby  Water Rights - Enforcement                 NaN   \n2            Matthew Quint  Water Rights - Enforcement                 NaN   \n3        Michael Contreras  Water Rights - Enforcement                 NaN   \n4          Laura  Lavallee  Water Rights - Enforcement                 NaN   \n\n  RESOURCE_VALUE_PRIORITY                              INVESTIGATION_SUMMARY  \\\n0                     NaN                                                NaN   \n1                     NaN  Inspection found licensee out ot compliance wi...   \n2                     NaN  Request for Revocation by William Race. Unable...   \n3                     NaN  Likely lawful holder of a pre-1914 right for d...   \n4                     NaN  Pursuant to Complaint 23-35-03 - Allegations f...   \n\n                              ASSOCIATED_WR_TO_INV  \n0                                          A031737  \n1                                          A025455  \n2                                          A021472  \n3  A029449,A029450,A029450,S015022,A029449,S015022  \n4          A030966,A020971,A020971,A030966,S017021  \n\n[5 rows x 45 columns]",
      "text/html": "<div>\n<style scoped>\n    .dataframe tbody tr th:only-of-type {\n        vertical-align: middle;\n    }\n\n    .dataframe tbody tr th {\n        vertical-align: top;\n    }\n\n    .dataframe thead th {\n        text-align: right;\n    }\n</style>\n<table border=\"1\" class=\"dataframe\">\n  <thead>\n    <tr style=\"text-align: right;\">\n      <th></th>\n      <th>INSPECTION_ID</th>\n      <th>INSPECTION_DATE</th>\n      <th>INSPECTION_METHOD</th>\n      <th>INSPECTION_REPORT_DATE</th>\n      <th>INSPECTION_NOTES</th>\n      <th>NUM_INSPECTION</th>\n      <th>NUM_POI</th>\n      <th>POI_ID_1</th>\n      <th>POI_COUNTY_1</th>\n      <th>POI_SOURCE_1</th>\n      <th>...</th>\n      <th>NUM_OF_VIOLATIONS</th>\n      <th>ENF_CASE_NUMBER</th>\n      <th>ENFOCEMENT_ACTION_TYPE</th>\n      <th>ENF_CASE_CLOSURE_DATE</th>\n      <th>INVESTIGATION_LEAD_STAFF</th>\n      <th>INVEST_SECTION_OR_OFFICE</th>\n      <th>INVESTIGATION_SWEEP</th>\n      <th>RESOURCE_VALUE_PRIORITY</th>\n      <th>INVESTIGATION_SUMMARY</th>\n      <th>ASSOCIATED_WR_TO_INV</th>\n    </tr>\n  </thead>\n  <tbody>\n    <tr>\n      <th>0</th>\n      <td>1</td>\n      <td>6/6/2008</td>\n      <td>NaN</td>\n      <td>6/6/2008</td>\n      <td>NaN</td>\n      <td>1</td>\n      <td>1.0</td>\n      <td>5576.0</td>\n      <td>Sonoma</td>\n      <td>Unnamed stream</td>\n      <td>...</td>\n      <td>0</td>\n      <td>NaN</td>\n      <td>NaN</td>\n      <td>NaN</td>\n      <td>Chuck Arnold</td>\n      <td>Water Rights - Enforcement</td>\n      <td>NaN</td>\n      <td>NaN</td>\n      <td>NaN</td>\n      <td>A031737</td>\n    </tr>\n    <tr>\n      <th>1</th>\n      <td>2</td>\n      <td>6/6/2012</td>\n      <td>Field</td>\n      <td>8/3/2012</td>\n      <td>NaN</td>\n      <td>1</td>\n      <td>1.0</td>\n      <td>1226.0</td>\n      <td>Napa</td>\n      <td>Tulucay Creek</td>\n      <td>...</td>\n      <td>2</td>\n      <td>ENF00518</td>\n      <td>Notification of Violations and Voluntary Compl...</td>\n      <td>NaN</td>\n      <td>Bill  Rigby</td>\n      <td>Water Rights - Enforcement</td>\n      <td>NaN</td>\n      <td>NaN</td>\n      <td>Inspection found licensee out ot compliance wi...</td>\n      <td>A025455</td>\n    </tr>\n    <tr>\n      <th>2</th>\n      <td>3</td>\n      <td>10/15/2009</td>\n      <td>NaN</td>\n      <td>NaN</td>\n      <td>NaN</td>\n      <td>1</td>\n      <td>1.0</td>\n      <td>1359.0</td>\n      <td>San Joaquin</td>\n      <td>Unnamed stream</td>\n      <td>...</td>\n      <td>0</td>\n      <td>NaN</td>\n      <td>NaN</td>\n      <td>NaN</td>\n      <td>Matthew Quint</td>\n      <td>Water Rights - Enforcement</td>\n      <td>NaN</td>\n      <td>NaN</td>\n      <td>Request for Revocation by William Race. Unable...</td>\n      <td>A021472</td>\n    </tr>\n    <tr>\n      <th>3</th>\n      <td>4</td>\n      <td>10/17/2001</td>\n      <td>Field</td>\n      <td>5/23/2002</td>\n      <td>NaN</td>\n      <td>1</td>\n      <td>2.0</td>\n      <td>8162.0</td>\n      <td>Siskiyou</td>\n      <td>Stanshaw Creek</td>\n      <td>...</td>\n      <td>0</td>\n      <td>NaN</td>\n      <td>NaN</td>\n      <td>NaN</td>\n      <td>Michael Contreras</td>\n      <td>Water Rights - Enforcement</td>\n      <td>NaN</td>\n      <td>NaN</td>\n      <td>Likely lawful holder of a pre-1914 right for d...</td>\n      <td>A029449,A029450,A029450,S015022,A029449,S015022</td>\n    </tr>\n    <tr>\n      <th>4</th>\n      <td>5</td>\n      <td>11/17/2009</td>\n      <td>Field</td>\n      <td>3/29/2010</td>\n      <td>NaN</td>\n      <td>1</td>\n      <td>6.0</td>\n      <td>7681.0</td>\n      <td>Mendocino</td>\n      <td>Unnamed stream</td>\n      <td>...</td>\n      <td>1</td>\n      <td>ENF00945</td>\n      <td>Notification of Violations and Voluntary Compl...</td>\n      <td>4/22/2015</td>\n      <td>Laura  Lavallee</td>\n      <td>Water Rights - Enforcement</td>\n      <td>NaN</td>\n      <td>NaN</td>\n      <td>Pursuant to Complaint 23-35-03 - Allegations f...</td>\n      <td>A030966,A020971,A020971,A030966,S017021</td>\n    </tr>\n  </tbody>\n</table>\n<p>5 rows × 45 columns</p>\n</div>"
     },
     "metadata": {}
    }
   ],
   "execution_count": null
  },
  {
   "cell_type": "code",
   "metadata": {
    "cell_id": "00001-2f8f8864-3a53-4677-940d-c3d1363af297",
    "deepnote_to_be_reexecuted": false,
    "source_hash": "9488c0bc",
    "execution_start": 1651705606495,
    "execution_millis": 2473,
    "deepnote_cell_type": "code",
    "deepnote_cell_height": 99
   },
   "source": "df = pd.read_csv('water-rights-status-history.csv')\n",
   "outputs": [],
   "execution_count": null
  },
  {
   "cell_type": "code",
   "metadata": {
    "cell_id": "86f8be20a63045c7a60fbadf308db6f1",
    "tags": [],
    "deepnote_to_be_reexecuted": false,
    "source_hash": "b670f444",
    "execution_start": 1651705653776,
    "execution_millis": 1,
    "deepnote_cell_type": "code",
    "deepnote_cell_height": 99
   },
   "source": "\ndf['water_ID'] = org['APPLICATION_NUMBER']",
   "outputs": [],
   "execution_count": null
  },
  {
   "cell_type": "code",
   "metadata": {
    "cell_id": "7435513b56b049988439e8337f8a8be1",
    "tags": [],
    "deepnote_to_be_reexecuted": false,
    "source_hash": "91fecda7",
    "execution_start": 1651705654415,
    "execution_millis": 80,
    "deepnote_cell_type": "code",
    "deepnote_cell_height": 243
   },
   "source": "#Use regex to match water ID from POI description and explode to get 1 row from each water right\npattern = '[A-Z]\\d{6}'\n\ninsp['water_ID']= insp['POI_DESCRIPTION_1'].str.findall(pattern)\ninsp = insp.explode('water_ID')\n\n\n\n\n",
   "outputs": [],
   "execution_count": null
  },
  {
   "cell_type": "markdown",
   "source": "ASSOCIATED_WR_TO_INV",
   "metadata": {
    "cell_id": "c16ea20a7ba94da0aa2e5738978963a4",
    "tags": [],
    "deepnote_cell_type": "markdown",
    "deepnote_cell_height": 52
   }
  },
  {
   "cell_type": "code",
   "metadata": {
    "cell_id": "46cf0efd2b9b499a946edce2257a8a3e",
    "tags": [],
    "deepnote_to_be_reexecuted": false,
    "source_hash": "36e1a9af",
    "execution_start": 1651705657730,
    "execution_millis": 207,
    "deepnote_cell_type": "code",
    "deepnote_cell_height": 272
   },
   "source": "insp.head(2)",
   "outputs": [
    {
     "output_type": "execute_result",
     "execution_count": 6,
     "data": {
      "application/vnd.deepnote.dataframe.v3+json": {
       "column_count": 46,
       "row_count": 2,
       "columns": [
        {
         "name": "INSPECTION_ID",
         "dtype": "int64",
         "stats": {
          "unique_count": 2,
          "nan_count": 0,
          "min": "1",
          "max": "2",
          "histogram": [
           {
            "bin_start": 1,
            "bin_end": 1.1,
            "count": 1
           },
           {
            "bin_start": 1.1,
            "bin_end": 1.2,
            "count": 0
           },
           {
            "bin_start": 1.2,
            "bin_end": 1.3,
            "count": 0
           },
           {
            "bin_start": 1.3,
            "bin_end": 1.4,
            "count": 0
           },
           {
            "bin_start": 1.4,
            "bin_end": 1.5,
            "count": 0
           },
           {
            "bin_start": 1.5,
            "bin_end": 1.6,
            "count": 0
           },
           {
            "bin_start": 1.6,
            "bin_end": 1.7000000000000002,
            "count": 0
           },
           {
            "bin_start": 1.7000000000000002,
            "bin_end": 1.8,
            "count": 0
           },
           {
            "bin_start": 1.8,
            "bin_end": 1.9,
            "count": 0
           },
           {
            "bin_start": 1.9,
            "bin_end": 2,
            "count": 1
           }
          ]
         }
        },
        {
         "name": "INSPECTION_DATE",
         "dtype": "object",
         "stats": {
          "unique_count": 2,
          "nan_count": 0,
          "categories": [
           {
            "name": "6/6/2008",
            "count": 1
           },
           {
            "name": "6/6/2012",
            "count": 1
           }
          ]
         }
        },
        {
         "name": "INSPECTION_METHOD",
         "dtype": "object",
         "stats": {
          "unique_count": 1,
          "nan_count": 1,
          "categories": [
           {
            "name": "Field",
            "count": 1
           },
           {
            "name": "Missing",
            "count": 1
           }
          ]
         }
        },
        {
         "name": "INSPECTION_REPORT_DATE",
         "dtype": "object",
         "stats": {
          "unique_count": 2,
          "nan_count": 0,
          "categories": [
           {
            "name": "6/6/2008",
            "count": 1
           },
           {
            "name": "8/3/2012",
            "count": 1
           }
          ]
         }
        },
        {
         "name": "INSPECTION_NOTES",
         "dtype": "object",
         "stats": {
          "unique_count": 0,
          "nan_count": 2,
          "categories": [
           {
            "name": "Missing",
            "count": 2
           }
          ]
         }
        },
        {
         "name": "NUM_INSPECTION",
         "dtype": "int64",
         "stats": {
          "unique_count": 1,
          "nan_count": 0,
          "min": "1",
          "max": "1",
          "histogram": [
           {
            "bin_start": 0.5,
            "bin_end": 0.6,
            "count": 0
           },
           {
            "bin_start": 0.6,
            "bin_end": 0.7,
            "count": 0
           },
           {
            "bin_start": 0.7,
            "bin_end": 0.8,
            "count": 0
           },
           {
            "bin_start": 0.8,
            "bin_end": 0.9,
            "count": 0
           },
           {
            "bin_start": 0.9,
            "bin_end": 1,
            "count": 0
           },
           {
            "bin_start": 1,
            "bin_end": 1.1,
            "count": 2
           },
           {
            "bin_start": 1.1,
            "bin_end": 1.2000000000000002,
            "count": 0
           },
           {
            "bin_start": 1.2000000000000002,
            "bin_end": 1.3,
            "count": 0
           },
           {
            "bin_start": 1.3,
            "bin_end": 1.4,
            "count": 0
           },
           {
            "bin_start": 1.4,
            "bin_end": 1.5,
            "count": 0
           }
          ]
         }
        },
        {
         "name": "NUM_POI",
         "dtype": "float64",
         "stats": {
          "unique_count": 1,
          "nan_count": 0,
          "min": "1.0",
          "max": "1.0",
          "histogram": [
           {
            "bin_start": 0.5,
            "bin_end": 0.6,
            "count": 0
           },
           {
            "bin_start": 0.6,
            "bin_end": 0.7,
            "count": 0
           },
           {
            "bin_start": 0.7,
            "bin_end": 0.8,
            "count": 0
           },
           {
            "bin_start": 0.8,
            "bin_end": 0.9,
            "count": 0
           },
           {
            "bin_start": 0.9,
            "bin_end": 1,
            "count": 0
           },
           {
            "bin_start": 1,
            "bin_end": 1.1,
            "count": 2
           },
           {
            "bin_start": 1.1,
            "bin_end": 1.2000000000000002,
            "count": 0
           },
           {
            "bin_start": 1.2000000000000002,
            "bin_end": 1.3,
            "count": 0
           },
           {
            "bin_start": 1.3,
            "bin_end": 1.4,
            "count": 0
           },
           {
            "bin_start": 1.4,
            "bin_end": 1.5,
            "count": 0
           }
          ]
         }
        },
        {
         "name": "POI_ID_1",
         "dtype": "float64",
         "stats": {
          "unique_count": 2,
          "nan_count": 0,
          "min": "1226.0",
          "max": "5576.0",
          "histogram": [
           {
            "bin_start": 1226,
            "bin_end": 1661,
            "count": 1
           },
           {
            "bin_start": 1661,
            "bin_end": 2096,
            "count": 0
           },
           {
            "bin_start": 2096,
            "bin_end": 2531,
            "count": 0
           },
           {
            "bin_start": 2531,
            "bin_end": 2966,
            "count": 0
           },
           {
            "bin_start": 2966,
            "bin_end": 3401,
            "count": 0
           },
           {
            "bin_start": 3401,
            "bin_end": 3836,
            "count": 0
           },
           {
            "bin_start": 3836,
            "bin_end": 4271,
            "count": 0
           },
           {
            "bin_start": 4271,
            "bin_end": 4706,
            "count": 0
           },
           {
            "bin_start": 4706,
            "bin_end": 5141,
            "count": 0
           },
           {
            "bin_start": 5141,
            "bin_end": 5576,
            "count": 1
           }
          ]
         }
        },
        {
         "name": "POI_COUNTY_1",
         "dtype": "object",
         "stats": {
          "unique_count": 2,
          "nan_count": 0,
          "categories": [
           {
            "name": "Sonoma",
            "count": 1
           },
           {
            "name": "Napa",
            "count": 1
           }
          ]
         }
        },
        {
         "name": "POI_SOURCE_1",
         "dtype": "object",
         "stats": {
          "unique_count": 2,
          "nan_count": 0,
          "categories": [
           {
            "name": "Unnamed stream",
            "count": 1
           },
           {
            "name": "Tulucay Creek",
            "count": 1
           }
          ]
         }
        },
        {
         "name": "POI_TRIBUTARY_TO_1",
         "dtype": "object",
         "stats": {
          "unique_count": 1,
          "nan_count": 1,
          "categories": [
           {
            "name": "Matanzas Creek",
            "count": 1
           },
           {
            "name": "Missing",
            "count": 1
           }
          ]
         }
        },
        {
         "name": "POI_LATITUDE_1",
         "dtype": "float64",
         "stats": {
          "unique_count": 2,
          "nan_count": 0,
          "min": "38.29045832",
          "max": "38.3922",
          "histogram": [
           {
            "bin_start": 38.29045832,
            "bin_end": 38.300632488,
            "count": 1
           },
           {
            "bin_start": 38.300632488,
            "bin_end": 38.310806656,
            "count": 0
           },
           {
            "bin_start": 38.310806656,
            "bin_end": 38.320980824,
            "count": 0
           },
           {
            "bin_start": 38.320980824,
            "bin_end": 38.331154992,
            "count": 0
           },
           {
            "bin_start": 38.331154992,
            "bin_end": 38.34132916,
            "count": 0
           },
           {
            "bin_start": 38.34132916,
            "bin_end": 38.351503328,
            "count": 0
           },
           {
            "bin_start": 38.351503328,
            "bin_end": 38.361677496,
            "count": 0
           },
           {
            "bin_start": 38.361677496,
            "bin_end": 38.371851664000005,
            "count": 0
           },
           {
            "bin_start": 38.371851664000005,
            "bin_end": 38.382025832000004,
            "count": 0
           },
           {
            "bin_start": 38.382025832000004,
            "bin_end": 38.3922,
            "count": 1
           }
          ]
         }
        },
        {
         "name": "POI_LONGITUDE_1",
         "dtype": "float64",
         "stats": {
          "unique_count": 2,
          "nan_count": 0,
          "min": "-122.6067",
          "max": "-122.25933254",
          "histogram": [
           {
            "bin_start": -122.6067,
            "bin_end": -122.571963254,
            "count": 1
           },
           {
            "bin_start": -122.571963254,
            "bin_end": -122.537226508,
            "count": 0
           },
           {
            "bin_start": -122.537226508,
            "bin_end": -122.50248976200001,
            "count": 0
           },
           {
            "bin_start": -122.50248976200001,
            "bin_end": -122.467753016,
            "count": 0
           },
           {
            "bin_start": -122.467753016,
            "bin_end": -122.43301627,
            "count": 0
           },
           {
            "bin_start": -122.43301627,
            "bin_end": -122.398279524,
            "count": 0
           },
           {
            "bin_start": -122.398279524,
            "bin_end": -122.36354277800001,
            "count": 0
           },
           {
            "bin_start": -122.36354277800001,
            "bin_end": -122.328806032,
            "count": 0
           },
           {
            "bin_start": -122.328806032,
            "bin_end": -122.294069286,
            "count": 0
           },
           {
            "bin_start": -122.294069286,
            "bin_end": -122.25933254,
            "count": 1
           }
          ]
         }
        },
        {
         "name": "POI_DESCRIPTION_1",
         "dtype": "object",
         "stats": {
          "unique_count": 2,
          "nan_count": 0,
          "categories": [
           {
            "name": "A031737 01",
            "count": 1
           },
           {
            "name": "A025455 01",
            "count": 1
           }
          ]
         }
        },
        {
         "name": "PRIMARY_POI_1",
         "dtype": "object",
         "stats": {
          "unique_count": 1,
          "nan_count": 0,
          "categories": [
           {
            "name": "Y",
            "count": 2
           }
          ]
         }
        },
        {
         "name": "POI_ID_2",
         "dtype": "float64",
         "stats": {
          "unique_count": 0,
          "nan_count": 2,
          "min": null,
          "max": null,
          "histogram": [
           {
            "bin_start": 0,
            "bin_end": 0.1,
            "count": 0
           },
           {
            "bin_start": 0.1,
            "bin_end": 0.2,
            "count": 0
           },
           {
            "bin_start": 0.2,
            "bin_end": 0.30000000000000004,
            "count": 0
           },
           {
            "bin_start": 0.30000000000000004,
            "bin_end": 0.4,
            "count": 0
           },
           {
            "bin_start": 0.4,
            "bin_end": 0.5,
            "count": 0
           },
           {
            "bin_start": 0.5,
            "bin_end": 0.6000000000000001,
            "count": 0
           },
           {
            "bin_start": 0.6000000000000001,
            "bin_end": 0.7000000000000001,
            "count": 0
           },
           {
            "bin_start": 0.7000000000000001,
            "bin_end": 0.8,
            "count": 0
           },
           {
            "bin_start": 0.8,
            "bin_end": 0.9,
            "count": 0
           },
           {
            "bin_start": 0.9,
            "bin_end": 1,
            "count": 0
           }
          ]
         }
        },
        {
         "name": "POI_COUNTY_2",
         "dtype": "object",
         "stats": {
          "unique_count": 0,
          "nan_count": 2,
          "categories": [
           {
            "name": "Missing",
            "count": 2
           }
          ]
         }
        },
        {
         "name": "POI_SOURCE_2",
         "dtype": "object",
         "stats": {
          "unique_count": 0,
          "nan_count": 2,
          "categories": [
           {
            "name": "Missing",
            "count": 2
           }
          ]
         }
        },
        {
         "name": "POI_TRIBUTARY_TO_2",
         "dtype": "object",
         "stats": {
          "unique_count": 0,
          "nan_count": 2,
          "categories": [
           {
            "name": "Missing",
            "count": 2
           }
          ]
         }
        },
        {
         "name": "POI_LATITUDE_2",
         "dtype": "float64",
         "stats": {
          "unique_count": 0,
          "nan_count": 2,
          "min": null,
          "max": null,
          "histogram": [
           {
            "bin_start": 0,
            "bin_end": 0.1,
            "count": 0
           },
           {
            "bin_start": 0.1,
            "bin_end": 0.2,
            "count": 0
           },
           {
            "bin_start": 0.2,
            "bin_end": 0.30000000000000004,
            "count": 0
           },
           {
            "bin_start": 0.30000000000000004,
            "bin_end": 0.4,
            "count": 0
           },
           {
            "bin_start": 0.4,
            "bin_end": 0.5,
            "count": 0
           },
           {
            "bin_start": 0.5,
            "bin_end": 0.6000000000000001,
            "count": 0
           },
           {
            "bin_start": 0.6000000000000001,
            "bin_end": 0.7000000000000001,
            "count": 0
           },
           {
            "bin_start": 0.7000000000000001,
            "bin_end": 0.8,
            "count": 0
           },
           {
            "bin_start": 0.8,
            "bin_end": 0.9,
            "count": 0
           },
           {
            "bin_start": 0.9,
            "bin_end": 1,
            "count": 0
           }
          ]
         }
        },
        {
         "name": "POI_LONGITUDE_2",
         "dtype": "float64",
         "stats": {
          "unique_count": 0,
          "nan_count": 2,
          "min": null,
          "max": null,
          "histogram": [
           {
            "bin_start": 0,
            "bin_end": 0.1,
            "count": 0
           },
           {
            "bin_start": 0.1,
            "bin_end": 0.2,
            "count": 0
           },
           {
            "bin_start": 0.2,
            "bin_end": 0.30000000000000004,
            "count": 0
           },
           {
            "bin_start": 0.30000000000000004,
            "bin_end": 0.4,
            "count": 0
           },
           {
            "bin_start": 0.4,
            "bin_end": 0.5,
            "count": 0
           },
           {
            "bin_start": 0.5,
            "bin_end": 0.6000000000000001,
            "count": 0
           },
           {
            "bin_start": 0.6000000000000001,
            "bin_end": 0.7000000000000001,
            "count": 0
           },
           {
            "bin_start": 0.7000000000000001,
            "bin_end": 0.8,
            "count": 0
           },
           {
            "bin_start": 0.8,
            "bin_end": 0.9,
            "count": 0
           },
           {
            "bin_start": 0.9,
            "bin_end": 1,
            "count": 0
           }
          ]
         }
        },
        {
         "name": "POI_DESCRIPTION_2",
         "dtype": "object",
         "stats": {
          "unique_count": 0,
          "nan_count": 2,
          "categories": [
           {
            "name": "Missing",
            "count": 2
           }
          ]
         }
        },
        {
         "name": "PRIMARY_POI_2",
         "dtype": "object",
         "stats": {
          "unique_count": 0,
          "nan_count": 2,
          "categories": [
           {
            "name": "Missing",
            "count": 2
           }
          ]
         }
        },
        {
         "name": "POI_ID_3",
         "dtype": "float64",
         "stats": {
          "unique_count": 0,
          "nan_count": 2,
          "min": null,
          "max": null,
          "histogram": [
           {
            "bin_start": 0,
            "bin_end": 0.1,
            "count": 0
           },
           {
            "bin_start": 0.1,
            "bin_end": 0.2,
            "count": 0
           },
           {
            "bin_start": 0.2,
            "bin_end": 0.30000000000000004,
            "count": 0
           },
           {
            "bin_start": 0.30000000000000004,
            "bin_end": 0.4,
            "count": 0
           },
           {
            "bin_start": 0.4,
            "bin_end": 0.5,
            "count": 0
           },
           {
            "bin_start": 0.5,
            "bin_end": 0.6000000000000001,
            "count": 0
           },
           {
            "bin_start": 0.6000000000000001,
            "bin_end": 0.7000000000000001,
            "count": 0
           },
           {
            "bin_start": 0.7000000000000001,
            "bin_end": 0.8,
            "count": 0
           },
           {
            "bin_start": 0.8,
            "bin_end": 0.9,
            "count": 0
           },
           {
            "bin_start": 0.9,
            "bin_end": 1,
            "count": 0
           }
          ]
         }
        },
        {
         "name": "POI_COUNTY_3",
         "dtype": "object",
         "stats": {
          "unique_count": 0,
          "nan_count": 2,
          "categories": [
           {
            "name": "Missing",
            "count": 2
           }
          ]
         }
        },
        {
         "name": "POI_SOURCE_3",
         "dtype": "object",
         "stats": {
          "unique_count": 0,
          "nan_count": 2,
          "categories": [
           {
            "name": "Missing",
            "count": 2
           }
          ]
         }
        },
        {
         "name": "POI_TRIBUTARY_TO_3",
         "dtype": "object",
         "stats": {
          "unique_count": 0,
          "nan_count": 2,
          "categories": [
           {
            "name": "Missing",
            "count": 2
           }
          ]
         }
        },
        {
         "name": "POI_LATITUDE_3",
         "dtype": "float64",
         "stats": {
          "unique_count": 0,
          "nan_count": 2,
          "min": null,
          "max": null,
          "histogram": [
           {
            "bin_start": 0,
            "bin_end": 0.1,
            "count": 0
           },
           {
            "bin_start": 0.1,
            "bin_end": 0.2,
            "count": 0
           },
           {
            "bin_start": 0.2,
            "bin_end": 0.30000000000000004,
            "count": 0
           },
           {
            "bin_start": 0.30000000000000004,
            "bin_end": 0.4,
            "count": 0
           },
           {
            "bin_start": 0.4,
            "bin_end": 0.5,
            "count": 0
           },
           {
            "bin_start": 0.5,
            "bin_end": 0.6000000000000001,
            "count": 0
           },
           {
            "bin_start": 0.6000000000000001,
            "bin_end": 0.7000000000000001,
            "count": 0
           },
           {
            "bin_start": 0.7000000000000001,
            "bin_end": 0.8,
            "count": 0
           },
           {
            "bin_start": 0.8,
            "bin_end": 0.9,
            "count": 0
           },
           {
            "bin_start": 0.9,
            "bin_end": 1,
            "count": 0
           }
          ]
         }
        },
        {
         "name": "POI_LONGITUDE_3",
         "dtype": "float64",
         "stats": {
          "unique_count": 0,
          "nan_count": 2,
          "min": null,
          "max": null,
          "histogram": [
           {
            "bin_start": 0,
            "bin_end": 0.1,
            "count": 0
           },
           {
            "bin_start": 0.1,
            "bin_end": 0.2,
            "count": 0
           },
           {
            "bin_start": 0.2,
            "bin_end": 0.30000000000000004,
            "count": 0
           },
           {
            "bin_start": 0.30000000000000004,
            "bin_end": 0.4,
            "count": 0
           },
           {
            "bin_start": 0.4,
            "bin_end": 0.5,
            "count": 0
           },
           {
            "bin_start": 0.5,
            "bin_end": 0.6000000000000001,
            "count": 0
           },
           {
            "bin_start": 0.6000000000000001,
            "bin_end": 0.7000000000000001,
            "count": 0
           },
           {
            "bin_start": 0.7000000000000001,
            "bin_end": 0.8,
            "count": 0
           },
           {
            "bin_start": 0.8,
            "bin_end": 0.9,
            "count": 0
           },
           {
            "bin_start": 0.9,
            "bin_end": 1,
            "count": 0
           }
          ]
         }
        },
        {
         "name": "POI_DESCRIPTION_3",
         "dtype": "object",
         "stats": {
          "unique_count": 0,
          "nan_count": 2,
          "categories": [
           {
            "name": "Missing",
            "count": 2
           }
          ]
         }
        },
        {
         "name": "PRIMARY_POI_3",
         "dtype": "object",
         "stats": {
          "unique_count": 0,
          "nan_count": 2,
          "categories": [
           {
            "name": "Missing",
            "count": 2
           }
          ]
         }
        },
        {
         "name": "INVESTIGATION_ID",
         "dtype": "int64",
         "stats": {
          "unique_count": 2,
          "nan_count": 0,
          "min": "1962",
          "max": "4553",
          "histogram": [
           {
            "bin_start": 1962,
            "bin_end": 2221.1,
            "count": 1
           },
           {
            "bin_start": 2221.1,
            "bin_end": 2480.2,
            "count": 0
           },
           {
            "bin_start": 2480.2,
            "bin_end": 2739.3,
            "count": 0
           },
           {
            "bin_start": 2739.3,
            "bin_end": 2998.4,
            "count": 0
           },
           {
            "bin_start": 2998.4,
            "bin_end": 3257.5,
            "count": 0
           },
           {
            "bin_start": 3257.5,
            "bin_end": 3516.6000000000004,
            "count": 0
           },
           {
            "bin_start": 3516.6000000000004,
            "bin_end": 3775.7000000000003,
            "count": 0
           },
           {
            "bin_start": 3775.7000000000003,
            "bin_end": 4034.8,
            "count": 0
           },
           {
            "bin_start": 4034.8,
            "bin_end": 4293.9,
            "count": 0
           },
           {
            "bin_start": 4293.9,
            "bin_end": 4553,
            "count": 1
           }
          ]
         }
        },
        {
         "name": "INVESTIGATION_TYPE",
         "dtype": "object",
         "stats": {
          "unique_count": 2,
          "nan_count": 0,
          "categories": [
           {
            "name": "Unauthorized Diversion",
            "count": 1
           },
           {
            "name": "Compliance",
            "count": 1
           }
          ]
         }
        },
        {
         "name": "INVESTIGATION_START_DATE",
         "dtype": "object",
         "stats": {
          "unique_count": 2,
          "nan_count": 0,
          "categories": [
           {
            "name": "6/6/2008",
            "count": 1
           },
           {
            "name": "4/16/2012",
            "count": 1
           }
          ]
         }
        },
        {
         "name": "INVESTIGATION_CLOSURE_DATE",
         "dtype": "object",
         "stats": {
          "unique_count": 2,
          "nan_count": 0,
          "categories": [
           {
            "name": "6/6/2008",
            "count": 1
           },
           {
            "name": "8/3/2012",
            "count": 1
           }
          ]
         }
        },
        {
         "name": "NUM_OF_VIOLATIONS",
         "dtype": "int64",
         "stats": {
          "unique_count": 2,
          "nan_count": 0,
          "min": "0",
          "max": "2",
          "histogram": [
           {
            "bin_start": 0,
            "bin_end": 0.2,
            "count": 1
           },
           {
            "bin_start": 0.2,
            "bin_end": 0.4,
            "count": 0
           },
           {
            "bin_start": 0.4,
            "bin_end": 0.6000000000000001,
            "count": 0
           },
           {
            "bin_start": 0.6000000000000001,
            "bin_end": 0.8,
            "count": 0
           },
           {
            "bin_start": 0.8,
            "bin_end": 1,
            "count": 0
           },
           {
            "bin_start": 1,
            "bin_end": 1.2000000000000002,
            "count": 0
           },
           {
            "bin_start": 1.2000000000000002,
            "bin_end": 1.4000000000000001,
            "count": 0
           },
           {
            "bin_start": 1.4000000000000001,
            "bin_end": 1.6,
            "count": 0
           },
           {
            "bin_start": 1.6,
            "bin_end": 1.8,
            "count": 0
           },
           {
            "bin_start": 1.8,
            "bin_end": 2,
            "count": 1
           }
          ]
         }
        },
        {
         "name": "ENF_CASE_NUMBER",
         "dtype": "object",
         "stats": {
          "unique_count": 1,
          "nan_count": 1,
          "categories": [
           {
            "name": "ENF00518",
            "count": 1
           },
           {
            "name": "Missing",
            "count": 1
           }
          ]
         }
        },
        {
         "name": "ENFOCEMENT_ACTION_TYPE",
         "dtype": "object",
         "stats": {
          "unique_count": 1,
          "nan_count": 1,
          "categories": [
           {
            "name": "Notification of Violations and Voluntary Compliance, Cease and Desist Order",
            "count": 1
           },
           {
            "name": "Missing",
            "count": 1
           }
          ]
         }
        },
        {
         "name": "ENF_CASE_CLOSURE_DATE",
         "dtype": "object",
         "stats": {
          "unique_count": 0,
          "nan_count": 2,
          "categories": [
           {
            "name": "Missing",
            "count": 2
           }
          ]
         }
        },
        {
         "name": "INVESTIGATION_LEAD_STAFF",
         "dtype": "object",
         "stats": {
          "unique_count": 2,
          "nan_count": 0,
          "categories": [
           {
            "name": "Chuck Arnold",
            "count": 1
           },
           {
            "name": "Bill  Rigby",
            "count": 1
           }
          ]
         }
        },
        {
         "name": "INVEST_SECTION_OR_OFFICE",
         "dtype": "object",
         "stats": {
          "unique_count": 1,
          "nan_count": 0,
          "categories": [
           {
            "name": "Water Rights - Enforcement",
            "count": 2
           }
          ]
         }
        },
        {
         "name": "INVESTIGATION_SWEEP",
         "dtype": "object",
         "stats": {
          "unique_count": 0,
          "nan_count": 2,
          "categories": [
           {
            "name": "Missing",
            "count": 2
           }
          ]
         }
        },
        {
         "name": "RESOURCE_VALUE_PRIORITY",
         "dtype": "object",
         "stats": {
          "unique_count": 0,
          "nan_count": 2,
          "categories": [
           {
            "name": "Missing",
            "count": 2
           }
          ]
         }
        },
        {
         "name": "INVESTIGATION_SUMMARY",
         "dtype": "object",
         "stats": {
          "unique_count": 1,
          "nan_count": 1,
          "categories": [
           {
            "name": "Inspection found licensee out ot compliance with the in-line flow meter measuring device requirement and threatening to violate the minimum bypass requirement by not keeping records of diversion or the flow in Tulucay Creek.",
            "count": 1
           },
           {
            "name": "Missing",
            "count": 1
           }
          ]
         }
        },
        {
         "name": "ASSOCIATED_WR_TO_INV",
         "dtype": "object",
         "stats": {
          "unique_count": 2,
          "nan_count": 0,
          "categories": [
           {
            "name": "A031737",
            "count": 1
           },
           {
            "name": "A025455",
            "count": 1
           }
          ]
         }
        },
        {
         "name": "water_ID",
         "dtype": "object",
         "stats": {
          "unique_count": 2,
          "nan_count": 0,
          "categories": [
           {
            "name": "A031737",
            "count": 1
           },
           {
            "name": "A025455",
            "count": 1
           }
          ]
         }
        },
        {
         "name": "_deepnote_index_column",
         "dtype": "int64"
        }
       ],
       "rows": [
        {
         "INSPECTION_ID": 1,
         "INSPECTION_DATE": "6/6/2008",
         "INSPECTION_METHOD": "nan",
         "INSPECTION_REPORT_DATE": "6/6/2008",
         "INSPECTION_NOTES": "nan",
         "NUM_INSPECTION": 1,
         "NUM_POI": 1,
         "POI_ID_1": 5576,
         "POI_COUNTY_1": "Sonoma",
         "POI_SOURCE_1": "Unnamed stream",
         "POI_TRIBUTARY_TO_1": "Matanzas Creek",
         "POI_LATITUDE_1": 38.3922,
         "POI_LONGITUDE_1": -122.6067,
         "POI_DESCRIPTION_1": "A031737 01",
         "PRIMARY_POI_1": "Y",
         "POI_ID_2": "nan",
         "POI_COUNTY_2": "nan",
         "POI_SOURCE_2": "nan",
         "POI_TRIBUTARY_TO_2": "nan",
         "POI_LATITUDE_2": "nan",
         "POI_LONGITUDE_2": "nan",
         "POI_DESCRIPTION_2": "nan",
         "PRIMARY_POI_2": "nan",
         "POI_ID_3": "nan",
         "POI_COUNTY_3": "nan",
         "POI_SOURCE_3": "nan",
         "POI_TRIBUTARY_TO_3": "nan",
         "POI_LATITUDE_3": "nan",
         "POI_LONGITUDE_3": "nan",
         "POI_DESCRIPTION_3": "nan",
         "PRIMARY_POI_3": "nan",
         "INVESTIGATION_ID": 1962,
         "INVESTIGATION_TYPE": "Unauthorized Diversion",
         "INVESTIGATION_START_DATE": "6/6/2008",
         "INVESTIGATION_CLOSURE_DATE": "6/6/2008",
         "NUM_OF_VIOLATIONS": 0,
         "ENF_CASE_NUMBER": "nan",
         "ENFOCEMENT_ACTION_TYPE": "nan",
         "ENF_CASE_CLOSURE_DATE": "nan",
         "INVESTIGATION_LEAD_STAFF": "Chuck Arnold",
         "INVEST_SECTION_OR_OFFICE": "Water Rights - Enforcement",
         "INVESTIGATION_SWEEP": "nan",
         "RESOURCE_VALUE_PRIORITY": "nan",
         "INVESTIGATION_SUMMARY": "nan",
         "ASSOCIATED_WR_TO_INV": "A031737",
         "water_ID": "A031737",
         "_deepnote_index_column": 0
        },
        {
         "INSPECTION_ID": 2,
         "INSPECTION_DATE": "6/6/2012",
         "INSPECTION_METHOD": "Field",
         "INSPECTION_REPORT_DATE": "8/3/2012",
         "INSPECTION_NOTES": "nan",
         "NUM_INSPECTION": 1,
         "NUM_POI": 1,
         "POI_ID_1": 1226,
         "POI_COUNTY_1": "Napa",
         "POI_SOURCE_1": "Tulucay Creek",
         "POI_TRIBUTARY_TO_1": "nan",
         "POI_LATITUDE_1": 38.29045832,
         "POI_LONGITUDE_1": -122.25933254,
         "POI_DESCRIPTION_1": "A025455 01",
         "PRIMARY_POI_1": "Y",
         "POI_ID_2": "nan",
         "POI_COUNTY_2": "nan",
         "POI_SOURCE_2": "nan",
         "POI_TRIBUTARY_TO_2": "nan",
         "POI_LATITUDE_2": "nan",
         "POI_LONGITUDE_2": "nan",
         "POI_DESCRIPTION_2": "nan",
         "PRIMARY_POI_2": "nan",
         "POI_ID_3": "nan",
         "POI_COUNTY_3": "nan",
         "POI_SOURCE_3": "nan",
         "POI_TRIBUTARY_TO_3": "nan",
         "POI_LATITUDE_3": "nan",
         "POI_LONGITUDE_3": "nan",
         "POI_DESCRIPTION_3": "nan",
         "PRIMARY_POI_3": "nan",
         "INVESTIGATION_ID": 4553,
         "INVESTIGATION_TYPE": "Compliance",
         "INVESTIGATION_START_DATE": "4/16/2012",
         "INVESTIGATION_CLOSURE_DATE": "8/3/2012",
         "NUM_OF_VIOLATIONS": 2,
         "ENF_CASE_NUMBER": "ENF00518",
         "ENFOCEMENT_ACTION_TYPE": "Notification of Violations and Voluntary Compliance, Cease and Desist Order",
         "ENF_CASE_CLOSURE_DATE": "nan",
         "INVESTIGATION_LEAD_STAFF": "Bill  Rigby",
         "INVEST_SECTION_OR_OFFICE": "Water Rights - Enforcement",
         "INVESTIGATION_SWEEP": "nan",
         "RESOURCE_VALUE_PRIORITY": "nan",
         "INVESTIGATION_SUMMARY": "Inspection found licensee out ot compliance with the in-line flow meter measuring device requirement and threatening to violate the minimum bypass requirement by not keeping records of diversion or the flow in Tulucay Creek.",
         "ASSOCIATED_WR_TO_INV": "A025455",
         "water_ID": "A025455",
         "_deepnote_index_column": 1
        }
       ]
      },
      "text/plain": "   INSPECTION_ID INSPECTION_DATE INSPECTION_METHOD INSPECTION_REPORT_DATE  \\\n0              1        6/6/2008               NaN               6/6/2008   \n1              2        6/6/2012             Field               8/3/2012   \n\n  INSPECTION_NOTES  NUM_INSPECTION  NUM_POI  POI_ID_1 POI_COUNTY_1  \\\n0              NaN               1      1.0    5576.0       Sonoma   \n1              NaN               1      1.0    1226.0         Napa   \n\n     POI_SOURCE_1  ... ENF_CASE_NUMBER  \\\n0  Unnamed stream  ...             NaN   \n1   Tulucay Creek  ...        ENF00518   \n\n                              ENFOCEMENT_ACTION_TYPE  ENF_CASE_CLOSURE_DATE  \\\n0                                                NaN                    NaN   \n1  Notification of Violations and Voluntary Compl...                    NaN   \n\n  INVESTIGATION_LEAD_STAFF    INVEST_SECTION_OR_OFFICE  INVESTIGATION_SWEEP  \\\n0             Chuck Arnold  Water Rights - Enforcement                  NaN   \n1              Bill  Rigby  Water Rights - Enforcement                  NaN   \n\n  RESOURCE_VALUE_PRIORITY                              INVESTIGATION_SUMMARY  \\\n0                     NaN                                                NaN   \n1                     NaN  Inspection found licensee out ot compliance wi...   \n\n  ASSOCIATED_WR_TO_INV  water_ID  \n0              A031737   A031737  \n1              A025455   A025455  \n\n[2 rows x 46 columns]",
      "text/html": "<div>\n<style scoped>\n    .dataframe tbody tr th:only-of-type {\n        vertical-align: middle;\n    }\n\n    .dataframe tbody tr th {\n        vertical-align: top;\n    }\n\n    .dataframe thead th {\n        text-align: right;\n    }\n</style>\n<table border=\"1\" class=\"dataframe\">\n  <thead>\n    <tr style=\"text-align: right;\">\n      <th></th>\n      <th>INSPECTION_ID</th>\n      <th>INSPECTION_DATE</th>\n      <th>INSPECTION_METHOD</th>\n      <th>INSPECTION_REPORT_DATE</th>\n      <th>INSPECTION_NOTES</th>\n      <th>NUM_INSPECTION</th>\n      <th>NUM_POI</th>\n      <th>POI_ID_1</th>\n      <th>POI_COUNTY_1</th>\n      <th>POI_SOURCE_1</th>\n      <th>...</th>\n      <th>ENF_CASE_NUMBER</th>\n      <th>ENFOCEMENT_ACTION_TYPE</th>\n      <th>ENF_CASE_CLOSURE_DATE</th>\n      <th>INVESTIGATION_LEAD_STAFF</th>\n      <th>INVEST_SECTION_OR_OFFICE</th>\n      <th>INVESTIGATION_SWEEP</th>\n      <th>RESOURCE_VALUE_PRIORITY</th>\n      <th>INVESTIGATION_SUMMARY</th>\n      <th>ASSOCIATED_WR_TO_INV</th>\n      <th>water_ID</th>\n    </tr>\n  </thead>\n  <tbody>\n    <tr>\n      <th>0</th>\n      <td>1</td>\n      <td>6/6/2008</td>\n      <td>NaN</td>\n      <td>6/6/2008</td>\n      <td>NaN</td>\n      <td>1</td>\n      <td>1.0</td>\n      <td>5576.0</td>\n      <td>Sonoma</td>\n      <td>Unnamed stream</td>\n      <td>...</td>\n      <td>NaN</td>\n      <td>NaN</td>\n      <td>NaN</td>\n      <td>Chuck Arnold</td>\n      <td>Water Rights - Enforcement</td>\n      <td>NaN</td>\n      <td>NaN</td>\n      <td>NaN</td>\n      <td>A031737</td>\n      <td>A031737</td>\n    </tr>\n    <tr>\n      <th>1</th>\n      <td>2</td>\n      <td>6/6/2012</td>\n      <td>Field</td>\n      <td>8/3/2012</td>\n      <td>NaN</td>\n      <td>1</td>\n      <td>1.0</td>\n      <td>1226.0</td>\n      <td>Napa</td>\n      <td>Tulucay Creek</td>\n      <td>...</td>\n      <td>ENF00518</td>\n      <td>Notification of Violations and Voluntary Compl...</td>\n      <td>NaN</td>\n      <td>Bill  Rigby</td>\n      <td>Water Rights - Enforcement</td>\n      <td>NaN</td>\n      <td>NaN</td>\n      <td>Inspection found licensee out ot compliance wi...</td>\n      <td>A025455</td>\n      <td>A025455</td>\n    </tr>\n  </tbody>\n</table>\n<p>2 rows × 46 columns</p>\n</div>"
     },
     "metadata": {}
    }
   ],
   "execution_count": null
  },
  {
   "cell_type": "code",
   "metadata": {
    "cell_id": "3dc34a3b184348dcadecc4918a2aee04",
    "tags": [],
    "deepnote_to_be_reexecuted": false,
    "source_hash": "ef8e4b05",
    "execution_start": 1651705657950,
    "execution_millis": 1151,
    "deepnote_cell_type": "code",
    "deepnote_cell_height": 136,
    "deepnote_output_heights": [
     21
    ]
   },
   "source": "insp = pd.DataFrame(insp.groupby(by = 'water_ID').agg(lambda x: sum(x)))\ntype(insp)",
   "outputs": [
    {
     "output_type": "execute_result",
     "execution_count": 7,
     "data": {
      "text/plain": "pandas.core.frame.DataFrame"
     },
     "metadata": {}
    }
   ],
   "execution_count": null
  },
  {
   "cell_type": "code",
   "metadata": {
    "cell_id": "9b1997d13cd04c6da6c363e73bc62107",
    "tags": [],
    "deepnote_to_be_reexecuted": false,
    "source_hash": "263e9c06",
    "execution_start": 1651705659395,
    "execution_millis": 72,
    "deepnote_cell_type": "code",
    "deepnote_cell_height": 290
   },
   "source": "insp = insp.reset_index()\ninsp.head(2)",
   "outputs": [
    {
     "output_type": "execute_result",
     "execution_count": 8,
     "data": {
      "application/vnd.deepnote.dataframe.v3+json": {
       "column_count": 15,
       "row_count": 2,
       "columns": [
        {
         "name": "water_ID",
         "dtype": "object",
         "stats": {
          "unique_count": 2,
          "nan_count": 0,
          "categories": [
           {
            "name": "A000016",
            "count": 1
           },
           {
            "name": "A000018",
            "count": 1
           }
          ]
         }
        },
        {
         "name": "INSPECTION_ID",
         "dtype": "int64",
         "stats": {
          "unique_count": 2,
          "nan_count": 0,
          "min": "1534",
          "max": "4275",
          "histogram": [
           {
            "bin_start": 1534,
            "bin_end": 1808.1,
            "count": 1
           },
           {
            "bin_start": 1808.1,
            "bin_end": 2082.2,
            "count": 0
           },
           {
            "bin_start": 2082.2,
            "bin_end": 2356.3,
            "count": 0
           },
           {
            "bin_start": 2356.3,
            "bin_end": 2630.4,
            "count": 0
           },
           {
            "bin_start": 2630.4,
            "bin_end": 2904.5,
            "count": 0
           },
           {
            "bin_start": 2904.5,
            "bin_end": 3178.6000000000004,
            "count": 0
           },
           {
            "bin_start": 3178.6000000000004,
            "bin_end": 3452.7000000000003,
            "count": 0
           },
           {
            "bin_start": 3452.7000000000003,
            "bin_end": 3726.8,
            "count": 0
           },
           {
            "bin_start": 3726.8,
            "bin_end": 4000.9,
            "count": 0
           },
           {
            "bin_start": 4000.9,
            "bin_end": 4275,
            "count": 1
           }
          ]
         }
        },
        {
         "name": "NUM_INSPECTION",
         "dtype": "int64",
         "stats": {
          "unique_count": 1,
          "nan_count": 0,
          "min": "1",
          "max": "1",
          "histogram": [
           {
            "bin_start": 0.5,
            "bin_end": 0.6,
            "count": 0
           },
           {
            "bin_start": 0.6,
            "bin_end": 0.7,
            "count": 0
           },
           {
            "bin_start": 0.7,
            "bin_end": 0.8,
            "count": 0
           },
           {
            "bin_start": 0.8,
            "bin_end": 0.9,
            "count": 0
           },
           {
            "bin_start": 0.9,
            "bin_end": 1,
            "count": 0
           },
           {
            "bin_start": 1,
            "bin_end": 1.1,
            "count": 2
           },
           {
            "bin_start": 1.1,
            "bin_end": 1.2000000000000002,
            "count": 0
           },
           {
            "bin_start": 1.2000000000000002,
            "bin_end": 1.3,
            "count": 0
           },
           {
            "bin_start": 1.3,
            "bin_end": 1.4,
            "count": 0
           },
           {
            "bin_start": 1.4,
            "bin_end": 1.5,
            "count": 0
           }
          ]
         }
        },
        {
         "name": "NUM_POI",
         "dtype": "float64",
         "stats": {
          "unique_count": 2,
          "nan_count": 0,
          "min": "4.0",
          "max": "5.0",
          "histogram": [
           {
            "bin_start": 4,
            "bin_end": 4.1,
            "count": 1
           },
           {
            "bin_start": 4.1,
            "bin_end": 4.2,
            "count": 0
           },
           {
            "bin_start": 4.2,
            "bin_end": 4.3,
            "count": 0
           },
           {
            "bin_start": 4.3,
            "bin_end": 4.4,
            "count": 0
           },
           {
            "bin_start": 4.4,
            "bin_end": 4.5,
            "count": 0
           },
           {
            "bin_start": 4.5,
            "bin_end": 4.6,
            "count": 0
           },
           {
            "bin_start": 4.6,
            "bin_end": 4.7,
            "count": 0
           },
           {
            "bin_start": 4.7,
            "bin_end": 4.8,
            "count": 0
           },
           {
            "bin_start": 4.8,
            "bin_end": 4.9,
            "count": 0
           },
           {
            "bin_start": 4.9,
            "bin_end": 5,
            "count": 1
           }
          ]
         }
        },
        {
         "name": "POI_ID_1",
         "dtype": "float64",
         "stats": {
          "unique_count": 2,
          "nan_count": 0,
          "min": "7555.0",
          "max": "8559.0",
          "histogram": [
           {
            "bin_start": 7555,
            "bin_end": 7655.4,
            "count": 1
           },
           {
            "bin_start": 7655.4,
            "bin_end": 7755.8,
            "count": 0
           },
           {
            "bin_start": 7755.8,
            "bin_end": 7856.2,
            "count": 0
           },
           {
            "bin_start": 7856.2,
            "bin_end": 7956.6,
            "count": 0
           },
           {
            "bin_start": 7956.6,
            "bin_end": 8057,
            "count": 0
           },
           {
            "bin_start": 8057,
            "bin_end": 8157.4,
            "count": 0
           },
           {
            "bin_start": 8157.4,
            "bin_end": 8257.8,
            "count": 0
           },
           {
            "bin_start": 8257.8,
            "bin_end": 8358.2,
            "count": 0
           },
           {
            "bin_start": 8358.2,
            "bin_end": 8458.6,
            "count": 0
           },
           {
            "bin_start": 8458.6,
            "bin_end": 8559,
            "count": 1
           }
          ]
         }
        },
        {
         "name": "POI_LATITUDE_1",
         "dtype": "float64",
         "stats": {
          "unique_count": 2,
          "nan_count": 0,
          "min": "34.57797187",
          "max": "39.7945",
          "histogram": [
           {
            "bin_start": 34.57797187,
            "bin_end": 35.099624683,
            "count": 1
           },
           {
            "bin_start": 35.099624683,
            "bin_end": 35.621277496,
            "count": 0
           },
           {
            "bin_start": 35.621277496,
            "bin_end": 36.142930309,
            "count": 0
           },
           {
            "bin_start": 36.142930309,
            "bin_end": 36.664583121999996,
            "count": 0
           },
           {
            "bin_start": 36.664583121999996,
            "bin_end": 37.186235935,
            "count": 0
           },
           {
            "bin_start": 37.186235935,
            "bin_end": 37.707888748,
            "count": 0
           },
           {
            "bin_start": 37.707888748,
            "bin_end": 38.229541561,
            "count": 0
           },
           {
            "bin_start": 38.229541561,
            "bin_end": 38.751194374,
            "count": 0
           },
           {
            "bin_start": 38.751194374,
            "bin_end": 39.272847186999996,
            "count": 0
           },
           {
            "bin_start": 39.272847186999996,
            "bin_end": 39.7945,
            "count": 1
           }
          ]
         }
        },
        {
         "name": "POI_LONGITUDE_1",
         "dtype": "float64",
         "stats": {
          "unique_count": 2,
          "nan_count": 0,
          "min": "-122.0545",
          "max": "-118.28920963",
          "histogram": [
           {
            "bin_start": -122.0545,
            "bin_end": -121.677970963,
            "count": 1
           },
           {
            "bin_start": -121.677970963,
            "bin_end": -121.30144192600001,
            "count": 0
           },
           {
            "bin_start": -121.30144192600001,
            "bin_end": -120.924912889,
            "count": 0
           },
           {
            "bin_start": -120.924912889,
            "bin_end": -120.548383852,
            "count": 0
           },
           {
            "bin_start": -120.548383852,
            "bin_end": -120.171854815,
            "count": 0
           },
           {
            "bin_start": -120.171854815,
            "bin_end": -119.795325778,
            "count": 0
           },
           {
            "bin_start": -119.795325778,
            "bin_end": -119.41879674100001,
            "count": 0
           },
           {
            "bin_start": -119.41879674100001,
            "bin_end": -119.042267704,
            "count": 0
           },
           {
            "bin_start": -119.042267704,
            "bin_end": -118.665738667,
            "count": 0
           },
           {
            "bin_start": -118.665738667,
            "bin_end": -118.28920963,
            "count": 1
           }
          ]
         }
        },
        {
         "name": "POI_ID_2",
         "dtype": "float64",
         "stats": {
          "unique_count": 2,
          "nan_count": 0,
          "min": "7559.0",
          "max": "8562.0",
          "histogram": [
           {
            "bin_start": 7559,
            "bin_end": 7659.3,
            "count": 1
           },
           {
            "bin_start": 7659.3,
            "bin_end": 7759.6,
            "count": 0
           },
           {
            "bin_start": 7759.6,
            "bin_end": 7859.9,
            "count": 0
           },
           {
            "bin_start": 7859.9,
            "bin_end": 7960.2,
            "count": 0
           },
           {
            "bin_start": 7960.2,
            "bin_end": 8060.5,
            "count": 0
           },
           {
            "bin_start": 8060.5,
            "bin_end": 8160.8,
            "count": 0
           },
           {
            "bin_start": 8160.8,
            "bin_end": 8261.1,
            "count": 0
           },
           {
            "bin_start": 8261.1,
            "bin_end": 8361.4,
            "count": 0
           },
           {
            "bin_start": 8361.4,
            "bin_end": 8461.7,
            "count": 0
           },
           {
            "bin_start": 8461.7,
            "bin_end": 8562,
            "count": 1
           }
          ]
         }
        },
        {
         "name": "POI_LATITUDE_2",
         "dtype": "float64",
         "stats": {
          "unique_count": 2,
          "nan_count": 0,
          "min": "34.57797187",
          "max": "39.36",
          "histogram": [
           {
            "bin_start": 34.57797187,
            "bin_end": 35.056174683,
            "count": 1
           },
           {
            "bin_start": 35.056174683,
            "bin_end": 35.534377496,
            "count": 0
           },
           {
            "bin_start": 35.534377496,
            "bin_end": 36.012580309,
            "count": 0
           },
           {
            "bin_start": 36.012580309,
            "bin_end": 36.490783121999996,
            "count": 0
           },
           {
            "bin_start": 36.490783121999996,
            "bin_end": 36.968985935,
            "count": 0
           },
           {
            "bin_start": 36.968985935,
            "bin_end": 37.447188748,
            "count": 0
           },
           {
            "bin_start": 37.447188748,
            "bin_end": 37.925391561,
            "count": 0
           },
           {
            "bin_start": 37.925391561,
            "bin_end": 38.403594374,
            "count": 0
           },
           {
            "bin_start": 38.403594374,
            "bin_end": 38.881797187,
            "count": 0
           },
           {
            "bin_start": 38.881797187,
            "bin_end": 39.36,
            "count": 1
           }
          ]
         }
        },
        {
         "name": "POI_LONGITUDE_2",
         "dtype": "float64",
         "stats": {
          "unique_count": 2,
          "nan_count": 0,
          "min": "-122.153",
          "max": "-118.28920963",
          "histogram": [
           {
            "bin_start": -122.153,
            "bin_end": -121.76662096300001,
            "count": 1
           },
           {
            "bin_start": -121.76662096300001,
            "bin_end": -121.38024192600001,
            "count": 0
           },
           {
            "bin_start": -121.38024192600001,
            "bin_end": -120.993862889,
            "count": 0
           },
           {
            "bin_start": -120.993862889,
            "bin_end": -120.607483852,
            "count": 0
           },
           {
            "bin_start": -120.607483852,
            "bin_end": -120.221104815,
            "count": 0
           },
           {
            "bin_start": -120.221104815,
            "bin_end": -119.834725778,
            "count": 0
           },
           {
            "bin_start": -119.834725778,
            "bin_end": -119.44834674100001,
            "count": 0
           },
           {
            "bin_start": -119.44834674100001,
            "bin_end": -119.061967704,
            "count": 0
           },
           {
            "bin_start": -119.061967704,
            "bin_end": -118.675588667,
            "count": 0
           },
           {
            "bin_start": -118.675588667,
            "bin_end": -118.28920963,
            "count": 1
           }
          ]
         }
        },
        {
         "name": "POI_ID_3",
         "dtype": "float64",
         "stats": {
          "unique_count": 2,
          "nan_count": 0,
          "min": "7558.0",
          "max": "8561.0",
          "histogram": [
           {
            "bin_start": 7558,
            "bin_end": 7658.3,
            "count": 1
           },
           {
            "bin_start": 7658.3,
            "bin_end": 7758.6,
            "count": 0
           },
           {
            "bin_start": 7758.6,
            "bin_end": 7858.9,
            "count": 0
           },
           {
            "bin_start": 7858.9,
            "bin_end": 7959.2,
            "count": 0
           },
           {
            "bin_start": 7959.2,
            "bin_end": 8059.5,
            "count": 0
           },
           {
            "bin_start": 8059.5,
            "bin_end": 8159.8,
            "count": 0
           },
           {
            "bin_start": 8159.8,
            "bin_end": 8260.1,
            "count": 0
           },
           {
            "bin_start": 8260.1,
            "bin_end": 8360.4,
            "count": 0
           },
           {
            "bin_start": 8360.4,
            "bin_end": 8460.7,
            "count": 0
           },
           {
            "bin_start": 8460.7,
            "bin_end": 8561,
            "count": 1
           }
          ]
         }
        },
        {
         "name": "POI_LATITUDE_3",
         "dtype": "float64",
         "stats": {
          "unique_count": 2,
          "nan_count": 0,
          "min": "34.57797187",
          "max": "39.301",
          "histogram": [
           {
            "bin_start": 34.57797187,
            "bin_end": 35.050274683,
            "count": 1
           },
           {
            "bin_start": 35.050274683,
            "bin_end": 35.522577496,
            "count": 0
           },
           {
            "bin_start": 35.522577496,
            "bin_end": 35.994880309,
            "count": 0
           },
           {
            "bin_start": 35.994880309,
            "bin_end": 36.467183122,
            "count": 0
           },
           {
            "bin_start": 36.467183122,
            "bin_end": 36.939485935,
            "count": 0
           },
           {
            "bin_start": 36.939485935,
            "bin_end": 37.411788748,
            "count": 0
           },
           {
            "bin_start": 37.411788748,
            "bin_end": 37.884091561,
            "count": 0
           },
           {
            "bin_start": 37.884091561,
            "bin_end": 38.356394374000004,
            "count": 0
           },
           {
            "bin_start": 38.356394374000004,
            "bin_end": 38.828697187,
            "count": 0
           },
           {
            "bin_start": 38.828697187,
            "bin_end": 39.301,
            "count": 1
           }
          ]
         }
        },
        {
         "name": "POI_LONGITUDE_3",
         "dtype": "float64",
         "stats": {
          "unique_count": 2,
          "nan_count": 0,
          "min": "-122.135",
          "max": "-118.28920963",
          "histogram": [
           {
            "bin_start": -122.135,
            "bin_end": -121.75042096300001,
            "count": 1
           },
           {
            "bin_start": -121.75042096300001,
            "bin_end": -121.365841926,
            "count": 0
           },
           {
            "bin_start": -121.365841926,
            "bin_end": -120.981262889,
            "count": 0
           },
           {
            "bin_start": -120.981262889,
            "bin_end": -120.596683852,
            "count": 0
           },
           {
            "bin_start": -120.596683852,
            "bin_end": -120.212104815,
            "count": 0
           },
           {
            "bin_start": -120.212104815,
            "bin_end": -119.82752577800001,
            "count": 0
           },
           {
            "bin_start": -119.82752577800001,
            "bin_end": -119.442946741,
            "count": 0
           },
           {
            "bin_start": -119.442946741,
            "bin_end": -119.058367704,
            "count": 0
           },
           {
            "bin_start": -119.058367704,
            "bin_end": -118.673788667,
            "count": 0
           },
           {
            "bin_start": -118.673788667,
            "bin_end": -118.28920963,
            "count": 1
           }
          ]
         }
        },
        {
         "name": "INVESTIGATION_ID",
         "dtype": "int64",
         "stats": {
          "unique_count": 2,
          "nan_count": 0,
          "min": "7666",
          "max": "10001",
          "histogram": [
           {
            "bin_start": 7666,
            "bin_end": 7899.5,
            "count": 1
           },
           {
            "bin_start": 7899.5,
            "bin_end": 8133,
            "count": 0
           },
           {
            "bin_start": 8133,
            "bin_end": 8366.5,
            "count": 0
           },
           {
            "bin_start": 8366.5,
            "bin_end": 8600,
            "count": 0
           },
           {
            "bin_start": 8600,
            "bin_end": 8833.5,
            "count": 0
           },
           {
            "bin_start": 8833.5,
            "bin_end": 9067,
            "count": 0
           },
           {
            "bin_start": 9067,
            "bin_end": 9300.5,
            "count": 0
           },
           {
            "bin_start": 9300.5,
            "bin_end": 9534,
            "count": 0
           },
           {
            "bin_start": 9534,
            "bin_end": 9767.5,
            "count": 0
           },
           {
            "bin_start": 9767.5,
            "bin_end": 10001,
            "count": 1
           }
          ]
         }
        },
        {
         "name": "NUM_OF_VIOLATIONS",
         "dtype": "int64",
         "stats": {
          "unique_count": 2,
          "nan_count": 0,
          "min": "0",
          "max": "1",
          "histogram": [
           {
            "bin_start": 0,
            "bin_end": 0.1,
            "count": 1
           },
           {
            "bin_start": 0.1,
            "bin_end": 0.2,
            "count": 0
           },
           {
            "bin_start": 0.2,
            "bin_end": 0.30000000000000004,
            "count": 0
           },
           {
            "bin_start": 0.30000000000000004,
            "bin_end": 0.4,
            "count": 0
           },
           {
            "bin_start": 0.4,
            "bin_end": 0.5,
            "count": 0
           },
           {
            "bin_start": 0.5,
            "bin_end": 0.6000000000000001,
            "count": 0
           },
           {
            "bin_start": 0.6000000000000001,
            "bin_end": 0.7000000000000001,
            "count": 0
           },
           {
            "bin_start": 0.7000000000000001,
            "bin_end": 0.8,
            "count": 0
           },
           {
            "bin_start": 0.8,
            "bin_end": 0.9,
            "count": 0
           },
           {
            "bin_start": 0.9,
            "bin_end": 1,
            "count": 1
           }
          ]
         }
        },
        {
         "name": "_deepnote_index_column",
         "dtype": "int64"
        }
       ],
       "rows": [
        {
         "water_ID": "A000016",
         "INSPECTION_ID": 4275,
         "NUM_INSPECTION": 1,
         "NUM_POI": 4,
         "POI_ID_1": 8559,
         "POI_LATITUDE_1": 34.57797187,
         "POI_LONGITUDE_1": -118.28920963,
         "POI_ID_2": 8562,
         "POI_LATITUDE_2": 34.57797187,
         "POI_LONGITUDE_2": -118.28920963,
         "POI_ID_3": 8561,
         "POI_LATITUDE_3": 34.57797187,
         "POI_LONGITUDE_3": -118.28920963,
         "INVESTIGATION_ID": 10001,
         "NUM_OF_VIOLATIONS": 1,
         "_deepnote_index_column": 0
        },
        {
         "water_ID": "A000018",
         "INSPECTION_ID": 1534,
         "NUM_INSPECTION": 1,
         "NUM_POI": 5,
         "POI_ID_1": 7555,
         "POI_LATITUDE_1": 39.7945,
         "POI_LONGITUDE_1": -122.0545,
         "POI_ID_2": 7559,
         "POI_LATITUDE_2": 39.36,
         "POI_LONGITUDE_2": -122.153,
         "POI_ID_3": 7558,
         "POI_LATITUDE_3": 39.301,
         "POI_LONGITUDE_3": -122.135,
         "INVESTIGATION_ID": 7666,
         "NUM_OF_VIOLATIONS": 0,
         "_deepnote_index_column": 1
        }
       ]
      },
      "text/plain": "  water_ID  INSPECTION_ID  NUM_INSPECTION  NUM_POI  POI_ID_1  POI_LATITUDE_1  \\\n0  A000016           4275               1      4.0    8559.0       34.577972   \n1  A000018           1534               1      5.0    7555.0       39.794500   \n\n   POI_LONGITUDE_1  POI_ID_2  POI_LATITUDE_2  POI_LONGITUDE_2  POI_ID_3  \\\n0       -118.28921    8562.0       34.577972       -118.28921    8561.0   \n1       -122.05450    7559.0       39.360000       -122.15300    7558.0   \n\n   POI_LATITUDE_3  POI_LONGITUDE_3  INVESTIGATION_ID  NUM_OF_VIOLATIONS  \n0       34.577972       -118.28921             10001                  1  \n1       39.301000       -122.13500              7666                  0  ",
      "text/html": "<div>\n<style scoped>\n    .dataframe tbody tr th:only-of-type {\n        vertical-align: middle;\n    }\n\n    .dataframe tbody tr th {\n        vertical-align: top;\n    }\n\n    .dataframe thead th {\n        text-align: right;\n    }\n</style>\n<table border=\"1\" class=\"dataframe\">\n  <thead>\n    <tr style=\"text-align: right;\">\n      <th></th>\n      <th>water_ID</th>\n      <th>INSPECTION_ID</th>\n      <th>NUM_INSPECTION</th>\n      <th>NUM_POI</th>\n      <th>POI_ID_1</th>\n      <th>POI_LATITUDE_1</th>\n      <th>POI_LONGITUDE_1</th>\n      <th>POI_ID_2</th>\n      <th>POI_LATITUDE_2</th>\n      <th>POI_LONGITUDE_2</th>\n      <th>POI_ID_3</th>\n      <th>POI_LATITUDE_3</th>\n      <th>POI_LONGITUDE_3</th>\n      <th>INVESTIGATION_ID</th>\n      <th>NUM_OF_VIOLATIONS</th>\n    </tr>\n  </thead>\n  <tbody>\n    <tr>\n      <th>0</th>\n      <td>A000016</td>\n      <td>4275</td>\n      <td>1</td>\n      <td>4.0</td>\n      <td>8559.0</td>\n      <td>34.577972</td>\n      <td>-118.28921</td>\n      <td>8562.0</td>\n      <td>34.577972</td>\n      <td>-118.28921</td>\n      <td>8561.0</td>\n      <td>34.577972</td>\n      <td>-118.28921</td>\n      <td>10001</td>\n      <td>1</td>\n    </tr>\n    <tr>\n      <th>1</th>\n      <td>A000018</td>\n      <td>1534</td>\n      <td>1</td>\n      <td>5.0</td>\n      <td>7555.0</td>\n      <td>39.794500</td>\n      <td>-122.05450</td>\n      <td>7559.0</td>\n      <td>39.360000</td>\n      <td>-122.15300</td>\n      <td>7558.0</td>\n      <td>39.301000</td>\n      <td>-122.13500</td>\n      <td>7666</td>\n      <td>0</td>\n    </tr>\n  </tbody>\n</table>\n</div>"
     },
     "metadata": {}
    }
   ],
   "execution_count": null
  },
  {
   "cell_type": "code",
   "metadata": {
    "cell_id": "534a4e089929444f9bc49f3db0934da2",
    "tags": [],
    "deepnote_to_be_reexecuted": false,
    "source_hash": "3f3b9068",
    "execution_start": 1651705661156,
    "execution_millis": 4980,
    "deepnote_cell_type": "code",
    "deepnote_cell_height": 154,
    "deepnote_output_heights": [
     21
    ]
   },
   "source": "#Merge original data with insp on water_ID\ndf = df.merge(insp, on = 'water_ID', how = 'left')\ndf.shape",
   "outputs": [
    {
     "output_type": "execute_result",
     "execution_count": 9,
     "data": {
      "text/plain": "(76504, 180)"
     },
     "metadata": {}
    }
   ],
   "execution_count": null
  },
  {
   "cell_type": "markdown",
   "source": "Columns to fill in with mean: QUANTITY_OF_WATER_DIVERTED, USE_POPULATION",
   "metadata": {
    "cell_id": "93ddec2e1f264d1592c51af609f72d07",
    "tags": [],
    "deepnote_cell_type": "markdown",
    "deepnote_cell_height": 52
   }
  },
  {
   "cell_type": "code",
   "metadata": {
    "cell_id": "0504b83b3b484bb4a05c2917b3792147",
    "tags": [],
    "deepnote_to_be_reexecuted": false,
    "source_hash": "a891cd1e",
    "execution_start": 1651705668333,
    "execution_millis": 218,
    "deepnote_cell_type": "code",
    "deepnote_cell_height": 262,
    "deepnote_output_heights": [
     21
    ]
   },
   "source": "#Manually check the quality of some columns by checking its sparsity. \nsum(pd.notnull(org['QUANTITY_OF_WATER_DIVERTED']) == True) #3581 not null / 76504 total\nsum(pd.notnull(org['FACE_VALUE_AMOUNT']) == True) #72463 not null \nsum(pd.notnull(org['USE_COUNT']) == True) #76504 not null\nsum(pd.notnull(org['USE_POPULATION']) == True) #47810 not null\nsum(pd.notnull(org['NUMBER_OF_PROTESTS']) == True) #76463 not null\nsum(pd.notnull(org['PRIMARY_OWNER_ENTITY_TYPE']) == True) #66494 not null\nsum(pd.notnull(org['COUNT_NPO_OR_OTHER']) == True) #76504 not null\nsum(pd.notnull(org['LATITUDE']) == True) #63161 not null",
   "outputs": [
    {
     "output_type": "execute_result",
     "execution_count": 10,
     "data": {
      "text/plain": "63161"
     },
     "metadata": {}
    }
   ],
   "execution_count": null
  },
  {
   "cell_type": "markdown",
   "source": "This decides which water rights applications should be classified as \"Approved\" (A) or \"Not Permitted\" (NP). We classified approved water rights applications as the ones that were licensed, permitted, certified, registered, claimed, active, or completed. ",
   "metadata": {
    "cell_id": "cfb6c668259043b5a6aa6bc4e7020a35",
    "tags": [],
    "deepnote_cell_type": "markdown",
    "deepnote_cell_height": 74
   }
  },
  {
   "cell_type": "code",
   "metadata": {
    "cell_id": "00002-f56f62b7-490a-4d0e-b47b-6e8eb9325e57",
    "deepnote_to_be_reexecuted": false,
    "source_hash": "f5f78a7",
    "execution_start": 1651705669889,
    "execution_millis": 29,
    "deepnote_cell_type": "code",
    "deepnote_cell_height": 99
   },
   "source": "df['A/NP'] = df['STATUS_AT_STATUS_EFFECTIVEDATE'].isin(['Licensed', 'Permitted', 'Certified', 'Registered', 'Claimed', 'Active', 'Completed'])\n",
   "outputs": [],
   "execution_count": null
  },
  {
   "cell_type": "code",
   "metadata": {
    "cell_id": "00004-1944ca34-3948-473a-823d-93fad9a54dfd",
    "deepnote_to_be_reexecuted": false,
    "source_hash": "6133ca5",
    "execution_start": 1651705671054,
    "execution_millis": 415,
    "deepnote_cell_type": "code",
    "deepnote_cell_height": 172,
    "deepnote_output_heights": [
     21
    ]
   },
   "source": "#USE population has over one third as null and almost half as 0 so bad column\nx = df[df['USE_POPULATION'].isnull()]\ny = df[df['USE_POPULATION'] == 0]\nx.shape, y.shape",
   "outputs": [
    {
     "output_type": "execute_result",
     "execution_count": 12,
     "data": {
      "text/plain": "((28694, 181), (39064, 181))"
     },
     "metadata": {}
    }
   ],
   "execution_count": null
  },
  {
   "cell_type": "markdown",
   "source": "To deal with categorical data such as primary owner entity type and use code, we one-hot encoded the columns using pd.get_dummies, which turns the categorical data  into several quantitative data columns filled with 1's and 0's depending on the qualitative data value.\n",
   "metadata": {
    "cell_id": "a118910edd0c44a4a0199ce2910999e5",
    "tags": [],
    "deepnote_cell_type": "markdown",
    "deepnote_cell_height": 96
   }
  },
  {
   "cell_type": "code",
   "metadata": {
    "cell_id": "8d0126cabd1f4a9097f56c976127c437",
    "tags": [],
    "deepnote_to_be_reexecuted": false,
    "source_hash": "8bc49c14",
    "execution_start": 1651705679527,
    "execution_millis": 1,
    "deepnote_cell_type": "code",
    "deepnote_cell_height": 153
   },
   "source": "df['FACE_VALUE_AMOUNT'] = df['FACE_VALUE_AMOUNT'].fillna(df['FACE_VALUE_AMOUNT'].mean())\ndf['NUMBER_OF_PROTESTS'] = df['NUMBER_OF_PROTESTS'].fillna(0)\ndf['LATITUDE'] = df['LATITUDE'].fillna(df['LATITUDE'].mean())\ndf['NUM_OF_VIOLATIONS'] = df['NUM_OF_VIOLATIONS'].fillna(0)\n",
   "outputs": [],
   "execution_count": null
  },
  {
   "cell_type": "code",
   "metadata": {
    "cell_id": "a10f53fe3961498284583eb2f870dc28",
    "tags": [],
    "deepnote_to_be_reexecuted": false,
    "source_hash": "698d8a57",
    "execution_start": 1651705681512,
    "execution_millis": 247,
    "deepnote_cell_type": "code",
    "deepnote_cell_height": 117
   },
   "source": "#Split into train and val set\nval = df[df['STATUS_AT_STATUS_EFFECTIVEDATE'] == 'Pending']\ndf = df[df['STATUS_AT_STATUS_EFFECTIVEDATE'] != 'Pending']",
   "outputs": [],
   "execution_count": null
  },
  {
   "cell_type": "code",
   "metadata": {
    "cell_id": "00005-37a2a1fe-79b5-4ad9-b9b3-14dd0904d75a",
    "deepnote_to_be_reexecuted": false,
    "source_hash": "d12e5bfc",
    "execution_start": 1651705683303,
    "execution_millis": 130,
    "deepnote_cell_type": "code",
    "deepnote_cell_height": 207
   },
   "source": "\n#Only use the columns that are relevant and one hot encode the categorical columns \ndf = df.loc[:, ['FACE_VALUE_AMOUNT', 'NUM_OF_VIOLATIONS', 'QUANTITY_OF_WATER_DIVERTED', 'USE_COUNT', 'USE_POPULATION', 'NUMBER_OF_PROTESTS', 'PRIMARY_OWNER_ENTITY_TYPE', 'COUNT_NPO_OR_OTHER', 'USE_CODE', 'LATITUDE', 'A/NP']]\n\ndf = pd.get_dummies(df, columns = ['PRIMARY_OWNER_ENTITY_TYPE', 'USE_CODE'] , drop_first = True)\n\ndf.insert(len(df.columns) - 1, 'A/NP', df.pop('A/NP'))\n#len(df.columns)",
   "outputs": [],
   "execution_count": null
  },
  {
   "cell_type": "code",
   "metadata": {
    "cell_id": "e99043309a21481dbbe284b7af35bb6c",
    "tags": [],
    "deepnote_to_be_reexecuted": false,
    "source_hash": "5411f057",
    "execution_start": 1651705684806,
    "execution_millis": 31,
    "deepnote_cell_type": "code",
    "deepnote_cell_height": 153
   },
   "source": "val = val.loc[:, ['FACE_VALUE_AMOUNT', 'NUM_OF_VIOLATIONS', 'QUANTITY_OF_WATER_DIVERTED', 'USE_COUNT', 'USE_POPULATION', 'NUMBER_OF_PROTESTS', 'PRIMARY_OWNER_ENTITY_TYPE', 'COUNT_NPO_OR_OTHER', 'USE_CODE', 'LATITUDE', 'A/NP']]\n\nval = pd.get_dummies(val, columns = ['PRIMARY_OWNER_ENTITY_TYPE', 'USE_CODE'], drop_first = True )\n\nval.insert(len(val.columns) - 1, 'A/NP', val.pop('A/NP'))",
   "outputs": [],
   "execution_count": null
  },
  {
   "cell_type": "code",
   "metadata": {
    "cell_id": "609a424b7a0e4d4da3a2f2f1ded58318",
    "tags": [],
    "deepnote_to_be_reexecuted": false,
    "source_hash": "4e6b367e",
    "execution_start": 1651705686621,
    "execution_millis": 32,
    "deepnote_cell_type": "code",
    "deepnote_cell_height": 99
   },
   "source": " \ndf, val = df.align(val, join='inner', axis=1)  # inner join",
   "outputs": [],
   "execution_count": null
  },
  {
   "cell_type": "code",
   "metadata": {
    "cell_id": "b9ca7b8f9e3b419e9cd698cda2dd3bec",
    "tags": [],
    "deepnote_to_be_reexecuted": false,
    "source_hash": "ff13790",
    "execution_start": 1651705688770,
    "execution_millis": 22,
    "deepnote_cell_type": "code",
    "deepnote_cell_height": 189
   },
   "source": "df['USE_COUNT'] = stats.zscore(df['USE_COUNT'])\ndf['NUMBER_OF_PROTESTS'] = stats.zscore(df['NUMBER_OF_PROTESTS'])\ndf['FACE_VALUE_AMOUNT'] = stats.zscore(df['FACE_VALUE_AMOUNT'])\ndf['NUM_OF_VIOLATIONS'] = stats.zscore(df['NUM_OF_VIOLATIONS'])\ndf['COUNT_NPO_OR_OTHER'] = stats.zscore(df['COUNT_NPO_OR_OTHER'])\ndf['LATITUDE'] = stats.zscore(df['LATITUDE'])\n",
   "outputs": [],
   "execution_count": null
  },
  {
   "cell_type": "code",
   "metadata": {
    "cell_id": "487b6f6f7e964141b954d687f40c0853",
    "tags": [],
    "deepnote_to_be_reexecuted": false,
    "source_hash": "7cdec787",
    "execution_start": 1651705689794,
    "execution_millis": 48,
    "deepnote_cell_type": "code",
    "deepnote_cell_height": 171
   },
   "source": "val['USE_COUNT'] = stats.zscore(val['USE_COUNT'])\nval['NUMBER_OF_PROTESTS'] = stats.zscore(val['NUMBER_OF_PROTESTS'])\nval['FACE_VALUE_AMOUNT'] = stats.zscore(val['FACE_VALUE_AMOUNT'])\nval['NUM_OF_VIOLATIONS'] = stats.zscore(val['NUM_OF_VIOLATIONS'])\nval['COUNT_NPO_OR_OTHER'] = stats.zscore(val['COUNT_NPO_OR_OTHER'])\nval['LATITUDE'] = stats.zscore(val['LATITUDE'])",
   "outputs": [],
   "execution_count": null
  },
  {
   "cell_type": "code",
   "metadata": {
    "cell_id": "d038c9f6c6544b63bb4f00daf9835448",
    "tags": [],
    "deepnote_to_be_reexecuted": false,
    "source_hash": "9601542c",
    "execution_start": 1651705691380,
    "execution_millis": 152,
    "deepnote_cell_type": "code",
    "deepnote_cell_height": 503
   },
   "source": "#Create new columns indicating if we have data on specific feature\ndf['QUANT_INCLUDED'] = pd.isnull(df['QUANTITY_OF_WATER_DIVERTED'])\ndf['USE_POP_INC'] = pd.isnull(df['USE_POPULATION'])\n\ndf.insert(len(df.columns) - 1, 'A/NP', df.pop('A/NP'))\ndf.head(5)\n",
   "outputs": [
    {
     "output_type": "execute_result",
     "execution_count": 20,
     "data": {
      "application/vnd.deepnote.dataframe.v3+json": {
       "column_count": 38,
       "row_count": 5,
       "columns": [
        {
         "name": "FACE_VALUE_AMOUNT",
         "dtype": "float64",
         "stats": {
          "unique_count": 5,
          "nan_count": 0,
          "min": "-0.0404914028735527",
          "max": "0.33487721621561667",
          "histogram": [
           {
            "bin_start": -0.0404914028735527,
            "bin_end": -0.0029545409646357657,
            "count": 3
           },
           {
            "bin_start": -0.0029545409646357657,
            "bin_end": 0.03458232094428117,
            "count": 0
           },
           {
            "bin_start": 0.03458232094428117,
            "bin_end": 0.0721191828531981,
            "count": 0
           },
           {
            "bin_start": 0.0721191828531981,
            "bin_end": 0.10965604476211503,
            "count": 0
           },
           {
            "bin_start": 0.10965604476211503,
            "bin_end": 0.14719290667103196,
            "count": 0
           },
           {
            "bin_start": 0.14719290667103196,
            "bin_end": 0.18472976857994888,
            "count": 0
           },
           {
            "bin_start": 0.18472976857994888,
            "bin_end": 0.22226663048886586,
            "count": 0
           },
           {
            "bin_start": 0.22226663048886586,
            "bin_end": 0.2598034923977828,
            "count": 0
           },
           {
            "bin_start": 0.2598034923977828,
            "bin_end": 0.2973403543066997,
            "count": 1
           },
           {
            "bin_start": 0.2973403543066997,
            "bin_end": 0.33487721621561667,
            "count": 1
           }
          ]
         }
        },
        {
         "name": "NUM_OF_VIOLATIONS",
         "dtype": "float64",
         "stats": {
          "unique_count": 2,
          "nan_count": 0,
          "min": "-0.13421535966359505",
          "max": "3.3263695796809674",
          "histogram": [
           {
            "bin_start": -0.13421535966359505,
            "bin_end": 0.2118431342708612,
            "count": 3
           },
           {
            "bin_start": 0.2118431342708612,
            "bin_end": 0.5579016282053175,
            "count": 0
           },
           {
            "bin_start": 0.5579016282053175,
            "bin_end": 0.9039601221397737,
            "count": 0
           },
           {
            "bin_start": 0.9039601221397737,
            "bin_end": 1.25001861607423,
            "count": 0
           },
           {
            "bin_start": 1.25001861607423,
            "bin_end": 1.5960771100086861,
            "count": 0
           },
           {
            "bin_start": 1.5960771100086861,
            "bin_end": 1.9421356039431426,
            "count": 0
           },
           {
            "bin_start": 1.9421356039431426,
            "bin_end": 2.2881940978775988,
            "count": 0
           },
           {
            "bin_start": 2.2881940978775988,
            "bin_end": 2.634252591812055,
            "count": 0
           },
           {
            "bin_start": 2.634252591812055,
            "bin_end": 2.980311085746511,
            "count": 0
           },
           {
            "bin_start": 2.980311085746511,
            "bin_end": 3.3263695796809674,
            "count": 2
           }
          ]
         }
        },
        {
         "name": "QUANTITY_OF_WATER_DIVERTED",
         "dtype": "float64",
         "stats": {
          "unique_count": 0,
          "nan_count": 5,
          "min": null,
          "max": null,
          "histogram": [
           {
            "bin_start": 0,
            "bin_end": 0.1,
            "count": 0
           },
           {
            "bin_start": 0.1,
            "bin_end": 0.2,
            "count": 0
           },
           {
            "bin_start": 0.2,
            "bin_end": 0.30000000000000004,
            "count": 0
           },
           {
            "bin_start": 0.30000000000000004,
            "bin_end": 0.4,
            "count": 0
           },
           {
            "bin_start": 0.4,
            "bin_end": 0.5,
            "count": 0
           },
           {
            "bin_start": 0.5,
            "bin_end": 0.6000000000000001,
            "count": 0
           },
           {
            "bin_start": 0.6000000000000001,
            "bin_end": 0.7000000000000001,
            "count": 0
           },
           {
            "bin_start": 0.7000000000000001,
            "bin_end": 0.8,
            "count": 0
           },
           {
            "bin_start": 0.8,
            "bin_end": 0.9,
            "count": 0
           },
           {
            "bin_start": 0.9,
            "bin_end": 1,
            "count": 0
           }
          ]
         }
        },
        {
         "name": "USE_COUNT",
         "dtype": "float64",
         "stats": {
          "unique_count": 3,
          "nan_count": 0,
          "min": "-0.2661047017358245",
          "max": "1.5859210990369428",
          "histogram": [
           {
            "bin_start": -0.2661047017358245,
            "bin_end": -0.0809021216585478,
            "count": 2
           },
           {
            "bin_start": -0.0809021216585478,
            "bin_end": 0.10430045841872893,
            "count": 0
           },
           {
            "bin_start": 0.10430045841872893,
            "bin_end": 0.2895030384960056,
            "count": 0
           },
           {
            "bin_start": 0.2895030384960056,
            "bin_end": 0.47470561857328236,
            "count": 0
           },
           {
            "bin_start": 0.47470561857328236,
            "bin_end": 0.659908198650559,
            "count": 0
           },
           {
            "bin_start": 0.659908198650559,
            "bin_end": 0.8451107787278358,
            "count": 2
           },
           {
            "bin_start": 0.8451107787278358,
            "bin_end": 1.0303133588051125,
            "count": 0
           },
           {
            "bin_start": 1.0303133588051125,
            "bin_end": 1.2155159388823893,
            "count": 0
           },
           {
            "bin_start": 1.2155159388823893,
            "bin_end": 1.400718518959666,
            "count": 0
           },
           {
            "bin_start": 1.400718518959666,
            "bin_end": 1.5859210990369428,
            "count": 1
           }
          ]
         }
        },
        {
         "name": "USE_POPULATION",
         "dtype": "float64",
         "stats": {
          "unique_count": 1,
          "nan_count": 1,
          "min": "0.0",
          "max": "0.0",
          "histogram": [
           {
            "bin_start": -0.5,
            "bin_end": -0.4,
            "count": 0
           },
           {
            "bin_start": -0.4,
            "bin_end": -0.3,
            "count": 0
           },
           {
            "bin_start": -0.3,
            "bin_end": -0.19999999999999996,
            "count": 0
           },
           {
            "bin_start": -0.19999999999999996,
            "bin_end": -0.09999999999999998,
            "count": 0
           },
           {
            "bin_start": -0.09999999999999998,
            "bin_end": 0,
            "count": 0
           },
           {
            "bin_start": 0,
            "bin_end": 0.10000000000000009,
            "count": 4
           },
           {
            "bin_start": 0.10000000000000009,
            "bin_end": 0.20000000000000007,
            "count": 0
           },
           {
            "bin_start": 0.20000000000000007,
            "bin_end": 0.30000000000000004,
            "count": 0
           },
           {
            "bin_start": 0.30000000000000004,
            "bin_end": 0.4,
            "count": 0
           },
           {
            "bin_start": 0.4,
            "bin_end": 0.5,
            "count": 0
           }
          ]
         }
        },
        {
         "name": "NUMBER_OF_PROTESTS",
         "dtype": "float64",
         "stats": {
          "unique_count": 1,
          "nan_count": 0,
          "min": "-0.06359600006433046",
          "max": "-0.06359600006433046",
          "histogram": [
           {
            "bin_start": -0.5635960000643304,
            "bin_end": -0.46359600006433044,
            "count": 0
           },
           {
            "bin_start": -0.46359600006433044,
            "bin_end": -0.3635960000643304,
            "count": 0
           },
           {
            "bin_start": -0.3635960000643304,
            "bin_end": -0.26359600006433037,
            "count": 0
           },
           {
            "bin_start": -0.26359600006433037,
            "bin_end": -0.1635960000643304,
            "count": 0
           },
           {
            "bin_start": -0.1635960000643304,
            "bin_end": -0.06359600006433042,
            "count": 5
           },
           {
            "bin_start": -0.06359600006433042,
            "bin_end": 0.03640399993566967,
            "count": 0
           },
           {
            "bin_start": 0.03640399993566967,
            "bin_end": 0.13640399993566965,
            "count": 0
           },
           {
            "bin_start": 0.13640399993566965,
            "bin_end": 0.23640399993566963,
            "count": 0
           },
           {
            "bin_start": 0.23640399993566963,
            "bin_end": 0.3364039999356696,
            "count": 0
           },
           {
            "bin_start": 0.3364039999356696,
            "bin_end": 0.43640399993566953,
            "count": 0
           }
          ]
         }
        },
        {
         "name": "COUNT_NPO_OR_OTHER",
         "dtype": "float64",
         "stats": {
          "unique_count": 4,
          "nan_count": 0,
          "min": "-0.5415582968920903",
          "max": "1.809978321491732",
          "histogram": [
           {
            "bin_start": -0.5415582968920903,
            "bin_end": -0.30640463505370813,
            "count": 2
           },
           {
            "bin_start": -0.30640463505370813,
            "bin_end": -0.07125097321532592,
            "count": 0
           },
           {
            "bin_start": -0.07125097321532592,
            "bin_end": 0.16390268862305624,
            "count": 0
           },
           {
            "bin_start": 0.16390268862305624,
            "bin_end": 0.3990563504614385,
            "count": 0
           },
           {
            "bin_start": 0.3990563504614385,
            "bin_end": 0.6342100122998208,
            "count": 0
           },
           {
            "bin_start": 0.6342100122998208,
            "bin_end": 0.8693636741382028,
            "count": 1
           },
           {
            "bin_start": 0.8693636741382028,
            "bin_end": 1.1045173359765852,
            "count": 0
           },
           {
            "bin_start": 1.1045173359765852,
            "bin_end": 1.3396709978149675,
            "count": 1
           },
           {
            "bin_start": 1.3396709978149675,
            "bin_end": 1.5748246596533497,
            "count": 0
           },
           {
            "bin_start": 1.5748246596533497,
            "bin_end": 1.809978321491732,
            "count": 1
           }
          ]
         }
        },
        {
         "name": "LATITUDE",
         "dtype": "float64",
         "stats": {
          "unique_count": 5,
          "nan_count": 0,
          "min": "-2.8081154970215936",
          "max": "0.7996894025191454",
          "histogram": [
           {
            "bin_start": -2.8081154970215936,
            "bin_end": -2.4473350070675197,
            "count": 1
           },
           {
            "bin_start": -2.4473350070675197,
            "bin_end": -2.086554517113446,
            "count": 0
           },
           {
            "bin_start": -2.086554517113446,
            "bin_end": -1.7257740271593718,
            "count": 1
           },
           {
            "bin_start": -1.7257740271593718,
            "bin_end": -1.364993537205298,
            "count": 0
           },
           {
            "bin_start": -1.364993537205298,
            "bin_end": -1.004213047251224,
            "count": 0
           },
           {
            "bin_start": -1.004213047251224,
            "bin_end": -0.64343255729715,
            "count": 0
           },
           {
            "bin_start": -0.64343255729715,
            "bin_end": -0.28265206734307613,
            "count": 1
           },
           {
            "bin_start": -0.28265206734307613,
            "bin_end": 0.07812842261099773,
            "count": 0
           },
           {
            "bin_start": 0.07812842261099773,
            "bin_end": 0.4389089125650716,
            "count": 1
           },
           {
            "bin_start": 0.4389089125650716,
            "bin_end": 0.7996894025191454,
            "count": 1
           }
          ]
         }
        },
        {
         "name": "PRIMARY_OWNER_ENTITY_TYPE_Estate",
         "dtype": "uint8",
         "stats": {
          "unique_count": 1,
          "nan_count": 0,
          "min": "0",
          "max": "0",
          "histogram": [
           {
            "bin_start": -0.5,
            "bin_end": -0.4,
            "count": 0
           },
           {
            "bin_start": -0.4,
            "bin_end": -0.3,
            "count": 0
           },
           {
            "bin_start": -0.3,
            "bin_end": -0.19999999999999996,
            "count": 0
           },
           {
            "bin_start": -0.19999999999999996,
            "bin_end": -0.09999999999999998,
            "count": 0
           },
           {
            "bin_start": -0.09999999999999998,
            "bin_end": 0,
            "count": 0
           },
           {
            "bin_start": 0,
            "bin_end": 0.10000000000000009,
            "count": 5
           },
           {
            "bin_start": 0.10000000000000009,
            "bin_end": 0.20000000000000007,
            "count": 0
           },
           {
            "bin_start": 0.20000000000000007,
            "bin_end": 0.30000000000000004,
            "count": 0
           },
           {
            "bin_start": 0.30000000000000004,
            "bin_end": 0.4,
            "count": 0
           },
           {
            "bin_start": 0.4,
            "bin_end": 0.5,
            "count": 0
           }
          ]
         }
        },
        {
         "name": "PRIMARY_OWNER_ENTITY_TYPE_Federal Government",
         "dtype": "uint8",
         "stats": {
          "unique_count": 2,
          "nan_count": 0,
          "min": "0",
          "max": "1",
          "histogram": [
           {
            "bin_start": 0,
            "bin_end": 0.1,
            "count": 4
           },
           {
            "bin_start": 0.1,
            "bin_end": 0.2,
            "count": 0
           },
           {
            "bin_start": 0.2,
            "bin_end": 0.30000000000000004,
            "count": 0
           },
           {
            "bin_start": 0.30000000000000004,
            "bin_end": 0.4,
            "count": 0
           },
           {
            "bin_start": 0.4,
            "bin_end": 0.5,
            "count": 0
           },
           {
            "bin_start": 0.5,
            "bin_end": 0.6000000000000001,
            "count": 0
           },
           {
            "bin_start": 0.6000000000000001,
            "bin_end": 0.7000000000000001,
            "count": 0
           },
           {
            "bin_start": 0.7000000000000001,
            "bin_end": 0.8,
            "count": 0
           },
           {
            "bin_start": 0.8,
            "bin_end": 0.9,
            "count": 0
           },
           {
            "bin_start": 0.9,
            "bin_end": 1,
            "count": 1
           }
          ]
         }
        },
        {
         "name": "PRIMARY_OWNER_ENTITY_TYPE_Government (State/Municipal)",
         "dtype": "uint8",
         "stats": {
          "unique_count": 2,
          "nan_count": 0,
          "min": "0",
          "max": "1",
          "histogram": [
           {
            "bin_start": 0,
            "bin_end": 0.1,
            "count": 4
           },
           {
            "bin_start": 0.1,
            "bin_end": 0.2,
            "count": 0
           },
           {
            "bin_start": 0.2,
            "bin_end": 0.30000000000000004,
            "count": 0
           },
           {
            "bin_start": 0.30000000000000004,
            "bin_end": 0.4,
            "count": 0
           },
           {
            "bin_start": 0.4,
            "bin_end": 0.5,
            "count": 0
           },
           {
            "bin_start": 0.5,
            "bin_end": 0.6000000000000001,
            "count": 0
           },
           {
            "bin_start": 0.6000000000000001,
            "bin_end": 0.7000000000000001,
            "count": 0
           },
           {
            "bin_start": 0.7000000000000001,
            "bin_end": 0.8,
            "count": 0
           },
           {
            "bin_start": 0.8,
            "bin_end": 0.9,
            "count": 0
           },
           {
            "bin_start": 0.9,
            "bin_end": 1,
            "count": 1
           }
          ]
         }
        },
        {
         "name": "PRIMARY_OWNER_ENTITY_TYPE_Individual",
         "dtype": "uint8",
         "stats": {
          "unique_count": 2,
          "nan_count": 0,
          "min": "0",
          "max": "1",
          "histogram": [
           {
            "bin_start": 0,
            "bin_end": 0.1,
            "count": 4
           },
           {
            "bin_start": 0.1,
            "bin_end": 0.2,
            "count": 0
           },
           {
            "bin_start": 0.2,
            "bin_end": 0.30000000000000004,
            "count": 0
           },
           {
            "bin_start": 0.30000000000000004,
            "bin_end": 0.4,
            "count": 0
           },
           {
            "bin_start": 0.4,
            "bin_end": 0.5,
            "count": 0
           },
           {
            "bin_start": 0.5,
            "bin_end": 0.6000000000000001,
            "count": 0
           },
           {
            "bin_start": 0.6000000000000001,
            "bin_end": 0.7000000000000001,
            "count": 0
           },
           {
            "bin_start": 0.7000000000000001,
            "bin_end": 0.8,
            "count": 0
           },
           {
            "bin_start": 0.8,
            "bin_end": 0.9,
            "count": 0
           },
           {
            "bin_start": 0.9,
            "bin_end": 1,
            "count": 1
           }
          ]
         }
        },
        {
         "name": "PRIMARY_OWNER_ENTITY_TYPE_Limited Liability Company",
         "dtype": "uint8",
         "stats": {
          "unique_count": 2,
          "nan_count": 0,
          "min": "0",
          "max": "1",
          "histogram": [
           {
            "bin_start": 0,
            "bin_end": 0.1,
            "count": 4
           },
           {
            "bin_start": 0.1,
            "bin_end": 0.2,
            "count": 0
           },
           {
            "bin_start": 0.2,
            "bin_end": 0.30000000000000004,
            "count": 0
           },
           {
            "bin_start": 0.30000000000000004,
            "bin_end": 0.4,
            "count": 0
           },
           {
            "bin_start": 0.4,
            "bin_end": 0.5,
            "count": 0
           },
           {
            "bin_start": 0.5,
            "bin_end": 0.6000000000000001,
            "count": 0
           },
           {
            "bin_start": 0.6000000000000001,
            "bin_end": 0.7000000000000001,
            "count": 0
           },
           {
            "bin_start": 0.7000000000000001,
            "bin_end": 0.8,
            "count": 0
           },
           {
            "bin_start": 0.8,
            "bin_end": 0.9,
            "count": 0
           },
           {
            "bin_start": 0.9,
            "bin_end": 1,
            "count": 1
           }
          ]
         }
        },
        {
         "name": "PRIMARY_OWNER_ENTITY_TYPE_Limited Partner",
         "dtype": "uint8",
         "stats": {
          "unique_count": 1,
          "nan_count": 0,
          "min": "0",
          "max": "0",
          "histogram": [
           {
            "bin_start": -0.5,
            "bin_end": -0.4,
            "count": 0
           },
           {
            "bin_start": -0.4,
            "bin_end": -0.3,
            "count": 0
           },
           {
            "bin_start": -0.3,
            "bin_end": -0.19999999999999996,
            "count": 0
           },
           {
            "bin_start": -0.19999999999999996,
            "bin_end": -0.09999999999999998,
            "count": 0
           },
           {
            "bin_start": -0.09999999999999998,
            "bin_end": 0,
            "count": 0
           },
           {
            "bin_start": 0,
            "bin_end": 0.10000000000000009,
            "count": 5
           },
           {
            "bin_start": 0.10000000000000009,
            "bin_end": 0.20000000000000007,
            "count": 0
           },
           {
            "bin_start": 0.20000000000000007,
            "bin_end": 0.30000000000000004,
            "count": 0
           },
           {
            "bin_start": 0.30000000000000004,
            "bin_end": 0.4,
            "count": 0
           },
           {
            "bin_start": 0.4,
            "bin_end": 0.5,
            "count": 0
           }
          ]
         }
        },
        {
         "name": "PRIMARY_OWNER_ENTITY_TYPE_Organization/Association",
         "dtype": "uint8",
         "stats": {
          "unique_count": 1,
          "nan_count": 0,
          "min": "0",
          "max": "0",
          "histogram": [
           {
            "bin_start": -0.5,
            "bin_end": -0.4,
            "count": 0
           },
           {
            "bin_start": -0.4,
            "bin_end": -0.3,
            "count": 0
           },
           {
            "bin_start": -0.3,
            "bin_end": -0.19999999999999996,
            "count": 0
           },
           {
            "bin_start": -0.19999999999999996,
            "bin_end": -0.09999999999999998,
            "count": 0
           },
           {
            "bin_start": -0.09999999999999998,
            "bin_end": 0,
            "count": 0
           },
           {
            "bin_start": 0,
            "bin_end": 0.10000000000000009,
            "count": 5
           },
           {
            "bin_start": 0.10000000000000009,
            "bin_end": 0.20000000000000007,
            "count": 0
           },
           {
            "bin_start": 0.20000000000000007,
            "bin_end": 0.30000000000000004,
            "count": 0
           },
           {
            "bin_start": 0.30000000000000004,
            "bin_end": 0.4,
            "count": 0
           },
           {
            "bin_start": 0.4,
            "bin_end": 0.5,
            "count": 0
           }
          ]
         }
        },
        {
         "name": "PRIMARY_OWNER_ENTITY_TYPE_Partnership or Co-owners",
         "dtype": "uint8",
         "stats": {
          "unique_count": 1,
          "nan_count": 0,
          "min": "0",
          "max": "0",
          "histogram": [
           {
            "bin_start": -0.5,
            "bin_end": -0.4,
            "count": 0
           },
           {
            "bin_start": -0.4,
            "bin_end": -0.3,
            "count": 0
           },
           {
            "bin_start": -0.3,
            "bin_end": -0.19999999999999996,
            "count": 0
           },
           {
            "bin_start": -0.19999999999999996,
            "bin_end": -0.09999999999999998,
            "count": 0
           },
           {
            "bin_start": -0.09999999999999998,
            "bin_end": 0,
            "count": 0
           },
           {
            "bin_start": 0,
            "bin_end": 0.10000000000000009,
            "count": 5
           },
           {
            "bin_start": 0.10000000000000009,
            "bin_end": 0.20000000000000007,
            "count": 0
           },
           {
            "bin_start": 0.20000000000000007,
            "bin_end": 0.30000000000000004,
            "count": 0
           },
           {
            "bin_start": 0.30000000000000004,
            "bin_end": 0.4,
            "count": 0
           },
           {
            "bin_start": 0.4,
            "bin_end": 0.5,
            "count": 0
           }
          ]
         }
        },
        {
         "name": "PRIMARY_OWNER_ENTITY_TYPE_Receivership/Fiduciary",
         "dtype": "uint8",
         "stats": {
          "unique_count": 1,
          "nan_count": 0,
          "min": "0",
          "max": "0",
          "histogram": [
           {
            "bin_start": -0.5,
            "bin_end": -0.4,
            "count": 0
           },
           {
            "bin_start": -0.4,
            "bin_end": -0.3,
            "count": 0
           },
           {
            "bin_start": -0.3,
            "bin_end": -0.19999999999999996,
            "count": 0
           },
           {
            "bin_start": -0.19999999999999996,
            "bin_end": -0.09999999999999998,
            "count": 0
           },
           {
            "bin_start": -0.09999999999999998,
            "bin_end": 0,
            "count": 0
           },
           {
            "bin_start": 0,
            "bin_end": 0.10000000000000009,
            "count": 5
           },
           {
            "bin_start": 0.10000000000000009,
            "bin_end": 0.20000000000000007,
            "count": 0
           },
           {
            "bin_start": 0.20000000000000007,
            "bin_end": 0.30000000000000004,
            "count": 0
           },
           {
            "bin_start": 0.30000000000000004,
            "bin_end": 0.4,
            "count": 0
           },
           {
            "bin_start": 0.4,
            "bin_end": 0.5,
            "count": 0
           }
          ]
         }
        },
        {
         "name": "PRIMARY_OWNER_ENTITY_TYPE_Trust",
         "dtype": "uint8",
         "stats": {
          "unique_count": 1,
          "nan_count": 0,
          "min": "0",
          "max": "0",
          "histogram": [
           {
            "bin_start": -0.5,
            "bin_end": -0.4,
            "count": 0
           },
           {
            "bin_start": -0.4,
            "bin_end": -0.3,
            "count": 0
           },
           {
            "bin_start": -0.3,
            "bin_end": -0.19999999999999996,
            "count": 0
           },
           {
            "bin_start": -0.19999999999999996,
            "bin_end": -0.09999999999999998,
            "count": 0
           },
           {
            "bin_start": -0.09999999999999998,
            "bin_end": 0,
            "count": 0
           },
           {
            "bin_start": 0,
            "bin_end": 0.10000000000000009,
            "count": 5
           },
           {
            "bin_start": 0.10000000000000009,
            "bin_end": 0.20000000000000007,
            "count": 0
           },
           {
            "bin_start": 0.20000000000000007,
            "bin_end": 0.30000000000000004,
            "count": 0
           },
           {
            "bin_start": 0.30000000000000004,
            "bin_end": 0.4,
            "count": 0
           },
           {
            "bin_start": 0.4,
            "bin_end": 0.5,
            "count": 0
           }
          ]
         }
        },
        {
         "name": "USE_CODE_Aquaculture",
         "dtype": "uint8",
         "stats": {
          "unique_count": 1,
          "nan_count": 0,
          "min": "0",
          "max": "0",
          "histogram": [
           {
            "bin_start": -0.5,
            "bin_end": -0.4,
            "count": 0
           },
           {
            "bin_start": -0.4,
            "bin_end": -0.3,
            "count": 0
           },
           {
            "bin_start": -0.3,
            "bin_end": -0.19999999999999996,
            "count": 0
           },
           {
            "bin_start": -0.19999999999999996,
            "bin_end": -0.09999999999999998,
            "count": 0
           },
           {
            "bin_start": -0.09999999999999998,
            "bin_end": 0,
            "count": 0
           },
           {
            "bin_start": 0,
            "bin_end": 0.10000000000000009,
            "count": 5
           },
           {
            "bin_start": 0.10000000000000009,
            "bin_end": 0.20000000000000007,
            "count": 0
           },
           {
            "bin_start": 0.20000000000000007,
            "bin_end": 0.30000000000000004,
            "count": 0
           },
           {
            "bin_start": 0.30000000000000004,
            "bin_end": 0.4,
            "count": 0
           },
           {
            "bin_start": 0.4,
            "bin_end": 0.5,
            "count": 0
           }
          ]
         }
        },
        {
         "name": "USE_CODE_Domestic",
         "dtype": "uint8",
         "stats": {
          "unique_count": 2,
          "nan_count": 0,
          "min": "0",
          "max": "1",
          "histogram": [
           {
            "bin_start": 0,
            "bin_end": 0.1,
            "count": 2
           },
           {
            "bin_start": 0.1,
            "bin_end": 0.2,
            "count": 0
           },
           {
            "bin_start": 0.2,
            "bin_end": 0.30000000000000004,
            "count": 0
           },
           {
            "bin_start": 0.30000000000000004,
            "bin_end": 0.4,
            "count": 0
           },
           {
            "bin_start": 0.4,
            "bin_end": 0.5,
            "count": 0
           },
           {
            "bin_start": 0.5,
            "bin_end": 0.6000000000000001,
            "count": 0
           },
           {
            "bin_start": 0.6000000000000001,
            "bin_end": 0.7000000000000001,
            "count": 0
           },
           {
            "bin_start": 0.7000000000000001,
            "bin_end": 0.8,
            "count": 0
           },
           {
            "bin_start": 0.8,
            "bin_end": 0.9,
            "count": 0
           },
           {
            "bin_start": 0.9,
            "bin_end": 1,
            "count": 3
           }
          ]
         }
        },
        {
         "name": "USE_CODE_Dust Control",
         "dtype": "uint8",
         "stats": {
          "unique_count": 2,
          "nan_count": 0,
          "min": "0",
          "max": "1",
          "histogram": [
           {
            "bin_start": 0,
            "bin_end": 0.1,
            "count": 4
           },
           {
            "bin_start": 0.1,
            "bin_end": 0.2,
            "count": 0
           },
           {
            "bin_start": 0.2,
            "bin_end": 0.30000000000000004,
            "count": 0
           },
           {
            "bin_start": 0.30000000000000004,
            "bin_end": 0.4,
            "count": 0
           },
           {
            "bin_start": 0.4,
            "bin_end": 0.5,
            "count": 0
           },
           {
            "bin_start": 0.5,
            "bin_end": 0.6000000000000001,
            "count": 0
           },
           {
            "bin_start": 0.6000000000000001,
            "bin_end": 0.7000000000000001,
            "count": 0
           },
           {
            "bin_start": 0.7000000000000001,
            "bin_end": 0.8,
            "count": 0
           },
           {
            "bin_start": 0.8,
            "bin_end": 0.9,
            "count": 0
           },
           {
            "bin_start": 0.9,
            "bin_end": 1,
            "count": 1
           }
          ]
         }
        },
        {
         "name": "USE_CODE_Fire Protection",
         "dtype": "uint8",
         "stats": {
          "unique_count": 1,
          "nan_count": 0,
          "min": "0",
          "max": "0",
          "histogram": [
           {
            "bin_start": -0.5,
            "bin_end": -0.4,
            "count": 0
           },
           {
            "bin_start": -0.4,
            "bin_end": -0.3,
            "count": 0
           },
           {
            "bin_start": -0.3,
            "bin_end": -0.19999999999999996,
            "count": 0
           },
           {
            "bin_start": -0.19999999999999996,
            "bin_end": -0.09999999999999998,
            "count": 0
           },
           {
            "bin_start": -0.09999999999999998,
            "bin_end": 0,
            "count": 0
           },
           {
            "bin_start": 0,
            "bin_end": 0.10000000000000009,
            "count": 5
           },
           {
            "bin_start": 0.10000000000000009,
            "bin_end": 0.20000000000000007,
            "count": 0
           },
           {
            "bin_start": 0.20000000000000007,
            "bin_end": 0.30000000000000004,
            "count": 0
           },
           {
            "bin_start": 0.30000000000000004,
            "bin_end": 0.4,
            "count": 0
           },
           {
            "bin_start": 0.4,
            "bin_end": 0.5,
            "count": 0
           }
          ]
         }
        },
        {
         "name": "USE_CODE_Fish and Wildlife Preservation and Enhancement",
         "dtype": "uint8",
         "stats": {
          "unique_count": 1,
          "nan_count": 0,
          "min": "0",
          "max": "0",
          "histogram": [
           {
            "bin_start": -0.5,
            "bin_end": -0.4,
            "count": 0
           },
           {
            "bin_start": -0.4,
            "bin_end": -0.3,
            "count": 0
           },
           {
            "bin_start": -0.3,
            "bin_end": -0.19999999999999996,
            "count": 0
           },
           {
            "bin_start": -0.19999999999999996,
            "bin_end": -0.09999999999999998,
            "count": 0
           },
           {
            "bin_start": -0.09999999999999998,
            "bin_end": 0,
            "count": 0
           },
           {
            "bin_start": 0,
            "bin_end": 0.10000000000000009,
            "count": 5
           },
           {
            "bin_start": 0.10000000000000009,
            "bin_end": 0.20000000000000007,
            "count": 0
           },
           {
            "bin_start": 0.20000000000000007,
            "bin_end": 0.30000000000000004,
            "count": 0
           },
           {
            "bin_start": 0.30000000000000004,
            "bin_end": 0.4,
            "count": 0
           },
           {
            "bin_start": 0.4,
            "bin_end": 0.5,
            "count": 0
           }
          ]
         }
        },
        {
         "name": "USE_CODE_Frost Protection",
         "dtype": "uint8",
         "stats": {
          "unique_count": 1,
          "nan_count": 0,
          "min": "0",
          "max": "0",
          "histogram": [
           {
            "bin_start": -0.5,
            "bin_end": -0.4,
            "count": 0
           },
           {
            "bin_start": -0.4,
            "bin_end": -0.3,
            "count": 0
           },
           {
            "bin_start": -0.3,
            "bin_end": -0.19999999999999996,
            "count": 0
           },
           {
            "bin_start": -0.19999999999999996,
            "bin_end": -0.09999999999999998,
            "count": 0
           },
           {
            "bin_start": -0.09999999999999998,
            "bin_end": 0,
            "count": 0
           },
           {
            "bin_start": 0,
            "bin_end": 0.10000000000000009,
            "count": 5
           },
           {
            "bin_start": 0.10000000000000009,
            "bin_end": 0.20000000000000007,
            "count": 0
           },
           {
            "bin_start": 0.20000000000000007,
            "bin_end": 0.30000000000000004,
            "count": 0
           },
           {
            "bin_start": 0.30000000000000004,
            "bin_end": 0.4,
            "count": 0
           },
           {
            "bin_start": 0.4,
            "bin_end": 0.5,
            "count": 0
           }
          ]
         }
        },
        {
         "name": "USE_CODE_Heat Control",
         "dtype": "uint8",
         "stats": {
          "unique_count": 1,
          "nan_count": 0,
          "min": "0",
          "max": "0",
          "histogram": [
           {
            "bin_start": -0.5,
            "bin_end": -0.4,
            "count": 0
           },
           {
            "bin_start": -0.4,
            "bin_end": -0.3,
            "count": 0
           },
           {
            "bin_start": -0.3,
            "bin_end": -0.19999999999999996,
            "count": 0
           },
           {
            "bin_start": -0.19999999999999996,
            "bin_end": -0.09999999999999998,
            "count": 0
           },
           {
            "bin_start": -0.09999999999999998,
            "bin_end": 0,
            "count": 0
           },
           {
            "bin_start": 0,
            "bin_end": 0.10000000000000009,
            "count": 5
           },
           {
            "bin_start": 0.10000000000000009,
            "bin_end": 0.20000000000000007,
            "count": 0
           },
           {
            "bin_start": 0.20000000000000007,
            "bin_end": 0.30000000000000004,
            "count": 0
           },
           {
            "bin_start": 0.30000000000000004,
            "bin_end": 0.4,
            "count": 0
           },
           {
            "bin_start": 0.4,
            "bin_end": 0.5,
            "count": 0
           }
          ]
         }
        },
        {
         "name": "USE_CODE_Incidental Power",
         "dtype": "uint8",
         "stats": {
          "unique_count": 1,
          "nan_count": 0,
          "min": "0",
          "max": "0",
          "histogram": [
           {
            "bin_start": -0.5,
            "bin_end": -0.4,
            "count": 0
           },
           {
            "bin_start": -0.4,
            "bin_end": -0.3,
            "count": 0
           },
           {
            "bin_start": -0.3,
            "bin_end": -0.19999999999999996,
            "count": 0
           },
           {
            "bin_start": -0.19999999999999996,
            "bin_end": -0.09999999999999998,
            "count": 0
           },
           {
            "bin_start": -0.09999999999999998,
            "bin_end": 0,
            "count": 0
           },
           {
            "bin_start": 0,
            "bin_end": 0.10000000000000009,
            "count": 5
           },
           {
            "bin_start": 0.10000000000000009,
            "bin_end": 0.20000000000000007,
            "count": 0
           },
           {
            "bin_start": 0.20000000000000007,
            "bin_end": 0.30000000000000004,
            "count": 0
           },
           {
            "bin_start": 0.30000000000000004,
            "bin_end": 0.4,
            "count": 0
           },
           {
            "bin_start": 0.4,
            "bin_end": 0.5,
            "count": 0
           }
          ]
         }
        },
        {
         "name": "USE_CODE_Industrial",
         "dtype": "uint8",
         "stats": {
          "unique_count": 1,
          "nan_count": 0,
          "min": "0",
          "max": "0",
          "histogram": [
           {
            "bin_start": -0.5,
            "bin_end": -0.4,
            "count": 0
           },
           {
            "bin_start": -0.4,
            "bin_end": -0.3,
            "count": 0
           },
           {
            "bin_start": -0.3,
            "bin_end": -0.19999999999999996,
            "count": 0
           },
           {
            "bin_start": -0.19999999999999996,
            "bin_end": -0.09999999999999998,
            "count": 0
           },
           {
            "bin_start": -0.09999999999999998,
            "bin_end": 0,
            "count": 0
           },
           {
            "bin_start": 0,
            "bin_end": 0.10000000000000009,
            "count": 5
           },
           {
            "bin_start": 0.10000000000000009,
            "bin_end": 0.20000000000000007,
            "count": 0
           },
           {
            "bin_start": 0.20000000000000007,
            "bin_end": 0.30000000000000004,
            "count": 0
           },
           {
            "bin_start": 0.30000000000000004,
            "bin_end": 0.4,
            "count": 0
           },
           {
            "bin_start": 0.4,
            "bin_end": 0.5,
            "count": 0
           }
          ]
         }
        },
        {
         "name": "USE_CODE_Irrigation",
         "dtype": "uint8",
         "stats": {
          "unique_count": 2,
          "nan_count": 0,
          "min": "0",
          "max": "1",
          "histogram": [
           {
            "bin_start": 0,
            "bin_end": 0.1,
            "count": 4
           },
           {
            "bin_start": 0.1,
            "bin_end": 0.2,
            "count": 0
           },
           {
            "bin_start": 0.2,
            "bin_end": 0.30000000000000004,
            "count": 0
           },
           {
            "bin_start": 0.30000000000000004,
            "bin_end": 0.4,
            "count": 0
           },
           {
            "bin_start": 0.4,
            "bin_end": 0.5,
            "count": 0
           },
           {
            "bin_start": 0.5,
            "bin_end": 0.6000000000000001,
            "count": 0
           },
           {
            "bin_start": 0.6000000000000001,
            "bin_end": 0.7000000000000001,
            "count": 0
           },
           {
            "bin_start": 0.7000000000000001,
            "bin_end": 0.8,
            "count": 0
           },
           {
            "bin_start": 0.8,
            "bin_end": 0.9,
            "count": 0
           },
           {
            "bin_start": 0.9,
            "bin_end": 1,
            "count": 1
           }
          ]
         }
        },
        {
         "name": "USE_CODE_Mining",
         "dtype": "uint8",
         "stats": {
          "unique_count": 1,
          "nan_count": 0,
          "min": "0",
          "max": "0",
          "histogram": [
           {
            "bin_start": -0.5,
            "bin_end": -0.4,
            "count": 0
           },
           {
            "bin_start": -0.4,
            "bin_end": -0.3,
            "count": 0
           },
           {
            "bin_start": -0.3,
            "bin_end": -0.19999999999999996,
            "count": 0
           },
           {
            "bin_start": -0.19999999999999996,
            "bin_end": -0.09999999999999998,
            "count": 0
           },
           {
            "bin_start": -0.09999999999999998,
            "bin_end": 0,
            "count": 0
           },
           {
            "bin_start": 0,
            "bin_end": 0.10000000000000009,
            "count": 5
           },
           {
            "bin_start": 0.10000000000000009,
            "bin_end": 0.20000000000000007,
            "count": 0
           },
           {
            "bin_start": 0.20000000000000007,
            "bin_end": 0.30000000000000004,
            "count": 0
           },
           {
            "bin_start": 0.30000000000000004,
            "bin_end": 0.4,
            "count": 0
           },
           {
            "bin_start": 0.4,
            "bin_end": 0.5,
            "count": 0
           }
          ]
         }
        },
        {
         "name": "USE_CODE_Municipal",
         "dtype": "uint8",
         "stats": {
          "unique_count": 1,
          "nan_count": 0,
          "min": "0",
          "max": "0",
          "histogram": [
           {
            "bin_start": -0.5,
            "bin_end": -0.4,
            "count": 0
           },
           {
            "bin_start": -0.4,
            "bin_end": -0.3,
            "count": 0
           },
           {
            "bin_start": -0.3,
            "bin_end": -0.19999999999999996,
            "count": 0
           },
           {
            "bin_start": -0.19999999999999996,
            "bin_end": -0.09999999999999998,
            "count": 0
           },
           {
            "bin_start": -0.09999999999999998,
            "bin_end": 0,
            "count": 0
           },
           {
            "bin_start": 0,
            "bin_end": 0.10000000000000009,
            "count": 5
           },
           {
            "bin_start": 0.10000000000000009,
            "bin_end": 0.20000000000000007,
            "count": 0
           },
           {
            "bin_start": 0.20000000000000007,
            "bin_end": 0.30000000000000004,
            "count": 0
           },
           {
            "bin_start": 0.30000000000000004,
            "bin_end": 0.4,
            "count": 0
           },
           {
            "bin_start": 0.4,
            "bin_end": 0.5,
            "count": 0
           }
          ]
         }
        },
        {
         "name": "USE_CODE_Other",
         "dtype": "uint8",
         "stats": {
          "unique_count": 1,
          "nan_count": 0,
          "min": "0",
          "max": "0",
          "histogram": [
           {
            "bin_start": -0.5,
            "bin_end": -0.4,
            "count": 0
           },
           {
            "bin_start": -0.4,
            "bin_end": -0.3,
            "count": 0
           },
           {
            "bin_start": -0.3,
            "bin_end": -0.19999999999999996,
            "count": 0
           },
           {
            "bin_start": -0.19999999999999996,
            "bin_end": -0.09999999999999998,
            "count": 0
           },
           {
            "bin_start": -0.09999999999999998,
            "bin_end": 0,
            "count": 0
           },
           {
            "bin_start": 0,
            "bin_end": 0.10000000000000009,
            "count": 5
           },
           {
            "bin_start": 0.10000000000000009,
            "bin_end": 0.20000000000000007,
            "count": 0
           },
           {
            "bin_start": 0.20000000000000007,
            "bin_end": 0.30000000000000004,
            "count": 0
           },
           {
            "bin_start": 0.30000000000000004,
            "bin_end": 0.4,
            "count": 0
           },
           {
            "bin_start": 0.4,
            "bin_end": 0.5,
            "count": 0
           }
          ]
         }
        },
        {
         "name": "USE_CODE_Power",
         "dtype": "uint8",
         "stats": {
          "unique_count": 1,
          "nan_count": 0,
          "min": "0",
          "max": "0",
          "histogram": [
           {
            "bin_start": -0.5,
            "bin_end": -0.4,
            "count": 0
           },
           {
            "bin_start": -0.4,
            "bin_end": -0.3,
            "count": 0
           },
           {
            "bin_start": -0.3,
            "bin_end": -0.19999999999999996,
            "count": 0
           },
           {
            "bin_start": -0.19999999999999996,
            "bin_end": -0.09999999999999998,
            "count": 0
           },
           {
            "bin_start": -0.09999999999999998,
            "bin_end": 0,
            "count": 0
           },
           {
            "bin_start": 0,
            "bin_end": 0.10000000000000009,
            "count": 5
           },
           {
            "bin_start": 0.10000000000000009,
            "bin_end": 0.20000000000000007,
            "count": 0
           },
           {
            "bin_start": 0.20000000000000007,
            "bin_end": 0.30000000000000004,
            "count": 0
           },
           {
            "bin_start": 0.30000000000000004,
            "bin_end": 0.4,
            "count": 0
           },
           {
            "bin_start": 0.4,
            "bin_end": 0.5,
            "count": 0
           }
          ]
         }
        },
        {
         "name": "USE_CODE_Recreational",
         "dtype": "uint8",
         "stats": {
          "unique_count": 1,
          "nan_count": 0,
          "min": "0",
          "max": "0",
          "histogram": [
           {
            "bin_start": -0.5,
            "bin_end": -0.4,
            "count": 0
           },
           {
            "bin_start": -0.4,
            "bin_end": -0.3,
            "count": 0
           },
           {
            "bin_start": -0.3,
            "bin_end": -0.19999999999999996,
            "count": 0
           },
           {
            "bin_start": -0.19999999999999996,
            "bin_end": -0.09999999999999998,
            "count": 0
           },
           {
            "bin_start": -0.09999999999999998,
            "bin_end": 0,
            "count": 0
           },
           {
            "bin_start": 0,
            "bin_end": 0.10000000000000009,
            "count": 5
           },
           {
            "bin_start": 0.10000000000000009,
            "bin_end": 0.20000000000000007,
            "count": 0
           },
           {
            "bin_start": 0.20000000000000007,
            "bin_end": 0.30000000000000004,
            "count": 0
           },
           {
            "bin_start": 0.30000000000000004,
            "bin_end": 0.4,
            "count": 0
           },
           {
            "bin_start": 0.4,
            "bin_end": 0.5,
            "count": 0
           }
          ]
         }
        },
        {
         "name": "USE_CODE_Snow Making",
         "dtype": "uint8",
         "stats": {
          "unique_count": 1,
          "nan_count": 0,
          "min": "0",
          "max": "0",
          "histogram": [
           {
            "bin_start": -0.5,
            "bin_end": -0.4,
            "count": 0
           },
           {
            "bin_start": -0.4,
            "bin_end": -0.3,
            "count": 0
           },
           {
            "bin_start": -0.3,
            "bin_end": -0.19999999999999996,
            "count": 0
           },
           {
            "bin_start": -0.19999999999999996,
            "bin_end": -0.09999999999999998,
            "count": 0
           },
           {
            "bin_start": -0.09999999999999998,
            "bin_end": 0,
            "count": 0
           },
           {
            "bin_start": 0,
            "bin_end": 0.10000000000000009,
            "count": 5
           },
           {
            "bin_start": 0.10000000000000009,
            "bin_end": 0.20000000000000007,
            "count": 0
           },
           {
            "bin_start": 0.20000000000000007,
            "bin_end": 0.30000000000000004,
            "count": 0
           },
           {
            "bin_start": 0.30000000000000004,
            "bin_end": 0.4,
            "count": 0
           },
           {
            "bin_start": 0.4,
            "bin_end": 0.5,
            "count": 0
           }
          ]
         }
        },
        {
         "name": "USE_CODE_Stockwatering",
         "dtype": "uint8",
         "stats": {
          "unique_count": 1,
          "nan_count": 0,
          "min": "0",
          "max": "0",
          "histogram": [
           {
            "bin_start": -0.5,
            "bin_end": -0.4,
            "count": 0
           },
           {
            "bin_start": -0.4,
            "bin_end": -0.3,
            "count": 0
           },
           {
            "bin_start": -0.3,
            "bin_end": -0.19999999999999996,
            "count": 0
           },
           {
            "bin_start": -0.19999999999999996,
            "bin_end": -0.09999999999999998,
            "count": 0
           },
           {
            "bin_start": -0.09999999999999998,
            "bin_end": 0,
            "count": 0
           },
           {
            "bin_start": 0,
            "bin_end": 0.10000000000000009,
            "count": 5
           },
           {
            "bin_start": 0.10000000000000009,
            "bin_end": 0.20000000000000007,
            "count": 0
           },
           {
            "bin_start": 0.20000000000000007,
            "bin_end": 0.30000000000000004,
            "count": 0
           },
           {
            "bin_start": 0.30000000000000004,
            "bin_end": 0.4,
            "count": 0
           },
           {
            "bin_start": 0.4,
            "bin_end": 0.5,
            "count": 0
           }
          ]
         }
        },
        {
         "name": "QUANT_INCLUDED",
         "dtype": "bool",
         "stats": {
          "unique_count": 1,
          "nan_count": 0,
          "categories": [
           {
            "name": "True",
            "count": 5
           }
          ]
         }
        },
        {
         "name": "USE_POP_INC",
         "dtype": "bool",
         "stats": {
          "unique_count": 2,
          "nan_count": 0,
          "categories": [
           {
            "name": "False",
            "count": 4
           },
           {
            "name": "True",
            "count": 1
           }
          ]
         }
        },
        {
         "name": "A/NP",
         "dtype": "bool",
         "stats": {
          "unique_count": 2,
          "nan_count": 0,
          "categories": [
           {
            "name": "True",
            "count": 4
           },
           {
            "name": "False",
            "count": 1
           }
          ]
         }
        },
        {
         "name": "_deepnote_index_column",
         "dtype": "int64"
        }
       ],
       "rows": [
        {
         "FACE_VALUE_AMOUNT": -0.04020882057264369,
         "NUM_OF_VIOLATIONS": -0.13421535966359505,
         "QUANTITY_OF_WATER_DIVERTED": "nan",
         "USE_COUNT": -0.2661047017358245,
         "USE_POPULATION": 0,
         "NUMBER_OF_PROTESTS": -0.06359600006433046,
         "COUNT_NPO_OR_OTHER": -0.5415582968920903,
         "LATITUDE": -2.8081154970215936,
         "PRIMARY_OWNER_ENTITY_TYPE_Estate": 0,
         "PRIMARY_OWNER_ENTITY_TYPE_Federal Government": 0,
         "PRIMARY_OWNER_ENTITY_TYPE_Government (State/Municipal)": 0,
         "PRIMARY_OWNER_ENTITY_TYPE_Individual": 0,
         "PRIMARY_OWNER_ENTITY_TYPE_Limited Liability Company": 1,
         "PRIMARY_OWNER_ENTITY_TYPE_Limited Partner": 0,
         "PRIMARY_OWNER_ENTITY_TYPE_Organization/Association": 0,
         "PRIMARY_OWNER_ENTITY_TYPE_Partnership or Co-owners": 0,
         "PRIMARY_OWNER_ENTITY_TYPE_Receivership/Fiduciary": 0,
         "PRIMARY_OWNER_ENTITY_TYPE_Trust": 0,
         "USE_CODE_Aquaculture": 0,
         "USE_CODE_Domestic": 0,
         "USE_CODE_Dust Control": 1,
         "USE_CODE_Fire Protection": 0,
         "USE_CODE_Fish and Wildlife Preservation and Enhancement": 0,
         "USE_CODE_Frost Protection": 0,
         "USE_CODE_Heat Control": 0,
         "USE_CODE_Incidental Power": 0,
         "USE_CODE_Industrial": 0,
         "USE_CODE_Irrigation": 0,
         "USE_CODE_Mining": 0,
         "USE_CODE_Municipal": 0,
         "USE_CODE_Other": 0,
         "USE_CODE_Power": 0,
         "USE_CODE_Recreational": 0,
         "USE_CODE_Snow Making": 0,
         "USE_CODE_Stockwatering": 0,
         "QUANT_INCLUDED": true,
         "USE_POP_INC": false,
         "A/NP": false,
         "_deepnote_index_column": 1
        },
        {
         "FACE_VALUE_AMOUNT": -0.04041795945376199,
         "NUM_OF_VIOLATIONS": 3.3263695796809674,
         "QUANTITY_OF_WATER_DIVERTED": "nan",
         "USE_COUNT": 0.659908198650559,
         "USE_POPULATION": 0,
         "NUMBER_OF_PROTESTS": -0.06359600006433046,
         "COUNT_NPO_OR_OTHER": 0.6342100122998208,
         "LATITUDE": -1.8214757348388297,
         "PRIMARY_OWNER_ENTITY_TYPE_Estate": 0,
         "PRIMARY_OWNER_ENTITY_TYPE_Federal Government": 0,
         "PRIMARY_OWNER_ENTITY_TYPE_Government (State/Municipal)": 0,
         "PRIMARY_OWNER_ENTITY_TYPE_Individual": 0,
         "PRIMARY_OWNER_ENTITY_TYPE_Limited Liability Company": 0,
         "PRIMARY_OWNER_ENTITY_TYPE_Limited Partner": 0,
         "PRIMARY_OWNER_ENTITY_TYPE_Organization/Association": 0,
         "PRIMARY_OWNER_ENTITY_TYPE_Partnership or Co-owners": 0,
         "PRIMARY_OWNER_ENTITY_TYPE_Receivership/Fiduciary": 0,
         "PRIMARY_OWNER_ENTITY_TYPE_Trust": 0,
         "USE_CODE_Aquaculture": 0,
         "USE_CODE_Domestic": 1,
         "USE_CODE_Dust Control": 0,
         "USE_CODE_Fire Protection": 0,
         "USE_CODE_Fish and Wildlife Preservation and Enhancement": 0,
         "USE_CODE_Frost Protection": 0,
         "USE_CODE_Heat Control": 0,
         "USE_CODE_Incidental Power": 0,
         "USE_CODE_Industrial": 0,
         "USE_CODE_Irrigation": 0,
         "USE_CODE_Mining": 0,
         "USE_CODE_Municipal": 0,
         "USE_CODE_Other": 0,
         "USE_CODE_Power": 0,
         "USE_CODE_Recreational": 0,
         "USE_CODE_Snow Making": 0,
         "USE_CODE_Stockwatering": 0,
         "QUANT_INCLUDED": true,
         "USE_POP_INC": false,
         "A/NP": true,
         "_deepnote_index_column": 2
        },
        {
         "FACE_VALUE_AMOUNT": 0.33487721621561667,
         "NUM_OF_VIOLATIONS": -0.13421535966359505,
         "QUANTITY_OF_WATER_DIVERTED": "nan",
         "USE_COUNT": 0.659908198650559,
         "USE_POPULATION": "nan",
         "NUMBER_OF_PROTESTS": -0.06359600006433046,
         "COUNT_NPO_OR_OTHER": 1.2220941668957763,
         "LATITUDE": 0.7996894025191454,
         "PRIMARY_OWNER_ENTITY_TYPE_Estate": 0,
         "PRIMARY_OWNER_ENTITY_TYPE_Federal Government": 0,
         "PRIMARY_OWNER_ENTITY_TYPE_Government (State/Municipal)": 1,
         "PRIMARY_OWNER_ENTITY_TYPE_Individual": 0,
         "PRIMARY_OWNER_ENTITY_TYPE_Limited Liability Company": 0,
         "PRIMARY_OWNER_ENTITY_TYPE_Limited Partner": 0,
         "PRIMARY_OWNER_ENTITY_TYPE_Organization/Association": 0,
         "PRIMARY_OWNER_ENTITY_TYPE_Partnership or Co-owners": 0,
         "PRIMARY_OWNER_ENTITY_TYPE_Receivership/Fiduciary": 0,
         "PRIMARY_OWNER_ENTITY_TYPE_Trust": 0,
         "USE_CODE_Aquaculture": 0,
         "USE_CODE_Domestic": 0,
         "USE_CODE_Dust Control": 0,
         "USE_CODE_Fire Protection": 0,
         "USE_CODE_Fish and Wildlife Preservation and Enhancement": 0,
         "USE_CODE_Frost Protection": 0,
         "USE_CODE_Heat Control": 0,
         "USE_CODE_Incidental Power": 0,
         "USE_CODE_Industrial": 0,
         "USE_CODE_Irrigation": 1,
         "USE_CODE_Mining": 0,
         "USE_CODE_Municipal": 0,
         "USE_CODE_Other": 0,
         "USE_CODE_Power": 0,
         "USE_CODE_Recreational": 0,
         "USE_CODE_Snow Making": 0,
         "USE_CODE_Stockwatering": 0,
         "QUANT_INCLUDED": true,
         "USE_POP_INC": true,
         "A/NP": true,
         "_deepnote_index_column": 3
        },
        {
         "FACE_VALUE_AMOUNT": 0.2695965079387899,
         "NUM_OF_VIOLATIONS": 3.3263695796809674,
         "QUANTITY_OF_WATER_DIVERTED": "nan",
         "USE_COUNT": 1.5859210990369428,
         "USE_POPULATION": 0,
         "NUMBER_OF_PROTESTS": -0.06359600006433046,
         "COUNT_NPO_OR_OTHER": -0.5415582968920903,
         "LATITUDE": -0.6031692709020752,
         "PRIMARY_OWNER_ENTITY_TYPE_Estate": 0,
         "PRIMARY_OWNER_ENTITY_TYPE_Federal Government": 1,
         "PRIMARY_OWNER_ENTITY_TYPE_Government (State/Municipal)": 0,
         "PRIMARY_OWNER_ENTITY_TYPE_Individual": 0,
         "PRIMARY_OWNER_ENTITY_TYPE_Limited Liability Company": 0,
         "PRIMARY_OWNER_ENTITY_TYPE_Limited Partner": 0,
         "PRIMARY_OWNER_ENTITY_TYPE_Organization/Association": 0,
         "PRIMARY_OWNER_ENTITY_TYPE_Partnership or Co-owners": 0,
         "PRIMARY_OWNER_ENTITY_TYPE_Receivership/Fiduciary": 0,
         "PRIMARY_OWNER_ENTITY_TYPE_Trust": 0,
         "USE_CODE_Aquaculture": 0,
         "USE_CODE_Domestic": 1,
         "USE_CODE_Dust Control": 0,
         "USE_CODE_Fire Protection": 0,
         "USE_CODE_Fish and Wildlife Preservation and Enhancement": 0,
         "USE_CODE_Frost Protection": 0,
         "USE_CODE_Heat Control": 0,
         "USE_CODE_Incidental Power": 0,
         "USE_CODE_Industrial": 0,
         "USE_CODE_Irrigation": 0,
         "USE_CODE_Mining": 0,
         "USE_CODE_Municipal": 0,
         "USE_CODE_Other": 0,
         "USE_CODE_Power": 0,
         "USE_CODE_Recreational": 0,
         "USE_CODE_Snow Making": 0,
         "USE_CODE_Stockwatering": 0,
         "QUANT_INCLUDED": true,
         "USE_POP_INC": false,
         "A/NP": true,
         "_deepnote_index_column": 4
        },
        {
         "FACE_VALUE_AMOUNT": -0.0404914028735527,
         "NUM_OF_VIOLATIONS": -0.13421535966359505,
         "QUANTITY_OF_WATER_DIVERTED": "nan",
         "USE_COUNT": -0.2661047017358245,
         "USE_POPULATION": 0,
         "NUMBER_OF_PROTESTS": -0.06359600006433046,
         "COUNT_NPO_OR_OTHER": 1.809978321491732,
         "LATITUDE": 0.310917191434062,
         "PRIMARY_OWNER_ENTITY_TYPE_Estate": 0,
         "PRIMARY_OWNER_ENTITY_TYPE_Federal Government": 0,
         "PRIMARY_OWNER_ENTITY_TYPE_Government (State/Municipal)": 0,
         "PRIMARY_OWNER_ENTITY_TYPE_Individual": 1,
         "PRIMARY_OWNER_ENTITY_TYPE_Limited Liability Company": 0,
         "PRIMARY_OWNER_ENTITY_TYPE_Limited Partner": 0,
         "PRIMARY_OWNER_ENTITY_TYPE_Organization/Association": 0,
         "PRIMARY_OWNER_ENTITY_TYPE_Partnership or Co-owners": 0,
         "PRIMARY_OWNER_ENTITY_TYPE_Receivership/Fiduciary": 0,
         "PRIMARY_OWNER_ENTITY_TYPE_Trust": 0,
         "USE_CODE_Aquaculture": 0,
         "USE_CODE_Domestic": 1,
         "USE_CODE_Dust Control": 0,
         "USE_CODE_Fire Protection": 0,
         "USE_CODE_Fish and Wildlife Preservation and Enhancement": 0,
         "USE_CODE_Frost Protection": 0,
         "USE_CODE_Heat Control": 0,
         "USE_CODE_Incidental Power": 0,
         "USE_CODE_Industrial": 0,
         "USE_CODE_Irrigation": 0,
         "USE_CODE_Mining": 0,
         "USE_CODE_Municipal": 0,
         "USE_CODE_Other": 0,
         "USE_CODE_Power": 0,
         "USE_CODE_Recreational": 0,
         "USE_CODE_Snow Making": 0,
         "USE_CODE_Stockwatering": 0,
         "QUANT_INCLUDED": true,
         "USE_POP_INC": false,
         "A/NP": true,
         "_deepnote_index_column": 5
        }
       ]
      },
      "text/plain": "   FACE_VALUE_AMOUNT  NUM_OF_VIOLATIONS  QUANTITY_OF_WATER_DIVERTED  \\\n1          -0.040209          -0.134215                         NaN   \n2          -0.040418           3.326370                         NaN   \n3           0.334877          -0.134215                         NaN   \n4           0.269597           3.326370                         NaN   \n5          -0.040491          -0.134215                         NaN   \n\n   USE_COUNT  USE_POPULATION  NUMBER_OF_PROTESTS  COUNT_NPO_OR_OTHER  \\\n1  -0.266105             0.0           -0.063596           -0.541558   \n2   0.659908             0.0           -0.063596            0.634210   \n3   0.659908             NaN           -0.063596            1.222094   \n4   1.585921             0.0           -0.063596           -0.541558   \n5  -0.266105             0.0           -0.063596            1.809978   \n\n   LATITUDE  PRIMARY_OWNER_ENTITY_TYPE_Estate  \\\n1 -2.808115                                 0   \n2 -1.821476                                 0   \n3  0.799689                                 0   \n4 -0.603169                                 0   \n5  0.310917                                 0   \n\n   PRIMARY_OWNER_ENTITY_TYPE_Federal Government  ...  USE_CODE_Mining  \\\n1                                             0  ...                0   \n2                                             0  ...                0   \n3                                             0  ...                0   \n4                                             1  ...                0   \n5                                             0  ...                0   \n\n   USE_CODE_Municipal  USE_CODE_Other  USE_CODE_Power  USE_CODE_Recreational  \\\n1                   0               0               0                      0   \n2                   0               0               0                      0   \n3                   0               0               0                      0   \n4                   0               0               0                      0   \n5                   0               0               0                      0   \n\n   USE_CODE_Snow Making  USE_CODE_Stockwatering  QUANT_INCLUDED  USE_POP_INC  \\\n1                     0                       0            True        False   \n2                     0                       0            True        False   \n3                     0                       0            True         True   \n4                     0                       0            True        False   \n5                     0                       0            True        False   \n\n    A/NP  \n1  False  \n2   True  \n3   True  \n4   True  \n5   True  \n\n[5 rows x 38 columns]",
      "text/html": "<div>\n<style scoped>\n    .dataframe tbody tr th:only-of-type {\n        vertical-align: middle;\n    }\n\n    .dataframe tbody tr th {\n        vertical-align: top;\n    }\n\n    .dataframe thead th {\n        text-align: right;\n    }\n</style>\n<table border=\"1\" class=\"dataframe\">\n  <thead>\n    <tr style=\"text-align: right;\">\n      <th></th>\n      <th>FACE_VALUE_AMOUNT</th>\n      <th>NUM_OF_VIOLATIONS</th>\n      <th>QUANTITY_OF_WATER_DIVERTED</th>\n      <th>USE_COUNT</th>\n      <th>USE_POPULATION</th>\n      <th>NUMBER_OF_PROTESTS</th>\n      <th>COUNT_NPO_OR_OTHER</th>\n      <th>LATITUDE</th>\n      <th>PRIMARY_OWNER_ENTITY_TYPE_Estate</th>\n      <th>PRIMARY_OWNER_ENTITY_TYPE_Federal Government</th>\n      <th>...</th>\n      <th>USE_CODE_Mining</th>\n      <th>USE_CODE_Municipal</th>\n      <th>USE_CODE_Other</th>\n      <th>USE_CODE_Power</th>\n      <th>USE_CODE_Recreational</th>\n      <th>USE_CODE_Snow Making</th>\n      <th>USE_CODE_Stockwatering</th>\n      <th>QUANT_INCLUDED</th>\n      <th>USE_POP_INC</th>\n      <th>A/NP</th>\n    </tr>\n  </thead>\n  <tbody>\n    <tr>\n      <th>1</th>\n      <td>-0.040209</td>\n      <td>-0.134215</td>\n      <td>NaN</td>\n      <td>-0.266105</td>\n      <td>0.0</td>\n      <td>-0.063596</td>\n      <td>-0.541558</td>\n      <td>-2.808115</td>\n      <td>0</td>\n      <td>0</td>\n      <td>...</td>\n      <td>0</td>\n      <td>0</td>\n      <td>0</td>\n      <td>0</td>\n      <td>0</td>\n      <td>0</td>\n      <td>0</td>\n      <td>True</td>\n      <td>False</td>\n      <td>False</td>\n    </tr>\n    <tr>\n      <th>2</th>\n      <td>-0.040418</td>\n      <td>3.326370</td>\n      <td>NaN</td>\n      <td>0.659908</td>\n      <td>0.0</td>\n      <td>-0.063596</td>\n      <td>0.634210</td>\n      <td>-1.821476</td>\n      <td>0</td>\n      <td>0</td>\n      <td>...</td>\n      <td>0</td>\n      <td>0</td>\n      <td>0</td>\n      <td>0</td>\n      <td>0</td>\n      <td>0</td>\n      <td>0</td>\n      <td>True</td>\n      <td>False</td>\n      <td>True</td>\n    </tr>\n    <tr>\n      <th>3</th>\n      <td>0.334877</td>\n      <td>-0.134215</td>\n      <td>NaN</td>\n      <td>0.659908</td>\n      <td>NaN</td>\n      <td>-0.063596</td>\n      <td>1.222094</td>\n      <td>0.799689</td>\n      <td>0</td>\n      <td>0</td>\n      <td>...</td>\n      <td>0</td>\n      <td>0</td>\n      <td>0</td>\n      <td>0</td>\n      <td>0</td>\n      <td>0</td>\n      <td>0</td>\n      <td>True</td>\n      <td>True</td>\n      <td>True</td>\n    </tr>\n    <tr>\n      <th>4</th>\n      <td>0.269597</td>\n      <td>3.326370</td>\n      <td>NaN</td>\n      <td>1.585921</td>\n      <td>0.0</td>\n      <td>-0.063596</td>\n      <td>-0.541558</td>\n      <td>-0.603169</td>\n      <td>0</td>\n      <td>1</td>\n      <td>...</td>\n      <td>0</td>\n      <td>0</td>\n      <td>0</td>\n      <td>0</td>\n      <td>0</td>\n      <td>0</td>\n      <td>0</td>\n      <td>True</td>\n      <td>False</td>\n      <td>True</td>\n    </tr>\n    <tr>\n      <th>5</th>\n      <td>-0.040491</td>\n      <td>-0.134215</td>\n      <td>NaN</td>\n      <td>-0.266105</td>\n      <td>0.0</td>\n      <td>-0.063596</td>\n      <td>1.809978</td>\n      <td>0.310917</td>\n      <td>0</td>\n      <td>0</td>\n      <td>...</td>\n      <td>0</td>\n      <td>0</td>\n      <td>0</td>\n      <td>0</td>\n      <td>0</td>\n      <td>0</td>\n      <td>0</td>\n      <td>True</td>\n      <td>False</td>\n      <td>True</td>\n    </tr>\n  </tbody>\n</table>\n<p>5 rows × 38 columns</p>\n</div>"
     },
     "metadata": {}
    }
   ],
   "execution_count": null
  },
  {
   "cell_type": "code",
   "metadata": {
    "cell_id": "98d5087b0c4f4a169ccd26520eb77500",
    "tags": [],
    "deepnote_to_be_reexecuted": false,
    "source_hash": "413d76e",
    "execution_start": 1651705693792,
    "execution_millis": 149,
    "deepnote_cell_type": "code",
    "deepnote_cell_height": 467
   },
   "source": "val['QUANT_INCLUDED'] = pd.isnull(val['QUANTITY_OF_WATER_DIVERTED'])\nval['USE_POP_INC'] = pd.isnull(val['USE_POPULATION'])\n\nval.insert(len(val.columns) - 1, 'A/NP', val.pop('A/NP'))\nval.head(5)",
   "outputs": [
    {
     "output_type": "execute_result",
     "execution_count": 21,
     "data": {
      "application/vnd.deepnote.dataframe.v3+json": {
       "column_count": 38,
       "row_count": 5,
       "columns": [
        {
         "name": "FACE_VALUE_AMOUNT",
         "dtype": "float64",
         "stats": {
          "unique_count": 5,
          "nan_count": 0,
          "min": "-0.11520473539447008",
          "max": "3.4331748078764694",
          "histogram": [
           {
            "bin_start": -0.11520473539447008,
            "bin_end": 0.2396332189326239,
            "count": 4
           },
           {
            "bin_start": 0.2396332189326239,
            "bin_end": 0.5944711732597179,
            "count": 0
           },
           {
            "bin_start": 0.5944711732597179,
            "bin_end": 0.9493091275868117,
            "count": 0
           },
           {
            "bin_start": 0.9493091275868117,
            "bin_end": 1.3041470819139058,
            "count": 0
           },
           {
            "bin_start": 1.3041470819139058,
            "bin_end": 1.658985036241,
            "count": 0
           },
           {
            "bin_start": 1.658985036241,
            "bin_end": 2.0138229905680936,
            "count": 0
           },
           {
            "bin_start": 2.0138229905680936,
            "bin_end": 2.3686609448951876,
            "count": 0
           },
           {
            "bin_start": 2.3686609448951876,
            "bin_end": 2.7234988992222817,
            "count": 0
           },
           {
            "bin_start": 2.7234988992222817,
            "bin_end": 3.078336853549376,
            "count": 0
           },
           {
            "bin_start": 3.078336853549376,
            "bin_end": 3.4331748078764694,
            "count": 1
           }
          ]
         }
        },
        {
         "name": "NUM_OF_VIOLATIONS",
         "dtype": "float64",
         "stats": {
          "unique_count": 2,
          "nan_count": 0,
          "min": "-0.15240496695287173",
          "max": "3.7099880583509535",
          "histogram": [
           {
            "bin_start": -0.15240496695287173,
            "bin_end": 0.2338343355775108,
            "count": 4
           },
           {
            "bin_start": 0.2338343355775108,
            "bin_end": 0.6200736381078933,
            "count": 0
           },
           {
            "bin_start": 0.6200736381078933,
            "bin_end": 1.0063129406382758,
            "count": 0
           },
           {
            "bin_start": 1.0063129406382758,
            "bin_end": 1.3925522431686583,
            "count": 0
           },
           {
            "bin_start": 1.3925522431686583,
            "bin_end": 1.7787915456990409,
            "count": 0
           },
           {
            "bin_start": 1.7787915456990409,
            "bin_end": 2.1650308482294234,
            "count": 0
           },
           {
            "bin_start": 2.1650308482294234,
            "bin_end": 2.5512701507598057,
            "count": 0
           },
           {
            "bin_start": 2.5512701507598057,
            "bin_end": 2.9375094532901884,
            "count": 0
           },
           {
            "bin_start": 2.9375094532901884,
            "bin_end": 3.323748755820571,
            "count": 0
           },
           {
            "bin_start": 3.323748755820571,
            "bin_end": 3.7099880583509535,
            "count": 1
           }
          ]
         }
        },
        {
         "name": "QUANTITY_OF_WATER_DIVERTED",
         "dtype": "float64",
         "stats": {
          "unique_count": 0,
          "nan_count": 5,
          "min": null,
          "max": null,
          "histogram": [
           {
            "bin_start": 0,
            "bin_end": 0.1,
            "count": 0
           },
           {
            "bin_start": 0.1,
            "bin_end": 0.2,
            "count": 0
           },
           {
            "bin_start": 0.2,
            "bin_end": 0.30000000000000004,
            "count": 0
           },
           {
            "bin_start": 0.30000000000000004,
            "bin_end": 0.4,
            "count": 0
           },
           {
            "bin_start": 0.4,
            "bin_end": 0.5,
            "count": 0
           },
           {
            "bin_start": 0.5,
            "bin_end": 0.6000000000000001,
            "count": 0
           },
           {
            "bin_start": 0.6000000000000001,
            "bin_end": 0.7000000000000001,
            "count": 0
           },
           {
            "bin_start": 0.7000000000000001,
            "bin_end": 0.8,
            "count": 0
           },
           {
            "bin_start": 0.8,
            "bin_end": 0.9,
            "count": 0
           },
           {
            "bin_start": 0.9,
            "bin_end": 1,
            "count": 0
           }
          ]
         }
        },
        {
         "name": "USE_COUNT",
         "dtype": "float64",
         "stats": {
          "unique_count": 2,
          "nan_count": 0,
          "min": "-0.5538668200382517",
          "max": "0.10738234266047744",
          "histogram": [
           {
            "bin_start": -0.5538668200382517,
            "bin_end": -0.4877419037683788,
            "count": 2
           },
           {
            "bin_start": -0.4877419037683788,
            "bin_end": -0.4216169874985059,
            "count": 0
           },
           {
            "bin_start": -0.4216169874985059,
            "bin_end": -0.355492071228633,
            "count": 0
           },
           {
            "bin_start": -0.355492071228633,
            "bin_end": -0.2893671549587601,
            "count": 0
           },
           {
            "bin_start": -0.2893671549587601,
            "bin_end": -0.22324223868888715,
            "count": 0
           },
           {
            "bin_start": -0.22324223868888715,
            "bin_end": -0.15711732241901427,
            "count": 0
           },
           {
            "bin_start": -0.15711732241901427,
            "bin_end": -0.09099240614914139,
            "count": 0
           },
           {
            "bin_start": -0.09099240614914139,
            "bin_end": -0.024867489879268456,
            "count": 0
           },
           {
            "bin_start": -0.024867489879268456,
            "bin_end": 0.04125742639060448,
            "count": 0
           },
           {
            "bin_start": 0.04125742639060448,
            "bin_end": 0.10738234266047744,
            "count": 3
           }
          ]
         }
        },
        {
         "name": "USE_POPULATION",
         "dtype": "float64",
         "stats": {
          "unique_count": 1,
          "nan_count": 0,
          "min": "0.0",
          "max": "0.0",
          "histogram": [
           {
            "bin_start": -0.5,
            "bin_end": -0.4,
            "count": 0
           },
           {
            "bin_start": -0.4,
            "bin_end": -0.3,
            "count": 0
           },
           {
            "bin_start": -0.3,
            "bin_end": -0.19999999999999996,
            "count": 0
           },
           {
            "bin_start": -0.19999999999999996,
            "bin_end": -0.09999999999999998,
            "count": 0
           },
           {
            "bin_start": -0.09999999999999998,
            "bin_end": 0,
            "count": 0
           },
           {
            "bin_start": 0,
            "bin_end": 0.10000000000000009,
            "count": 5
           },
           {
            "bin_start": 0.10000000000000009,
            "bin_end": 0.20000000000000007,
            "count": 0
           },
           {
            "bin_start": 0.20000000000000007,
            "bin_end": 0.30000000000000004,
            "count": 0
           },
           {
            "bin_start": 0.30000000000000004,
            "bin_end": 0.4,
            "count": 0
           },
           {
            "bin_start": 0.4,
            "bin_end": 0.5,
            "count": 0
           }
          ]
         }
        },
        {
         "name": "NUMBER_OF_PROTESTS",
         "dtype": "float64",
         "stats": {
          "unique_count": 2,
          "nan_count": 0,
          "min": "-0.311803566668875",
          "max": "0.44637483236662984",
          "histogram": [
           {
            "bin_start": -0.311803566668875,
            "bin_end": -0.2359857267653245,
            "count": 4
           },
           {
            "bin_start": -0.2359857267653245,
            "bin_end": -0.16016788686177402,
            "count": 0
           },
           {
            "bin_start": -0.16016788686177402,
            "bin_end": -0.08435004695822354,
            "count": 0
           },
           {
            "bin_start": -0.08435004695822354,
            "bin_end": -0.008532207054673058,
            "count": 0
           },
           {
            "bin_start": -0.008532207054673058,
            "bin_end": 0.06728563284887745,
            "count": 0
           },
           {
            "bin_start": 0.06728563284887745,
            "bin_end": 0.1431034727524279,
            "count": 0
           },
           {
            "bin_start": 0.1431034727524279,
            "bin_end": 0.21892131265597836,
            "count": 0
           },
           {
            "bin_start": 0.21892131265597836,
            "bin_end": 0.29473915255952887,
            "count": 0
           },
           {
            "bin_start": 0.29473915255952887,
            "bin_end": 0.3705569924630794,
            "count": 0
           },
           {
            "bin_start": 0.3705569924630794,
            "bin_end": 0.44637483236662984,
            "count": 1
           }
          ]
         }
        },
        {
         "name": "COUNT_NPO_OR_OTHER",
         "dtype": "float64",
         "stats": {
          "unique_count": 3,
          "nan_count": 0,
          "min": "-0.5803677405261058",
          "max": "0.7712052220844512",
          "histogram": [
           {
            "bin_start": -0.5803677405261058,
            "bin_end": -0.44521044426505013,
            "count": 3
           },
           {
            "bin_start": -0.44521044426505013,
            "bin_end": -0.3100531480039944,
            "count": 0
           },
           {
            "bin_start": -0.3100531480039944,
            "bin_end": -0.1748958517429387,
            "count": 1
           },
           {
            "bin_start": -0.1748958517429387,
            "bin_end": -0.03973855548188299,
            "count": 0
           },
           {
            "bin_start": -0.03973855548188299,
            "bin_end": 0.09541874077917267,
            "count": 0
           },
           {
            "bin_start": 0.09541874077917267,
            "bin_end": 0.23057603704022844,
            "count": 0
           },
           {
            "bin_start": 0.23057603704022844,
            "bin_end": 0.3657333333012842,
            "count": 0
           },
           {
            "bin_start": 0.3657333333012842,
            "bin_end": 0.5008906295623399,
            "count": 0
           },
           {
            "bin_start": 0.5008906295623399,
            "bin_end": 0.6360479258233955,
            "count": 0
           },
           {
            "bin_start": 0.6360479258233955,
            "bin_end": 0.7712052220844512,
            "count": 1
           }
          ]
         }
        },
        {
         "name": "LATITUDE",
         "dtype": "float64",
         "stats": {
          "unique_count": 5,
          "nan_count": 0,
          "min": "-4.036778214998",
          "max": "1.0498600114295296",
          "histogram": [
           {
            "bin_start": -4.036778214998,
            "bin_end": -3.528114392355247,
            "count": 1
           },
           {
            "bin_start": -3.528114392355247,
            "bin_end": -3.019450569712494,
            "count": 1
           },
           {
            "bin_start": -3.019450569712494,
            "bin_end": -2.5107867470697407,
            "count": 0
           },
           {
            "bin_start": -2.5107867470697407,
            "bin_end": -2.002122924426988,
            "count": 0
           },
           {
            "bin_start": -2.002122924426988,
            "bin_end": -1.493459101784235,
            "count": 0
           },
           {
            "bin_start": -1.493459101784235,
            "bin_end": -0.9847952791414816,
            "count": 1
           },
           {
            "bin_start": -0.9847952791414816,
            "bin_end": -0.4761314564987287,
            "count": 1
           },
           {
            "bin_start": -0.4761314564987287,
            "bin_end": 0.032532366144024216,
            "count": 0
           },
           {
            "bin_start": 0.032532366144024216,
            "bin_end": 0.5411961887867776,
            "count": 0
           },
           {
            "bin_start": 0.5411961887867776,
            "bin_end": 1.0498600114295296,
            "count": 1
           }
          ]
         }
        },
        {
         "name": "PRIMARY_OWNER_ENTITY_TYPE_Estate",
         "dtype": "uint8",
         "stats": {
          "unique_count": 1,
          "nan_count": 0,
          "min": "0",
          "max": "0",
          "histogram": [
           {
            "bin_start": -0.5,
            "bin_end": -0.4,
            "count": 0
           },
           {
            "bin_start": -0.4,
            "bin_end": -0.3,
            "count": 0
           },
           {
            "bin_start": -0.3,
            "bin_end": -0.19999999999999996,
            "count": 0
           },
           {
            "bin_start": -0.19999999999999996,
            "bin_end": -0.09999999999999998,
            "count": 0
           },
           {
            "bin_start": -0.09999999999999998,
            "bin_end": 0,
            "count": 0
           },
           {
            "bin_start": 0,
            "bin_end": 0.10000000000000009,
            "count": 5
           },
           {
            "bin_start": 0.10000000000000009,
            "bin_end": 0.20000000000000007,
            "count": 0
           },
           {
            "bin_start": 0.20000000000000007,
            "bin_end": 0.30000000000000004,
            "count": 0
           },
           {
            "bin_start": 0.30000000000000004,
            "bin_end": 0.4,
            "count": 0
           },
           {
            "bin_start": 0.4,
            "bin_end": 0.5,
            "count": 0
           }
          ]
         }
        },
        {
         "name": "PRIMARY_OWNER_ENTITY_TYPE_Federal Government",
         "dtype": "uint8",
         "stats": {
          "unique_count": 2,
          "nan_count": 0,
          "min": "0",
          "max": "1",
          "histogram": [
           {
            "bin_start": 0,
            "bin_end": 0.1,
            "count": 4
           },
           {
            "bin_start": 0.1,
            "bin_end": 0.2,
            "count": 0
           },
           {
            "bin_start": 0.2,
            "bin_end": 0.30000000000000004,
            "count": 0
           },
           {
            "bin_start": 0.30000000000000004,
            "bin_end": 0.4,
            "count": 0
           },
           {
            "bin_start": 0.4,
            "bin_end": 0.5,
            "count": 0
           },
           {
            "bin_start": 0.5,
            "bin_end": 0.6000000000000001,
            "count": 0
           },
           {
            "bin_start": 0.6000000000000001,
            "bin_end": 0.7000000000000001,
            "count": 0
           },
           {
            "bin_start": 0.7000000000000001,
            "bin_end": 0.8,
            "count": 0
           },
           {
            "bin_start": 0.8,
            "bin_end": 0.9,
            "count": 0
           },
           {
            "bin_start": 0.9,
            "bin_end": 1,
            "count": 1
           }
          ]
         }
        },
        {
         "name": "PRIMARY_OWNER_ENTITY_TYPE_Government (State/Municipal)",
         "dtype": "uint8",
         "stats": {
          "unique_count": 2,
          "nan_count": 0,
          "min": "0",
          "max": "1",
          "histogram": [
           {
            "bin_start": 0,
            "bin_end": 0.1,
            "count": 4
           },
           {
            "bin_start": 0.1,
            "bin_end": 0.2,
            "count": 0
           },
           {
            "bin_start": 0.2,
            "bin_end": 0.30000000000000004,
            "count": 0
           },
           {
            "bin_start": 0.30000000000000004,
            "bin_end": 0.4,
            "count": 0
           },
           {
            "bin_start": 0.4,
            "bin_end": 0.5,
            "count": 0
           },
           {
            "bin_start": 0.5,
            "bin_end": 0.6000000000000001,
            "count": 0
           },
           {
            "bin_start": 0.6000000000000001,
            "bin_end": 0.7000000000000001,
            "count": 0
           },
           {
            "bin_start": 0.7000000000000001,
            "bin_end": 0.8,
            "count": 0
           },
           {
            "bin_start": 0.8,
            "bin_end": 0.9,
            "count": 0
           },
           {
            "bin_start": 0.9,
            "bin_end": 1,
            "count": 1
           }
          ]
         }
        },
        {
         "name": "PRIMARY_OWNER_ENTITY_TYPE_Individual",
         "dtype": "uint8",
         "stats": {
          "unique_count": 2,
          "nan_count": 0,
          "min": "0",
          "max": "1",
          "histogram": [
           {
            "bin_start": 0,
            "bin_end": 0.1,
            "count": 4
           },
           {
            "bin_start": 0.1,
            "bin_end": 0.2,
            "count": 0
           },
           {
            "bin_start": 0.2,
            "bin_end": 0.30000000000000004,
            "count": 0
           },
           {
            "bin_start": 0.30000000000000004,
            "bin_end": 0.4,
            "count": 0
           },
           {
            "bin_start": 0.4,
            "bin_end": 0.5,
            "count": 0
           },
           {
            "bin_start": 0.5,
            "bin_end": 0.6000000000000001,
            "count": 0
           },
           {
            "bin_start": 0.6000000000000001,
            "bin_end": 0.7000000000000001,
            "count": 0
           },
           {
            "bin_start": 0.7000000000000001,
            "bin_end": 0.8,
            "count": 0
           },
           {
            "bin_start": 0.8,
            "bin_end": 0.9,
            "count": 0
           },
           {
            "bin_start": 0.9,
            "bin_end": 1,
            "count": 1
           }
          ]
         }
        },
        {
         "name": "PRIMARY_OWNER_ENTITY_TYPE_Limited Liability Company",
         "dtype": "uint8",
         "stats": {
          "unique_count": 2,
          "nan_count": 0,
          "min": "0",
          "max": "1",
          "histogram": [
           {
            "bin_start": 0,
            "bin_end": 0.1,
            "count": 4
           },
           {
            "bin_start": 0.1,
            "bin_end": 0.2,
            "count": 0
           },
           {
            "bin_start": 0.2,
            "bin_end": 0.30000000000000004,
            "count": 0
           },
           {
            "bin_start": 0.30000000000000004,
            "bin_end": 0.4,
            "count": 0
           },
           {
            "bin_start": 0.4,
            "bin_end": 0.5,
            "count": 0
           },
           {
            "bin_start": 0.5,
            "bin_end": 0.6000000000000001,
            "count": 0
           },
           {
            "bin_start": 0.6000000000000001,
            "bin_end": 0.7000000000000001,
            "count": 0
           },
           {
            "bin_start": 0.7000000000000001,
            "bin_end": 0.8,
            "count": 0
           },
           {
            "bin_start": 0.8,
            "bin_end": 0.9,
            "count": 0
           },
           {
            "bin_start": 0.9,
            "bin_end": 1,
            "count": 1
           }
          ]
         }
        },
        {
         "name": "PRIMARY_OWNER_ENTITY_TYPE_Limited Partner",
         "dtype": "uint8",
         "stats": {
          "unique_count": 1,
          "nan_count": 0,
          "min": "0",
          "max": "0",
          "histogram": [
           {
            "bin_start": -0.5,
            "bin_end": -0.4,
            "count": 0
           },
           {
            "bin_start": -0.4,
            "bin_end": -0.3,
            "count": 0
           },
           {
            "bin_start": -0.3,
            "bin_end": -0.19999999999999996,
            "count": 0
           },
           {
            "bin_start": -0.19999999999999996,
            "bin_end": -0.09999999999999998,
            "count": 0
           },
           {
            "bin_start": -0.09999999999999998,
            "bin_end": 0,
            "count": 0
           },
           {
            "bin_start": 0,
            "bin_end": 0.10000000000000009,
            "count": 5
           },
           {
            "bin_start": 0.10000000000000009,
            "bin_end": 0.20000000000000007,
            "count": 0
           },
           {
            "bin_start": 0.20000000000000007,
            "bin_end": 0.30000000000000004,
            "count": 0
           },
           {
            "bin_start": 0.30000000000000004,
            "bin_end": 0.4,
            "count": 0
           },
           {
            "bin_start": 0.4,
            "bin_end": 0.5,
            "count": 0
           }
          ]
         }
        },
        {
         "name": "PRIMARY_OWNER_ENTITY_TYPE_Organization/Association",
         "dtype": "uint8",
         "stats": {
          "unique_count": 2,
          "nan_count": 0,
          "min": "0",
          "max": "1",
          "histogram": [
           {
            "bin_start": 0,
            "bin_end": 0.1,
            "count": 4
           },
           {
            "bin_start": 0.1,
            "bin_end": 0.2,
            "count": 0
           },
           {
            "bin_start": 0.2,
            "bin_end": 0.30000000000000004,
            "count": 0
           },
           {
            "bin_start": 0.30000000000000004,
            "bin_end": 0.4,
            "count": 0
           },
           {
            "bin_start": 0.4,
            "bin_end": 0.5,
            "count": 0
           },
           {
            "bin_start": 0.5,
            "bin_end": 0.6000000000000001,
            "count": 0
           },
           {
            "bin_start": 0.6000000000000001,
            "bin_end": 0.7000000000000001,
            "count": 0
           },
           {
            "bin_start": 0.7000000000000001,
            "bin_end": 0.8,
            "count": 0
           },
           {
            "bin_start": 0.8,
            "bin_end": 0.9,
            "count": 0
           },
           {
            "bin_start": 0.9,
            "bin_end": 1,
            "count": 1
           }
          ]
         }
        },
        {
         "name": "PRIMARY_OWNER_ENTITY_TYPE_Partnership or Co-owners",
         "dtype": "uint8",
         "stats": {
          "unique_count": 1,
          "nan_count": 0,
          "min": "0",
          "max": "0",
          "histogram": [
           {
            "bin_start": -0.5,
            "bin_end": -0.4,
            "count": 0
           },
           {
            "bin_start": -0.4,
            "bin_end": -0.3,
            "count": 0
           },
           {
            "bin_start": -0.3,
            "bin_end": -0.19999999999999996,
            "count": 0
           },
           {
            "bin_start": -0.19999999999999996,
            "bin_end": -0.09999999999999998,
            "count": 0
           },
           {
            "bin_start": -0.09999999999999998,
            "bin_end": 0,
            "count": 0
           },
           {
            "bin_start": 0,
            "bin_end": 0.10000000000000009,
            "count": 5
           },
           {
            "bin_start": 0.10000000000000009,
            "bin_end": 0.20000000000000007,
            "count": 0
           },
           {
            "bin_start": 0.20000000000000007,
            "bin_end": 0.30000000000000004,
            "count": 0
           },
           {
            "bin_start": 0.30000000000000004,
            "bin_end": 0.4,
            "count": 0
           },
           {
            "bin_start": 0.4,
            "bin_end": 0.5,
            "count": 0
           }
          ]
         }
        },
        {
         "name": "PRIMARY_OWNER_ENTITY_TYPE_Receivership/Fiduciary",
         "dtype": "uint8",
         "stats": {
          "unique_count": 1,
          "nan_count": 0,
          "min": "0",
          "max": "0",
          "histogram": [
           {
            "bin_start": -0.5,
            "bin_end": -0.4,
            "count": 0
           },
           {
            "bin_start": -0.4,
            "bin_end": -0.3,
            "count": 0
           },
           {
            "bin_start": -0.3,
            "bin_end": -0.19999999999999996,
            "count": 0
           },
           {
            "bin_start": -0.19999999999999996,
            "bin_end": -0.09999999999999998,
            "count": 0
           },
           {
            "bin_start": -0.09999999999999998,
            "bin_end": 0,
            "count": 0
           },
           {
            "bin_start": 0,
            "bin_end": 0.10000000000000009,
            "count": 5
           },
           {
            "bin_start": 0.10000000000000009,
            "bin_end": 0.20000000000000007,
            "count": 0
           },
           {
            "bin_start": 0.20000000000000007,
            "bin_end": 0.30000000000000004,
            "count": 0
           },
           {
            "bin_start": 0.30000000000000004,
            "bin_end": 0.4,
            "count": 0
           },
           {
            "bin_start": 0.4,
            "bin_end": 0.5,
            "count": 0
           }
          ]
         }
        },
        {
         "name": "PRIMARY_OWNER_ENTITY_TYPE_Trust",
         "dtype": "uint8",
         "stats": {
          "unique_count": 1,
          "nan_count": 0,
          "min": "0",
          "max": "0",
          "histogram": [
           {
            "bin_start": -0.5,
            "bin_end": -0.4,
            "count": 0
           },
           {
            "bin_start": -0.4,
            "bin_end": -0.3,
            "count": 0
           },
           {
            "bin_start": -0.3,
            "bin_end": -0.19999999999999996,
            "count": 0
           },
           {
            "bin_start": -0.19999999999999996,
            "bin_end": -0.09999999999999998,
            "count": 0
           },
           {
            "bin_start": -0.09999999999999998,
            "bin_end": 0,
            "count": 0
           },
           {
            "bin_start": 0,
            "bin_end": 0.10000000000000009,
            "count": 5
           },
           {
            "bin_start": 0.10000000000000009,
            "bin_end": 0.20000000000000007,
            "count": 0
           },
           {
            "bin_start": 0.20000000000000007,
            "bin_end": 0.30000000000000004,
            "count": 0
           },
           {
            "bin_start": 0.30000000000000004,
            "bin_end": 0.4,
            "count": 0
           },
           {
            "bin_start": 0.4,
            "bin_end": 0.5,
            "count": 0
           }
          ]
         }
        },
        {
         "name": "USE_CODE_Aquaculture",
         "dtype": "uint8",
         "stats": {
          "unique_count": 1,
          "nan_count": 0,
          "min": "0",
          "max": "0",
          "histogram": [
           {
            "bin_start": -0.5,
            "bin_end": -0.4,
            "count": 0
           },
           {
            "bin_start": -0.4,
            "bin_end": -0.3,
            "count": 0
           },
           {
            "bin_start": -0.3,
            "bin_end": -0.19999999999999996,
            "count": 0
           },
           {
            "bin_start": -0.19999999999999996,
            "bin_end": -0.09999999999999998,
            "count": 0
           },
           {
            "bin_start": -0.09999999999999998,
            "bin_end": 0,
            "count": 0
           },
           {
            "bin_start": 0,
            "bin_end": 0.10000000000000009,
            "count": 5
           },
           {
            "bin_start": 0.10000000000000009,
            "bin_end": 0.20000000000000007,
            "count": 0
           },
           {
            "bin_start": 0.20000000000000007,
            "bin_end": 0.30000000000000004,
            "count": 0
           },
           {
            "bin_start": 0.30000000000000004,
            "bin_end": 0.4,
            "count": 0
           },
           {
            "bin_start": 0.4,
            "bin_end": 0.5,
            "count": 0
           }
          ]
         }
        },
        {
         "name": "USE_CODE_Domestic",
         "dtype": "uint8",
         "stats": {
          "unique_count": 2,
          "nan_count": 0,
          "min": "0",
          "max": "1",
          "histogram": [
           {
            "bin_start": 0,
            "bin_end": 0.1,
            "count": 3
           },
           {
            "bin_start": 0.1,
            "bin_end": 0.2,
            "count": 0
           },
           {
            "bin_start": 0.2,
            "bin_end": 0.30000000000000004,
            "count": 0
           },
           {
            "bin_start": 0.30000000000000004,
            "bin_end": 0.4,
            "count": 0
           },
           {
            "bin_start": 0.4,
            "bin_end": 0.5,
            "count": 0
           },
           {
            "bin_start": 0.5,
            "bin_end": 0.6000000000000001,
            "count": 0
           },
           {
            "bin_start": 0.6000000000000001,
            "bin_end": 0.7000000000000001,
            "count": 0
           },
           {
            "bin_start": 0.7000000000000001,
            "bin_end": 0.8,
            "count": 0
           },
           {
            "bin_start": 0.8,
            "bin_end": 0.9,
            "count": 0
           },
           {
            "bin_start": 0.9,
            "bin_end": 1,
            "count": 2
           }
          ]
         }
        },
        {
         "name": "USE_CODE_Dust Control",
         "dtype": "uint8",
         "stats": {
          "unique_count": 2,
          "nan_count": 0,
          "min": "0",
          "max": "1",
          "histogram": [
           {
            "bin_start": 0,
            "bin_end": 0.1,
            "count": 4
           },
           {
            "bin_start": 0.1,
            "bin_end": 0.2,
            "count": 0
           },
           {
            "bin_start": 0.2,
            "bin_end": 0.30000000000000004,
            "count": 0
           },
           {
            "bin_start": 0.30000000000000004,
            "bin_end": 0.4,
            "count": 0
           },
           {
            "bin_start": 0.4,
            "bin_end": 0.5,
            "count": 0
           },
           {
            "bin_start": 0.5,
            "bin_end": 0.6000000000000001,
            "count": 0
           },
           {
            "bin_start": 0.6000000000000001,
            "bin_end": 0.7000000000000001,
            "count": 0
           },
           {
            "bin_start": 0.7000000000000001,
            "bin_end": 0.8,
            "count": 0
           },
           {
            "bin_start": 0.8,
            "bin_end": 0.9,
            "count": 0
           },
           {
            "bin_start": 0.9,
            "bin_end": 1,
            "count": 1
           }
          ]
         }
        },
        {
         "name": "USE_CODE_Fire Protection",
         "dtype": "uint8",
         "stats": {
          "unique_count": 1,
          "nan_count": 0,
          "min": "0",
          "max": "0",
          "histogram": [
           {
            "bin_start": -0.5,
            "bin_end": -0.4,
            "count": 0
           },
           {
            "bin_start": -0.4,
            "bin_end": -0.3,
            "count": 0
           },
           {
            "bin_start": -0.3,
            "bin_end": -0.19999999999999996,
            "count": 0
           },
           {
            "bin_start": -0.19999999999999996,
            "bin_end": -0.09999999999999998,
            "count": 0
           },
           {
            "bin_start": -0.09999999999999998,
            "bin_end": 0,
            "count": 0
           },
           {
            "bin_start": 0,
            "bin_end": 0.10000000000000009,
            "count": 5
           },
           {
            "bin_start": 0.10000000000000009,
            "bin_end": 0.20000000000000007,
            "count": 0
           },
           {
            "bin_start": 0.20000000000000007,
            "bin_end": 0.30000000000000004,
            "count": 0
           },
           {
            "bin_start": 0.30000000000000004,
            "bin_end": 0.4,
            "count": 0
           },
           {
            "bin_start": 0.4,
            "bin_end": 0.5,
            "count": 0
           }
          ]
         }
        },
        {
         "name": "USE_CODE_Fish and Wildlife Preservation and Enhancement",
         "dtype": "uint8",
         "stats": {
          "unique_count": 1,
          "nan_count": 0,
          "min": "0",
          "max": "0",
          "histogram": [
           {
            "bin_start": -0.5,
            "bin_end": -0.4,
            "count": 0
           },
           {
            "bin_start": -0.4,
            "bin_end": -0.3,
            "count": 0
           },
           {
            "bin_start": -0.3,
            "bin_end": -0.19999999999999996,
            "count": 0
           },
           {
            "bin_start": -0.19999999999999996,
            "bin_end": -0.09999999999999998,
            "count": 0
           },
           {
            "bin_start": -0.09999999999999998,
            "bin_end": 0,
            "count": 0
           },
           {
            "bin_start": 0,
            "bin_end": 0.10000000000000009,
            "count": 5
           },
           {
            "bin_start": 0.10000000000000009,
            "bin_end": 0.20000000000000007,
            "count": 0
           },
           {
            "bin_start": 0.20000000000000007,
            "bin_end": 0.30000000000000004,
            "count": 0
           },
           {
            "bin_start": 0.30000000000000004,
            "bin_end": 0.4,
            "count": 0
           },
           {
            "bin_start": 0.4,
            "bin_end": 0.5,
            "count": 0
           }
          ]
         }
        },
        {
         "name": "USE_CODE_Frost Protection",
         "dtype": "uint8",
         "stats": {
          "unique_count": 1,
          "nan_count": 0,
          "min": "0",
          "max": "0",
          "histogram": [
           {
            "bin_start": -0.5,
            "bin_end": -0.4,
            "count": 0
           },
           {
            "bin_start": -0.4,
            "bin_end": -0.3,
            "count": 0
           },
           {
            "bin_start": -0.3,
            "bin_end": -0.19999999999999996,
            "count": 0
           },
           {
            "bin_start": -0.19999999999999996,
            "bin_end": -0.09999999999999998,
            "count": 0
           },
           {
            "bin_start": -0.09999999999999998,
            "bin_end": 0,
            "count": 0
           },
           {
            "bin_start": 0,
            "bin_end": 0.10000000000000009,
            "count": 5
           },
           {
            "bin_start": 0.10000000000000009,
            "bin_end": 0.20000000000000007,
            "count": 0
           },
           {
            "bin_start": 0.20000000000000007,
            "bin_end": 0.30000000000000004,
            "count": 0
           },
           {
            "bin_start": 0.30000000000000004,
            "bin_end": 0.4,
            "count": 0
           },
           {
            "bin_start": 0.4,
            "bin_end": 0.5,
            "count": 0
           }
          ]
         }
        },
        {
         "name": "USE_CODE_Heat Control",
         "dtype": "uint8",
         "stats": {
          "unique_count": 1,
          "nan_count": 0,
          "min": "0",
          "max": "0",
          "histogram": [
           {
            "bin_start": -0.5,
            "bin_end": -0.4,
            "count": 0
           },
           {
            "bin_start": -0.4,
            "bin_end": -0.3,
            "count": 0
           },
           {
            "bin_start": -0.3,
            "bin_end": -0.19999999999999996,
            "count": 0
           },
           {
            "bin_start": -0.19999999999999996,
            "bin_end": -0.09999999999999998,
            "count": 0
           },
           {
            "bin_start": -0.09999999999999998,
            "bin_end": 0,
            "count": 0
           },
           {
            "bin_start": 0,
            "bin_end": 0.10000000000000009,
            "count": 5
           },
           {
            "bin_start": 0.10000000000000009,
            "bin_end": 0.20000000000000007,
            "count": 0
           },
           {
            "bin_start": 0.20000000000000007,
            "bin_end": 0.30000000000000004,
            "count": 0
           },
           {
            "bin_start": 0.30000000000000004,
            "bin_end": 0.4,
            "count": 0
           },
           {
            "bin_start": 0.4,
            "bin_end": 0.5,
            "count": 0
           }
          ]
         }
        },
        {
         "name": "USE_CODE_Incidental Power",
         "dtype": "uint8",
         "stats": {
          "unique_count": 1,
          "nan_count": 0,
          "min": "0",
          "max": "0",
          "histogram": [
           {
            "bin_start": -0.5,
            "bin_end": -0.4,
            "count": 0
           },
           {
            "bin_start": -0.4,
            "bin_end": -0.3,
            "count": 0
           },
           {
            "bin_start": -0.3,
            "bin_end": -0.19999999999999996,
            "count": 0
           },
           {
            "bin_start": -0.19999999999999996,
            "bin_end": -0.09999999999999998,
            "count": 0
           },
           {
            "bin_start": -0.09999999999999998,
            "bin_end": 0,
            "count": 0
           },
           {
            "bin_start": 0,
            "bin_end": 0.10000000000000009,
            "count": 5
           },
           {
            "bin_start": 0.10000000000000009,
            "bin_end": 0.20000000000000007,
            "count": 0
           },
           {
            "bin_start": 0.20000000000000007,
            "bin_end": 0.30000000000000004,
            "count": 0
           },
           {
            "bin_start": 0.30000000000000004,
            "bin_end": 0.4,
            "count": 0
           },
           {
            "bin_start": 0.4,
            "bin_end": 0.5,
            "count": 0
           }
          ]
         }
        },
        {
         "name": "USE_CODE_Industrial",
         "dtype": "uint8",
         "stats": {
          "unique_count": 1,
          "nan_count": 0,
          "min": "0",
          "max": "0",
          "histogram": [
           {
            "bin_start": -0.5,
            "bin_end": -0.4,
            "count": 0
           },
           {
            "bin_start": -0.4,
            "bin_end": -0.3,
            "count": 0
           },
           {
            "bin_start": -0.3,
            "bin_end": -0.19999999999999996,
            "count": 0
           },
           {
            "bin_start": -0.19999999999999996,
            "bin_end": -0.09999999999999998,
            "count": 0
           },
           {
            "bin_start": -0.09999999999999998,
            "bin_end": 0,
            "count": 0
           },
           {
            "bin_start": 0,
            "bin_end": 0.10000000000000009,
            "count": 5
           },
           {
            "bin_start": 0.10000000000000009,
            "bin_end": 0.20000000000000007,
            "count": 0
           },
           {
            "bin_start": 0.20000000000000007,
            "bin_end": 0.30000000000000004,
            "count": 0
           },
           {
            "bin_start": 0.30000000000000004,
            "bin_end": 0.4,
            "count": 0
           },
           {
            "bin_start": 0.4,
            "bin_end": 0.5,
            "count": 0
           }
          ]
         }
        },
        {
         "name": "USE_CODE_Irrigation",
         "dtype": "uint8",
         "stats": {
          "unique_count": 2,
          "nan_count": 0,
          "min": "0",
          "max": "1",
          "histogram": [
           {
            "bin_start": 0,
            "bin_end": 0.1,
            "count": 3
           },
           {
            "bin_start": 0.1,
            "bin_end": 0.2,
            "count": 0
           },
           {
            "bin_start": 0.2,
            "bin_end": 0.30000000000000004,
            "count": 0
           },
           {
            "bin_start": 0.30000000000000004,
            "bin_end": 0.4,
            "count": 0
           },
           {
            "bin_start": 0.4,
            "bin_end": 0.5,
            "count": 0
           },
           {
            "bin_start": 0.5,
            "bin_end": 0.6000000000000001,
            "count": 0
           },
           {
            "bin_start": 0.6000000000000001,
            "bin_end": 0.7000000000000001,
            "count": 0
           },
           {
            "bin_start": 0.7000000000000001,
            "bin_end": 0.8,
            "count": 0
           },
           {
            "bin_start": 0.8,
            "bin_end": 0.9,
            "count": 0
           },
           {
            "bin_start": 0.9,
            "bin_end": 1,
            "count": 2
           }
          ]
         }
        },
        {
         "name": "USE_CODE_Mining",
         "dtype": "uint8",
         "stats": {
          "unique_count": 1,
          "nan_count": 0,
          "min": "0",
          "max": "0",
          "histogram": [
           {
            "bin_start": -0.5,
            "bin_end": -0.4,
            "count": 0
           },
           {
            "bin_start": -0.4,
            "bin_end": -0.3,
            "count": 0
           },
           {
            "bin_start": -0.3,
            "bin_end": -0.19999999999999996,
            "count": 0
           },
           {
            "bin_start": -0.19999999999999996,
            "bin_end": -0.09999999999999998,
            "count": 0
           },
           {
            "bin_start": -0.09999999999999998,
            "bin_end": 0,
            "count": 0
           },
           {
            "bin_start": 0,
            "bin_end": 0.10000000000000009,
            "count": 5
           },
           {
            "bin_start": 0.10000000000000009,
            "bin_end": 0.20000000000000007,
            "count": 0
           },
           {
            "bin_start": 0.20000000000000007,
            "bin_end": 0.30000000000000004,
            "count": 0
           },
           {
            "bin_start": 0.30000000000000004,
            "bin_end": 0.4,
            "count": 0
           },
           {
            "bin_start": 0.4,
            "bin_end": 0.5,
            "count": 0
           }
          ]
         }
        },
        {
         "name": "USE_CODE_Municipal",
         "dtype": "uint8",
         "stats": {
          "unique_count": 1,
          "nan_count": 0,
          "min": "0",
          "max": "0",
          "histogram": [
           {
            "bin_start": -0.5,
            "bin_end": -0.4,
            "count": 0
           },
           {
            "bin_start": -0.4,
            "bin_end": -0.3,
            "count": 0
           },
           {
            "bin_start": -0.3,
            "bin_end": -0.19999999999999996,
            "count": 0
           },
           {
            "bin_start": -0.19999999999999996,
            "bin_end": -0.09999999999999998,
            "count": 0
           },
           {
            "bin_start": -0.09999999999999998,
            "bin_end": 0,
            "count": 0
           },
           {
            "bin_start": 0,
            "bin_end": 0.10000000000000009,
            "count": 5
           },
           {
            "bin_start": 0.10000000000000009,
            "bin_end": 0.20000000000000007,
            "count": 0
           },
           {
            "bin_start": 0.20000000000000007,
            "bin_end": 0.30000000000000004,
            "count": 0
           },
           {
            "bin_start": 0.30000000000000004,
            "bin_end": 0.4,
            "count": 0
           },
           {
            "bin_start": 0.4,
            "bin_end": 0.5,
            "count": 0
           }
          ]
         }
        },
        {
         "name": "USE_CODE_Other",
         "dtype": "uint8",
         "stats": {
          "unique_count": 1,
          "nan_count": 0,
          "min": "0",
          "max": "0",
          "histogram": [
           {
            "bin_start": -0.5,
            "bin_end": -0.4,
            "count": 0
           },
           {
            "bin_start": -0.4,
            "bin_end": -0.3,
            "count": 0
           },
           {
            "bin_start": -0.3,
            "bin_end": -0.19999999999999996,
            "count": 0
           },
           {
            "bin_start": -0.19999999999999996,
            "bin_end": -0.09999999999999998,
            "count": 0
           },
           {
            "bin_start": -0.09999999999999998,
            "bin_end": 0,
            "count": 0
           },
           {
            "bin_start": 0,
            "bin_end": 0.10000000000000009,
            "count": 5
           },
           {
            "bin_start": 0.10000000000000009,
            "bin_end": 0.20000000000000007,
            "count": 0
           },
           {
            "bin_start": 0.20000000000000007,
            "bin_end": 0.30000000000000004,
            "count": 0
           },
           {
            "bin_start": 0.30000000000000004,
            "bin_end": 0.4,
            "count": 0
           },
           {
            "bin_start": 0.4,
            "bin_end": 0.5,
            "count": 0
           }
          ]
         }
        },
        {
         "name": "USE_CODE_Power",
         "dtype": "uint8",
         "stats": {
          "unique_count": 1,
          "nan_count": 0,
          "min": "0",
          "max": "0",
          "histogram": [
           {
            "bin_start": -0.5,
            "bin_end": -0.4,
            "count": 0
           },
           {
            "bin_start": -0.4,
            "bin_end": -0.3,
            "count": 0
           },
           {
            "bin_start": -0.3,
            "bin_end": -0.19999999999999996,
            "count": 0
           },
           {
            "bin_start": -0.19999999999999996,
            "bin_end": -0.09999999999999998,
            "count": 0
           },
           {
            "bin_start": -0.09999999999999998,
            "bin_end": 0,
            "count": 0
           },
           {
            "bin_start": 0,
            "bin_end": 0.10000000000000009,
            "count": 5
           },
           {
            "bin_start": 0.10000000000000009,
            "bin_end": 0.20000000000000007,
            "count": 0
           },
           {
            "bin_start": 0.20000000000000007,
            "bin_end": 0.30000000000000004,
            "count": 0
           },
           {
            "bin_start": 0.30000000000000004,
            "bin_end": 0.4,
            "count": 0
           },
           {
            "bin_start": 0.4,
            "bin_end": 0.5,
            "count": 0
           }
          ]
         }
        },
        {
         "name": "USE_CODE_Recreational",
         "dtype": "uint8",
         "stats": {
          "unique_count": 1,
          "nan_count": 0,
          "min": "0",
          "max": "0",
          "histogram": [
           {
            "bin_start": -0.5,
            "bin_end": -0.4,
            "count": 0
           },
           {
            "bin_start": -0.4,
            "bin_end": -0.3,
            "count": 0
           },
           {
            "bin_start": -0.3,
            "bin_end": -0.19999999999999996,
            "count": 0
           },
           {
            "bin_start": -0.19999999999999996,
            "bin_end": -0.09999999999999998,
            "count": 0
           },
           {
            "bin_start": -0.09999999999999998,
            "bin_end": 0,
            "count": 0
           },
           {
            "bin_start": 0,
            "bin_end": 0.10000000000000009,
            "count": 5
           },
           {
            "bin_start": 0.10000000000000009,
            "bin_end": 0.20000000000000007,
            "count": 0
           },
           {
            "bin_start": 0.20000000000000007,
            "bin_end": 0.30000000000000004,
            "count": 0
           },
           {
            "bin_start": 0.30000000000000004,
            "bin_end": 0.4,
            "count": 0
           },
           {
            "bin_start": 0.4,
            "bin_end": 0.5,
            "count": 0
           }
          ]
         }
        },
        {
         "name": "USE_CODE_Snow Making",
         "dtype": "uint8",
         "stats": {
          "unique_count": 1,
          "nan_count": 0,
          "min": "0",
          "max": "0",
          "histogram": [
           {
            "bin_start": -0.5,
            "bin_end": -0.4,
            "count": 0
           },
           {
            "bin_start": -0.4,
            "bin_end": -0.3,
            "count": 0
           },
           {
            "bin_start": -0.3,
            "bin_end": -0.19999999999999996,
            "count": 0
           },
           {
            "bin_start": -0.19999999999999996,
            "bin_end": -0.09999999999999998,
            "count": 0
           },
           {
            "bin_start": -0.09999999999999998,
            "bin_end": 0,
            "count": 0
           },
           {
            "bin_start": 0,
            "bin_end": 0.10000000000000009,
            "count": 5
           },
           {
            "bin_start": 0.10000000000000009,
            "bin_end": 0.20000000000000007,
            "count": 0
           },
           {
            "bin_start": 0.20000000000000007,
            "bin_end": 0.30000000000000004,
            "count": 0
           },
           {
            "bin_start": 0.30000000000000004,
            "bin_end": 0.4,
            "count": 0
           },
           {
            "bin_start": 0.4,
            "bin_end": 0.5,
            "count": 0
           }
          ]
         }
        },
        {
         "name": "USE_CODE_Stockwatering",
         "dtype": "uint8",
         "stats": {
          "unique_count": 1,
          "nan_count": 0,
          "min": "0",
          "max": "0",
          "histogram": [
           {
            "bin_start": -0.5,
            "bin_end": -0.4,
            "count": 0
           },
           {
            "bin_start": -0.4,
            "bin_end": -0.3,
            "count": 0
           },
           {
            "bin_start": -0.3,
            "bin_end": -0.19999999999999996,
            "count": 0
           },
           {
            "bin_start": -0.19999999999999996,
            "bin_end": -0.09999999999999998,
            "count": 0
           },
           {
            "bin_start": -0.09999999999999998,
            "bin_end": 0,
            "count": 0
           },
           {
            "bin_start": 0,
            "bin_end": 0.10000000000000009,
            "count": 5
           },
           {
            "bin_start": 0.10000000000000009,
            "bin_end": 0.20000000000000007,
            "count": 0
           },
           {
            "bin_start": 0.20000000000000007,
            "bin_end": 0.30000000000000004,
            "count": 0
           },
           {
            "bin_start": 0.30000000000000004,
            "bin_end": 0.4,
            "count": 0
           },
           {
            "bin_start": 0.4,
            "bin_end": 0.5,
            "count": 0
           }
          ]
         }
        },
        {
         "name": "QUANT_INCLUDED",
         "dtype": "bool",
         "stats": {
          "unique_count": 1,
          "nan_count": 0,
          "categories": [
           {
            "name": "True",
            "count": 5
           }
          ]
         }
        },
        {
         "name": "USE_POP_INC",
         "dtype": "bool",
         "stats": {
          "unique_count": 1,
          "nan_count": 0,
          "categories": [
           {
            "name": "False",
            "count": 5
           }
          ]
         }
        },
        {
         "name": "A/NP",
         "dtype": "bool",
         "stats": {
          "unique_count": 1,
          "nan_count": 0,
          "categories": [
           {
            "name": "False",
            "count": 5
           }
          ]
         }
        },
        {
         "name": "_deepnote_index_column",
         "dtype": "int64"
        }
       ],
       "rows": [
        {
         "FACE_VALUE_AMOUNT": -0.11512623458166918,
         "NUM_OF_VIOLATIONS": -0.15240496695287173,
         "QUANTITY_OF_WATER_DIVERTED": "nan",
         "USE_COUNT": -0.5538668200382517,
         "USE_POPULATION": 0,
         "NUMBER_OF_PROTESTS": -0.311803566668875,
         "COUNT_NPO_OR_OTHER": -0.5803677405261058,
         "LATITUDE": -4.036778214998,
         "PRIMARY_OWNER_ENTITY_TYPE_Estate": 0,
         "PRIMARY_OWNER_ENTITY_TYPE_Federal Government": 0,
         "PRIMARY_OWNER_ENTITY_TYPE_Government (State/Municipal)": 0,
         "PRIMARY_OWNER_ENTITY_TYPE_Individual": 0,
         "PRIMARY_OWNER_ENTITY_TYPE_Limited Liability Company": 1,
         "PRIMARY_OWNER_ENTITY_TYPE_Limited Partner": 0,
         "PRIMARY_OWNER_ENTITY_TYPE_Organization/Association": 0,
         "PRIMARY_OWNER_ENTITY_TYPE_Partnership or Co-owners": 0,
         "PRIMARY_OWNER_ENTITY_TYPE_Receivership/Fiduciary": 0,
         "PRIMARY_OWNER_ENTITY_TYPE_Trust": 0,
         "USE_CODE_Aquaculture": 0,
         "USE_CODE_Domestic": 0,
         "USE_CODE_Dust Control": 1,
         "USE_CODE_Fire Protection": 0,
         "USE_CODE_Fish and Wildlife Preservation and Enhancement": 0,
         "USE_CODE_Frost Protection": 0,
         "USE_CODE_Heat Control": 0,
         "USE_CODE_Incidental Power": 0,
         "USE_CODE_Industrial": 0,
         "USE_CODE_Irrigation": 0,
         "USE_CODE_Mining": 0,
         "USE_CODE_Municipal": 0,
         "USE_CODE_Other": 0,
         "USE_CODE_Power": 0,
         "USE_CODE_Recreational": 0,
         "USE_CODE_Snow Making": 0,
         "USE_CODE_Stockwatering": 0,
         "QUANT_INCLUDED": true,
         "USE_POP_INC": false,
         "A/NP": false,
         "_deepnote_index_column": 0
        },
        {
         "FACE_VALUE_AMOUNT": -0.11218345623967106,
         "NUM_OF_VIOLATIONS": -0.15240496695287173,
         "QUANTITY_OF_WATER_DIVERTED": "nan",
         "USE_COUNT": 0.10738234266047744,
         "USE_POPULATION": 0,
         "NUMBER_OF_PROTESTS": 0.44637483236662984,
         "COUNT_NPO_OR_OTHER": 0.7712052220844512,
         "LATITUDE": -3.135665734530635,
         "PRIMARY_OWNER_ENTITY_TYPE_Estate": 0,
         "PRIMARY_OWNER_ENTITY_TYPE_Federal Government": 0,
         "PRIMARY_OWNER_ENTITY_TYPE_Government (State/Municipal)": 0,
         "PRIMARY_OWNER_ENTITY_TYPE_Individual": 0,
         "PRIMARY_OWNER_ENTITY_TYPE_Limited Liability Company": 0,
         "PRIMARY_OWNER_ENTITY_TYPE_Limited Partner": 0,
         "PRIMARY_OWNER_ENTITY_TYPE_Organization/Association": 1,
         "PRIMARY_OWNER_ENTITY_TYPE_Partnership or Co-owners": 0,
         "PRIMARY_OWNER_ENTITY_TYPE_Receivership/Fiduciary": 0,
         "PRIMARY_OWNER_ENTITY_TYPE_Trust": 0,
         "USE_CODE_Aquaculture": 0,
         "USE_CODE_Domestic": 0,
         "USE_CODE_Dust Control": 0,
         "USE_CODE_Fire Protection": 0,
         "USE_CODE_Fish and Wildlife Preservation and Enhancement": 0,
         "USE_CODE_Frost Protection": 0,
         "USE_CODE_Heat Control": 0,
         "USE_CODE_Incidental Power": 0,
         "USE_CODE_Industrial": 0,
         "USE_CODE_Irrigation": 1,
         "USE_CODE_Mining": 0,
         "USE_CODE_Municipal": 0,
         "USE_CODE_Other": 0,
         "USE_CODE_Power": 0,
         "USE_CODE_Recreational": 0,
         "USE_CODE_Snow Making": 0,
         "USE_CODE_Stockwatering": 0,
         "QUANT_INCLUDED": true,
         "USE_POP_INC": false,
         "A/NP": false,
         "_deepnote_index_column": 13
        },
        {
         "FACE_VALUE_AMOUNT": 3.4331748078764694,
         "NUM_OF_VIOLATIONS": -0.15240496695287173,
         "QUANTITY_OF_WATER_DIVERTED": "nan",
         "USE_COUNT": 0.10738234266047744,
         "USE_POPULATION": 0,
         "NUMBER_OF_PROTESTS": -0.311803566668875,
         "COUNT_NPO_OR_OTHER": -0.5803677405261058,
         "LATITUDE": -1.1441229411985743,
         "PRIMARY_OWNER_ENTITY_TYPE_Estate": 0,
         "PRIMARY_OWNER_ENTITY_TYPE_Federal Government": 1,
         "PRIMARY_OWNER_ENTITY_TYPE_Government (State/Municipal)": 0,
         "PRIMARY_OWNER_ENTITY_TYPE_Individual": 0,
         "PRIMARY_OWNER_ENTITY_TYPE_Limited Liability Company": 0,
         "PRIMARY_OWNER_ENTITY_TYPE_Limited Partner": 0,
         "PRIMARY_OWNER_ENTITY_TYPE_Organization/Association": 0,
         "PRIMARY_OWNER_ENTITY_TYPE_Partnership or Co-owners": 0,
         "PRIMARY_OWNER_ENTITY_TYPE_Receivership/Fiduciary": 0,
         "PRIMARY_OWNER_ENTITY_TYPE_Trust": 0,
         "USE_CODE_Aquaculture": 0,
         "USE_CODE_Domestic": 1,
         "USE_CODE_Dust Control": 0,
         "USE_CODE_Fire Protection": 0,
         "USE_CODE_Fish and Wildlife Preservation and Enhancement": 0,
         "USE_CODE_Frost Protection": 0,
         "USE_CODE_Heat Control": 0,
         "USE_CODE_Incidental Power": 0,
         "USE_CODE_Industrial": 0,
         "USE_CODE_Irrigation": 0,
         "USE_CODE_Mining": 0,
         "USE_CODE_Municipal": 0,
         "USE_CODE_Other": 0,
         "USE_CODE_Power": 0,
         "USE_CODE_Recreational": 0,
         "USE_CODE_Snow Making": 0,
         "USE_CODE_Stockwatering": 0,
         "QUANT_INCLUDED": true,
         "USE_POP_INC": false,
         "A/NP": false,
         "_deepnote_index_column": 34
        },
        {
         "FACE_VALUE_AMOUNT": -0.07011019401549994,
         "NUM_OF_VIOLATIONS": 3.7099880583509535,
         "QUANTITY_OF_WATER_DIVERTED": "nan",
         "USE_COUNT": -0.5538668200382517,
         "USE_POPULATION": 0,
         "NUMBER_OF_PROTESTS": -0.311803566668875,
         "COUNT_NPO_OR_OTHER": -0.5803677405261058,
         "LATITUDE": -0.624721839295145,
         "PRIMARY_OWNER_ENTITY_TYPE_Estate": 0,
         "PRIMARY_OWNER_ENTITY_TYPE_Federal Government": 0,
         "PRIMARY_OWNER_ENTITY_TYPE_Government (State/Municipal)": 1,
         "PRIMARY_OWNER_ENTITY_TYPE_Individual": 0,
         "PRIMARY_OWNER_ENTITY_TYPE_Limited Liability Company": 0,
         "PRIMARY_OWNER_ENTITY_TYPE_Limited Partner": 0,
         "PRIMARY_OWNER_ENTITY_TYPE_Organization/Association": 0,
         "PRIMARY_OWNER_ENTITY_TYPE_Partnership or Co-owners": 0,
         "PRIMARY_OWNER_ENTITY_TYPE_Receivership/Fiduciary": 0,
         "PRIMARY_OWNER_ENTITY_TYPE_Trust": 0,
         "USE_CODE_Aquaculture": 0,
         "USE_CODE_Domestic": 0,
         "USE_CODE_Dust Control": 0,
         "USE_CODE_Fire Protection": 0,
         "USE_CODE_Fish and Wildlife Preservation and Enhancement": 0,
         "USE_CODE_Frost Protection": 0,
         "USE_CODE_Heat Control": 0,
         "USE_CODE_Incidental Power": 0,
         "USE_CODE_Industrial": 0,
         "USE_CODE_Irrigation": 1,
         "USE_CODE_Mining": 0,
         "USE_CODE_Municipal": 0,
         "USE_CODE_Other": 0,
         "USE_CODE_Power": 0,
         "USE_CODE_Recreational": 0,
         "USE_CODE_Snow Making": 0,
         "USE_CODE_Stockwatering": 0,
         "QUANT_INCLUDED": true,
         "USE_POP_INC": false,
         "A/NP": false,
         "_deepnote_index_column": 44
        },
        {
         "FACE_VALUE_AMOUNT": -0.11520473539447008,
         "NUM_OF_VIOLATIONS": -0.15240496695287173,
         "QUANTITY_OF_WATER_DIVERTED": "nan",
         "USE_COUNT": 0.10738234266047744,
         "USE_POPULATION": 0,
         "NUMBER_OF_PROTESTS": -0.311803566668875,
         "COUNT_NPO_OR_OTHER": -0.3100531480039944,
         "LATITUDE": 1.0498600114295296,
         "PRIMARY_OWNER_ENTITY_TYPE_Estate": 0,
         "PRIMARY_OWNER_ENTITY_TYPE_Federal Government": 0,
         "PRIMARY_OWNER_ENTITY_TYPE_Government (State/Municipal)": 0,
         "PRIMARY_OWNER_ENTITY_TYPE_Individual": 1,
         "PRIMARY_OWNER_ENTITY_TYPE_Limited Liability Company": 0,
         "PRIMARY_OWNER_ENTITY_TYPE_Limited Partner": 0,
         "PRIMARY_OWNER_ENTITY_TYPE_Organization/Association": 0,
         "PRIMARY_OWNER_ENTITY_TYPE_Partnership or Co-owners": 0,
         "PRIMARY_OWNER_ENTITY_TYPE_Receivership/Fiduciary": 0,
         "PRIMARY_OWNER_ENTITY_TYPE_Trust": 0,
         "USE_CODE_Aquaculture": 0,
         "USE_CODE_Domestic": 1,
         "USE_CODE_Dust Control": 0,
         "USE_CODE_Fire Protection": 0,
         "USE_CODE_Fish and Wildlife Preservation and Enhancement": 0,
         "USE_CODE_Frost Protection": 0,
         "USE_CODE_Heat Control": 0,
         "USE_CODE_Incidental Power": 0,
         "USE_CODE_Industrial": 0,
         "USE_CODE_Irrigation": 0,
         "USE_CODE_Mining": 0,
         "USE_CODE_Municipal": 0,
         "USE_CODE_Other": 0,
         "USE_CODE_Power": 0,
         "USE_CODE_Recreational": 0,
         "USE_CODE_Snow Making": 0,
         "USE_CODE_Stockwatering": 0,
         "QUANT_INCLUDED": true,
         "USE_POP_INC": false,
         "A/NP": false,
         "_deepnote_index_column": 48
        }
       ]
      },
      "text/plain": "    FACE_VALUE_AMOUNT  NUM_OF_VIOLATIONS  QUANTITY_OF_WATER_DIVERTED  \\\n0           -0.115126          -0.152405                         NaN   \n13          -0.112183          -0.152405                         NaN   \n34           3.433175          -0.152405                         NaN   \n44          -0.070110           3.709988                         NaN   \n48          -0.115205          -0.152405                         NaN   \n\n    USE_COUNT  USE_POPULATION  NUMBER_OF_PROTESTS  COUNT_NPO_OR_OTHER  \\\n0   -0.553867             0.0           -0.311804           -0.580368   \n13   0.107382             0.0            0.446375            0.771205   \n34   0.107382             0.0           -0.311804           -0.580368   \n44  -0.553867             0.0           -0.311804           -0.580368   \n48   0.107382             0.0           -0.311804           -0.310053   \n\n    LATITUDE  PRIMARY_OWNER_ENTITY_TYPE_Estate  \\\n0  -4.036778                                 0   \n13 -3.135666                                 0   \n34 -1.144123                                 0   \n44 -0.624722                                 0   \n48  1.049860                                 0   \n\n    PRIMARY_OWNER_ENTITY_TYPE_Federal Government  ...  USE_CODE_Mining  \\\n0                                              0  ...                0   \n13                                             0  ...                0   \n34                                             1  ...                0   \n44                                             0  ...                0   \n48                                             0  ...                0   \n\n    USE_CODE_Municipal  USE_CODE_Other  USE_CODE_Power  USE_CODE_Recreational  \\\n0                    0               0               0                      0   \n13                   0               0               0                      0   \n34                   0               0               0                      0   \n44                   0               0               0                      0   \n48                   0               0               0                      0   \n\n    USE_CODE_Snow Making  USE_CODE_Stockwatering  QUANT_INCLUDED  USE_POP_INC  \\\n0                      0                       0            True        False   \n13                     0                       0            True        False   \n34                     0                       0            True        False   \n44                     0                       0            True        False   \n48                     0                       0            True        False   \n\n     A/NP  \n0   False  \n13  False  \n34  False  \n44  False  \n48  False  \n\n[5 rows x 38 columns]",
      "text/html": "<div>\n<style scoped>\n    .dataframe tbody tr th:only-of-type {\n        vertical-align: middle;\n    }\n\n    .dataframe tbody tr th {\n        vertical-align: top;\n    }\n\n    .dataframe thead th {\n        text-align: right;\n    }\n</style>\n<table border=\"1\" class=\"dataframe\">\n  <thead>\n    <tr style=\"text-align: right;\">\n      <th></th>\n      <th>FACE_VALUE_AMOUNT</th>\n      <th>NUM_OF_VIOLATIONS</th>\n      <th>QUANTITY_OF_WATER_DIVERTED</th>\n      <th>USE_COUNT</th>\n      <th>USE_POPULATION</th>\n      <th>NUMBER_OF_PROTESTS</th>\n      <th>COUNT_NPO_OR_OTHER</th>\n      <th>LATITUDE</th>\n      <th>PRIMARY_OWNER_ENTITY_TYPE_Estate</th>\n      <th>PRIMARY_OWNER_ENTITY_TYPE_Federal Government</th>\n      <th>...</th>\n      <th>USE_CODE_Mining</th>\n      <th>USE_CODE_Municipal</th>\n      <th>USE_CODE_Other</th>\n      <th>USE_CODE_Power</th>\n      <th>USE_CODE_Recreational</th>\n      <th>USE_CODE_Snow Making</th>\n      <th>USE_CODE_Stockwatering</th>\n      <th>QUANT_INCLUDED</th>\n      <th>USE_POP_INC</th>\n      <th>A/NP</th>\n    </tr>\n  </thead>\n  <tbody>\n    <tr>\n      <th>0</th>\n      <td>-0.115126</td>\n      <td>-0.152405</td>\n      <td>NaN</td>\n      <td>-0.553867</td>\n      <td>0.0</td>\n      <td>-0.311804</td>\n      <td>-0.580368</td>\n      <td>-4.036778</td>\n      <td>0</td>\n      <td>0</td>\n      <td>...</td>\n      <td>0</td>\n      <td>0</td>\n      <td>0</td>\n      <td>0</td>\n      <td>0</td>\n      <td>0</td>\n      <td>0</td>\n      <td>True</td>\n      <td>False</td>\n      <td>False</td>\n    </tr>\n    <tr>\n      <th>13</th>\n      <td>-0.112183</td>\n      <td>-0.152405</td>\n      <td>NaN</td>\n      <td>0.107382</td>\n      <td>0.0</td>\n      <td>0.446375</td>\n      <td>0.771205</td>\n      <td>-3.135666</td>\n      <td>0</td>\n      <td>0</td>\n      <td>...</td>\n      <td>0</td>\n      <td>0</td>\n      <td>0</td>\n      <td>0</td>\n      <td>0</td>\n      <td>0</td>\n      <td>0</td>\n      <td>True</td>\n      <td>False</td>\n      <td>False</td>\n    </tr>\n    <tr>\n      <th>34</th>\n      <td>3.433175</td>\n      <td>-0.152405</td>\n      <td>NaN</td>\n      <td>0.107382</td>\n      <td>0.0</td>\n      <td>-0.311804</td>\n      <td>-0.580368</td>\n      <td>-1.144123</td>\n      <td>0</td>\n      <td>1</td>\n      <td>...</td>\n      <td>0</td>\n      <td>0</td>\n      <td>0</td>\n      <td>0</td>\n      <td>0</td>\n      <td>0</td>\n      <td>0</td>\n      <td>True</td>\n      <td>False</td>\n      <td>False</td>\n    </tr>\n    <tr>\n      <th>44</th>\n      <td>-0.070110</td>\n      <td>3.709988</td>\n      <td>NaN</td>\n      <td>-0.553867</td>\n      <td>0.0</td>\n      <td>-0.311804</td>\n      <td>-0.580368</td>\n      <td>-0.624722</td>\n      <td>0</td>\n      <td>0</td>\n      <td>...</td>\n      <td>0</td>\n      <td>0</td>\n      <td>0</td>\n      <td>0</td>\n      <td>0</td>\n      <td>0</td>\n      <td>0</td>\n      <td>True</td>\n      <td>False</td>\n      <td>False</td>\n    </tr>\n    <tr>\n      <th>48</th>\n      <td>-0.115205</td>\n      <td>-0.152405</td>\n      <td>NaN</td>\n      <td>0.107382</td>\n      <td>0.0</td>\n      <td>-0.311804</td>\n      <td>-0.310053</td>\n      <td>1.049860</td>\n      <td>0</td>\n      <td>0</td>\n      <td>...</td>\n      <td>0</td>\n      <td>0</td>\n      <td>0</td>\n      <td>0</td>\n      <td>0</td>\n      <td>0</td>\n      <td>0</td>\n      <td>True</td>\n      <td>False</td>\n      <td>False</td>\n    </tr>\n  </tbody>\n</table>\n<p>5 rows × 38 columns</p>\n</div>"
     },
     "metadata": {}
    }
   ],
   "execution_count": null
  },
  {
   "cell_type": "code",
   "metadata": {
    "cell_id": "de06b9ee18b548849c5a1093c57dec8c",
    "tags": [],
    "deepnote_to_be_reexecuted": false,
    "source_hash": "fbeb7fef",
    "execution_start": 1651705696582,
    "execution_millis": 35,
    "deepnote_cell_type": "code",
    "deepnote_cell_height": 117
   },
   "source": "df = df.drop(columns = ['QUANTITY_OF_WATER_DIVERTED', 'USE_POPULATION'])\nval = val.drop(columns = ['QUANTITY_OF_WATER_DIVERTED', 'USE_POPULATION'])\n",
   "outputs": [],
   "execution_count": null
  },
  {
   "cell_type": "code",
   "metadata": {
    "cell_id": "fa192bfca4ff44cca92f023267698b02",
    "tags": [],
    "deepnote_to_be_reexecuted": false,
    "source_hash": "1039a82",
    "execution_start": 1651415674784,
    "execution_millis": 4,
    "deepnote_cell_type": "code",
    "deepnote_cell_height": 708,
    "deepnote_output_heights": [
     611
    ]
   },
   "source": "list(df.columns)",
   "execution_count": null,
   "outputs": [
    {
     "output_type": "execute_result",
     "execution_count": 23,
     "data": {
      "text/plain": "['FACE_VALUE_AMOUNT',\n 'NUM_OF_VIOLATIONS',\n 'USE_COUNT',\n 'NUMBER_OF_PROTESTS',\n 'COUNT_NPO_OR_OTHER',\n 'LATITUDE',\n 'PRIMARY_OWNER_ENTITY_TYPE_Estate',\n 'PRIMARY_OWNER_ENTITY_TYPE_Federal Government',\n 'PRIMARY_OWNER_ENTITY_TYPE_Government (State/Municipal)',\n 'PRIMARY_OWNER_ENTITY_TYPE_Individual',\n 'PRIMARY_OWNER_ENTITY_TYPE_Limited Liability Company',\n 'PRIMARY_OWNER_ENTITY_TYPE_Limited Partner',\n 'PRIMARY_OWNER_ENTITY_TYPE_Organization/Association',\n 'PRIMARY_OWNER_ENTITY_TYPE_Partnership or Co-owners',\n 'PRIMARY_OWNER_ENTITY_TYPE_Receivership/Fiduciary',\n 'PRIMARY_OWNER_ENTITY_TYPE_Trust',\n 'USE_CODE_Aquaculture',\n 'USE_CODE_Domestic',\n 'USE_CODE_Dust Control',\n 'USE_CODE_Fire Protection',\n 'USE_CODE_Fish and Wildlife Preservation and Enhancement',\n 'USE_CODE_Frost Protection',\n 'USE_CODE_Heat Control',\n 'USE_CODE_Incidental Power',\n 'USE_CODE_Industrial',\n 'USE_CODE_Irrigation',\n 'USE_CODE_Mining',\n 'USE_CODE_Municipal',\n 'USE_CODE_Other',\n 'USE_CODE_Power',\n 'USE_CODE_Recreational',\n 'USE_CODE_Snow Making',\n 'USE_CODE_Stockwatering',\n 'QUANT_INCLUDED',\n 'USE_POP_INC',\n 'A/NP']"
     },
     "metadata": {}
    }
   ]
  },
  {
   "cell_type": "code",
   "metadata": {
    "cell_id": "e58cbd3404be4a9e8ce33d5c25970dfd",
    "tags": [],
    "deepnote_to_be_reexecuted": false,
    "source_hash": "a6ba35da",
    "execution_start": 1651705700282,
    "execution_millis": 4181,
    "deepnote_cell_type": "code",
    "deepnote_cell_height": 1511.21875,
    "deepnote_output_heights": [
     null,
     437.21875
    ]
   },
   "source": "# logistic regression for feature importance\nimport math\nfrom sklearn.datasets import make_classification\nfrom sklearn.linear_model import LogisticRegression\nfrom matplotlib import pyplot\n# define dataset\nX, y = df.iloc[:, : -1], df.iloc[:, -1]\n\n# define the model\nmodel = LogisticRegression()\n# fit the model\nmodel.fit(X, y)\n# get importance\nimportance = model.coef_[0]\n# summarize feature importance\nfor i,v in enumerate(importance):\n\tprint('Feature: %0d, Score: %.5f' % (i,v))\n# plot feature importance\npyplot.bar([x for x in range(len(importance))], np.power(math.e, importance))\npyplot.show()",
   "outputs": [
    {
     "name": "stdout",
     "text": "Feature: 0, Score: 0.23183\nFeature: 1, Score: 0.13091\nFeature: 2, Score: -0.15158\nFeature: 3, Score: -0.13387\nFeature: 4, Score: 0.22740\nFeature: 5, Score: 0.19830\nFeature: 6, Score: 0.72498\nFeature: 7, Score: 1.30125\nFeature: 8, Score: 0.96022\nFeature: 9, Score: -0.10743\nFeature: 10, Score: 0.72734\nFeature: 11, Score: 0.88241\nFeature: 12, Score: 0.70256\nFeature: 13, Score: -0.01617\nFeature: 14, Score: 0.25300\nFeature: 15, Score: 0.39741\nFeature: 16, Score: 0.76723\nFeature: 17, Score: 0.49217\nFeature: 18, Score: 1.42972\nFeature: 19, Score: 0.98996\nFeature: 20, Score: 1.37520\nFeature: 21, Score: 0.72742\nFeature: 22, Score: 0.79643\nFeature: 23, Score: 0.37793\nFeature: 24, Score: 0.05015\nFeature: 25, Score: 0.38743\nFeature: 26, Score: -0.34900\nFeature: 27, Score: 0.01231\nFeature: 28, Score: -0.64386\nFeature: 29, Score: 0.49097\nFeature: 30, Score: 1.31222\nFeature: 31, Score: -0.05731\nFeature: 32, Score: 1.39523\nFeature: 33, Score: -0.58019\nFeature: 34, Score: -0.31661\n",
     "output_type": "stream"
    },
    {
     "data": {
      "text/plain": "<Figure size 2400x1200 with 1 Axes>",
      "image/png": "[encoded data removed]"
     },
     "metadata": {
      "image/png": {
       "width": 1946,
       "height": 978
      }
     },
     "output_type": "display_data"
    }
   ],
   "execution_count": null
  },
  {
   "cell_type": "markdown",
   "source": "We've used regex to group our one-hot-encoded data columns to ensure that we add all the encoded columns at once. ",
   "metadata": {
    "cell_id": "63c03be7c80447b9b13a3fb07bd47f6d",
    "tags": [],
    "deepnote_cell_type": "markdown",
    "deepnote_cell_height": 52
   }
  },
  {
   "cell_type": "code",
   "metadata": {
    "cell_id": "6339ebf7fceb4bd2abab20f35ddfd01b",
    "tags": [],
    "deepnote_to_be_reexecuted": false,
    "source_hash": "939250e3",
    "execution_start": 1651705704473,
    "execution_millis": 3,
    "deepnote_cell_type": "code",
    "deepnote_cell_height": 319,
    "deepnote_output_heights": [
     78
    ]
   },
   "source": "#Use regex to find all the Primary columns after one hot econoding\nimport re\n\nr = re.compile('PRIMARY')\nvmatch = np.vectorize(lambda x:bool(r.match(x)))\n\nA = df.columns\nsel = vmatch(A)\nsel",
   "outputs": [
    {
     "output_type": "execute_result",
     "execution_count": 24,
     "data": {
      "text/plain": "array([False, False, False, False, False, False,  True,  True,  True,\n        True,  True,  True,  True,  True,  True,  True, False, False,\n       False, False, False, False, False, False, False, False, False,\n       False, False, False, False, False, False, False, False, False])"
     },
     "metadata": {}
    }
   ],
   "execution_count": null
  },
  {
   "cell_type": "code",
   "metadata": {
    "cell_id": "a60bc5088adf452cb9ba1e15e947e947",
    "tags": [],
    "deepnote_to_be_reexecuted": false,
    "source_hash": "2b3286f7",
    "execution_start": 1651705704476,
    "execution_millis": 13,
    "deepnote_cell_type": "code",
    "deepnote_cell_height": 247,
    "deepnote_output_heights": [
     78
    ]
   },
   "source": "r = re.compile('USE_CODE')\nvmatch = np.vectorize(lambda x:bool(r.match(x)))\nA = df.columns\nye = vmatch(A)\nye ",
   "outputs": [
    {
     "output_type": "execute_result",
     "execution_count": 25,
     "data": {
      "text/plain": "array([False, False, False, False, False, False, False, False, False,\n       False, False, False, False, False, False, False,  True,  True,\n        True,  True,  True,  True,  True,  True,  True,  True,  True,\n        True,  True,  True,  True,  True,  True, False, False, False])"
     },
     "metadata": {}
    }
   ],
   "execution_count": null
  },
  {
   "cell_type": "code",
   "metadata": {
    "cell_id": "55acf8696e6744629ab6ada46ba44b12",
    "tags": [],
    "deepnote_to_be_reexecuted": false,
    "source_hash": "230a1ec2",
    "execution_start": 1651705708200,
    "execution_millis": 7,
    "deepnote_cell_type": "code",
    "deepnote_cell_height": 153
   },
   "source": "\n#set prim_owner to list of all column names cotaining primary_owne\nprim_owner = df.columns[sel]\ntype(prim_owner)\nuse_code = df.columns[ye]",
   "outputs": [],
   "execution_count": null
  },
  {
   "cell_type": "markdown",
   "source": "This iterates through our master list of all features that might affect the approval of a water right application and creates a list that contains various combinations of each feature.",
   "metadata": {
    "cell_id": "ddd0efc2c0574ff7ab1aa78fa8370dc8",
    "tags": [],
    "deepnote_cell_type": "markdown",
    "deepnote_cell_height": 74
   }
  },
  {
   "cell_type": "code",
   "metadata": {
    "cell_id": "00006-9d73d193-2285-4596-98db-b60b7e24bb49",
    "deepnote_to_be_reexecuted": false,
    "source_hash": "1cb7f4df",
    "execution_start": 1651705711745,
    "execution_millis": 11,
    "deepnote_cell_type": "code",
    "deepnote_cell_height": 942,
    "deepnote_output_heights": [
     611
    ]
   },
   "source": "import itertools\n\nstuff = ['USE_COUNT',  'NUMBER_OF_PROTESTS', 'QUANT_INCLUDED', 'USE_POP_INC', 'LATITUDE', 'NUM_OF_VIOLATIONS']\ncombos = []\nfor L in range(0, len(stuff)+1):\n    for subset in itertools.combinations(stuff, L):\n        combos.append(subset)\n        \ncombos = combos[1: ]\ncombos\n\n\n\n",
   "outputs": [
    {
     "output_type": "execute_result",
     "execution_count": 27,
     "data": {
      "text/plain": "[('USE_COUNT',),\n ('NUMBER_OF_PROTESTS',),\n ('QUANT_INCLUDED',),\n ('USE_POP_INC',),\n ('LATITUDE',),\n ('NUM_OF_VIOLATIONS',),\n ('USE_COUNT', 'NUMBER_OF_PROTESTS'),\n ('USE_COUNT', 'QUANT_INCLUDED'),\n ('USE_COUNT', 'USE_POP_INC'),\n ('USE_COUNT', 'LATITUDE'),\n ('USE_COUNT', 'NUM_OF_VIOLATIONS'),\n ('NUMBER_OF_PROTESTS', 'QUANT_INCLUDED'),\n ('NUMBER_OF_PROTESTS', 'USE_POP_INC'),\n ('NUMBER_OF_PROTESTS', 'LATITUDE'),\n ('NUMBER_OF_PROTESTS', 'NUM_OF_VIOLATIONS'),\n ('QUANT_INCLUDED', 'USE_POP_INC'),\n ('QUANT_INCLUDED', 'LATITUDE'),\n ('QUANT_INCLUDED', 'NUM_OF_VIOLATIONS'),\n ('USE_POP_INC', 'LATITUDE'),\n ('USE_POP_INC', 'NUM_OF_VIOLATIONS'),\n ('LATITUDE', 'NUM_OF_VIOLATIONS'),\n ('USE_COUNT', 'NUMBER_OF_PROTESTS', 'QUANT_INCLUDED'),\n ('USE_COUNT', 'NUMBER_OF_PROTESTS', 'USE_POP_INC'),\n ('USE_COUNT', 'NUMBER_OF_PROTESTS', 'LATITUDE'),\n ('USE_COUNT', 'NUMBER_OF_PROTESTS', 'NUM_OF_VIOLATIONS'),\n ('USE_COUNT', 'QUANT_INCLUDED', 'USE_POP_INC'),\n ('USE_COUNT', 'QUANT_INCLUDED', 'LATITUDE'),\n ('USE_COUNT', 'QUANT_INCLUDED', 'NUM_OF_VIOLATIONS'),\n ('USE_COUNT', 'USE_POP_INC', 'LATITUDE'),\n ('USE_COUNT', 'USE_POP_INC', 'NUM_OF_VIOLATIONS'),\n ('USE_COUNT', 'LATITUDE', 'NUM_OF_VIOLATIONS'),\n ('NUMBER_OF_PROTESTS', 'QUANT_INCLUDED', 'USE_POP_INC'),\n ('NUMBER_OF_PROTESTS', 'QUANT_INCLUDED', 'LATITUDE'),\n ('NUMBER_OF_PROTESTS', 'QUANT_INCLUDED', 'NUM_OF_VIOLATIONS'),\n ('NUMBER_OF_PROTESTS', 'USE_POP_INC', 'LATITUDE'),\n ('NUMBER_OF_PROTESTS', 'USE_POP_INC', 'NUM_OF_VIOLATIONS'),\n ('NUMBER_OF_PROTESTS', 'LATITUDE', 'NUM_OF_VIOLATIONS'),\n ('QUANT_INCLUDED', 'USE_POP_INC', 'LATITUDE'),\n ('QUANT_INCLUDED', 'USE_POP_INC', 'NUM_OF_VIOLATIONS'),\n ('QUANT_INCLUDED', 'LATITUDE', 'NUM_OF_VIOLATIONS'),\n ('USE_POP_INC', 'LATITUDE', 'NUM_OF_VIOLATIONS'),\n ('USE_COUNT', 'NUMBER_OF_PROTESTS', 'QUANT_INCLUDED', 'USE_POP_INC'),\n ('USE_COUNT', 'NUMBER_OF_PROTESTS', 'QUANT_INCLUDED', 'LATITUDE'),\n ('USE_COUNT', 'NUMBER_OF_PROTESTS', 'QUANT_INCLUDED', 'NUM_OF_VIOLATIONS'),\n ('USE_COUNT', 'NUMBER_OF_PROTESTS', 'USE_POP_INC', 'LATITUDE'),\n ('USE_COUNT', 'NUMBER_OF_PROTESTS', 'USE_POP_INC', 'NUM_OF_VIOLATIONS'),\n ('USE_COUNT', 'NUMBER_OF_PROTESTS', 'LATITUDE', 'NUM_OF_VIOLATIONS'),\n ('USE_COUNT', 'QUANT_INCLUDED', 'USE_POP_INC', 'LATITUDE'),\n ('USE_COUNT', 'QUANT_INCLUDED', 'USE_POP_INC', 'NUM_OF_VIOLATIONS'),\n ('USE_COUNT', 'QUANT_INCLUDED', 'LATITUDE', 'NUM_OF_VIOLATIONS'),\n ('USE_COUNT', 'USE_POP_INC', 'LATITUDE', 'NUM_OF_VIOLATIONS'),\n ('NUMBER_OF_PROTESTS', 'QUANT_INCLUDED', 'USE_POP_INC', 'LATITUDE'),\n ('NUMBER_OF_PROTESTS', 'QUANT_INCLUDED', 'USE_POP_INC', 'NUM_OF_VIOLATIONS'),\n ('NUMBER_OF_PROTESTS', 'QUANT_INCLUDED', 'LATITUDE', 'NUM_OF_VIOLATIONS'),\n ('NUMBER_OF_PROTESTS', 'USE_POP_INC', 'LATITUDE', 'NUM_OF_VIOLATIONS'),\n ('QUANT_INCLUDED', 'USE_POP_INC', 'LATITUDE', 'NUM_OF_VIOLATIONS'),\n ('USE_COUNT',\n  'NUMBER_OF_PROTESTS',\n  'QUANT_INCLUDED',\n  'USE_POP_INC',\n  'LATITUDE'),\n ('USE_COUNT',\n  'NUMBER_OF_PROTESTS',\n  'QUANT_INCLUDED',\n  'USE_POP_INC',\n  'NUM_OF_VIOLATIONS'),\n ('USE_COUNT',\n  'NUMBER_OF_PROTESTS',\n  'QUANT_INCLUDED',\n  'LATITUDE',\n  'NUM_OF_VIOLATIONS'),\n ('USE_COUNT',\n  'NUMBER_OF_PROTESTS',\n  'USE_POP_INC',\n  'LATITUDE',\n  'NUM_OF_VIOLATIONS'),\n ('USE_COUNT',\n  'QUANT_INCLUDED',\n  'USE_POP_INC',\n  'LATITUDE',\n  'NUM_OF_VIOLATIONS'),\n ('NUMBER_OF_PROTESTS',\n  'QUANT_INCLUDED',\n  'USE_POP_INC',\n  'LATITUDE',\n  'NUM_OF_VIOLATIONS'),\n ('USE_COUNT',\n  'NUMBER_OF_PROTESTS',\n  'QUANT_INCLUDED',\n  'USE_POP_INC',\n  'LATITUDE',\n  'NUM_OF_VIOLATIONS')]"
     },
     "metadata": {}
    }
   ],
   "execution_count": null
  },
  {
   "cell_type": "markdown",
   "source": "The next two cell blocks add the grouped categorical variables to the list of combinations of features so that all columns containing information about the variables are added at once. ",
   "metadata": {
    "cell_id": "6fda550c08314977b01d36cdad281e6c",
    "tags": [],
    "deepnote_cell_type": "markdown",
    "deepnote_cell_height": 74
   }
  },
  {
   "cell_type": "code",
   "metadata": {
    "cell_id": "8e5a3e591c614287b453facff84b5524",
    "tags": [],
    "deepnote_to_be_reexecuted": false,
    "source_hash": "f03b3d5e",
    "execution_start": 1651705713576,
    "execution_millis": 0,
    "deepnote_cell_type": "code",
    "deepnote_cell_height": 189
   },
   "source": "final_1 = [prim_owner]\nfor a in combos:\n    b = list(a)\n    c = np.concatenate((b, prim_owner))\n    final_1.append(c)\n    \n",
   "outputs": [],
   "execution_count": null
  },
  {
   "cell_type": "code",
   "metadata": {
    "cell_id": "8e5b6082759b420093a25851af450189",
    "tags": [],
    "deepnote_to_be_reexecuted": false,
    "source_hash": "b01b4cd3",
    "execution_start": 1651705714392,
    "execution_millis": 8,
    "deepnote_cell_type": "code",
    "deepnote_cell_height": 189
   },
   "source": "final_2 = [use_code]\nfor a in final_1:\n    b = list(a)\n    c = np.concatenate((b, use_code))\n    final_2.append(c)\n\n",
   "outputs": [],
   "execution_count": null
  },
  {
   "cell_type": "markdown",
   "source": "Next, we standardized our data using the z-score. We did this to ensure that there will be less noise in our data that has the risk of skewing our model.",
   "metadata": {
    "cell_id": "b378ebec4eee4d9bae9270e251bec8e4",
    "tags": [],
    "deepnote_cell_type": "markdown",
    "deepnote_cell_height": 74
   }
  },
  {
   "cell_type": "markdown",
   "source": "Below we checked the number of water rights declared approved vs those not approved to validate our model's accuracy. ",
   "metadata": {
    "cell_id": "36d7f018ed1a4fe68643ca428ebdb82b",
    "tags": [],
    "deepnote_cell_type": "markdown",
    "deepnote_cell_height": 52
   }
  },
  {
   "cell_type": "code",
   "metadata": {
    "cell_id": "00007-9ff83f17-6f92-4ec4-b75a-487cdc909ec6",
    "deepnote_to_be_reexecuted": false,
    "source_hash": "f67269d4",
    "execution_start": 1651705721810,
    "execution_millis": 39,
    "deepnote_cell_type": "code",
    "deepnote_cell_height": 136,
    "deepnote_output_heights": [
     21
    ]
   },
   "source": "df[\"A/NP\"] = df[\"A/NP\"].astype(int)\ndf[df['A/NP'] == 1].shape, df.shape",
   "outputs": [
    {
     "output_type": "execute_result",
     "execution_count": 30,
     "data": {
      "text/plain": "((57081, 36), (72994, 36))"
     },
     "metadata": {}
    }
   ],
   "execution_count": null
  },
  {
   "cell_type": "code",
   "metadata": {
    "cell_id": "0351d85dc9c04766844e08c1cb54e509",
    "tags": [],
    "deepnote_to_be_reexecuted": false,
    "source_hash": "a826d1c5",
    "execution_start": 1651705722742,
    "execution_millis": 4,
    "deepnote_cell_type": "code",
    "deepnote_cell_height": 136,
    "deepnote_output_heights": [
     21
    ]
   },
   "source": "val[\"A/NP\"] = val[\"A/NP\"].astype(int)\nval.shape",
   "outputs": [
    {
     "output_type": "execute_result",
     "execution_count": 31,
     "data": {
      "text/plain": "(3510, 36)"
     },
     "metadata": {}
    }
   ],
   "execution_count": null
  },
  {
   "cell_type": "markdown",
   "source": "ACTION ITEMS:\n\nCalifornia Water right Inspection Dataset, use POI_DESCRIPTION_1 and regex to get Application ID, join table and use number of violations as feature, Standardize the features: https://towardsdatascience.com/feature-scaling-effectively-choose-input-variables-based-on-distributions-3032207c921f\nhttps://towardsdatascience.com/logistic-regression-explained-593e9ddb7c6c",
   "metadata": {
    "cell_id": "010bfabc2b4c4283bb83e2c6b5a45629",
    "tags": [],
    "deepnote_cell_type": "markdown",
    "deepnote_cell_height": 132
   }
  },
  {
   "cell_type": "markdown",
   "source": "### Logistic Regression Model",
   "metadata": {
    "cell_id": "01d5648544fb4cc1ac6ab4f6b468f171",
    "tags": [],
    "is_collapsed": false,
    "deepnote_cell_type": "text-cell-h3"
   }
  },
  {
   "cell_type": "markdown",
   "source": "We implemented a logistic regression model with our preprocessed data to predict whether a given water right application will be approved or not. We used feature selection to determine the best combination of independent variables that would help in predicting likelihood of approval.",
   "metadata": {
    "cell_id": "38f815ce126c40d68643fe5d3011fd73",
    "tags": [],
    "is_collapsed": false,
    "deepnote_cell_type": "text-cell-p"
   }
  },
  {
   "cell_type": "markdown",
   "source": "'QUANTITY_OF_WATER_DIVERTED', 'USE_COUNT', 'NUMBER_OF_PROTESTS': 0.7495147938368915\n'USE_POPULATION', 'NUMBER_OF_PROTESTS', prim_owner: 0.7499108805006536, 'USE_COUNT', 'NUM_OF_PROTESTS, prim_own,use_code: 0.7519309224858399, 'USE_COUNT', 'NUMBER_OF_PROTESTS', 'QUANT_INCLUDED', 'USE_POP_INC', PRIMARY_ENTITY, USE_CODE : 0.7533568344753833",
   "metadata": {
    "cell_id": "2e9065aaf5cd4a048b4f0e574cd1ae7b",
    "tags": [],
    "deepnote_cell_type": "markdown",
    "deepnote_cell_height": 118
   }
  },
  {
   "cell_type": "code",
   "metadata": {
    "cell_id": "b936e0b00e9a4539b007a13af3d653e2",
    "tags": [],
    "deepnote_to_be_reexecuted": false,
    "source_hash": "560fc1ba",
    "execution_start": 1651415677487,
    "execution_millis": 15,
    "deepnote_table_state": {
     "pageSize": 10,
     "pageIndex": 9,
     "filters": [],
     "sortBy": []
    },
    "deepnote_table_loading": false,
    "deepnote_cell_type": "code",
    "deepnote_cell_height": 726,
    "deepnote_output_heights": [
     611
    ]
   },
   "source": "\ndf.isnull().any()",
   "execution_count": null,
   "outputs": [
    {
     "output_type": "execute_result",
     "execution_count": 33,
     "data": {
      "text/plain": "FACE_VALUE_AMOUNT                                          False\nNUM_OF_VIOLATIONS                                          False\nUSE_COUNT                                                  False\nNUMBER_OF_PROTESTS                                         False\nCOUNT_NPO_OR_OTHER                                         False\nLATITUDE                                                   False\nPRIMARY_OWNER_ENTITY_TYPE_Estate                           False\nPRIMARY_OWNER_ENTITY_TYPE_Federal Government               False\nPRIMARY_OWNER_ENTITY_TYPE_Government (State/Municipal)     False\nPRIMARY_OWNER_ENTITY_TYPE_Individual                       False\nPRIMARY_OWNER_ENTITY_TYPE_Limited Liability Company        False\nPRIMARY_OWNER_ENTITY_TYPE_Limited Partner                  False\nPRIMARY_OWNER_ENTITY_TYPE_Organization/Association         False\nPRIMARY_OWNER_ENTITY_TYPE_Partnership or Co-owners         False\nPRIMARY_OWNER_ENTITY_TYPE_Receivership/Fiduciary           False\nPRIMARY_OWNER_ENTITY_TYPE_Trust                            False\nUSE_CODE_Aquaculture                                       False\nUSE_CODE_Domestic                                          False\nUSE_CODE_Dust Control                                      False\nUSE_CODE_Fire Protection                                   False\nUSE_CODE_Fish and Wildlife Preservation and Enhancement    False\nUSE_CODE_Frost Protection                                  False\nUSE_CODE_Heat Control                                      False\nUSE_CODE_Incidental Power                                  False\nUSE_CODE_Industrial                                        False\nUSE_CODE_Irrigation                                        False\nUSE_CODE_Mining                                            False\nUSE_CODE_Municipal                                         False\nUSE_CODE_Other                                             False\nUSE_CODE_Power                                             False\nUSE_CODE_Recreational                                      False\nUSE_CODE_Snow Making                                       False\nUSE_CODE_Stockwatering                                     False\nQUANT_INCLUDED                                             False\nUSE_POP_INC                                                False\nA/NP                                                       False\ndtype: bool"
     },
     "metadata": {}
    }
   ]
  },
  {
   "cell_type": "code",
   "metadata": {
    "cell_id": "00008-2b904d11-f378-4180-b0f4-4702d15d7f9d",
    "deepnote_to_be_reexecuted": false,
    "source_hash": "531c77c8",
    "execution_start": 1651705727357,
    "execution_millis": 155286,
    "deepnote_cell_type": "code",
    "deepnote_cell_height": 1613,
    "deepnote_output_heights": [
     382
    ]
   },
   "source": "from sklearn.model_selection import train_test_split\nfrom sklearn.linear_model import LogisticRegression\nfrom sklearn.metrics import accuracy_score\nfrom sklearn.model_selection import KFold\nmodels = []\nhighest_so_far = 0\nbest_feats = []\neval_nums = []\nthe_tp = 0\nthe_p = 0\nthe_fp = 0\nthe_fn = 0 \nthe_tn = 0 \npredictions = None\n\nfor features in final_2: \n    X = df.loc[:, features]\n    \n    y = df.iloc[:, -1]\n    \n    X_train, X_test, y_train, y_test = train_test_split(X, y, test_size = 0.33, random_state = 42)\n    \n    \n    \n    model = LogisticRegression()\n    model.fit(X_train, y_train)\n        \n    y_test = y_test.to_numpy()\n    \n    predicts = model.predict(X_test)\n    tp = np.sum((predicts == 1) & (y_test == 1))\n    tn = np.sum((predicts == 0) & (y_test == 0))\n\n    fp = np.sum((predicts == 1) & (y_test == 0))\n    fn = np.sum((predicts == 0) & (y_test == 1))\n    Precision = tp / (tp + fp)\n    Recall = tp/ (tp + fn)\n    f_1_score = 2 * (Precision * Recall) / (Precision + Recall)\n\n    \n    eval_nums.append(f_1_score)\n        \n\n\n\n    if f_1_score > highest_so_far: \n        the_tp = tp\n        the_fp = fp\n        the_tn = tn\n        the_fn = fn\n        highest_so_far = f_1_score      \n        models.append(model)\n        best_feats.append(features)\n        predictions = model.predict(X_test)\n        \n\n           \nbest = best_feats[-1]\nhighest_so_far, best, \n\n\n    \n\n",
   "outputs": [
    {
     "output_type": "execute_result",
     "execution_count": 32,
     "data": {
      "text/plain": "(0.8784464381925086,\n array(['USE_COUNT', 'QUANT_INCLUDED', 'LATITUDE',\n        'PRIMARY_OWNER_ENTITY_TYPE_Estate',\n        'PRIMARY_OWNER_ENTITY_TYPE_Federal Government',\n        'PRIMARY_OWNER_ENTITY_TYPE_Government (State/Municipal)',\n        'PRIMARY_OWNER_ENTITY_TYPE_Individual',\n        'PRIMARY_OWNER_ENTITY_TYPE_Limited Liability Company',\n        'PRIMARY_OWNER_ENTITY_TYPE_Limited Partner',\n        'PRIMARY_OWNER_ENTITY_TYPE_Organization/Association',\n        'PRIMARY_OWNER_ENTITY_TYPE_Partnership or Co-owners',\n        'PRIMARY_OWNER_ENTITY_TYPE_Receivership/Fiduciary',\n        'PRIMARY_OWNER_ENTITY_TYPE_Trust', 'USE_CODE_Aquaculture',\n        'USE_CODE_Domestic', 'USE_CODE_Dust Control',\n        'USE_CODE_Fire Protection',\n        'USE_CODE_Fish and Wildlife Preservation and Enhancement',\n        'USE_CODE_Frost Protection', 'USE_CODE_Heat Control',\n        'USE_CODE_Incidental Power', 'USE_CODE_Industrial',\n        'USE_CODE_Irrigation', 'USE_CODE_Mining', 'USE_CODE_Municipal',\n        'USE_CODE_Other', 'USE_CODE_Power', 'USE_CODE_Recreational',\n        'USE_CODE_Snow Making', 'USE_CODE_Stockwatering'], dtype=object))"
     },
     "metadata": {}
    }
   ],
   "execution_count": null
  },
  {
   "cell_type": "code",
   "metadata": {
    "cell_id": "4e8830e1092a40cbbd0818110f8eaad0",
    "tags": [],
    "deepnote_to_be_reexecuted": false,
    "source_hash": "763c4d5c",
    "execution_start": 1651415764044,
    "execution_millis": 2,
    "owner_user_id": "7f5d2434-934a-4f12-a306-d61bb160eb29",
    "deepnote_cell_type": "code",
    "deepnote_cell_height": 213,
    "deepnote_output_heights": [
     116
    ]
   },
   "source": "models[-1].coef_",
   "execution_count": null,
   "outputs": [
    {
     "output_type": "execute_result",
     "execution_count": 35,
     "data": {
      "text/plain": "array([[-0.12680069, -0.49684055,  0.20560288,  0.90037494,  1.20516334,\n         0.99082541, -0.04592837,  0.81808715,  1.01320687,  0.78381997,\n         0.20753377,  0.18981932,  0.47315484,  1.0964044 ,  0.80967679,\n         1.57134417,  1.30924595,  1.57541951,  0.98981758,  0.76535502,\n         0.54527413,  0.47193259,  0.68874061, -0.17833455,  0.19784244,\n        -0.53283182,  0.94956777,  1.64510505, -0.03707982,  1.66662679]])"
     },
     "metadata": {}
    }
   ]
  },
  {
   "cell_type": "code",
   "metadata": {
    "cell_id": "17a767f509bd40a2b4c846eb85aa7147",
    "tags": [],
    "deepnote_to_be_reexecuted": false,
    "source_hash": "c37e49fa",
    "execution_start": 1651706389258,
    "execution_millis": 56,
    "deepnote_cell_type": "code",
    "deepnote_cell_height": 290
   },
   "source": "from sklearn.metrics import classification_report\nprint(classification_report(y_test,predictions))",
   "outputs": [
    {
     "name": "stdout",
     "text": "              precision    recall  f1-score   support\n\n           0       0.77      0.03      0.05      5294\n           1       0.78      1.00      0.88     18795\n\n    accuracy                           0.78     24089\n   macro avg       0.78      0.51      0.47     24089\nweighted avg       0.78      0.78      0.70     24089\n\n",
     "output_type": "stream"
    }
   ],
   "execution_count": null
  },
  {
   "cell_type": "markdown",
   "source": "Best F1 score: 0.8784350474405528\n\nBest features: ['USE_COUNT', 'NUMBER_OF_PROTESTS', 'QUANT_INCLUDED', 'LATITUDE',\n        'PRIMARY_OWNER_ENTITY_TYPE_Estate',\n        'PRIMARY_OWNER_ENTITY_TYPE_Federal Government',\n        'PRIMARY_OWNER_ENTITY_TYPE_Government (State/Municipal)',\n        'PRIMARY_OWNER_ENTITY_TYPE_Individual',\n        'PRIMARY_OWNER_ENTITY_TYPE_Joint Venture',\n        'PRIMARY_OWNER_ENTITY_TYPE_Limited Liability Company',\n        'PRIMARY_OWNER_ENTITY_TYPE_Limited Partner',\n        'PRIMARY_OWNER_ENTITY_TYPE_Organization/Association',\n        'PRIMARY_OWNER_ENTITY_TYPE_Partnership or Co-owners',\n        'PRIMARY_OWNER_ENTITY_TYPE_Receivership/Fiduciary',\n        'PRIMARY_OWNER_ENTITY_TYPE_Trust', 'USE_CODE_Aquaculture',\n        'USE_CODE_Domestic', 'USE_CODE_Dust Control',\n        'USE_CODE_Fire Protection',\n        'USE_CODE_Fish and Wildlife Preservation and Enhancement',\n        'USE_CODE_Frost Protection', 'USE_CODE_Heat Control',\n        'USE_CODE_Incidental Power', 'USE_CODE_Industrial',\n        'USE_CODE_Irrigation', 'USE_CODE_Milling', 'USE_CODE_Mining',\n        'USE_CODE_Municipal', 'USE_CODE_Other', 'USE_CODE_Power',\n        'USE_CODE_Recreational', 'USE_CODE_Snow Making',\n        'USE_CODE_Stockwatering', 'USE_CODE_Water Quality']",
   "metadata": {
    "cell_id": "01abdb160d64479c894a722f38f56dcd",
    "tags": [],
    "deepnote_cell_type": "markdown",
    "deepnote_cell_height": 308
   }
  },
  {
   "cell_type": "code",
   "metadata": {
    "cell_id": "4a88074f4da14429aef0b7c3410a77e0",
    "tags": [],
    "deepnote_to_be_reexecuted": false,
    "source_hash": "ee16c24f",
    "execution_start": 1651415764044,
    "execution_millis": 1313252,
    "deepnote_cell_type": "code",
    "deepnote_cell_height": 172,
    "deepnote_output_heights": [
     21
    ]
   },
   "source": "np.mean([1.09640021,  0.80970263,\n         1.57133303,  1.30924651,  1.57535537,  0.98984211,  0.76541329,\n         0.54546276,  0.47185806,  0.68877228, -0.17845401,  0.19787049,\n        -0.53284911,  0.94960489,  1.645136  , -0.03709372,  1.66666025 ])",
   "execution_count": null,
   "outputs": [
    {
     "output_type": "execute_result",
     "execution_count": 36,
     "data": {
      "text/plain": "0.7961330023529412"
     },
     "metadata": {}
    }
   ]
  },
  {
   "cell_type": "code",
   "metadata": {
    "cell_id": "717b4d7e4d8a4480b60c8205ad1fe0cd",
    "tags": [],
    "deepnote_to_be_reexecuted": false,
    "source_hash": "9221a405",
    "execution_start": 1651415764088,
    "execution_millis": 67,
    "deepnote_cell_type": "code",
    "deepnote_cell_height": 272
   },
   "source": "X_train.head(2)",
   "execution_count": null,
   "outputs": [
    {
     "output_type": "execute_result",
     "execution_count": 37,
     "data": {
      "application/vnd.deepnote.dataframe.v3+json": {
       "column_count": 33,
       "row_count": 2,
       "columns": [
        {
         "name": "USE_COUNT",
         "dtype": "float64",
         "stats": {
          "unique_count": 2,
          "nan_count": 0,
          "min": "0.659908198650559",
          "max": "1.5859210990369428",
          "histogram": [
           {
            "bin_start": 0.659908198650559,
            "bin_end": 0.7525094886891974,
            "count": 1
           },
           {
            "bin_start": 0.7525094886891974,
            "bin_end": 0.8451107787278358,
            "count": 0
           },
           {
            "bin_start": 0.8451107787278358,
            "bin_end": 0.9377120687664742,
            "count": 0
           },
           {
            "bin_start": 0.9377120687664742,
            "bin_end": 1.0303133588051125,
            "count": 0
           },
           {
            "bin_start": 1.0303133588051125,
            "bin_end": 1.122914648843751,
            "count": 0
           },
           {
            "bin_start": 1.122914648843751,
            "bin_end": 1.2155159388823893,
            "count": 0
           },
           {
            "bin_start": 1.2155159388823893,
            "bin_end": 1.3081172289210277,
            "count": 0
           },
           {
            "bin_start": 1.3081172289210277,
            "bin_end": 1.400718518959666,
            "count": 0
           },
           {
            "bin_start": 1.400718518959666,
            "bin_end": 1.4933198089983044,
            "count": 0
           },
           {
            "bin_start": 1.4933198089983044,
            "bin_end": 1.5859210990369428,
            "count": 1
           }
          ]
         }
        },
        {
         "name": "NUMBER_OF_PROTESTS",
         "dtype": "float64",
         "stats": {
          "unique_count": 1,
          "nan_count": 0,
          "min": "-0.06359600006433046",
          "max": "-0.06359600006433046",
          "histogram": [
           {
            "bin_start": -0.5635960000643304,
            "bin_end": -0.46359600006433044,
            "count": 0
           },
           {
            "bin_start": -0.46359600006433044,
            "bin_end": -0.3635960000643304,
            "count": 0
           },
           {
            "bin_start": -0.3635960000643304,
            "bin_end": -0.26359600006433037,
            "count": 0
           },
           {
            "bin_start": -0.26359600006433037,
            "bin_end": -0.1635960000643304,
            "count": 0
           },
           {
            "bin_start": -0.1635960000643304,
            "bin_end": -0.06359600006433042,
            "count": 2
           },
           {
            "bin_start": -0.06359600006433042,
            "bin_end": 0.03640399993566967,
            "count": 0
           },
           {
            "bin_start": 0.03640399993566967,
            "bin_end": 0.13640399993566965,
            "count": 0
           },
           {
            "bin_start": 0.13640399993566965,
            "bin_end": 0.23640399993566963,
            "count": 0
           },
           {
            "bin_start": 0.23640399993566963,
            "bin_end": 0.3364039999356696,
            "count": 0
           },
           {
            "bin_start": 0.3364039999356696,
            "bin_end": 0.43640399993566953,
            "count": 0
           }
          ]
         }
        },
        {
         "name": "QUANT_INCLUDED",
         "dtype": "bool",
         "stats": {
          "unique_count": 1,
          "nan_count": 0,
          "categories": [
           {
            "name": "True",
            "count": 2
           }
          ]
         }
        },
        {
         "name": "USE_POP_INC",
         "dtype": "bool",
         "stats": {
          "unique_count": 1,
          "nan_count": 0,
          "categories": [
           {
            "name": "False",
            "count": 2
           }
          ]
         }
        },
        {
         "name": "LATITUDE",
         "dtype": "float64",
         "stats": {
          "unique_count": 2,
          "nan_count": 0,
          "min": "-0.6031618393421169",
          "max": "-0.5767240472069427",
          "histogram": [
           {
            "bin_start": -0.6031618393421169,
            "bin_end": -0.6005180601285994,
            "count": 1
           },
           {
            "bin_start": -0.6005180601285994,
            "bin_end": -0.597874280915082,
            "count": 0
           },
           {
            "bin_start": -0.597874280915082,
            "bin_end": -0.5952305017015647,
            "count": 0
           },
           {
            "bin_start": -0.5952305017015647,
            "bin_end": -0.5925867224880472,
            "count": 0
           },
           {
            "bin_start": -0.5925867224880472,
            "bin_end": -0.5899429432745298,
            "count": 0
           },
           {
            "bin_start": -0.5899429432745298,
            "bin_end": -0.5872991640610123,
            "count": 0
           },
           {
            "bin_start": -0.5872991640610123,
            "bin_end": -0.5846553848474949,
            "count": 0
           },
           {
            "bin_start": -0.5846553848474949,
            "bin_end": -0.5820116056339776,
            "count": 0
           },
           {
            "bin_start": -0.5820116056339776,
            "bin_end": -0.5793678264204601,
            "count": 0
           },
           {
            "bin_start": -0.5793678264204601,
            "bin_end": -0.5767240472069427,
            "count": 1
           }
          ]
         }
        },
        {
         "name": "NUM_OF_VIOLATIONS",
         "dtype": "float64",
         "stats": {
          "unique_count": 1,
          "nan_count": 0,
          "min": "-0.13421535966359505",
          "max": "-0.13421535966359505",
          "histogram": [
           {
            "bin_start": -0.6342153596635951,
            "bin_end": -0.5342153596635951,
            "count": 0
           },
           {
            "bin_start": -0.5342153596635951,
            "bin_end": -0.4342153596635951,
            "count": 0
           },
           {
            "bin_start": -0.4342153596635951,
            "bin_end": -0.33421535966359506,
            "count": 0
           },
           {
            "bin_start": -0.33421535966359506,
            "bin_end": -0.23421535966359508,
            "count": 0
           },
           {
            "bin_start": -0.23421535966359508,
            "bin_end": -0.1342153596635951,
            "count": 0
           },
           {
            "bin_start": -0.1342153596635951,
            "bin_end": -0.03421535966359501,
            "count": 2
           },
           {
            "bin_start": -0.03421535966359501,
            "bin_end": 0.06578464033640496,
            "count": 0
           },
           {
            "bin_start": 0.06578464033640496,
            "bin_end": 0.16578464033640494,
            "count": 0
           },
           {
            "bin_start": 0.16578464033640494,
            "bin_end": 0.2657846403364049,
            "count": 0
           },
           {
            "bin_start": 0.2657846403364049,
            "bin_end": 0.36578464033640495,
            "count": 0
           }
          ]
         }
        },
        {
         "name": "PRIMARY_OWNER_ENTITY_TYPE_Estate",
         "dtype": "uint8",
         "stats": {
          "unique_count": 1,
          "nan_count": 0,
          "min": "0",
          "max": "0",
          "histogram": [
           {
            "bin_start": -0.5,
            "bin_end": -0.4,
            "count": 0
           },
           {
            "bin_start": -0.4,
            "bin_end": -0.3,
            "count": 0
           },
           {
            "bin_start": -0.3,
            "bin_end": -0.19999999999999996,
            "count": 0
           },
           {
            "bin_start": -0.19999999999999996,
            "bin_end": -0.09999999999999998,
            "count": 0
           },
           {
            "bin_start": -0.09999999999999998,
            "bin_end": 0,
            "count": 0
           },
           {
            "bin_start": 0,
            "bin_end": 0.10000000000000009,
            "count": 2
           },
           {
            "bin_start": 0.10000000000000009,
            "bin_end": 0.20000000000000007,
            "count": 0
           },
           {
            "bin_start": 0.20000000000000007,
            "bin_end": 0.30000000000000004,
            "count": 0
           },
           {
            "bin_start": 0.30000000000000004,
            "bin_end": 0.4,
            "count": 0
           },
           {
            "bin_start": 0.4,
            "bin_end": 0.5,
            "count": 0
           }
          ]
         }
        },
        {
         "name": "PRIMARY_OWNER_ENTITY_TYPE_Federal Government",
         "dtype": "uint8",
         "stats": {
          "unique_count": 1,
          "nan_count": 0,
          "min": "0",
          "max": "0",
          "histogram": [
           {
            "bin_start": -0.5,
            "bin_end": -0.4,
            "count": 0
           },
           {
            "bin_start": -0.4,
            "bin_end": -0.3,
            "count": 0
           },
           {
            "bin_start": -0.3,
            "bin_end": -0.19999999999999996,
            "count": 0
           },
           {
            "bin_start": -0.19999999999999996,
            "bin_end": -0.09999999999999998,
            "count": 0
           },
           {
            "bin_start": -0.09999999999999998,
            "bin_end": 0,
            "count": 0
           },
           {
            "bin_start": 0,
            "bin_end": 0.10000000000000009,
            "count": 2
           },
           {
            "bin_start": 0.10000000000000009,
            "bin_end": 0.20000000000000007,
            "count": 0
           },
           {
            "bin_start": 0.20000000000000007,
            "bin_end": 0.30000000000000004,
            "count": 0
           },
           {
            "bin_start": 0.30000000000000004,
            "bin_end": 0.4,
            "count": 0
           },
           {
            "bin_start": 0.4,
            "bin_end": 0.5,
            "count": 0
           }
          ]
         }
        },
        {
         "name": "PRIMARY_OWNER_ENTITY_TYPE_Government (State/Municipal)",
         "dtype": "uint8",
         "stats": {
          "unique_count": 1,
          "nan_count": 0,
          "min": "0",
          "max": "0",
          "histogram": [
           {
            "bin_start": -0.5,
            "bin_end": -0.4,
            "count": 0
           },
           {
            "bin_start": -0.4,
            "bin_end": -0.3,
            "count": 0
           },
           {
            "bin_start": -0.3,
            "bin_end": -0.19999999999999996,
            "count": 0
           },
           {
            "bin_start": -0.19999999999999996,
            "bin_end": -0.09999999999999998,
            "count": 0
           },
           {
            "bin_start": -0.09999999999999998,
            "bin_end": 0,
            "count": 0
           },
           {
            "bin_start": 0,
            "bin_end": 0.10000000000000009,
            "count": 2
           },
           {
            "bin_start": 0.10000000000000009,
            "bin_end": 0.20000000000000007,
            "count": 0
           },
           {
            "bin_start": 0.20000000000000007,
            "bin_end": 0.30000000000000004,
            "count": 0
           },
           {
            "bin_start": 0.30000000000000004,
            "bin_end": 0.4,
            "count": 0
           },
           {
            "bin_start": 0.4,
            "bin_end": 0.5,
            "count": 0
           }
          ]
         }
        },
        {
         "name": "PRIMARY_OWNER_ENTITY_TYPE_Individual",
         "dtype": "uint8",
         "stats": {
          "unique_count": 2,
          "nan_count": 0,
          "min": "0",
          "max": "1",
          "histogram": [
           {
            "bin_start": 0,
            "bin_end": 0.1,
            "count": 1
           },
           {
            "bin_start": 0.1,
            "bin_end": 0.2,
            "count": 0
           },
           {
            "bin_start": 0.2,
            "bin_end": 0.30000000000000004,
            "count": 0
           },
           {
            "bin_start": 0.30000000000000004,
            "bin_end": 0.4,
            "count": 0
           },
           {
            "bin_start": 0.4,
            "bin_end": 0.5,
            "count": 0
           },
           {
            "bin_start": 0.5,
            "bin_end": 0.6000000000000001,
            "count": 0
           },
           {
            "bin_start": 0.6000000000000001,
            "bin_end": 0.7000000000000001,
            "count": 0
           },
           {
            "bin_start": 0.7000000000000001,
            "bin_end": 0.8,
            "count": 0
           },
           {
            "bin_start": 0.8,
            "bin_end": 0.9,
            "count": 0
           },
           {
            "bin_start": 0.9,
            "bin_end": 1,
            "count": 1
           }
          ]
         }
        },
        {
         "name": "PRIMARY_OWNER_ENTITY_TYPE_Limited Liability Company",
         "dtype": "uint8",
         "stats": {
          "unique_count": 1,
          "nan_count": 0,
          "min": "0",
          "max": "0",
          "histogram": [
           {
            "bin_start": -0.5,
            "bin_end": -0.4,
            "count": 0
           },
           {
            "bin_start": -0.4,
            "bin_end": -0.3,
            "count": 0
           },
           {
            "bin_start": -0.3,
            "bin_end": -0.19999999999999996,
            "count": 0
           },
           {
            "bin_start": -0.19999999999999996,
            "bin_end": -0.09999999999999998,
            "count": 0
           },
           {
            "bin_start": -0.09999999999999998,
            "bin_end": 0,
            "count": 0
           },
           {
            "bin_start": 0,
            "bin_end": 0.10000000000000009,
            "count": 2
           },
           {
            "bin_start": 0.10000000000000009,
            "bin_end": 0.20000000000000007,
            "count": 0
           },
           {
            "bin_start": 0.20000000000000007,
            "bin_end": 0.30000000000000004,
            "count": 0
           },
           {
            "bin_start": 0.30000000000000004,
            "bin_end": 0.4,
            "count": 0
           },
           {
            "bin_start": 0.4,
            "bin_end": 0.5,
            "count": 0
           }
          ]
         }
        },
        {
         "name": "PRIMARY_OWNER_ENTITY_TYPE_Limited Partner",
         "dtype": "uint8",
         "stats": {
          "unique_count": 1,
          "nan_count": 0,
          "min": "0",
          "max": "0",
          "histogram": [
           {
            "bin_start": -0.5,
            "bin_end": -0.4,
            "count": 0
           },
           {
            "bin_start": -0.4,
            "bin_end": -0.3,
            "count": 0
           },
           {
            "bin_start": -0.3,
            "bin_end": -0.19999999999999996,
            "count": 0
           },
           {
            "bin_start": -0.19999999999999996,
            "bin_end": -0.09999999999999998,
            "count": 0
           },
           {
            "bin_start": -0.09999999999999998,
            "bin_end": 0,
            "count": 0
           },
           {
            "bin_start": 0,
            "bin_end": 0.10000000000000009,
            "count": 2
           },
           {
            "bin_start": 0.10000000000000009,
            "bin_end": 0.20000000000000007,
            "count": 0
           },
           {
            "bin_start": 0.20000000000000007,
            "bin_end": 0.30000000000000004,
            "count": 0
           },
           {
            "bin_start": 0.30000000000000004,
            "bin_end": 0.4,
            "count": 0
           },
           {
            "bin_start": 0.4,
            "bin_end": 0.5,
            "count": 0
           }
          ]
         }
        },
        {
         "name": "PRIMARY_OWNER_ENTITY_TYPE_Organization/Association",
         "dtype": "uint8",
         "stats": {
          "unique_count": 1,
          "nan_count": 0,
          "min": "0",
          "max": "0",
          "histogram": [
           {
            "bin_start": -0.5,
            "bin_end": -0.4,
            "count": 0
           },
           {
            "bin_start": -0.4,
            "bin_end": -0.3,
            "count": 0
           },
           {
            "bin_start": -0.3,
            "bin_end": -0.19999999999999996,
            "count": 0
           },
           {
            "bin_start": -0.19999999999999996,
            "bin_end": -0.09999999999999998,
            "count": 0
           },
           {
            "bin_start": -0.09999999999999998,
            "bin_end": 0,
            "count": 0
           },
           {
            "bin_start": 0,
            "bin_end": 0.10000000000000009,
            "count": 2
           },
           {
            "bin_start": 0.10000000000000009,
            "bin_end": 0.20000000000000007,
            "count": 0
           },
           {
            "bin_start": 0.20000000000000007,
            "bin_end": 0.30000000000000004,
            "count": 0
           },
           {
            "bin_start": 0.30000000000000004,
            "bin_end": 0.4,
            "count": 0
           },
           {
            "bin_start": 0.4,
            "bin_end": 0.5,
            "count": 0
           }
          ]
         }
        },
        {
         "name": "PRIMARY_OWNER_ENTITY_TYPE_Partnership or Co-owners",
         "dtype": "uint8",
         "stats": {
          "unique_count": 1,
          "nan_count": 0,
          "min": "0",
          "max": "0",
          "histogram": [
           {
            "bin_start": -0.5,
            "bin_end": -0.4,
            "count": 0
           },
           {
            "bin_start": -0.4,
            "bin_end": -0.3,
            "count": 0
           },
           {
            "bin_start": -0.3,
            "bin_end": -0.19999999999999996,
            "count": 0
           },
           {
            "bin_start": -0.19999999999999996,
            "bin_end": -0.09999999999999998,
            "count": 0
           },
           {
            "bin_start": -0.09999999999999998,
            "bin_end": 0,
            "count": 0
           },
           {
            "bin_start": 0,
            "bin_end": 0.10000000000000009,
            "count": 2
           },
           {
            "bin_start": 0.10000000000000009,
            "bin_end": 0.20000000000000007,
            "count": 0
           },
           {
            "bin_start": 0.20000000000000007,
            "bin_end": 0.30000000000000004,
            "count": 0
           },
           {
            "bin_start": 0.30000000000000004,
            "bin_end": 0.4,
            "count": 0
           },
           {
            "bin_start": 0.4,
            "bin_end": 0.5,
            "count": 0
           }
          ]
         }
        },
        {
         "name": "PRIMARY_OWNER_ENTITY_TYPE_Receivership/Fiduciary",
         "dtype": "uint8",
         "stats": {
          "unique_count": 1,
          "nan_count": 0,
          "min": "0",
          "max": "0",
          "histogram": [
           {
            "bin_start": -0.5,
            "bin_end": -0.4,
            "count": 0
           },
           {
            "bin_start": -0.4,
            "bin_end": -0.3,
            "count": 0
           },
           {
            "bin_start": -0.3,
            "bin_end": -0.19999999999999996,
            "count": 0
           },
           {
            "bin_start": -0.19999999999999996,
            "bin_end": -0.09999999999999998,
            "count": 0
           },
           {
            "bin_start": -0.09999999999999998,
            "bin_end": 0,
            "count": 0
           },
           {
            "bin_start": 0,
            "bin_end": 0.10000000000000009,
            "count": 2
           },
           {
            "bin_start": 0.10000000000000009,
            "bin_end": 0.20000000000000007,
            "count": 0
           },
           {
            "bin_start": 0.20000000000000007,
            "bin_end": 0.30000000000000004,
            "count": 0
           },
           {
            "bin_start": 0.30000000000000004,
            "bin_end": 0.4,
            "count": 0
           },
           {
            "bin_start": 0.4,
            "bin_end": 0.5,
            "count": 0
           }
          ]
         }
        },
        {
         "name": "PRIMARY_OWNER_ENTITY_TYPE_Trust",
         "dtype": "uint8",
         "stats": {
          "unique_count": 1,
          "nan_count": 0,
          "min": "0",
          "max": "0",
          "histogram": [
           {
            "bin_start": -0.5,
            "bin_end": -0.4,
            "count": 0
           },
           {
            "bin_start": -0.4,
            "bin_end": -0.3,
            "count": 0
           },
           {
            "bin_start": -0.3,
            "bin_end": -0.19999999999999996,
            "count": 0
           },
           {
            "bin_start": -0.19999999999999996,
            "bin_end": -0.09999999999999998,
            "count": 0
           },
           {
            "bin_start": -0.09999999999999998,
            "bin_end": 0,
            "count": 0
           },
           {
            "bin_start": 0,
            "bin_end": 0.10000000000000009,
            "count": 2
           },
           {
            "bin_start": 0.10000000000000009,
            "bin_end": 0.20000000000000007,
            "count": 0
           },
           {
            "bin_start": 0.20000000000000007,
            "bin_end": 0.30000000000000004,
            "count": 0
           },
           {
            "bin_start": 0.30000000000000004,
            "bin_end": 0.4,
            "count": 0
           },
           {
            "bin_start": 0.4,
            "bin_end": 0.5,
            "count": 0
           }
          ]
         }
        },
        {
         "name": "USE_CODE_Aquaculture",
         "dtype": "uint8",
         "stats": {
          "unique_count": 1,
          "nan_count": 0,
          "min": "0",
          "max": "0",
          "histogram": [
           {
            "bin_start": -0.5,
            "bin_end": -0.4,
            "count": 0
           },
           {
            "bin_start": -0.4,
            "bin_end": -0.3,
            "count": 0
           },
           {
            "bin_start": -0.3,
            "bin_end": -0.19999999999999996,
            "count": 0
           },
           {
            "bin_start": -0.19999999999999996,
            "bin_end": -0.09999999999999998,
            "count": 0
           },
           {
            "bin_start": -0.09999999999999998,
            "bin_end": 0,
            "count": 0
           },
           {
            "bin_start": 0,
            "bin_end": 0.10000000000000009,
            "count": 2
           },
           {
            "bin_start": 0.10000000000000009,
            "bin_end": 0.20000000000000007,
            "count": 0
           },
           {
            "bin_start": 0.20000000000000007,
            "bin_end": 0.30000000000000004,
            "count": 0
           },
           {
            "bin_start": 0.30000000000000004,
            "bin_end": 0.4,
            "count": 0
           },
           {
            "bin_start": 0.4,
            "bin_end": 0.5,
            "count": 0
           }
          ]
         }
        },
        {
         "name": "USE_CODE_Domestic",
         "dtype": "uint8",
         "stats": {
          "unique_count": 2,
          "nan_count": 0,
          "min": "0",
          "max": "1",
          "histogram": [
           {
            "bin_start": 0,
            "bin_end": 0.1,
            "count": 1
           },
           {
            "bin_start": 0.1,
            "bin_end": 0.2,
            "count": 0
           },
           {
            "bin_start": 0.2,
            "bin_end": 0.30000000000000004,
            "count": 0
           },
           {
            "bin_start": 0.30000000000000004,
            "bin_end": 0.4,
            "count": 0
           },
           {
            "bin_start": 0.4,
            "bin_end": 0.5,
            "count": 0
           },
           {
            "bin_start": 0.5,
            "bin_end": 0.6000000000000001,
            "count": 0
           },
           {
            "bin_start": 0.6000000000000001,
            "bin_end": 0.7000000000000001,
            "count": 0
           },
           {
            "bin_start": 0.7000000000000001,
            "bin_end": 0.8,
            "count": 0
           },
           {
            "bin_start": 0.8,
            "bin_end": 0.9,
            "count": 0
           },
           {
            "bin_start": 0.9,
            "bin_end": 1,
            "count": 1
           }
          ]
         }
        },
        {
         "name": "USE_CODE_Dust Control",
         "dtype": "uint8",
         "stats": {
          "unique_count": 1,
          "nan_count": 0,
          "min": "0",
          "max": "0",
          "histogram": [
           {
            "bin_start": -0.5,
            "bin_end": -0.4,
            "count": 0
           },
           {
            "bin_start": -0.4,
            "bin_end": -0.3,
            "count": 0
           },
           {
            "bin_start": -0.3,
            "bin_end": -0.19999999999999996,
            "count": 0
           },
           {
            "bin_start": -0.19999999999999996,
            "bin_end": -0.09999999999999998,
            "count": 0
           },
           {
            "bin_start": -0.09999999999999998,
            "bin_end": 0,
            "count": 0
           },
           {
            "bin_start": 0,
            "bin_end": 0.10000000000000009,
            "count": 2
           },
           {
            "bin_start": 0.10000000000000009,
            "bin_end": 0.20000000000000007,
            "count": 0
           },
           {
            "bin_start": 0.20000000000000007,
            "bin_end": 0.30000000000000004,
            "count": 0
           },
           {
            "bin_start": 0.30000000000000004,
            "bin_end": 0.4,
            "count": 0
           },
           {
            "bin_start": 0.4,
            "bin_end": 0.5,
            "count": 0
           }
          ]
         }
        },
        {
         "name": "USE_CODE_Fire Protection",
         "dtype": "uint8",
         "stats": {
          "unique_count": 1,
          "nan_count": 0,
          "min": "0",
          "max": "0",
          "histogram": [
           {
            "bin_start": -0.5,
            "bin_end": -0.4,
            "count": 0
           },
           {
            "bin_start": -0.4,
            "bin_end": -0.3,
            "count": 0
           },
           {
            "bin_start": -0.3,
            "bin_end": -0.19999999999999996,
            "count": 0
           },
           {
            "bin_start": -0.19999999999999996,
            "bin_end": -0.09999999999999998,
            "count": 0
           },
           {
            "bin_start": -0.09999999999999998,
            "bin_end": 0,
            "count": 0
           },
           {
            "bin_start": 0,
            "bin_end": 0.10000000000000009,
            "count": 2
           },
           {
            "bin_start": 0.10000000000000009,
            "bin_end": 0.20000000000000007,
            "count": 0
           },
           {
            "bin_start": 0.20000000000000007,
            "bin_end": 0.30000000000000004,
            "count": 0
           },
           {
            "bin_start": 0.30000000000000004,
            "bin_end": 0.4,
            "count": 0
           },
           {
            "bin_start": 0.4,
            "bin_end": 0.5,
            "count": 0
           }
          ]
         }
        },
        {
         "name": "USE_CODE_Fish and Wildlife Preservation and Enhancement",
         "dtype": "uint8",
         "stats": {
          "unique_count": 1,
          "nan_count": 0,
          "min": "0",
          "max": "0",
          "histogram": [
           {
            "bin_start": -0.5,
            "bin_end": -0.4,
            "count": 0
           },
           {
            "bin_start": -0.4,
            "bin_end": -0.3,
            "count": 0
           },
           {
            "bin_start": -0.3,
            "bin_end": -0.19999999999999996,
            "count": 0
           },
           {
            "bin_start": -0.19999999999999996,
            "bin_end": -0.09999999999999998,
            "count": 0
           },
           {
            "bin_start": -0.09999999999999998,
            "bin_end": 0,
            "count": 0
           },
           {
            "bin_start": 0,
            "bin_end": 0.10000000000000009,
            "count": 2
           },
           {
            "bin_start": 0.10000000000000009,
            "bin_end": 0.20000000000000007,
            "count": 0
           },
           {
            "bin_start": 0.20000000000000007,
            "bin_end": 0.30000000000000004,
            "count": 0
           },
           {
            "bin_start": 0.30000000000000004,
            "bin_end": 0.4,
            "count": 0
           },
           {
            "bin_start": 0.4,
            "bin_end": 0.5,
            "count": 0
           }
          ]
         }
        },
        {
         "name": "USE_CODE_Frost Protection",
         "dtype": "uint8",
         "stats": {
          "unique_count": 1,
          "nan_count": 0,
          "min": "0",
          "max": "0",
          "histogram": [
           {
            "bin_start": -0.5,
            "bin_end": -0.4,
            "count": 0
           },
           {
            "bin_start": -0.4,
            "bin_end": -0.3,
            "count": 0
           },
           {
            "bin_start": -0.3,
            "bin_end": -0.19999999999999996,
            "count": 0
           },
           {
            "bin_start": -0.19999999999999996,
            "bin_end": -0.09999999999999998,
            "count": 0
           },
           {
            "bin_start": -0.09999999999999998,
            "bin_end": 0,
            "count": 0
           },
           {
            "bin_start": 0,
            "bin_end": 0.10000000000000009,
            "count": 2
           },
           {
            "bin_start": 0.10000000000000009,
            "bin_end": 0.20000000000000007,
            "count": 0
           },
           {
            "bin_start": 0.20000000000000007,
            "bin_end": 0.30000000000000004,
            "count": 0
           },
           {
            "bin_start": 0.30000000000000004,
            "bin_end": 0.4,
            "count": 0
           },
           {
            "bin_start": 0.4,
            "bin_end": 0.5,
            "count": 0
           }
          ]
         }
        },
        {
         "name": "USE_CODE_Heat Control",
         "dtype": "uint8",
         "stats": {
          "unique_count": 1,
          "nan_count": 0,
          "min": "0",
          "max": "0",
          "histogram": [
           {
            "bin_start": -0.5,
            "bin_end": -0.4,
            "count": 0
           },
           {
            "bin_start": -0.4,
            "bin_end": -0.3,
            "count": 0
           },
           {
            "bin_start": -0.3,
            "bin_end": -0.19999999999999996,
            "count": 0
           },
           {
            "bin_start": -0.19999999999999996,
            "bin_end": -0.09999999999999998,
            "count": 0
           },
           {
            "bin_start": -0.09999999999999998,
            "bin_end": 0,
            "count": 0
           },
           {
            "bin_start": 0,
            "bin_end": 0.10000000000000009,
            "count": 2
           },
           {
            "bin_start": 0.10000000000000009,
            "bin_end": 0.20000000000000007,
            "count": 0
           },
           {
            "bin_start": 0.20000000000000007,
            "bin_end": 0.30000000000000004,
            "count": 0
           },
           {
            "bin_start": 0.30000000000000004,
            "bin_end": 0.4,
            "count": 0
           },
           {
            "bin_start": 0.4,
            "bin_end": 0.5,
            "count": 0
           }
          ]
         }
        },
        {
         "name": "USE_CODE_Incidental Power",
         "dtype": "uint8",
         "stats": {
          "unique_count": 1,
          "nan_count": 0,
          "min": "0",
          "max": "0",
          "histogram": [
           {
            "bin_start": -0.5,
            "bin_end": -0.4,
            "count": 0
           },
           {
            "bin_start": -0.4,
            "bin_end": -0.3,
            "count": 0
           },
           {
            "bin_start": -0.3,
            "bin_end": -0.19999999999999996,
            "count": 0
           },
           {
            "bin_start": -0.19999999999999996,
            "bin_end": -0.09999999999999998,
            "count": 0
           },
           {
            "bin_start": -0.09999999999999998,
            "bin_end": 0,
            "count": 0
           },
           {
            "bin_start": 0,
            "bin_end": 0.10000000000000009,
            "count": 2
           },
           {
            "bin_start": 0.10000000000000009,
            "bin_end": 0.20000000000000007,
            "count": 0
           },
           {
            "bin_start": 0.20000000000000007,
            "bin_end": 0.30000000000000004,
            "count": 0
           },
           {
            "bin_start": 0.30000000000000004,
            "bin_end": 0.4,
            "count": 0
           },
           {
            "bin_start": 0.4,
            "bin_end": 0.5,
            "count": 0
           }
          ]
         }
        },
        {
         "name": "USE_CODE_Industrial",
         "dtype": "uint8",
         "stats": {
          "unique_count": 1,
          "nan_count": 0,
          "min": "0",
          "max": "0",
          "histogram": [
           {
            "bin_start": -0.5,
            "bin_end": -0.4,
            "count": 0
           },
           {
            "bin_start": -0.4,
            "bin_end": -0.3,
            "count": 0
           },
           {
            "bin_start": -0.3,
            "bin_end": -0.19999999999999996,
            "count": 0
           },
           {
            "bin_start": -0.19999999999999996,
            "bin_end": -0.09999999999999998,
            "count": 0
           },
           {
            "bin_start": -0.09999999999999998,
            "bin_end": 0,
            "count": 0
           },
           {
            "bin_start": 0,
            "bin_end": 0.10000000000000009,
            "count": 2
           },
           {
            "bin_start": 0.10000000000000009,
            "bin_end": 0.20000000000000007,
            "count": 0
           },
           {
            "bin_start": 0.20000000000000007,
            "bin_end": 0.30000000000000004,
            "count": 0
           },
           {
            "bin_start": 0.30000000000000004,
            "bin_end": 0.4,
            "count": 0
           },
           {
            "bin_start": 0.4,
            "bin_end": 0.5,
            "count": 0
           }
          ]
         }
        },
        {
         "name": "USE_CODE_Irrigation",
         "dtype": "uint8",
         "stats": {
          "unique_count": 2,
          "nan_count": 0,
          "min": "0",
          "max": "1",
          "histogram": [
           {
            "bin_start": 0,
            "bin_end": 0.1,
            "count": 1
           },
           {
            "bin_start": 0.1,
            "bin_end": 0.2,
            "count": 0
           },
           {
            "bin_start": 0.2,
            "bin_end": 0.30000000000000004,
            "count": 0
           },
           {
            "bin_start": 0.30000000000000004,
            "bin_end": 0.4,
            "count": 0
           },
           {
            "bin_start": 0.4,
            "bin_end": 0.5,
            "count": 0
           },
           {
            "bin_start": 0.5,
            "bin_end": 0.6000000000000001,
            "count": 0
           },
           {
            "bin_start": 0.6000000000000001,
            "bin_end": 0.7000000000000001,
            "count": 0
           },
           {
            "bin_start": 0.7000000000000001,
            "bin_end": 0.8,
            "count": 0
           },
           {
            "bin_start": 0.8,
            "bin_end": 0.9,
            "count": 0
           },
           {
            "bin_start": 0.9,
            "bin_end": 1,
            "count": 1
           }
          ]
         }
        },
        {
         "name": "USE_CODE_Mining",
         "dtype": "uint8",
         "stats": {
          "unique_count": 1,
          "nan_count": 0,
          "min": "0",
          "max": "0",
          "histogram": [
           {
            "bin_start": -0.5,
            "bin_end": -0.4,
            "count": 0
           },
           {
            "bin_start": -0.4,
            "bin_end": -0.3,
            "count": 0
           },
           {
            "bin_start": -0.3,
            "bin_end": -0.19999999999999996,
            "count": 0
           },
           {
            "bin_start": -0.19999999999999996,
            "bin_end": -0.09999999999999998,
            "count": 0
           },
           {
            "bin_start": -0.09999999999999998,
            "bin_end": 0,
            "count": 0
           },
           {
            "bin_start": 0,
            "bin_end": 0.10000000000000009,
            "count": 2
           },
           {
            "bin_start": 0.10000000000000009,
            "bin_end": 0.20000000000000007,
            "count": 0
           },
           {
            "bin_start": 0.20000000000000007,
            "bin_end": 0.30000000000000004,
            "count": 0
           },
           {
            "bin_start": 0.30000000000000004,
            "bin_end": 0.4,
            "count": 0
           },
           {
            "bin_start": 0.4,
            "bin_end": 0.5,
            "count": 0
           }
          ]
         }
        },
        {
         "name": "USE_CODE_Municipal",
         "dtype": "uint8",
         "stats": {
          "unique_count": 1,
          "nan_count": 0,
          "min": "0",
          "max": "0",
          "histogram": [
           {
            "bin_start": -0.5,
            "bin_end": -0.4,
            "count": 0
           },
           {
            "bin_start": -0.4,
            "bin_end": -0.3,
            "count": 0
           },
           {
            "bin_start": -0.3,
            "bin_end": -0.19999999999999996,
            "count": 0
           },
           {
            "bin_start": -0.19999999999999996,
            "bin_end": -0.09999999999999998,
            "count": 0
           },
           {
            "bin_start": -0.09999999999999998,
            "bin_end": 0,
            "count": 0
           },
           {
            "bin_start": 0,
            "bin_end": 0.10000000000000009,
            "count": 2
           },
           {
            "bin_start": 0.10000000000000009,
            "bin_end": 0.20000000000000007,
            "count": 0
           },
           {
            "bin_start": 0.20000000000000007,
            "bin_end": 0.30000000000000004,
            "count": 0
           },
           {
            "bin_start": 0.30000000000000004,
            "bin_end": 0.4,
            "count": 0
           },
           {
            "bin_start": 0.4,
            "bin_end": 0.5,
            "count": 0
           }
          ]
         }
        },
        {
         "name": "USE_CODE_Other",
         "dtype": "uint8",
         "stats": {
          "unique_count": 1,
          "nan_count": 0,
          "min": "0",
          "max": "0",
          "histogram": [
           {
            "bin_start": -0.5,
            "bin_end": -0.4,
            "count": 0
           },
           {
            "bin_start": -0.4,
            "bin_end": -0.3,
            "count": 0
           },
           {
            "bin_start": -0.3,
            "bin_end": -0.19999999999999996,
            "count": 0
           },
           {
            "bin_start": -0.19999999999999996,
            "bin_end": -0.09999999999999998,
            "count": 0
           },
           {
            "bin_start": -0.09999999999999998,
            "bin_end": 0,
            "count": 0
           },
           {
            "bin_start": 0,
            "bin_end": 0.10000000000000009,
            "count": 2
           },
           {
            "bin_start": 0.10000000000000009,
            "bin_end": 0.20000000000000007,
            "count": 0
           },
           {
            "bin_start": 0.20000000000000007,
            "bin_end": 0.30000000000000004,
            "count": 0
           },
           {
            "bin_start": 0.30000000000000004,
            "bin_end": 0.4,
            "count": 0
           },
           {
            "bin_start": 0.4,
            "bin_end": 0.5,
            "count": 0
           }
          ]
         }
        },
        {
         "name": "USE_CODE_Power",
         "dtype": "uint8",
         "stats": {
          "unique_count": 1,
          "nan_count": 0,
          "min": "0",
          "max": "0",
          "histogram": [
           {
            "bin_start": -0.5,
            "bin_end": -0.4,
            "count": 0
           },
           {
            "bin_start": -0.4,
            "bin_end": -0.3,
            "count": 0
           },
           {
            "bin_start": -0.3,
            "bin_end": -0.19999999999999996,
            "count": 0
           },
           {
            "bin_start": -0.19999999999999996,
            "bin_end": -0.09999999999999998,
            "count": 0
           },
           {
            "bin_start": -0.09999999999999998,
            "bin_end": 0,
            "count": 0
           },
           {
            "bin_start": 0,
            "bin_end": 0.10000000000000009,
            "count": 2
           },
           {
            "bin_start": 0.10000000000000009,
            "bin_end": 0.20000000000000007,
            "count": 0
           },
           {
            "bin_start": 0.20000000000000007,
            "bin_end": 0.30000000000000004,
            "count": 0
           },
           {
            "bin_start": 0.30000000000000004,
            "bin_end": 0.4,
            "count": 0
           },
           {
            "bin_start": 0.4,
            "bin_end": 0.5,
            "count": 0
           }
          ]
         }
        },
        {
         "name": "USE_CODE_Recreational",
         "dtype": "uint8",
         "stats": {
          "unique_count": 1,
          "nan_count": 0,
          "min": "0",
          "max": "0",
          "histogram": [
           {
            "bin_start": -0.5,
            "bin_end": -0.4,
            "count": 0
           },
           {
            "bin_start": -0.4,
            "bin_end": -0.3,
            "count": 0
           },
           {
            "bin_start": -0.3,
            "bin_end": -0.19999999999999996,
            "count": 0
           },
           {
            "bin_start": -0.19999999999999996,
            "bin_end": -0.09999999999999998,
            "count": 0
           },
           {
            "bin_start": -0.09999999999999998,
            "bin_end": 0,
            "count": 0
           },
           {
            "bin_start": 0,
            "bin_end": 0.10000000000000009,
            "count": 2
           },
           {
            "bin_start": 0.10000000000000009,
            "bin_end": 0.20000000000000007,
            "count": 0
           },
           {
            "bin_start": 0.20000000000000007,
            "bin_end": 0.30000000000000004,
            "count": 0
           },
           {
            "bin_start": 0.30000000000000004,
            "bin_end": 0.4,
            "count": 0
           },
           {
            "bin_start": 0.4,
            "bin_end": 0.5,
            "count": 0
           }
          ]
         }
        },
        {
         "name": "USE_CODE_Snow Making",
         "dtype": "uint8",
         "stats": {
          "unique_count": 1,
          "nan_count": 0,
          "min": "0",
          "max": "0",
          "histogram": [
           {
            "bin_start": -0.5,
            "bin_end": -0.4,
            "count": 0
           },
           {
            "bin_start": -0.4,
            "bin_end": -0.3,
            "count": 0
           },
           {
            "bin_start": -0.3,
            "bin_end": -0.19999999999999996,
            "count": 0
           },
           {
            "bin_start": -0.19999999999999996,
            "bin_end": -0.09999999999999998,
            "count": 0
           },
           {
            "bin_start": -0.09999999999999998,
            "bin_end": 0,
            "count": 0
           },
           {
            "bin_start": 0,
            "bin_end": 0.10000000000000009,
            "count": 2
           },
           {
            "bin_start": 0.10000000000000009,
            "bin_end": 0.20000000000000007,
            "count": 0
           },
           {
            "bin_start": 0.20000000000000007,
            "bin_end": 0.30000000000000004,
            "count": 0
           },
           {
            "bin_start": 0.30000000000000004,
            "bin_end": 0.4,
            "count": 0
           },
           {
            "bin_start": 0.4,
            "bin_end": 0.5,
            "count": 0
           }
          ]
         }
        },
        {
         "name": "USE_CODE_Stockwatering",
         "dtype": "uint8",
         "stats": {
          "unique_count": 1,
          "nan_count": 0,
          "min": "0",
          "max": "0",
          "histogram": [
           {
            "bin_start": -0.5,
            "bin_end": -0.4,
            "count": 0
           },
           {
            "bin_start": -0.4,
            "bin_end": -0.3,
            "count": 0
           },
           {
            "bin_start": -0.3,
            "bin_end": -0.19999999999999996,
            "count": 0
           },
           {
            "bin_start": -0.19999999999999996,
            "bin_end": -0.09999999999999998,
            "count": 0
           },
           {
            "bin_start": -0.09999999999999998,
            "bin_end": 0,
            "count": 0
           },
           {
            "bin_start": 0,
            "bin_end": 0.10000000000000009,
            "count": 2
           },
           {
            "bin_start": 0.10000000000000009,
            "bin_end": 0.20000000000000007,
            "count": 0
           },
           {
            "bin_start": 0.20000000000000007,
            "bin_end": 0.30000000000000004,
            "count": 0
           },
           {
            "bin_start": 0.30000000000000004,
            "bin_end": 0.4,
            "count": 0
           },
           {
            "bin_start": 0.4,
            "bin_end": 0.5,
            "count": 0
           }
          ]
         }
        },
        {
         "name": "_deepnote_index_column",
         "dtype": "int64"
        }
       ],
       "rows": [
        {
         "USE_COUNT": 1.5859210990369428,
         "NUMBER_OF_PROTESTS": -0.06359600006433046,
         "QUANT_INCLUDED": true,
         "USE_POP_INC": false,
         "LATITUDE": -0.5767240472069427,
         "NUM_OF_VIOLATIONS": -0.13421535966359505,
         "PRIMARY_OWNER_ENTITY_TYPE_Estate": 0,
         "PRIMARY_OWNER_ENTITY_TYPE_Federal Government": 0,
         "PRIMARY_OWNER_ENTITY_TYPE_Government (State/Municipal)": 0,
         "PRIMARY_OWNER_ENTITY_TYPE_Individual": 1,
         "PRIMARY_OWNER_ENTITY_TYPE_Limited Liability Company": 0,
         "PRIMARY_OWNER_ENTITY_TYPE_Limited Partner": 0,
         "PRIMARY_OWNER_ENTITY_TYPE_Organization/Association": 0,
         "PRIMARY_OWNER_ENTITY_TYPE_Partnership or Co-owners": 0,
         "PRIMARY_OWNER_ENTITY_TYPE_Receivership/Fiduciary": 0,
         "PRIMARY_OWNER_ENTITY_TYPE_Trust": 0,
         "USE_CODE_Aquaculture": 0,
         "USE_CODE_Domestic": 1,
         "USE_CODE_Dust Control": 0,
         "USE_CODE_Fire Protection": 0,
         "USE_CODE_Fish and Wildlife Preservation and Enhancement": 0,
         "USE_CODE_Frost Protection": 0,
         "USE_CODE_Heat Control": 0,
         "USE_CODE_Incidental Power": 0,
         "USE_CODE_Industrial": 0,
         "USE_CODE_Irrigation": 0,
         "USE_CODE_Mining": 0,
         "USE_CODE_Municipal": 0,
         "USE_CODE_Other": 0,
         "USE_CODE_Power": 0,
         "USE_CODE_Recreational": 0,
         "USE_CODE_Snow Making": 0,
         "USE_CODE_Stockwatering": 0,
         "_deepnote_index_column": 43154
        },
        {
         "USE_COUNT": 0.659908198650559,
         "NUMBER_OF_PROTESTS": -0.06359600006433046,
         "QUANT_INCLUDED": true,
         "USE_POP_INC": false,
         "LATITUDE": -0.6031618393421169,
         "NUM_OF_VIOLATIONS": -0.13421535966359505,
         "PRIMARY_OWNER_ENTITY_TYPE_Estate": 0,
         "PRIMARY_OWNER_ENTITY_TYPE_Federal Government": 0,
         "PRIMARY_OWNER_ENTITY_TYPE_Government (State/Municipal)": 0,
         "PRIMARY_OWNER_ENTITY_TYPE_Individual": 0,
         "PRIMARY_OWNER_ENTITY_TYPE_Limited Liability Company": 0,
         "PRIMARY_OWNER_ENTITY_TYPE_Limited Partner": 0,
         "PRIMARY_OWNER_ENTITY_TYPE_Organization/Association": 0,
         "PRIMARY_OWNER_ENTITY_TYPE_Partnership or Co-owners": 0,
         "PRIMARY_OWNER_ENTITY_TYPE_Receivership/Fiduciary": 0,
         "PRIMARY_OWNER_ENTITY_TYPE_Trust": 0,
         "USE_CODE_Aquaculture": 0,
         "USE_CODE_Domestic": 0,
         "USE_CODE_Dust Control": 0,
         "USE_CODE_Fire Protection": 0,
         "USE_CODE_Fish and Wildlife Preservation and Enhancement": 0,
         "USE_CODE_Frost Protection": 0,
         "USE_CODE_Heat Control": 0,
         "USE_CODE_Incidental Power": 0,
         "USE_CODE_Industrial": 0,
         "USE_CODE_Irrigation": 1,
         "USE_CODE_Mining": 0,
         "USE_CODE_Municipal": 0,
         "USE_CODE_Other": 0,
         "USE_CODE_Power": 0,
         "USE_CODE_Recreational": 0,
         "USE_CODE_Snow Making": 0,
         "USE_CODE_Stockwatering": 0,
         "_deepnote_index_column": 36213
        }
       ]
      },
      "text/plain": "       USE_COUNT  NUMBER_OF_PROTESTS  QUANT_INCLUDED  USE_POP_INC  LATITUDE  \\\n43154   1.585921           -0.063596            True        False -0.576724   \n36213   0.659908           -0.063596            True        False -0.603162   \n\n       NUM_OF_VIOLATIONS  PRIMARY_OWNER_ENTITY_TYPE_Estate  \\\n43154          -0.134215                                 0   \n36213          -0.134215                                 0   \n\n       PRIMARY_OWNER_ENTITY_TYPE_Federal Government  \\\n43154                                             0   \n36213                                             0   \n\n       PRIMARY_OWNER_ENTITY_TYPE_Government (State/Municipal)  \\\n43154                                                  0        \n36213                                                  0        \n\n       PRIMARY_OWNER_ENTITY_TYPE_Individual  ...  USE_CODE_Incidental Power  \\\n43154                                     1  ...                          0   \n36213                                     0  ...                          0   \n\n       USE_CODE_Industrial  USE_CODE_Irrigation  USE_CODE_Mining  \\\n43154                    0                    0                0   \n36213                    0                    1                0   \n\n       USE_CODE_Municipal  USE_CODE_Other  USE_CODE_Power  \\\n43154                   0               0               0   \n36213                   0               0               0   \n\n       USE_CODE_Recreational  USE_CODE_Snow Making  USE_CODE_Stockwatering  \n43154                      0                     0                       0  \n36213                      0                     0                       0  \n\n[2 rows x 33 columns]",
      "text/html": "<div>\n<style scoped>\n    .dataframe tbody tr th:only-of-type {\n        vertical-align: middle;\n    }\n\n    .dataframe tbody tr th {\n        vertical-align: top;\n    }\n\n    .dataframe thead th {\n        text-align: right;\n    }\n</style>\n<table border=\"1\" class=\"dataframe\">\n  <thead>\n    <tr style=\"text-align: right;\">\n      <th></th>\n      <th>USE_COUNT</th>\n      <th>NUMBER_OF_PROTESTS</th>\n      <th>QUANT_INCLUDED</th>\n      <th>USE_POP_INC</th>\n      <th>LATITUDE</th>\n      <th>NUM_OF_VIOLATIONS</th>\n      <th>PRIMARY_OWNER_ENTITY_TYPE_Estate</th>\n      <th>PRIMARY_OWNER_ENTITY_TYPE_Federal Government</th>\n      <th>PRIMARY_OWNER_ENTITY_TYPE_Government (State/Municipal)</th>\n      <th>PRIMARY_OWNER_ENTITY_TYPE_Individual</th>\n      <th>...</th>\n      <th>USE_CODE_Incidental Power</th>\n      <th>USE_CODE_Industrial</th>\n      <th>USE_CODE_Irrigation</th>\n      <th>USE_CODE_Mining</th>\n      <th>USE_CODE_Municipal</th>\n      <th>USE_CODE_Other</th>\n      <th>USE_CODE_Power</th>\n      <th>USE_CODE_Recreational</th>\n      <th>USE_CODE_Snow Making</th>\n      <th>USE_CODE_Stockwatering</th>\n    </tr>\n  </thead>\n  <tbody>\n    <tr>\n      <th>43154</th>\n      <td>1.585921</td>\n      <td>-0.063596</td>\n      <td>True</td>\n      <td>False</td>\n      <td>-0.576724</td>\n      <td>-0.134215</td>\n      <td>0</td>\n      <td>0</td>\n      <td>0</td>\n      <td>1</td>\n      <td>...</td>\n      <td>0</td>\n      <td>0</td>\n      <td>0</td>\n      <td>0</td>\n      <td>0</td>\n      <td>0</td>\n      <td>0</td>\n      <td>0</td>\n      <td>0</td>\n      <td>0</td>\n    </tr>\n    <tr>\n      <th>36213</th>\n      <td>0.659908</td>\n      <td>-0.063596</td>\n      <td>True</td>\n      <td>False</td>\n      <td>-0.603162</td>\n      <td>-0.134215</td>\n      <td>0</td>\n      <td>0</td>\n      <td>0</td>\n      <td>0</td>\n      <td>...</td>\n      <td>0</td>\n      <td>0</td>\n      <td>1</td>\n      <td>0</td>\n      <td>0</td>\n      <td>0</td>\n      <td>0</td>\n      <td>0</td>\n      <td>0</td>\n      <td>0</td>\n    </tr>\n  </tbody>\n</table>\n<p>2 rows × 33 columns</p>\n</div>"
     },
     "metadata": {}
    }
   ]
  },
  {
   "cell_type": "code",
   "metadata": {
    "cell_id": "ebe48a2211504217a7c1a3142608a20d",
    "tags": [],
    "deepnote_to_be_reexecuted": false,
    "source_hash": "54d340",
    "execution_start": 1651415764172,
    "execution_millis": 85,
    "deepnote_cell_type": "code",
    "deepnote_cell_height": 272
   },
   "source": "val.head(2)",
   "execution_count": null,
   "outputs": [
    {
     "output_type": "execute_result",
     "execution_count": 38,
     "data": {
      "application/vnd.deepnote.dataframe.v3+json": {
       "column_count": 36,
       "row_count": 2,
       "columns": [
        {
         "name": "FACE_VALUE_AMOUNT",
         "dtype": "float64",
         "stats": {
          "unique_count": 2,
          "nan_count": 0,
          "min": "-0.11512623458166918",
          "max": "-0.11218345623967106",
          "histogram": [
           {
            "bin_start": -0.11512623458166918,
            "bin_end": -0.11483195674746936,
            "count": 1
           },
           {
            "bin_start": -0.11483195674746936,
            "bin_end": -0.11453767891326956,
            "count": 0
           },
           {
            "bin_start": -0.11453767891326956,
            "bin_end": -0.11424340107906975,
            "count": 0
           },
           {
            "bin_start": -0.11424340107906975,
            "bin_end": -0.11394912324486993,
            "count": 0
           },
           {
            "bin_start": -0.11394912324486993,
            "bin_end": -0.11365484541067011,
            "count": 0
           },
           {
            "bin_start": -0.11365484541067011,
            "bin_end": -0.11336056757647031,
            "count": 0
           },
           {
            "bin_start": -0.11336056757647031,
            "bin_end": -0.1130662897422705,
            "count": 0
           },
           {
            "bin_start": -0.1130662897422705,
            "bin_end": -0.11277201190807068,
            "count": 0
           },
           {
            "bin_start": -0.11277201190807068,
            "bin_end": -0.11247773407387088,
            "count": 0
           },
           {
            "bin_start": -0.11247773407387088,
            "bin_end": -0.11218345623967106,
            "count": 1
           }
          ]
         }
        },
        {
         "name": "NUM_OF_VIOLATIONS",
         "dtype": "float64",
         "stats": {
          "unique_count": 1,
          "nan_count": 0,
          "min": "-0.15240496695287173",
          "max": "-0.15240496695287173",
          "histogram": [
           {
            "bin_start": -0.6524049669528718,
            "bin_end": -0.5524049669528718,
            "count": 0
           },
           {
            "bin_start": -0.5524049669528718,
            "bin_end": -0.45240496695287175,
            "count": 0
           },
           {
            "bin_start": -0.45240496695287175,
            "bin_end": -0.3524049669528717,
            "count": 0
           },
           {
            "bin_start": -0.3524049669528717,
            "bin_end": -0.25240496695287173,
            "count": 0
           },
           {
            "bin_start": -0.25240496695287173,
            "bin_end": -0.15240496695287176,
            "count": 0
           },
           {
            "bin_start": -0.15240496695287176,
            "bin_end": -0.05240496695287167,
            "count": 2
           },
           {
            "bin_start": -0.05240496695287167,
            "bin_end": 0.04759503304712831,
            "count": 0
           },
           {
            "bin_start": 0.04759503304712831,
            "bin_end": 0.1475950330471283,
            "count": 0
           },
           {
            "bin_start": 0.1475950330471283,
            "bin_end": 0.24759503304712827,
            "count": 0
           },
           {
            "bin_start": 0.24759503304712827,
            "bin_end": 0.34759503304712824,
            "count": 0
           }
          ]
         }
        },
        {
         "name": "USE_COUNT",
         "dtype": "float64",
         "stats": {
          "unique_count": 2,
          "nan_count": 0,
          "min": "-0.5538668200382517",
          "max": "0.10738234266047744",
          "histogram": [
           {
            "bin_start": -0.5538668200382517,
            "bin_end": -0.4877419037683788,
            "count": 1
           },
           {
            "bin_start": -0.4877419037683788,
            "bin_end": -0.4216169874985059,
            "count": 0
           },
           {
            "bin_start": -0.4216169874985059,
            "bin_end": -0.355492071228633,
            "count": 0
           },
           {
            "bin_start": -0.355492071228633,
            "bin_end": -0.2893671549587601,
            "count": 0
           },
           {
            "bin_start": -0.2893671549587601,
            "bin_end": -0.22324223868888715,
            "count": 0
           },
           {
            "bin_start": -0.22324223868888715,
            "bin_end": -0.15711732241901427,
            "count": 0
           },
           {
            "bin_start": -0.15711732241901427,
            "bin_end": -0.09099240614914139,
            "count": 0
           },
           {
            "bin_start": -0.09099240614914139,
            "bin_end": -0.024867489879268456,
            "count": 0
           },
           {
            "bin_start": -0.024867489879268456,
            "bin_end": 0.04125742639060448,
            "count": 0
           },
           {
            "bin_start": 0.04125742639060448,
            "bin_end": 0.10738234266047744,
            "count": 1
           }
          ]
         }
        },
        {
         "name": "NUMBER_OF_PROTESTS",
         "dtype": "float64",
         "stats": {
          "unique_count": 2,
          "nan_count": 0,
          "min": "-0.311803566668875",
          "max": "0.44637483236662984",
          "histogram": [
           {
            "bin_start": -0.311803566668875,
            "bin_end": -0.2359857267653245,
            "count": 1
           },
           {
            "bin_start": -0.2359857267653245,
            "bin_end": -0.16016788686177402,
            "count": 0
           },
           {
            "bin_start": -0.16016788686177402,
            "bin_end": -0.08435004695822354,
            "count": 0
           },
           {
            "bin_start": -0.08435004695822354,
            "bin_end": -0.008532207054673058,
            "count": 0
           },
           {
            "bin_start": -0.008532207054673058,
            "bin_end": 0.06728563284887745,
            "count": 0
           },
           {
            "bin_start": 0.06728563284887745,
            "bin_end": 0.1431034727524279,
            "count": 0
           },
           {
            "bin_start": 0.1431034727524279,
            "bin_end": 0.21892131265597836,
            "count": 0
           },
           {
            "bin_start": 0.21892131265597836,
            "bin_end": 0.29473915255952887,
            "count": 0
           },
           {
            "bin_start": 0.29473915255952887,
            "bin_end": 0.3705569924630794,
            "count": 0
           },
           {
            "bin_start": 0.3705569924630794,
            "bin_end": 0.44637483236662984,
            "count": 1
           }
          ]
         }
        },
        {
         "name": "COUNT_NPO_OR_OTHER",
         "dtype": "float64",
         "stats": {
          "unique_count": 2,
          "nan_count": 0,
          "min": "-0.5803677405261058",
          "max": "0.7712052220844512",
          "histogram": [
           {
            "bin_start": -0.5803677405261058,
            "bin_end": -0.44521044426505013,
            "count": 1
           },
           {
            "bin_start": -0.44521044426505013,
            "bin_end": -0.3100531480039944,
            "count": 0
           },
           {
            "bin_start": -0.3100531480039944,
            "bin_end": -0.1748958517429387,
            "count": 0
           },
           {
            "bin_start": -0.1748958517429387,
            "bin_end": -0.03973855548188299,
            "count": 0
           },
           {
            "bin_start": -0.03973855548188299,
            "bin_end": 0.09541874077917267,
            "count": 0
           },
           {
            "bin_start": 0.09541874077917267,
            "bin_end": 0.23057603704022844,
            "count": 0
           },
           {
            "bin_start": 0.23057603704022844,
            "bin_end": 0.3657333333012842,
            "count": 0
           },
           {
            "bin_start": 0.3657333333012842,
            "bin_end": 0.5008906295623399,
            "count": 0
           },
           {
            "bin_start": 0.5008906295623399,
            "bin_end": 0.6360479258233955,
            "count": 0
           },
           {
            "bin_start": 0.6360479258233955,
            "bin_end": 0.7712052220844512,
            "count": 1
           }
          ]
         }
        },
        {
         "name": "LATITUDE",
         "dtype": "float64",
         "stats": {
          "unique_count": 2,
          "nan_count": 0,
          "min": "-4.036778214998",
          "max": "-3.135665734530635",
          "histogram": [
           {
            "bin_start": -4.036778214998,
            "bin_end": -3.9466669669512635,
            "count": 1
           },
           {
            "bin_start": -3.9466669669512635,
            "bin_end": -3.8565557189045268,
            "count": 0
           },
           {
            "bin_start": -3.8565557189045268,
            "bin_end": -3.7664444708577904,
            "count": 0
           },
           {
            "bin_start": -3.7664444708577904,
            "bin_end": -3.6763332228110537,
            "count": 0
           },
           {
            "bin_start": -3.6763332228110537,
            "bin_end": -3.5862219747643174,
            "count": 0
           },
           {
            "bin_start": -3.5862219747643174,
            "bin_end": -3.496110726717581,
            "count": 0
           },
           {
            "bin_start": -3.496110726717581,
            "bin_end": -3.4059994786708443,
            "count": 0
           },
           {
            "bin_start": -3.4059994786708443,
            "bin_end": -3.315888230624108,
            "count": 0
           },
           {
            "bin_start": -3.315888230624108,
            "bin_end": -3.225776982577371,
            "count": 0
           },
           {
            "bin_start": -3.225776982577371,
            "bin_end": -3.135665734530635,
            "count": 1
           }
          ]
         }
        },
        {
         "name": "PRIMARY_OWNER_ENTITY_TYPE_Estate",
         "dtype": "uint8",
         "stats": {
          "unique_count": 1,
          "nan_count": 0,
          "min": "0",
          "max": "0",
          "histogram": [
           {
            "bin_start": -0.5,
            "bin_end": -0.4,
            "count": 0
           },
           {
            "bin_start": -0.4,
            "bin_end": -0.3,
            "count": 0
           },
           {
            "bin_start": -0.3,
            "bin_end": -0.19999999999999996,
            "count": 0
           },
           {
            "bin_start": -0.19999999999999996,
            "bin_end": -0.09999999999999998,
            "count": 0
           },
           {
            "bin_start": -0.09999999999999998,
            "bin_end": 0,
            "count": 0
           },
           {
            "bin_start": 0,
            "bin_end": 0.10000000000000009,
            "count": 2
           },
           {
            "bin_start": 0.10000000000000009,
            "bin_end": 0.20000000000000007,
            "count": 0
           },
           {
            "bin_start": 0.20000000000000007,
            "bin_end": 0.30000000000000004,
            "count": 0
           },
           {
            "bin_start": 0.30000000000000004,
            "bin_end": 0.4,
            "count": 0
           },
           {
            "bin_start": 0.4,
            "bin_end": 0.5,
            "count": 0
           }
          ]
         }
        },
        {
         "name": "PRIMARY_OWNER_ENTITY_TYPE_Federal Government",
         "dtype": "uint8",
         "stats": {
          "unique_count": 1,
          "nan_count": 0,
          "min": "0",
          "max": "0",
          "histogram": [
           {
            "bin_start": -0.5,
            "bin_end": -0.4,
            "count": 0
           },
           {
            "bin_start": -0.4,
            "bin_end": -0.3,
            "count": 0
           },
           {
            "bin_start": -0.3,
            "bin_end": -0.19999999999999996,
            "count": 0
           },
           {
            "bin_start": -0.19999999999999996,
            "bin_end": -0.09999999999999998,
            "count": 0
           },
           {
            "bin_start": -0.09999999999999998,
            "bin_end": 0,
            "count": 0
           },
           {
            "bin_start": 0,
            "bin_end": 0.10000000000000009,
            "count": 2
           },
           {
            "bin_start": 0.10000000000000009,
            "bin_end": 0.20000000000000007,
            "count": 0
           },
           {
            "bin_start": 0.20000000000000007,
            "bin_end": 0.30000000000000004,
            "count": 0
           },
           {
            "bin_start": 0.30000000000000004,
            "bin_end": 0.4,
            "count": 0
           },
           {
            "bin_start": 0.4,
            "bin_end": 0.5,
            "count": 0
           }
          ]
         }
        },
        {
         "name": "PRIMARY_OWNER_ENTITY_TYPE_Government (State/Municipal)",
         "dtype": "uint8",
         "stats": {
          "unique_count": 1,
          "nan_count": 0,
          "min": "0",
          "max": "0",
          "histogram": [
           {
            "bin_start": -0.5,
            "bin_end": -0.4,
            "count": 0
           },
           {
            "bin_start": -0.4,
            "bin_end": -0.3,
            "count": 0
           },
           {
            "bin_start": -0.3,
            "bin_end": -0.19999999999999996,
            "count": 0
           },
           {
            "bin_start": -0.19999999999999996,
            "bin_end": -0.09999999999999998,
            "count": 0
           },
           {
            "bin_start": -0.09999999999999998,
            "bin_end": 0,
            "count": 0
           },
           {
            "bin_start": 0,
            "bin_end": 0.10000000000000009,
            "count": 2
           },
           {
            "bin_start": 0.10000000000000009,
            "bin_end": 0.20000000000000007,
            "count": 0
           },
           {
            "bin_start": 0.20000000000000007,
            "bin_end": 0.30000000000000004,
            "count": 0
           },
           {
            "bin_start": 0.30000000000000004,
            "bin_end": 0.4,
            "count": 0
           },
           {
            "bin_start": 0.4,
            "bin_end": 0.5,
            "count": 0
           }
          ]
         }
        },
        {
         "name": "PRIMARY_OWNER_ENTITY_TYPE_Individual",
         "dtype": "uint8",
         "stats": {
          "unique_count": 1,
          "nan_count": 0,
          "min": "0",
          "max": "0",
          "histogram": [
           {
            "bin_start": -0.5,
            "bin_end": -0.4,
            "count": 0
           },
           {
            "bin_start": -0.4,
            "bin_end": -0.3,
            "count": 0
           },
           {
            "bin_start": -0.3,
            "bin_end": -0.19999999999999996,
            "count": 0
           },
           {
            "bin_start": -0.19999999999999996,
            "bin_end": -0.09999999999999998,
            "count": 0
           },
           {
            "bin_start": -0.09999999999999998,
            "bin_end": 0,
            "count": 0
           },
           {
            "bin_start": 0,
            "bin_end": 0.10000000000000009,
            "count": 2
           },
           {
            "bin_start": 0.10000000000000009,
            "bin_end": 0.20000000000000007,
            "count": 0
           },
           {
            "bin_start": 0.20000000000000007,
            "bin_end": 0.30000000000000004,
            "count": 0
           },
           {
            "bin_start": 0.30000000000000004,
            "bin_end": 0.4,
            "count": 0
           },
           {
            "bin_start": 0.4,
            "bin_end": 0.5,
            "count": 0
           }
          ]
         }
        },
        {
         "name": "PRIMARY_OWNER_ENTITY_TYPE_Limited Liability Company",
         "dtype": "uint8",
         "stats": {
          "unique_count": 2,
          "nan_count": 0,
          "min": "0",
          "max": "1",
          "histogram": [
           {
            "bin_start": 0,
            "bin_end": 0.1,
            "count": 1
           },
           {
            "bin_start": 0.1,
            "bin_end": 0.2,
            "count": 0
           },
           {
            "bin_start": 0.2,
            "bin_end": 0.30000000000000004,
            "count": 0
           },
           {
            "bin_start": 0.30000000000000004,
            "bin_end": 0.4,
            "count": 0
           },
           {
            "bin_start": 0.4,
            "bin_end": 0.5,
            "count": 0
           },
           {
            "bin_start": 0.5,
            "bin_end": 0.6000000000000001,
            "count": 0
           },
           {
            "bin_start": 0.6000000000000001,
            "bin_end": 0.7000000000000001,
            "count": 0
           },
           {
            "bin_start": 0.7000000000000001,
            "bin_end": 0.8,
            "count": 0
           },
           {
            "bin_start": 0.8,
            "bin_end": 0.9,
            "count": 0
           },
           {
            "bin_start": 0.9,
            "bin_end": 1,
            "count": 1
           }
          ]
         }
        },
        {
         "name": "PRIMARY_OWNER_ENTITY_TYPE_Limited Partner",
         "dtype": "uint8",
         "stats": {
          "unique_count": 1,
          "nan_count": 0,
          "min": "0",
          "max": "0",
          "histogram": [
           {
            "bin_start": -0.5,
            "bin_end": -0.4,
            "count": 0
           },
           {
            "bin_start": -0.4,
            "bin_end": -0.3,
            "count": 0
           },
           {
            "bin_start": -0.3,
            "bin_end": -0.19999999999999996,
            "count": 0
           },
           {
            "bin_start": -0.19999999999999996,
            "bin_end": -0.09999999999999998,
            "count": 0
           },
           {
            "bin_start": -0.09999999999999998,
            "bin_end": 0,
            "count": 0
           },
           {
            "bin_start": 0,
            "bin_end": 0.10000000000000009,
            "count": 2
           },
           {
            "bin_start": 0.10000000000000009,
            "bin_end": 0.20000000000000007,
            "count": 0
           },
           {
            "bin_start": 0.20000000000000007,
            "bin_end": 0.30000000000000004,
            "count": 0
           },
           {
            "bin_start": 0.30000000000000004,
            "bin_end": 0.4,
            "count": 0
           },
           {
            "bin_start": 0.4,
            "bin_end": 0.5,
            "count": 0
           }
          ]
         }
        },
        {
         "name": "PRIMARY_OWNER_ENTITY_TYPE_Organization/Association",
         "dtype": "uint8",
         "stats": {
          "unique_count": 2,
          "nan_count": 0,
          "min": "0",
          "max": "1",
          "histogram": [
           {
            "bin_start": 0,
            "bin_end": 0.1,
            "count": 1
           },
           {
            "bin_start": 0.1,
            "bin_end": 0.2,
            "count": 0
           },
           {
            "bin_start": 0.2,
            "bin_end": 0.30000000000000004,
            "count": 0
           },
           {
            "bin_start": 0.30000000000000004,
            "bin_end": 0.4,
            "count": 0
           },
           {
            "bin_start": 0.4,
            "bin_end": 0.5,
            "count": 0
           },
           {
            "bin_start": 0.5,
            "bin_end": 0.6000000000000001,
            "count": 0
           },
           {
            "bin_start": 0.6000000000000001,
            "bin_end": 0.7000000000000001,
            "count": 0
           },
           {
            "bin_start": 0.7000000000000001,
            "bin_end": 0.8,
            "count": 0
           },
           {
            "bin_start": 0.8,
            "bin_end": 0.9,
            "count": 0
           },
           {
            "bin_start": 0.9,
            "bin_end": 1,
            "count": 1
           }
          ]
         }
        },
        {
         "name": "PRIMARY_OWNER_ENTITY_TYPE_Partnership or Co-owners",
         "dtype": "uint8",
         "stats": {
          "unique_count": 1,
          "nan_count": 0,
          "min": "0",
          "max": "0",
          "histogram": [
           {
            "bin_start": -0.5,
            "bin_end": -0.4,
            "count": 0
           },
           {
            "bin_start": -0.4,
            "bin_end": -0.3,
            "count": 0
           },
           {
            "bin_start": -0.3,
            "bin_end": -0.19999999999999996,
            "count": 0
           },
           {
            "bin_start": -0.19999999999999996,
            "bin_end": -0.09999999999999998,
            "count": 0
           },
           {
            "bin_start": -0.09999999999999998,
            "bin_end": 0,
            "count": 0
           },
           {
            "bin_start": 0,
            "bin_end": 0.10000000000000009,
            "count": 2
           },
           {
            "bin_start": 0.10000000000000009,
            "bin_end": 0.20000000000000007,
            "count": 0
           },
           {
            "bin_start": 0.20000000000000007,
            "bin_end": 0.30000000000000004,
            "count": 0
           },
           {
            "bin_start": 0.30000000000000004,
            "bin_end": 0.4,
            "count": 0
           },
           {
            "bin_start": 0.4,
            "bin_end": 0.5,
            "count": 0
           }
          ]
         }
        },
        {
         "name": "PRIMARY_OWNER_ENTITY_TYPE_Receivership/Fiduciary",
         "dtype": "uint8",
         "stats": {
          "unique_count": 1,
          "nan_count": 0,
          "min": "0",
          "max": "0",
          "histogram": [
           {
            "bin_start": -0.5,
            "bin_end": -0.4,
            "count": 0
           },
           {
            "bin_start": -0.4,
            "bin_end": -0.3,
            "count": 0
           },
           {
            "bin_start": -0.3,
            "bin_end": -0.19999999999999996,
            "count": 0
           },
           {
            "bin_start": -0.19999999999999996,
            "bin_end": -0.09999999999999998,
            "count": 0
           },
           {
            "bin_start": -0.09999999999999998,
            "bin_end": 0,
            "count": 0
           },
           {
            "bin_start": 0,
            "bin_end": 0.10000000000000009,
            "count": 2
           },
           {
            "bin_start": 0.10000000000000009,
            "bin_end": 0.20000000000000007,
            "count": 0
           },
           {
            "bin_start": 0.20000000000000007,
            "bin_end": 0.30000000000000004,
            "count": 0
           },
           {
            "bin_start": 0.30000000000000004,
            "bin_end": 0.4,
            "count": 0
           },
           {
            "bin_start": 0.4,
            "bin_end": 0.5,
            "count": 0
           }
          ]
         }
        },
        {
         "name": "PRIMARY_OWNER_ENTITY_TYPE_Trust",
         "dtype": "uint8",
         "stats": {
          "unique_count": 1,
          "nan_count": 0,
          "min": "0",
          "max": "0",
          "histogram": [
           {
            "bin_start": -0.5,
            "bin_end": -0.4,
            "count": 0
           },
           {
            "bin_start": -0.4,
            "bin_end": -0.3,
            "count": 0
           },
           {
            "bin_start": -0.3,
            "bin_end": -0.19999999999999996,
            "count": 0
           },
           {
            "bin_start": -0.19999999999999996,
            "bin_end": -0.09999999999999998,
            "count": 0
           },
           {
            "bin_start": -0.09999999999999998,
            "bin_end": 0,
            "count": 0
           },
           {
            "bin_start": 0,
            "bin_end": 0.10000000000000009,
            "count": 2
           },
           {
            "bin_start": 0.10000000000000009,
            "bin_end": 0.20000000000000007,
            "count": 0
           },
           {
            "bin_start": 0.20000000000000007,
            "bin_end": 0.30000000000000004,
            "count": 0
           },
           {
            "bin_start": 0.30000000000000004,
            "bin_end": 0.4,
            "count": 0
           },
           {
            "bin_start": 0.4,
            "bin_end": 0.5,
            "count": 0
           }
          ]
         }
        },
        {
         "name": "USE_CODE_Aquaculture",
         "dtype": "uint8",
         "stats": {
          "unique_count": 1,
          "nan_count": 0,
          "min": "0",
          "max": "0",
          "histogram": [
           {
            "bin_start": -0.5,
            "bin_end": -0.4,
            "count": 0
           },
           {
            "bin_start": -0.4,
            "bin_end": -0.3,
            "count": 0
           },
           {
            "bin_start": -0.3,
            "bin_end": -0.19999999999999996,
            "count": 0
           },
           {
            "bin_start": -0.19999999999999996,
            "bin_end": -0.09999999999999998,
            "count": 0
           },
           {
            "bin_start": -0.09999999999999998,
            "bin_end": 0,
            "count": 0
           },
           {
            "bin_start": 0,
            "bin_end": 0.10000000000000009,
            "count": 2
           },
           {
            "bin_start": 0.10000000000000009,
            "bin_end": 0.20000000000000007,
            "count": 0
           },
           {
            "bin_start": 0.20000000000000007,
            "bin_end": 0.30000000000000004,
            "count": 0
           },
           {
            "bin_start": 0.30000000000000004,
            "bin_end": 0.4,
            "count": 0
           },
           {
            "bin_start": 0.4,
            "bin_end": 0.5,
            "count": 0
           }
          ]
         }
        },
        {
         "name": "USE_CODE_Domestic",
         "dtype": "uint8",
         "stats": {
          "unique_count": 1,
          "nan_count": 0,
          "min": "0",
          "max": "0",
          "histogram": [
           {
            "bin_start": -0.5,
            "bin_end": -0.4,
            "count": 0
           },
           {
            "bin_start": -0.4,
            "bin_end": -0.3,
            "count": 0
           },
           {
            "bin_start": -0.3,
            "bin_end": -0.19999999999999996,
            "count": 0
           },
           {
            "bin_start": -0.19999999999999996,
            "bin_end": -0.09999999999999998,
            "count": 0
           },
           {
            "bin_start": -0.09999999999999998,
            "bin_end": 0,
            "count": 0
           },
           {
            "bin_start": 0,
            "bin_end": 0.10000000000000009,
            "count": 2
           },
           {
            "bin_start": 0.10000000000000009,
            "bin_end": 0.20000000000000007,
            "count": 0
           },
           {
            "bin_start": 0.20000000000000007,
            "bin_end": 0.30000000000000004,
            "count": 0
           },
           {
            "bin_start": 0.30000000000000004,
            "bin_end": 0.4,
            "count": 0
           },
           {
            "bin_start": 0.4,
            "bin_end": 0.5,
            "count": 0
           }
          ]
         }
        },
        {
         "name": "USE_CODE_Dust Control",
         "dtype": "uint8",
         "stats": {
          "unique_count": 2,
          "nan_count": 0,
          "min": "0",
          "max": "1",
          "histogram": [
           {
            "bin_start": 0,
            "bin_end": 0.1,
            "count": 1
           },
           {
            "bin_start": 0.1,
            "bin_end": 0.2,
            "count": 0
           },
           {
            "bin_start": 0.2,
            "bin_end": 0.30000000000000004,
            "count": 0
           },
           {
            "bin_start": 0.30000000000000004,
            "bin_end": 0.4,
            "count": 0
           },
           {
            "bin_start": 0.4,
            "bin_end": 0.5,
            "count": 0
           },
           {
            "bin_start": 0.5,
            "bin_end": 0.6000000000000001,
            "count": 0
           },
           {
            "bin_start": 0.6000000000000001,
            "bin_end": 0.7000000000000001,
            "count": 0
           },
           {
            "bin_start": 0.7000000000000001,
            "bin_end": 0.8,
            "count": 0
           },
           {
            "bin_start": 0.8,
            "bin_end": 0.9,
            "count": 0
           },
           {
            "bin_start": 0.9,
            "bin_end": 1,
            "count": 1
           }
          ]
         }
        },
        {
         "name": "USE_CODE_Fire Protection",
         "dtype": "uint8",
         "stats": {
          "unique_count": 1,
          "nan_count": 0,
          "min": "0",
          "max": "0",
          "histogram": [
           {
            "bin_start": -0.5,
            "bin_end": -0.4,
            "count": 0
           },
           {
            "bin_start": -0.4,
            "bin_end": -0.3,
            "count": 0
           },
           {
            "bin_start": -0.3,
            "bin_end": -0.19999999999999996,
            "count": 0
           },
           {
            "bin_start": -0.19999999999999996,
            "bin_end": -0.09999999999999998,
            "count": 0
           },
           {
            "bin_start": -0.09999999999999998,
            "bin_end": 0,
            "count": 0
           },
           {
            "bin_start": 0,
            "bin_end": 0.10000000000000009,
            "count": 2
           },
           {
            "bin_start": 0.10000000000000009,
            "bin_end": 0.20000000000000007,
            "count": 0
           },
           {
            "bin_start": 0.20000000000000007,
            "bin_end": 0.30000000000000004,
            "count": 0
           },
           {
            "bin_start": 0.30000000000000004,
            "bin_end": 0.4,
            "count": 0
           },
           {
            "bin_start": 0.4,
            "bin_end": 0.5,
            "count": 0
           }
          ]
         }
        },
        {
         "name": "USE_CODE_Fish and Wildlife Preservation and Enhancement",
         "dtype": "uint8",
         "stats": {
          "unique_count": 1,
          "nan_count": 0,
          "min": "0",
          "max": "0",
          "histogram": [
           {
            "bin_start": -0.5,
            "bin_end": -0.4,
            "count": 0
           },
           {
            "bin_start": -0.4,
            "bin_end": -0.3,
            "count": 0
           },
           {
            "bin_start": -0.3,
            "bin_end": -0.19999999999999996,
            "count": 0
           },
           {
            "bin_start": -0.19999999999999996,
            "bin_end": -0.09999999999999998,
            "count": 0
           },
           {
            "bin_start": -0.09999999999999998,
            "bin_end": 0,
            "count": 0
           },
           {
            "bin_start": 0,
            "bin_end": 0.10000000000000009,
            "count": 2
           },
           {
            "bin_start": 0.10000000000000009,
            "bin_end": 0.20000000000000007,
            "count": 0
           },
           {
            "bin_start": 0.20000000000000007,
            "bin_end": 0.30000000000000004,
            "count": 0
           },
           {
            "bin_start": 0.30000000000000004,
            "bin_end": 0.4,
            "count": 0
           },
           {
            "bin_start": 0.4,
            "bin_end": 0.5,
            "count": 0
           }
          ]
         }
        },
        {
         "name": "USE_CODE_Frost Protection",
         "dtype": "uint8",
         "stats": {
          "unique_count": 1,
          "nan_count": 0,
          "min": "0",
          "max": "0",
          "histogram": [
           {
            "bin_start": -0.5,
            "bin_end": -0.4,
            "count": 0
           },
           {
            "bin_start": -0.4,
            "bin_end": -0.3,
            "count": 0
           },
           {
            "bin_start": -0.3,
            "bin_end": -0.19999999999999996,
            "count": 0
           },
           {
            "bin_start": -0.19999999999999996,
            "bin_end": -0.09999999999999998,
            "count": 0
           },
           {
            "bin_start": -0.09999999999999998,
            "bin_end": 0,
            "count": 0
           },
           {
            "bin_start": 0,
            "bin_end": 0.10000000000000009,
            "count": 2
           },
           {
            "bin_start": 0.10000000000000009,
            "bin_end": 0.20000000000000007,
            "count": 0
           },
           {
            "bin_start": 0.20000000000000007,
            "bin_end": 0.30000000000000004,
            "count": 0
           },
           {
            "bin_start": 0.30000000000000004,
            "bin_end": 0.4,
            "count": 0
           },
           {
            "bin_start": 0.4,
            "bin_end": 0.5,
            "count": 0
           }
          ]
         }
        },
        {
         "name": "USE_CODE_Heat Control",
         "dtype": "uint8",
         "stats": {
          "unique_count": 1,
          "nan_count": 0,
          "min": "0",
          "max": "0",
          "histogram": [
           {
            "bin_start": -0.5,
            "bin_end": -0.4,
            "count": 0
           },
           {
            "bin_start": -0.4,
            "bin_end": -0.3,
            "count": 0
           },
           {
            "bin_start": -0.3,
            "bin_end": -0.19999999999999996,
            "count": 0
           },
           {
            "bin_start": -0.19999999999999996,
            "bin_end": -0.09999999999999998,
            "count": 0
           },
           {
            "bin_start": -0.09999999999999998,
            "bin_end": 0,
            "count": 0
           },
           {
            "bin_start": 0,
            "bin_end": 0.10000000000000009,
            "count": 2
           },
           {
            "bin_start": 0.10000000000000009,
            "bin_end": 0.20000000000000007,
            "count": 0
           },
           {
            "bin_start": 0.20000000000000007,
            "bin_end": 0.30000000000000004,
            "count": 0
           },
           {
            "bin_start": 0.30000000000000004,
            "bin_end": 0.4,
            "count": 0
           },
           {
            "bin_start": 0.4,
            "bin_end": 0.5,
            "count": 0
           }
          ]
         }
        },
        {
         "name": "USE_CODE_Incidental Power",
         "dtype": "uint8",
         "stats": {
          "unique_count": 1,
          "nan_count": 0,
          "min": "0",
          "max": "0",
          "histogram": [
           {
            "bin_start": -0.5,
            "bin_end": -0.4,
            "count": 0
           },
           {
            "bin_start": -0.4,
            "bin_end": -0.3,
            "count": 0
           },
           {
            "bin_start": -0.3,
            "bin_end": -0.19999999999999996,
            "count": 0
           },
           {
            "bin_start": -0.19999999999999996,
            "bin_end": -0.09999999999999998,
            "count": 0
           },
           {
            "bin_start": -0.09999999999999998,
            "bin_end": 0,
            "count": 0
           },
           {
            "bin_start": 0,
            "bin_end": 0.10000000000000009,
            "count": 2
           },
           {
            "bin_start": 0.10000000000000009,
            "bin_end": 0.20000000000000007,
            "count": 0
           },
           {
            "bin_start": 0.20000000000000007,
            "bin_end": 0.30000000000000004,
            "count": 0
           },
           {
            "bin_start": 0.30000000000000004,
            "bin_end": 0.4,
            "count": 0
           },
           {
            "bin_start": 0.4,
            "bin_end": 0.5,
            "count": 0
           }
          ]
         }
        },
        {
         "name": "USE_CODE_Industrial",
         "dtype": "uint8",
         "stats": {
          "unique_count": 1,
          "nan_count": 0,
          "min": "0",
          "max": "0",
          "histogram": [
           {
            "bin_start": -0.5,
            "bin_end": -0.4,
            "count": 0
           },
           {
            "bin_start": -0.4,
            "bin_end": -0.3,
            "count": 0
           },
           {
            "bin_start": -0.3,
            "bin_end": -0.19999999999999996,
            "count": 0
           },
           {
            "bin_start": -0.19999999999999996,
            "bin_end": -0.09999999999999998,
            "count": 0
           },
           {
            "bin_start": -0.09999999999999998,
            "bin_end": 0,
            "count": 0
           },
           {
            "bin_start": 0,
            "bin_end": 0.10000000000000009,
            "count": 2
           },
           {
            "bin_start": 0.10000000000000009,
            "bin_end": 0.20000000000000007,
            "count": 0
           },
           {
            "bin_start": 0.20000000000000007,
            "bin_end": 0.30000000000000004,
            "count": 0
           },
           {
            "bin_start": 0.30000000000000004,
            "bin_end": 0.4,
            "count": 0
           },
           {
            "bin_start": 0.4,
            "bin_end": 0.5,
            "count": 0
           }
          ]
         }
        },
        {
         "name": "USE_CODE_Irrigation",
         "dtype": "uint8",
         "stats": {
          "unique_count": 2,
          "nan_count": 0,
          "min": "0",
          "max": "1",
          "histogram": [
           {
            "bin_start": 0,
            "bin_end": 0.1,
            "count": 1
           },
           {
            "bin_start": 0.1,
            "bin_end": 0.2,
            "count": 0
           },
           {
            "bin_start": 0.2,
            "bin_end": 0.30000000000000004,
            "count": 0
           },
           {
            "bin_start": 0.30000000000000004,
            "bin_end": 0.4,
            "count": 0
           },
           {
            "bin_start": 0.4,
            "bin_end": 0.5,
            "count": 0
           },
           {
            "bin_start": 0.5,
            "bin_end": 0.6000000000000001,
            "count": 0
           },
           {
            "bin_start": 0.6000000000000001,
            "bin_end": 0.7000000000000001,
            "count": 0
           },
           {
            "bin_start": 0.7000000000000001,
            "bin_end": 0.8,
            "count": 0
           },
           {
            "bin_start": 0.8,
            "bin_end": 0.9,
            "count": 0
           },
           {
            "bin_start": 0.9,
            "bin_end": 1,
            "count": 1
           }
          ]
         }
        },
        {
         "name": "USE_CODE_Mining",
         "dtype": "uint8",
         "stats": {
          "unique_count": 1,
          "nan_count": 0,
          "min": "0",
          "max": "0",
          "histogram": [
           {
            "bin_start": -0.5,
            "bin_end": -0.4,
            "count": 0
           },
           {
            "bin_start": -0.4,
            "bin_end": -0.3,
            "count": 0
           },
           {
            "bin_start": -0.3,
            "bin_end": -0.19999999999999996,
            "count": 0
           },
           {
            "bin_start": -0.19999999999999996,
            "bin_end": -0.09999999999999998,
            "count": 0
           },
           {
            "bin_start": -0.09999999999999998,
            "bin_end": 0,
            "count": 0
           },
           {
            "bin_start": 0,
            "bin_end": 0.10000000000000009,
            "count": 2
           },
           {
            "bin_start": 0.10000000000000009,
            "bin_end": 0.20000000000000007,
            "count": 0
           },
           {
            "bin_start": 0.20000000000000007,
            "bin_end": 0.30000000000000004,
            "count": 0
           },
           {
            "bin_start": 0.30000000000000004,
            "bin_end": 0.4,
            "count": 0
           },
           {
            "bin_start": 0.4,
            "bin_end": 0.5,
            "count": 0
           }
          ]
         }
        },
        {
         "name": "USE_CODE_Municipal",
         "dtype": "uint8",
         "stats": {
          "unique_count": 1,
          "nan_count": 0,
          "min": "0",
          "max": "0",
          "histogram": [
           {
            "bin_start": -0.5,
            "bin_end": -0.4,
            "count": 0
           },
           {
            "bin_start": -0.4,
            "bin_end": -0.3,
            "count": 0
           },
           {
            "bin_start": -0.3,
            "bin_end": -0.19999999999999996,
            "count": 0
           },
           {
            "bin_start": -0.19999999999999996,
            "bin_end": -0.09999999999999998,
            "count": 0
           },
           {
            "bin_start": -0.09999999999999998,
            "bin_end": 0,
            "count": 0
           },
           {
            "bin_start": 0,
            "bin_end": 0.10000000000000009,
            "count": 2
           },
           {
            "bin_start": 0.10000000000000009,
            "bin_end": 0.20000000000000007,
            "count": 0
           },
           {
            "bin_start": 0.20000000000000007,
            "bin_end": 0.30000000000000004,
            "count": 0
           },
           {
            "bin_start": 0.30000000000000004,
            "bin_end": 0.4,
            "count": 0
           },
           {
            "bin_start": 0.4,
            "bin_end": 0.5,
            "count": 0
           }
          ]
         }
        },
        {
         "name": "USE_CODE_Other",
         "dtype": "uint8",
         "stats": {
          "unique_count": 1,
          "nan_count": 0,
          "min": "0",
          "max": "0",
          "histogram": [
           {
            "bin_start": -0.5,
            "bin_end": -0.4,
            "count": 0
           },
           {
            "bin_start": -0.4,
            "bin_end": -0.3,
            "count": 0
           },
           {
            "bin_start": -0.3,
            "bin_end": -0.19999999999999996,
            "count": 0
           },
           {
            "bin_start": -0.19999999999999996,
            "bin_end": -0.09999999999999998,
            "count": 0
           },
           {
            "bin_start": -0.09999999999999998,
            "bin_end": 0,
            "count": 0
           },
           {
            "bin_start": 0,
            "bin_end": 0.10000000000000009,
            "count": 2
           },
           {
            "bin_start": 0.10000000000000009,
            "bin_end": 0.20000000000000007,
            "count": 0
           },
           {
            "bin_start": 0.20000000000000007,
            "bin_end": 0.30000000000000004,
            "count": 0
           },
           {
            "bin_start": 0.30000000000000004,
            "bin_end": 0.4,
            "count": 0
           },
           {
            "bin_start": 0.4,
            "bin_end": 0.5,
            "count": 0
           }
          ]
         }
        },
        {
         "name": "USE_CODE_Power",
         "dtype": "uint8",
         "stats": {
          "unique_count": 1,
          "nan_count": 0,
          "min": "0",
          "max": "0",
          "histogram": [
           {
            "bin_start": -0.5,
            "bin_end": -0.4,
            "count": 0
           },
           {
            "bin_start": -0.4,
            "bin_end": -0.3,
            "count": 0
           },
           {
            "bin_start": -0.3,
            "bin_end": -0.19999999999999996,
            "count": 0
           },
           {
            "bin_start": -0.19999999999999996,
            "bin_end": -0.09999999999999998,
            "count": 0
           },
           {
            "bin_start": -0.09999999999999998,
            "bin_end": 0,
            "count": 0
           },
           {
            "bin_start": 0,
            "bin_end": 0.10000000000000009,
            "count": 2
           },
           {
            "bin_start": 0.10000000000000009,
            "bin_end": 0.20000000000000007,
            "count": 0
           },
           {
            "bin_start": 0.20000000000000007,
            "bin_end": 0.30000000000000004,
            "count": 0
           },
           {
            "bin_start": 0.30000000000000004,
            "bin_end": 0.4,
            "count": 0
           },
           {
            "bin_start": 0.4,
            "bin_end": 0.5,
            "count": 0
           }
          ]
         }
        },
        {
         "name": "USE_CODE_Recreational",
         "dtype": "uint8",
         "stats": {
          "unique_count": 1,
          "nan_count": 0,
          "min": "0",
          "max": "0",
          "histogram": [
           {
            "bin_start": -0.5,
            "bin_end": -0.4,
            "count": 0
           },
           {
            "bin_start": -0.4,
            "bin_end": -0.3,
            "count": 0
           },
           {
            "bin_start": -0.3,
            "bin_end": -0.19999999999999996,
            "count": 0
           },
           {
            "bin_start": -0.19999999999999996,
            "bin_end": -0.09999999999999998,
            "count": 0
           },
           {
            "bin_start": -0.09999999999999998,
            "bin_end": 0,
            "count": 0
           },
           {
            "bin_start": 0,
            "bin_end": 0.10000000000000009,
            "count": 2
           },
           {
            "bin_start": 0.10000000000000009,
            "bin_end": 0.20000000000000007,
            "count": 0
           },
           {
            "bin_start": 0.20000000000000007,
            "bin_end": 0.30000000000000004,
            "count": 0
           },
           {
            "bin_start": 0.30000000000000004,
            "bin_end": 0.4,
            "count": 0
           },
           {
            "bin_start": 0.4,
            "bin_end": 0.5,
            "count": 0
           }
          ]
         }
        },
        {
         "name": "USE_CODE_Snow Making",
         "dtype": "uint8",
         "stats": {
          "unique_count": 1,
          "nan_count": 0,
          "min": "0",
          "max": "0",
          "histogram": [
           {
            "bin_start": -0.5,
            "bin_end": -0.4,
            "count": 0
           },
           {
            "bin_start": -0.4,
            "bin_end": -0.3,
            "count": 0
           },
           {
            "bin_start": -0.3,
            "bin_end": -0.19999999999999996,
            "count": 0
           },
           {
            "bin_start": -0.19999999999999996,
            "bin_end": -0.09999999999999998,
            "count": 0
           },
           {
            "bin_start": -0.09999999999999998,
            "bin_end": 0,
            "count": 0
           },
           {
            "bin_start": 0,
            "bin_end": 0.10000000000000009,
            "count": 2
           },
           {
            "bin_start": 0.10000000000000009,
            "bin_end": 0.20000000000000007,
            "count": 0
           },
           {
            "bin_start": 0.20000000000000007,
            "bin_end": 0.30000000000000004,
            "count": 0
           },
           {
            "bin_start": 0.30000000000000004,
            "bin_end": 0.4,
            "count": 0
           },
           {
            "bin_start": 0.4,
            "bin_end": 0.5,
            "count": 0
           }
          ]
         }
        },
        {
         "name": "USE_CODE_Stockwatering",
         "dtype": "uint8",
         "stats": {
          "unique_count": 1,
          "nan_count": 0,
          "min": "0",
          "max": "0",
          "histogram": [
           {
            "bin_start": -0.5,
            "bin_end": -0.4,
            "count": 0
           },
           {
            "bin_start": -0.4,
            "bin_end": -0.3,
            "count": 0
           },
           {
            "bin_start": -0.3,
            "bin_end": -0.19999999999999996,
            "count": 0
           },
           {
            "bin_start": -0.19999999999999996,
            "bin_end": -0.09999999999999998,
            "count": 0
           },
           {
            "bin_start": -0.09999999999999998,
            "bin_end": 0,
            "count": 0
           },
           {
            "bin_start": 0,
            "bin_end": 0.10000000000000009,
            "count": 2
           },
           {
            "bin_start": 0.10000000000000009,
            "bin_end": 0.20000000000000007,
            "count": 0
           },
           {
            "bin_start": 0.20000000000000007,
            "bin_end": 0.30000000000000004,
            "count": 0
           },
           {
            "bin_start": 0.30000000000000004,
            "bin_end": 0.4,
            "count": 0
           },
           {
            "bin_start": 0.4,
            "bin_end": 0.5,
            "count": 0
           }
          ]
         }
        },
        {
         "name": "QUANT_INCLUDED",
         "dtype": "bool",
         "stats": {
          "unique_count": 1,
          "nan_count": 0,
          "categories": [
           {
            "name": "True",
            "count": 2
           }
          ]
         }
        },
        {
         "name": "USE_POP_INC",
         "dtype": "bool",
         "stats": {
          "unique_count": 1,
          "nan_count": 0,
          "categories": [
           {
            "name": "False",
            "count": 2
           }
          ]
         }
        },
        {
         "name": "A/NP",
         "dtype": "int64",
         "stats": {
          "unique_count": 1,
          "nan_count": 0,
          "min": "0",
          "max": "0",
          "histogram": [
           {
            "bin_start": -0.5,
            "bin_end": -0.4,
            "count": 0
           },
           {
            "bin_start": -0.4,
            "bin_end": -0.3,
            "count": 0
           },
           {
            "bin_start": -0.3,
            "bin_end": -0.19999999999999996,
            "count": 0
           },
           {
            "bin_start": -0.19999999999999996,
            "bin_end": -0.09999999999999998,
            "count": 0
           },
           {
            "bin_start": -0.09999999999999998,
            "bin_end": 0,
            "count": 0
           },
           {
            "bin_start": 0,
            "bin_end": 0.10000000000000009,
            "count": 2
           },
           {
            "bin_start": 0.10000000000000009,
            "bin_end": 0.20000000000000007,
            "count": 0
           },
           {
            "bin_start": 0.20000000000000007,
            "bin_end": 0.30000000000000004,
            "count": 0
           },
           {
            "bin_start": 0.30000000000000004,
            "bin_end": 0.4,
            "count": 0
           },
           {
            "bin_start": 0.4,
            "bin_end": 0.5,
            "count": 0
           }
          ]
         }
        },
        {
         "name": "_deepnote_index_column",
         "dtype": "int64"
        }
       ],
       "rows": [
        {
         "FACE_VALUE_AMOUNT": -0.11512623458166918,
         "NUM_OF_VIOLATIONS": -0.15240496695287173,
         "USE_COUNT": -0.5538668200382517,
         "NUMBER_OF_PROTESTS": -0.311803566668875,
         "COUNT_NPO_OR_OTHER": -0.5803677405261058,
         "LATITUDE": -4.036778214998,
         "PRIMARY_OWNER_ENTITY_TYPE_Estate": 0,
         "PRIMARY_OWNER_ENTITY_TYPE_Federal Government": 0,
         "PRIMARY_OWNER_ENTITY_TYPE_Government (State/Municipal)": 0,
         "PRIMARY_OWNER_ENTITY_TYPE_Individual": 0,
         "PRIMARY_OWNER_ENTITY_TYPE_Limited Liability Company": 1,
         "PRIMARY_OWNER_ENTITY_TYPE_Limited Partner": 0,
         "PRIMARY_OWNER_ENTITY_TYPE_Organization/Association": 0,
         "PRIMARY_OWNER_ENTITY_TYPE_Partnership or Co-owners": 0,
         "PRIMARY_OWNER_ENTITY_TYPE_Receivership/Fiduciary": 0,
         "PRIMARY_OWNER_ENTITY_TYPE_Trust": 0,
         "USE_CODE_Aquaculture": 0,
         "USE_CODE_Domestic": 0,
         "USE_CODE_Dust Control": 1,
         "USE_CODE_Fire Protection": 0,
         "USE_CODE_Fish and Wildlife Preservation and Enhancement": 0,
         "USE_CODE_Frost Protection": 0,
         "USE_CODE_Heat Control": 0,
         "USE_CODE_Incidental Power": 0,
         "USE_CODE_Industrial": 0,
         "USE_CODE_Irrigation": 0,
         "USE_CODE_Mining": 0,
         "USE_CODE_Municipal": 0,
         "USE_CODE_Other": 0,
         "USE_CODE_Power": 0,
         "USE_CODE_Recreational": 0,
         "USE_CODE_Snow Making": 0,
         "USE_CODE_Stockwatering": 0,
         "QUANT_INCLUDED": true,
         "USE_POP_INC": false,
         "A/NP": 0,
         "_deepnote_index_column": 0
        },
        {
         "FACE_VALUE_AMOUNT": -0.11218345623967106,
         "NUM_OF_VIOLATIONS": -0.15240496695287173,
         "USE_COUNT": 0.10738234266047744,
         "NUMBER_OF_PROTESTS": 0.44637483236662984,
         "COUNT_NPO_OR_OTHER": 0.7712052220844512,
         "LATITUDE": -3.135665734530635,
         "PRIMARY_OWNER_ENTITY_TYPE_Estate": 0,
         "PRIMARY_OWNER_ENTITY_TYPE_Federal Government": 0,
         "PRIMARY_OWNER_ENTITY_TYPE_Government (State/Municipal)": 0,
         "PRIMARY_OWNER_ENTITY_TYPE_Individual": 0,
         "PRIMARY_OWNER_ENTITY_TYPE_Limited Liability Company": 0,
         "PRIMARY_OWNER_ENTITY_TYPE_Limited Partner": 0,
         "PRIMARY_OWNER_ENTITY_TYPE_Organization/Association": 1,
         "PRIMARY_OWNER_ENTITY_TYPE_Partnership or Co-owners": 0,
         "PRIMARY_OWNER_ENTITY_TYPE_Receivership/Fiduciary": 0,
         "PRIMARY_OWNER_ENTITY_TYPE_Trust": 0,
         "USE_CODE_Aquaculture": 0,
         "USE_CODE_Domestic": 0,
         "USE_CODE_Dust Control": 0,
         "USE_CODE_Fire Protection": 0,
         "USE_CODE_Fish and Wildlife Preservation and Enhancement": 0,
         "USE_CODE_Frost Protection": 0,
         "USE_CODE_Heat Control": 0,
         "USE_CODE_Incidental Power": 0,
         "USE_CODE_Industrial": 0,
         "USE_CODE_Irrigation": 1,
         "USE_CODE_Mining": 0,
         "USE_CODE_Municipal": 0,
         "USE_CODE_Other": 0,
         "USE_CODE_Power": 0,
         "USE_CODE_Recreational": 0,
         "USE_CODE_Snow Making": 0,
         "USE_CODE_Stockwatering": 0,
         "QUANT_INCLUDED": true,
         "USE_POP_INC": false,
         "A/NP": 0,
         "_deepnote_index_column": 13
        }
       ]
      },
      "text/plain": "    FACE_VALUE_AMOUNT  NUM_OF_VIOLATIONS  USE_COUNT  NUMBER_OF_PROTESTS  \\\n0           -0.115126          -0.152405  -0.553867           -0.311804   \n13          -0.112183          -0.152405   0.107382            0.446375   \n\n    COUNT_NPO_OR_OTHER  LATITUDE  PRIMARY_OWNER_ENTITY_TYPE_Estate  \\\n0            -0.580368 -4.036778                                 0   \n13            0.771205 -3.135666                                 0   \n\n    PRIMARY_OWNER_ENTITY_TYPE_Federal Government  \\\n0                                              0   \n13                                             0   \n\n    PRIMARY_OWNER_ENTITY_TYPE_Government (State/Municipal)  \\\n0                                                   0        \n13                                                  0        \n\n    PRIMARY_OWNER_ENTITY_TYPE_Individual  ...  USE_CODE_Mining  \\\n0                                      0  ...                0   \n13                                     0  ...                0   \n\n    USE_CODE_Municipal  USE_CODE_Other  USE_CODE_Power  USE_CODE_Recreational  \\\n0                    0               0               0                      0   \n13                   0               0               0                      0   \n\n    USE_CODE_Snow Making  USE_CODE_Stockwatering  QUANT_INCLUDED  USE_POP_INC  \\\n0                      0                       0            True        False   \n13                     0                       0            True        False   \n\n    A/NP  \n0      0  \n13     0  \n\n[2 rows x 36 columns]",
      "text/html": "<div>\n<style scoped>\n    .dataframe tbody tr th:only-of-type {\n        vertical-align: middle;\n    }\n\n    .dataframe tbody tr th {\n        vertical-align: top;\n    }\n\n    .dataframe thead th {\n        text-align: right;\n    }\n</style>\n<table border=\"1\" class=\"dataframe\">\n  <thead>\n    <tr style=\"text-align: right;\">\n      <th></th>\n      <th>FACE_VALUE_AMOUNT</th>\n      <th>NUM_OF_VIOLATIONS</th>\n      <th>USE_COUNT</th>\n      <th>NUMBER_OF_PROTESTS</th>\n      <th>COUNT_NPO_OR_OTHER</th>\n      <th>LATITUDE</th>\n      <th>PRIMARY_OWNER_ENTITY_TYPE_Estate</th>\n      <th>PRIMARY_OWNER_ENTITY_TYPE_Federal Government</th>\n      <th>PRIMARY_OWNER_ENTITY_TYPE_Government (State/Municipal)</th>\n      <th>PRIMARY_OWNER_ENTITY_TYPE_Individual</th>\n      <th>...</th>\n      <th>USE_CODE_Mining</th>\n      <th>USE_CODE_Municipal</th>\n      <th>USE_CODE_Other</th>\n      <th>USE_CODE_Power</th>\n      <th>USE_CODE_Recreational</th>\n      <th>USE_CODE_Snow Making</th>\n      <th>USE_CODE_Stockwatering</th>\n      <th>QUANT_INCLUDED</th>\n      <th>USE_POP_INC</th>\n      <th>A/NP</th>\n    </tr>\n  </thead>\n  <tbody>\n    <tr>\n      <th>0</th>\n      <td>-0.115126</td>\n      <td>-0.152405</td>\n      <td>-0.553867</td>\n      <td>-0.311804</td>\n      <td>-0.580368</td>\n      <td>-4.036778</td>\n      <td>0</td>\n      <td>0</td>\n      <td>0</td>\n      <td>0</td>\n      <td>...</td>\n      <td>0</td>\n      <td>0</td>\n      <td>0</td>\n      <td>0</td>\n      <td>0</td>\n      <td>0</td>\n      <td>0</td>\n      <td>True</td>\n      <td>False</td>\n      <td>0</td>\n    </tr>\n    <tr>\n      <th>13</th>\n      <td>-0.112183</td>\n      <td>-0.152405</td>\n      <td>0.107382</td>\n      <td>0.446375</td>\n      <td>0.771205</td>\n      <td>-3.135666</td>\n      <td>0</td>\n      <td>0</td>\n      <td>0</td>\n      <td>0</td>\n      <td>...</td>\n      <td>0</td>\n      <td>0</td>\n      <td>0</td>\n      <td>0</td>\n      <td>0</td>\n      <td>0</td>\n      <td>0</td>\n      <td>True</td>\n      <td>False</td>\n      <td>0</td>\n    </tr>\n  </tbody>\n</table>\n<p>2 rows × 36 columns</p>\n</div>"
     },
     "metadata": {}
    }
   ]
  },
  {
   "cell_type": "code",
   "metadata": {
    "cell_id": "426bcaa3316a42b5a22e2c857e6fc664",
    "tags": [],
    "deepnote_to_be_reexecuted": false,
    "source_hash": "70e6ef1b",
    "execution_start": 1651705953557,
    "execution_millis": 1,
    "deepnote_cell_type": "code",
    "deepnote_cell_height": 225
   },
   "source": "r = re.compile('USE_CODE')\nvmatch = np.vectorize(lambda x:bool(r.match(x)))\nA = val.columns\nuse_1 = vmatch(A)\nr = re.compile('PRIMARY_OWNER_ENTITY_TYPE')\nvmatch = np.vectorize(lambda x:bool(r.match(x)))\nA = val.columns\nprim_1 = vmatch(A)\n",
   "outputs": [],
   "execution_count": null
  },
  {
   "cell_type": "code",
   "metadata": {
    "cell_id": "f13746252bf44e8e9455125dfb63d1dd",
    "tags": [],
    "deepnote_to_be_reexecuted": false,
    "source_hash": "3f58e47c",
    "execution_start": 1651705954210,
    "execution_millis": 3,
    "deepnote_cell_type": "code",
    "deepnote_cell_height": 362,
    "deepnote_output_heights": [
     211
    ]
   },
   "source": "prim_owner_val = val.columns[prim_1]\n\nuse_code_val = val.columns[use_1]\nprim_owner_val",
   "outputs": [
    {
     "output_type": "execute_result",
     "execution_count": 34,
     "data": {
      "text/plain": "Index(['PRIMARY_OWNER_ENTITY_TYPE_Estate',\n       'PRIMARY_OWNER_ENTITY_TYPE_Federal Government',\n       'PRIMARY_OWNER_ENTITY_TYPE_Government (State/Municipal)',\n       'PRIMARY_OWNER_ENTITY_TYPE_Individual',\n       'PRIMARY_OWNER_ENTITY_TYPE_Limited Liability Company',\n       'PRIMARY_OWNER_ENTITY_TYPE_Limited Partner',\n       'PRIMARY_OWNER_ENTITY_TYPE_Organization/Association',\n       'PRIMARY_OWNER_ENTITY_TYPE_Partnership or Co-owners',\n       'PRIMARY_OWNER_ENTITY_TYPE_Receivership/Fiduciary',\n       'PRIMARY_OWNER_ENTITY_TYPE_Trust'],\n      dtype='object')"
     },
     "metadata": {}
    }
   ],
   "execution_count": null
  },
  {
   "cell_type": "code",
   "metadata": {
    "cell_id": "ca3ed6576bdb4c5f95d1f4bccdd95cab",
    "tags": [],
    "deepnote_to_be_reexecuted": false,
    "source_hash": "1d07347a",
    "execution_start": 1651705958686,
    "execution_millis": 16,
    "deepnote_cell_type": "code",
    "deepnote_cell_height": 243
   },
   "source": "def test_pending(pending_data):\n    best_model = models[-1]\n    pending_data.insert(len(pending_data.columns) - 1, 'A/NP', pending_data.pop('A/NP'))\n    X_pending = pending_data.iloc[:, :-1]\n    \n    X_pending_val = X_pending.loc[:, best_feats[-1]]\n    predicts_on_pending = best_model.predict(X_pending_val)\n    pending_data['predictions'] = predicts_on_pending\n    return pending_data \n",
   "outputs": [],
   "execution_count": null
  },
  {
   "cell_type": "code",
   "metadata": {
    "cell_id": "9e6deb6437af4cd589000125fae06f90",
    "tags": [],
    "deepnote_to_be_reexecuted": false,
    "source_hash": "88af39bf",
    "execution_start": 1651705977710,
    "execution_millis": 442,
    "deepnote_table_state": {
     "pageSize": 10,
     "pageIndex": 14,
     "filters": [],
     "sortBy": []
    },
    "deepnote_table_loading": false,
    "deepnote_cell_type": "code",
    "deepnote_cell_height": 618
   },
   "source": "ped = test_pending(val)\nped",
   "outputs": [
    {
     "output_type": "execute_result",
     "execution_count": 37,
     "data": {
      "application/vnd.deepnote.dataframe.v3+json": {
       "column_count": 37,
       "row_count": 3510,
       "columns": [
        {
         "name": "FACE_VALUE_AMOUNT",
         "dtype": "float64",
         "stats": {
          "unique_count": 1025,
          "nan_count": 0,
          "min": "-0.11520640562452968",
          "max": "25.9403825240371",
          "histogram": [
           {
            "bin_start": -0.11520640562452968,
            "bin_end": 2.4903524873416334,
            "count": 3467
           },
           {
            "bin_start": 2.4903524873416334,
            "bin_end": 5.095911380307796,
            "count": 24
           },
           {
            "bin_start": 5.095911380307796,
            "bin_end": 7.701470273273959,
            "count": 5
           },
           {
            "bin_start": 7.701470273273959,
            "bin_end": 10.307029166240122,
            "count": 6
           },
           {
            "bin_start": 10.307029166240122,
            "bin_end": 12.912588059206286,
            "count": 4
           },
           {
            "bin_start": 12.912588059206286,
            "bin_end": 15.518146952172447,
            "count": 2
           },
           {
            "bin_start": 15.518146952172447,
            "bin_end": 18.123705845138613,
            "count": 0
           },
           {
            "bin_start": 18.123705845138613,
            "bin_end": 20.729264738104774,
            "count": 0
           },
           {
            "bin_start": 20.729264738104774,
            "bin_end": 23.334823631070936,
            "count": 0
           },
           {
            "bin_start": 23.334823631070936,
            "bin_end": 25.9403825240371,
            "count": 2
           }
          ]
         }
        },
        {
         "name": "NUM_OF_VIOLATIONS",
         "dtype": "float64",
         "stats": {
          "unique_count": 9,
          "nan_count": 0,
          "min": "-0.15240496695287173",
          "max": "26.884346210173906",
          "histogram": [
           {
            "bin_start": -0.15240496695287173,
            "bin_end": 2.551270150759806,
            "count": 3445
           },
           {
            "bin_start": 2.551270150759806,
            "bin_end": 5.254945268472484,
            "count": 44
           },
           {
            "bin_start": 5.254945268472484,
            "bin_end": 7.958620386185163,
            "count": 12
           },
           {
            "bin_start": 7.958620386185163,
            "bin_end": 10.66229550389784,
            "count": 1
           },
           {
            "bin_start": 10.66229550389784,
            "bin_end": 13.365970621610517,
            "count": 4
           },
           {
            "bin_start": 13.365970621610517,
            "bin_end": 16.069645739323196,
            "count": 3
           },
           {
            "bin_start": 16.069645739323196,
            "bin_end": 18.773320857035873,
            "count": 0
           },
           {
            "bin_start": 18.773320857035873,
            "bin_end": 21.47699597474855,
            "count": 0
           },
           {
            "bin_start": 21.47699597474855,
            "bin_end": 24.18067109246123,
            "count": 0
           },
           {
            "bin_start": 24.18067109246123,
            "bin_end": 26.884346210173906,
            "count": 1
           }
          ]
         }
        },
        {
         "name": "USE_COUNT",
         "dtype": "float64",
         "stats": {
          "unique_count": 11,
          "nan_count": 0,
          "min": "-1.2151159827369808",
          "max": "6.058624806949039",
          "histogram": [
           {
            "bin_start": -1.2151159827369808,
            "bin_end": -0.4877419037683789,
            "count": 1995
           },
           {
            "bin_start": -0.4877419037683789,
            "bin_end": 0.23963217520022306,
            "count": 724
           },
           {
            "bin_start": 0.23963217520022306,
            "bin_end": 0.9670062541688249,
            "count": 335
           },
           {
            "bin_start": 0.9670062541688249,
            "bin_end": 1.694380333137427,
            "count": 190
           },
           {
            "bin_start": 1.694380333137427,
            "bin_end": 2.4217544121060293,
            "count": 154
           },
           {
            "bin_start": 2.4217544121060293,
            "bin_end": 3.149128491074631,
            "count": 51
           },
           {
            "bin_start": 3.149128491074631,
            "bin_end": 3.8765025700432334,
            "count": 35
           },
           {
            "bin_start": 3.8765025700432334,
            "bin_end": 4.603876649011835,
            "count": 22
           },
           {
            "bin_start": 4.603876649011835,
            "bin_end": 5.331250727980437,
            "count": 0
           },
           {
            "bin_start": 5.331250727980437,
            "bin_end": 6.058624806949039,
            "count": 4
           }
          ]
         }
        },
        {
         "name": "NUMBER_OF_PROTESTS",
         "dtype": "float64",
         "stats": {
          "unique_count": 25,
          "nan_count": 0,
          "min": "-0.311803566668875",
          "max": "12.956318416452461",
          "histogram": [
           {
            "bin_start": -0.311803566668875,
            "bin_end": 1.0150086316432587,
            "count": 3229
           },
           {
            "bin_start": 1.0150086316432587,
            "bin_end": 2.3418208299553926,
            "count": 188
           },
           {
            "bin_start": 2.3418208299553926,
            "bin_end": 3.668633028267526,
            "count": 52
           },
           {
            "bin_start": 3.668633028267526,
            "bin_end": 4.99544522657966,
            "count": 17
           },
           {
            "bin_start": 4.99544522657966,
            "bin_end": 6.322257424891793,
            "count": 8
           },
           {
            "bin_start": 6.322257424891793,
            "bin_end": 7.6490696232039275,
            "count": 4
           },
           {
            "bin_start": 7.6490696232039275,
            "bin_end": 8.975881821516062,
            "count": 3
           },
           {
            "bin_start": 8.975881821516062,
            "bin_end": 10.302694019828195,
            "count": 4
           },
           {
            "bin_start": 10.302694019828195,
            "bin_end": 11.629506218140328,
            "count": 2
           },
           {
            "bin_start": 11.629506218140328,
            "bin_end": 12.956318416452461,
            "count": 3
           }
          ]
         }
        },
        {
         "name": "COUNT_NPO_OR_OTHER",
         "dtype": "float64",
         "stats": {
          "unique_count": 31,
          "nan_count": 0,
          "min": "-0.5803677405261058",
          "max": "9.691586775314128",
          "histogram": [
           {
            "bin_start": -0.5803677405261058,
            "bin_end": 0.4468277110579175,
            "count": 2859
           },
           {
            "bin_start": 0.4468277110579175,
            "bin_end": 1.4740231626419409,
            "count": 405
           },
           {
            "bin_start": 1.4740231626419409,
            "bin_end": 2.501218614225964,
            "count": 144
           },
           {
            "bin_start": 2.501218614225964,
            "bin_end": 3.5284140658099874,
            "count": 45
           },
           {
            "bin_start": 3.5284140658099874,
            "bin_end": 4.555609517394011,
            "count": 22
           },
           {
            "bin_start": 4.555609517394011,
            "bin_end": 5.582804968978034,
            "count": 16
           },
           {
            "bin_start": 5.582804968978034,
            "bin_end": 6.6100004205620575,
            "count": 7
           },
           {
            "bin_start": 6.6100004205620575,
            "bin_end": 7.637195872146081,
            "count": 6
           },
           {
            "bin_start": 7.637195872146081,
            "bin_end": 8.664391323730106,
            "count": 2
           },
           {
            "bin_start": 8.664391323730106,
            "bin_end": 9.691586775314128,
            "count": 4
           }
          ]
         }
        },
        {
         "name": "LATITUDE",
         "dtype": "float64",
         "stats": {
          "unique_count": 2665,
          "nan_count": 0,
          "min": "-4.036778214998",
          "max": "2.140809620848621",
          "histogram": [
           {
            "bin_start": -4.036778214998,
            "bin_end": -3.4190194314133375,
            "count": 23
           },
           {
            "bin_start": -3.4190194314133375,
            "bin_end": -2.8012606478286757,
            "count": 50
           },
           {
            "bin_start": -2.8012606478286757,
            "bin_end": -2.183501864244014,
            "count": 53
           },
           {
            "bin_start": -2.183501864244014,
            "bin_end": -1.5657430806593515,
            "count": 125
           },
           {
            "bin_start": -1.5657430806593515,
            "bin_end": -0.9479842970746892,
            "count": 169
           },
           {
            "bin_start": -0.9479842970746892,
            "bin_end": -0.3302255134900274,
            "count": 868
           },
           {
            "bin_start": -0.3302255134900274,
            "bin_end": 0.2875332700946345,
            "count": 978
           },
           {
            "bin_start": 0.2875332700946345,
            "bin_end": 0.9052920536792968,
            "count": 521
           },
           {
            "bin_start": 0.9052920536792968,
            "bin_end": 1.523050837263959,
            "count": 605
           },
           {
            "bin_start": 1.523050837263959,
            "bin_end": 2.140809620848621,
            "count": 118
           }
          ]
         }
        },
        {
         "name": "PRIMARY_OWNER_ENTITY_TYPE_Estate",
         "dtype": "uint8",
         "stats": {
          "unique_count": 2,
          "nan_count": 0,
          "min": "0",
          "max": "1",
          "histogram": [
           {
            "bin_start": 0,
            "bin_end": 0.1,
            "count": 3506
           },
           {
            "bin_start": 0.1,
            "bin_end": 0.2,
            "count": 0
           },
           {
            "bin_start": 0.2,
            "bin_end": 0.30000000000000004,
            "count": 0
           },
           {
            "bin_start": 0.30000000000000004,
            "bin_end": 0.4,
            "count": 0
           },
           {
            "bin_start": 0.4,
            "bin_end": 0.5,
            "count": 0
           },
           {
            "bin_start": 0.5,
            "bin_end": 0.6000000000000001,
            "count": 0
           },
           {
            "bin_start": 0.6000000000000001,
            "bin_end": 0.7000000000000001,
            "count": 0
           },
           {
            "bin_start": 0.7000000000000001,
            "bin_end": 0.8,
            "count": 0
           },
           {
            "bin_start": 0.8,
            "bin_end": 0.9,
            "count": 0
           },
           {
            "bin_start": 0.9,
            "bin_end": 1,
            "count": 4
           }
          ]
         }
        },
        {
         "name": "PRIMARY_OWNER_ENTITY_TYPE_Federal Government",
         "dtype": "uint8",
         "stats": {
          "unique_count": 2,
          "nan_count": 0,
          "min": "0",
          "max": "1",
          "histogram": [
           {
            "bin_start": 0,
            "bin_end": 0.1,
            "count": 3474
           },
           {
            "bin_start": 0.1,
            "bin_end": 0.2,
            "count": 0
           },
           {
            "bin_start": 0.2,
            "bin_end": 0.30000000000000004,
            "count": 0
           },
           {
            "bin_start": 0.30000000000000004,
            "bin_end": 0.4,
            "count": 0
           },
           {
            "bin_start": 0.4,
            "bin_end": 0.5,
            "count": 0
           },
           {
            "bin_start": 0.5,
            "bin_end": 0.6000000000000001,
            "count": 0
           },
           {
            "bin_start": 0.6000000000000001,
            "bin_end": 0.7000000000000001,
            "count": 0
           },
           {
            "bin_start": 0.7000000000000001,
            "bin_end": 0.8,
            "count": 0
           },
           {
            "bin_start": 0.8,
            "bin_end": 0.9,
            "count": 0
           },
           {
            "bin_start": 0.9,
            "bin_end": 1,
            "count": 36
           }
          ]
         }
        },
        {
         "name": "PRIMARY_OWNER_ENTITY_TYPE_Government (State/Municipal)",
         "dtype": "uint8",
         "stats": {
          "unique_count": 2,
          "nan_count": 0,
          "min": "0",
          "max": "1",
          "histogram": [
           {
            "bin_start": 0,
            "bin_end": 0.1,
            "count": 2971
           },
           {
            "bin_start": 0.1,
            "bin_end": 0.2,
            "count": 0
           },
           {
            "bin_start": 0.2,
            "bin_end": 0.30000000000000004,
            "count": 0
           },
           {
            "bin_start": 0.30000000000000004,
            "bin_end": 0.4,
            "count": 0
           },
           {
            "bin_start": 0.4,
            "bin_end": 0.5,
            "count": 0
           },
           {
            "bin_start": 0.5,
            "bin_end": 0.6000000000000001,
            "count": 0
           },
           {
            "bin_start": 0.6000000000000001,
            "bin_end": 0.7000000000000001,
            "count": 0
           },
           {
            "bin_start": 0.7000000000000001,
            "bin_end": 0.8,
            "count": 0
           },
           {
            "bin_start": 0.8,
            "bin_end": 0.9,
            "count": 0
           },
           {
            "bin_start": 0.9,
            "bin_end": 1,
            "count": 539
           }
          ]
         }
        },
        {
         "name": "PRIMARY_OWNER_ENTITY_TYPE_Individual",
         "dtype": "uint8",
         "stats": {
          "unique_count": 2,
          "nan_count": 0,
          "min": "0",
          "max": "1",
          "histogram": [
           {
            "bin_start": 0,
            "bin_end": 0.1,
            "count": 1735
           },
           {
            "bin_start": 0.1,
            "bin_end": 0.2,
            "count": 0
           },
           {
            "bin_start": 0.2,
            "bin_end": 0.30000000000000004,
            "count": 0
           },
           {
            "bin_start": 0.30000000000000004,
            "bin_end": 0.4,
            "count": 0
           },
           {
            "bin_start": 0.4,
            "bin_end": 0.5,
            "count": 0
           },
           {
            "bin_start": 0.5,
            "bin_end": 0.6000000000000001,
            "count": 0
           },
           {
            "bin_start": 0.6000000000000001,
            "bin_end": 0.7000000000000001,
            "count": 0
           },
           {
            "bin_start": 0.7000000000000001,
            "bin_end": 0.8,
            "count": 0
           },
           {
            "bin_start": 0.8,
            "bin_end": 0.9,
            "count": 0
           },
           {
            "bin_start": 0.9,
            "bin_end": 1,
            "count": 1775
           }
          ]
         }
        },
        {
         "name": "PRIMARY_OWNER_ENTITY_TYPE_Limited Liability Company",
         "dtype": "uint8",
         "stats": {
          "unique_count": 2,
          "nan_count": 0,
          "min": "0",
          "max": "1",
          "histogram": [
           {
            "bin_start": 0,
            "bin_end": 0.1,
            "count": 3254
           },
           {
            "bin_start": 0.1,
            "bin_end": 0.2,
            "count": 0
           },
           {
            "bin_start": 0.2,
            "bin_end": 0.30000000000000004,
            "count": 0
           },
           {
            "bin_start": 0.30000000000000004,
            "bin_end": 0.4,
            "count": 0
           },
           {
            "bin_start": 0.4,
            "bin_end": 0.5,
            "count": 0
           },
           {
            "bin_start": 0.5,
            "bin_end": 0.6000000000000001,
            "count": 0
           },
           {
            "bin_start": 0.6000000000000001,
            "bin_end": 0.7000000000000001,
            "count": 0
           },
           {
            "bin_start": 0.7000000000000001,
            "bin_end": 0.8,
            "count": 0
           },
           {
            "bin_start": 0.8,
            "bin_end": 0.9,
            "count": 0
           },
           {
            "bin_start": 0.9,
            "bin_end": 1,
            "count": 256
           }
          ]
         }
        },
        {
         "name": "PRIMARY_OWNER_ENTITY_TYPE_Limited Partner",
         "dtype": "uint8",
         "stats": {
          "unique_count": 2,
          "nan_count": 0,
          "min": "0",
          "max": "1",
          "histogram": [
           {
            "bin_start": 0,
            "bin_end": 0.1,
            "count": 3493
           },
           {
            "bin_start": 0.1,
            "bin_end": 0.2,
            "count": 0
           },
           {
            "bin_start": 0.2,
            "bin_end": 0.30000000000000004,
            "count": 0
           },
           {
            "bin_start": 0.30000000000000004,
            "bin_end": 0.4,
            "count": 0
           },
           {
            "bin_start": 0.4,
            "bin_end": 0.5,
            "count": 0
           },
           {
            "bin_start": 0.5,
            "bin_end": 0.6000000000000001,
            "count": 0
           },
           {
            "bin_start": 0.6000000000000001,
            "bin_end": 0.7000000000000001,
            "count": 0
           },
           {
            "bin_start": 0.7000000000000001,
            "bin_end": 0.8,
            "count": 0
           },
           {
            "bin_start": 0.8,
            "bin_end": 0.9,
            "count": 0
           },
           {
            "bin_start": 0.9,
            "bin_end": 1,
            "count": 17
           }
          ]
         }
        },
        {
         "name": "PRIMARY_OWNER_ENTITY_TYPE_Organization/Association",
         "dtype": "uint8",
         "stats": {
          "unique_count": 2,
          "nan_count": 0,
          "min": "0",
          "max": "1",
          "histogram": [
           {
            "bin_start": 0,
            "bin_end": 0.1,
            "count": 3456
           },
           {
            "bin_start": 0.1,
            "bin_end": 0.2,
            "count": 0
           },
           {
            "bin_start": 0.2,
            "bin_end": 0.30000000000000004,
            "count": 0
           },
           {
            "bin_start": 0.30000000000000004,
            "bin_end": 0.4,
            "count": 0
           },
           {
            "bin_start": 0.4,
            "bin_end": 0.5,
            "count": 0
           },
           {
            "bin_start": 0.5,
            "bin_end": 0.6000000000000001,
            "count": 0
           },
           {
            "bin_start": 0.6000000000000001,
            "bin_end": 0.7000000000000001,
            "count": 0
           },
           {
            "bin_start": 0.7000000000000001,
            "bin_end": 0.8,
            "count": 0
           },
           {
            "bin_start": 0.8,
            "bin_end": 0.9,
            "count": 0
           },
           {
            "bin_start": 0.9,
            "bin_end": 1,
            "count": 54
           }
          ]
         }
        },
        {
         "name": "PRIMARY_OWNER_ENTITY_TYPE_Partnership or Co-owners",
         "dtype": "uint8",
         "stats": {
          "unique_count": 2,
          "nan_count": 0,
          "min": "0",
          "max": "1",
          "histogram": [
           {
            "bin_start": 0,
            "bin_end": 0.1,
            "count": 3468
           },
           {
            "bin_start": 0.1,
            "bin_end": 0.2,
            "count": 0
           },
           {
            "bin_start": 0.2,
            "bin_end": 0.30000000000000004,
            "count": 0
           },
           {
            "bin_start": 0.30000000000000004,
            "bin_end": 0.4,
            "count": 0
           },
           {
            "bin_start": 0.4,
            "bin_end": 0.5,
            "count": 0
           },
           {
            "bin_start": 0.5,
            "bin_end": 0.6000000000000001,
            "count": 0
           },
           {
            "bin_start": 0.6000000000000001,
            "bin_end": 0.7000000000000001,
            "count": 0
           },
           {
            "bin_start": 0.7000000000000001,
            "bin_end": 0.8,
            "count": 0
           },
           {
            "bin_start": 0.8,
            "bin_end": 0.9,
            "count": 0
           },
           {
            "bin_start": 0.9,
            "bin_end": 1,
            "count": 42
           }
          ]
         }
        },
        {
         "name": "PRIMARY_OWNER_ENTITY_TYPE_Receivership/Fiduciary",
         "dtype": "uint8",
         "stats": {
          "unique_count": 2,
          "nan_count": 0,
          "min": "0",
          "max": "1",
          "histogram": [
           {
            "bin_start": 0,
            "bin_end": 0.1,
            "count": 3509
           },
           {
            "bin_start": 0.1,
            "bin_end": 0.2,
            "count": 0
           },
           {
            "bin_start": 0.2,
            "bin_end": 0.30000000000000004,
            "count": 0
           },
           {
            "bin_start": 0.30000000000000004,
            "bin_end": 0.4,
            "count": 0
           },
           {
            "bin_start": 0.4,
            "bin_end": 0.5,
            "count": 0
           },
           {
            "bin_start": 0.5,
            "bin_end": 0.6000000000000001,
            "count": 0
           },
           {
            "bin_start": 0.6000000000000001,
            "bin_end": 0.7000000000000001,
            "count": 0
           },
           {
            "bin_start": 0.7000000000000001,
            "bin_end": 0.8,
            "count": 0
           },
           {
            "bin_start": 0.8,
            "bin_end": 0.9,
            "count": 0
           },
           {
            "bin_start": 0.9,
            "bin_end": 1,
            "count": 1
           }
          ]
         }
        },
        {
         "name": "PRIMARY_OWNER_ENTITY_TYPE_Trust",
         "dtype": "uint8",
         "stats": {
          "unique_count": 2,
          "nan_count": 0,
          "min": "0",
          "max": "1",
          "histogram": [
           {
            "bin_start": 0,
            "bin_end": 0.1,
            "count": 3406
           },
           {
            "bin_start": 0.1,
            "bin_end": 0.2,
            "count": 0
           },
           {
            "bin_start": 0.2,
            "bin_end": 0.30000000000000004,
            "count": 0
           },
           {
            "bin_start": 0.30000000000000004,
            "bin_end": 0.4,
            "count": 0
           },
           {
            "bin_start": 0.4,
            "bin_end": 0.5,
            "count": 0
           },
           {
            "bin_start": 0.5,
            "bin_end": 0.6000000000000001,
            "count": 0
           },
           {
            "bin_start": 0.6000000000000001,
            "bin_end": 0.7000000000000001,
            "count": 0
           },
           {
            "bin_start": 0.7000000000000001,
            "bin_end": 0.8,
            "count": 0
           },
           {
            "bin_start": 0.8,
            "bin_end": 0.9,
            "count": 0
           },
           {
            "bin_start": 0.9,
            "bin_end": 1,
            "count": 104
           }
          ]
         }
        },
        {
         "name": "USE_CODE_Aquaculture",
         "dtype": "uint8",
         "stats": {
          "unique_count": 2,
          "nan_count": 0,
          "min": "0",
          "max": "1",
          "histogram": [
           {
            "bin_start": 0,
            "bin_end": 0.1,
            "count": 3466
           },
           {
            "bin_start": 0.1,
            "bin_end": 0.2,
            "count": 0
           },
           {
            "bin_start": 0.2,
            "bin_end": 0.30000000000000004,
            "count": 0
           },
           {
            "bin_start": 0.30000000000000004,
            "bin_end": 0.4,
            "count": 0
           },
           {
            "bin_start": 0.4,
            "bin_end": 0.5,
            "count": 0
           },
           {
            "bin_start": 0.5,
            "bin_end": 0.6000000000000001,
            "count": 0
           },
           {
            "bin_start": 0.6000000000000001,
            "bin_end": 0.7000000000000001,
            "count": 0
           },
           {
            "bin_start": 0.7000000000000001,
            "bin_end": 0.8,
            "count": 0
           },
           {
            "bin_start": 0.8,
            "bin_end": 0.9,
            "count": 0
           },
           {
            "bin_start": 0.9,
            "bin_end": 1,
            "count": 44
           }
          ]
         }
        },
        {
         "name": "USE_CODE_Domestic",
         "dtype": "uint8",
         "stats": {
          "unique_count": 2,
          "nan_count": 0,
          "min": "0",
          "max": "1",
          "histogram": [
           {
            "bin_start": 0,
            "bin_end": 0.1,
            "count": 2486
           },
           {
            "bin_start": 0.1,
            "bin_end": 0.2,
            "count": 0
           },
           {
            "bin_start": 0.2,
            "bin_end": 0.30000000000000004,
            "count": 0
           },
           {
            "bin_start": 0.30000000000000004,
            "bin_end": 0.4,
            "count": 0
           },
           {
            "bin_start": 0.4,
            "bin_end": 0.5,
            "count": 0
           },
           {
            "bin_start": 0.5,
            "bin_end": 0.6000000000000001,
            "count": 0
           },
           {
            "bin_start": 0.6000000000000001,
            "bin_end": 0.7000000000000001,
            "count": 0
           },
           {
            "bin_start": 0.7000000000000001,
            "bin_end": 0.8,
            "count": 0
           },
           {
            "bin_start": 0.8,
            "bin_end": 0.9,
            "count": 0
           },
           {
            "bin_start": 0.9,
            "bin_end": 1,
            "count": 1024
           }
          ]
         }
        },
        {
         "name": "USE_CODE_Dust Control",
         "dtype": "uint8",
         "stats": {
          "unique_count": 2,
          "nan_count": 0,
          "min": "0",
          "max": "1",
          "histogram": [
           {
            "bin_start": 0,
            "bin_end": 0.1,
            "count": 3498
           },
           {
            "bin_start": 0.1,
            "bin_end": 0.2,
            "count": 0
           },
           {
            "bin_start": 0.2,
            "bin_end": 0.30000000000000004,
            "count": 0
           },
           {
            "bin_start": 0.30000000000000004,
            "bin_end": 0.4,
            "count": 0
           },
           {
            "bin_start": 0.4,
            "bin_end": 0.5,
            "count": 0
           },
           {
            "bin_start": 0.5,
            "bin_end": 0.6000000000000001,
            "count": 0
           },
           {
            "bin_start": 0.6000000000000001,
            "bin_end": 0.7000000000000001,
            "count": 0
           },
           {
            "bin_start": 0.7000000000000001,
            "bin_end": 0.8,
            "count": 0
           },
           {
            "bin_start": 0.8,
            "bin_end": 0.9,
            "count": 0
           },
           {
            "bin_start": 0.9,
            "bin_end": 1,
            "count": 12
           }
          ]
         }
        },
        {
         "name": "USE_CODE_Fire Protection",
         "dtype": "uint8",
         "stats": {
          "unique_count": 2,
          "nan_count": 0,
          "min": "0",
          "max": "1",
          "histogram": [
           {
            "bin_start": 0,
            "bin_end": 0.1,
            "count": 3274
           },
           {
            "bin_start": 0.1,
            "bin_end": 0.2,
            "count": 0
           },
           {
            "bin_start": 0.2,
            "bin_end": 0.30000000000000004,
            "count": 0
           },
           {
            "bin_start": 0.30000000000000004,
            "bin_end": 0.4,
            "count": 0
           },
           {
            "bin_start": 0.4,
            "bin_end": 0.5,
            "count": 0
           },
           {
            "bin_start": 0.5,
            "bin_end": 0.6000000000000001,
            "count": 0
           },
           {
            "bin_start": 0.6000000000000001,
            "bin_end": 0.7000000000000001,
            "count": 0
           },
           {
            "bin_start": 0.7000000000000001,
            "bin_end": 0.8,
            "count": 0
           },
           {
            "bin_start": 0.8,
            "bin_end": 0.9,
            "count": 0
           },
           {
            "bin_start": 0.9,
            "bin_end": 1,
            "count": 236
           }
          ]
         }
        },
        {
         "name": "USE_CODE_Fish and Wildlife Preservation and Enhancement",
         "dtype": "uint8",
         "stats": {
          "unique_count": 2,
          "nan_count": 0,
          "min": "0",
          "max": "1",
          "histogram": [
           {
            "bin_start": 0,
            "bin_end": 0.1,
            "count": 3408
           },
           {
            "bin_start": 0.1,
            "bin_end": 0.2,
            "count": 0
           },
           {
            "bin_start": 0.2,
            "bin_end": 0.30000000000000004,
            "count": 0
           },
           {
            "bin_start": 0.30000000000000004,
            "bin_end": 0.4,
            "count": 0
           },
           {
            "bin_start": 0.4,
            "bin_end": 0.5,
            "count": 0
           },
           {
            "bin_start": 0.5,
            "bin_end": 0.6000000000000001,
            "count": 0
           },
           {
            "bin_start": 0.6000000000000001,
            "bin_end": 0.7000000000000001,
            "count": 0
           },
           {
            "bin_start": 0.7000000000000001,
            "bin_end": 0.8,
            "count": 0
           },
           {
            "bin_start": 0.8,
            "bin_end": 0.9,
            "count": 0
           },
           {
            "bin_start": 0.9,
            "bin_end": 1,
            "count": 102
           }
          ]
         }
        },
        {
         "name": "USE_CODE_Frost Protection",
         "dtype": "uint8",
         "stats": {
          "unique_count": 2,
          "nan_count": 0,
          "min": "0",
          "max": "1",
          "histogram": [
           {
            "bin_start": 0,
            "bin_end": 0.1,
            "count": 3279
           },
           {
            "bin_start": 0.1,
            "bin_end": 0.2,
            "count": 0
           },
           {
            "bin_start": 0.2,
            "bin_end": 0.30000000000000004,
            "count": 0
           },
           {
            "bin_start": 0.30000000000000004,
            "bin_end": 0.4,
            "count": 0
           },
           {
            "bin_start": 0.4,
            "bin_end": 0.5,
            "count": 0
           },
           {
            "bin_start": 0.5,
            "bin_end": 0.6000000000000001,
            "count": 0
           },
           {
            "bin_start": 0.6000000000000001,
            "bin_end": 0.7000000000000001,
            "count": 0
           },
           {
            "bin_start": 0.7000000000000001,
            "bin_end": 0.8,
            "count": 0
           },
           {
            "bin_start": 0.8,
            "bin_end": 0.9,
            "count": 0
           },
           {
            "bin_start": 0.9,
            "bin_end": 1,
            "count": 231
           }
          ]
         }
        },
        {
         "name": "USE_CODE_Heat Control",
         "dtype": "uint8",
         "stats": {
          "unique_count": 2,
          "nan_count": 0,
          "min": "0",
          "max": "1",
          "histogram": [
           {
            "bin_start": 0,
            "bin_end": 0.1,
            "count": 3502
           },
           {
            "bin_start": 0.1,
            "bin_end": 0.2,
            "count": 0
           },
           {
            "bin_start": 0.2,
            "bin_end": 0.30000000000000004,
            "count": 0
           },
           {
            "bin_start": 0.30000000000000004,
            "bin_end": 0.4,
            "count": 0
           },
           {
            "bin_start": 0.4,
            "bin_end": 0.5,
            "count": 0
           },
           {
            "bin_start": 0.5,
            "bin_end": 0.6000000000000001,
            "count": 0
           },
           {
            "bin_start": 0.6000000000000001,
            "bin_end": 0.7000000000000001,
            "count": 0
           },
           {
            "bin_start": 0.7000000000000001,
            "bin_end": 0.8,
            "count": 0
           },
           {
            "bin_start": 0.8,
            "bin_end": 0.9,
            "count": 0
           },
           {
            "bin_start": 0.9,
            "bin_end": 1,
            "count": 8
           }
          ]
         }
        },
        {
         "name": "USE_CODE_Incidental Power",
         "dtype": "uint8",
         "stats": {
          "unique_count": 2,
          "nan_count": 0,
          "min": "0",
          "max": "1",
          "histogram": [
           {
            "bin_start": 0,
            "bin_end": 0.1,
            "count": 3507
           },
           {
            "bin_start": 0.1,
            "bin_end": 0.2,
            "count": 0
           },
           {
            "bin_start": 0.2,
            "bin_end": 0.30000000000000004,
            "count": 0
           },
           {
            "bin_start": 0.30000000000000004,
            "bin_end": 0.4,
            "count": 0
           },
           {
            "bin_start": 0.4,
            "bin_end": 0.5,
            "count": 0
           },
           {
            "bin_start": 0.5,
            "bin_end": 0.6000000000000001,
            "count": 0
           },
           {
            "bin_start": 0.6000000000000001,
            "bin_end": 0.7000000000000001,
            "count": 0
           },
           {
            "bin_start": 0.7000000000000001,
            "bin_end": 0.8,
            "count": 0
           },
           {
            "bin_start": 0.8,
            "bin_end": 0.9,
            "count": 0
           },
           {
            "bin_start": 0.9,
            "bin_end": 1,
            "count": 3
           }
          ]
         }
        },
        {
         "name": "USE_CODE_Industrial",
         "dtype": "uint8",
         "stats": {
          "unique_count": 2,
          "nan_count": 0,
          "min": "0",
          "max": "1",
          "histogram": [
           {
            "bin_start": 0,
            "bin_end": 0.1,
            "count": 3490
           },
           {
            "bin_start": 0.1,
            "bin_end": 0.2,
            "count": 0
           },
           {
            "bin_start": 0.2,
            "bin_end": 0.30000000000000004,
            "count": 0
           },
           {
            "bin_start": 0.30000000000000004,
            "bin_end": 0.4,
            "count": 0
           },
           {
            "bin_start": 0.4,
            "bin_end": 0.5,
            "count": 0
           },
           {
            "bin_start": 0.5,
            "bin_end": 0.6000000000000001,
            "count": 0
           },
           {
            "bin_start": 0.6000000000000001,
            "bin_end": 0.7000000000000001,
            "count": 0
           },
           {
            "bin_start": 0.7000000000000001,
            "bin_end": 0.8,
            "count": 0
           },
           {
            "bin_start": 0.8,
            "bin_end": 0.9,
            "count": 0
           },
           {
            "bin_start": 0.9,
            "bin_end": 1,
            "count": 20
           }
          ]
         }
        },
        {
         "name": "USE_CODE_Irrigation",
         "dtype": "uint8",
         "stats": {
          "unique_count": 2,
          "nan_count": 0,
          "min": "0",
          "max": "1",
          "histogram": [
           {
            "bin_start": 0,
            "bin_end": 0.1,
            "count": 3020
           },
           {
            "bin_start": 0.1,
            "bin_end": 0.2,
            "count": 0
           },
           {
            "bin_start": 0.2,
            "bin_end": 0.30000000000000004,
            "count": 0
           },
           {
            "bin_start": 0.30000000000000004,
            "bin_end": 0.4,
            "count": 0
           },
           {
            "bin_start": 0.4,
            "bin_end": 0.5,
            "count": 0
           },
           {
            "bin_start": 0.5,
            "bin_end": 0.6000000000000001,
            "count": 0
           },
           {
            "bin_start": 0.6000000000000001,
            "bin_end": 0.7000000000000001,
            "count": 0
           },
           {
            "bin_start": 0.7000000000000001,
            "bin_end": 0.8,
            "count": 0
           },
           {
            "bin_start": 0.8,
            "bin_end": 0.9,
            "count": 0
           },
           {
            "bin_start": 0.9,
            "bin_end": 1,
            "count": 490
           }
          ]
         }
        },
        {
         "name": "USE_CODE_Mining",
         "dtype": "uint8",
         "stats": {
          "unique_count": 2,
          "nan_count": 0,
          "min": "0",
          "max": "1",
          "histogram": [
           {
            "bin_start": 0,
            "bin_end": 0.1,
            "count": 3509
           },
           {
            "bin_start": 0.1,
            "bin_end": 0.2,
            "count": 0
           },
           {
            "bin_start": 0.2,
            "bin_end": 0.30000000000000004,
            "count": 0
           },
           {
            "bin_start": 0.30000000000000004,
            "bin_end": 0.4,
            "count": 0
           },
           {
            "bin_start": 0.4,
            "bin_end": 0.5,
            "count": 0
           },
           {
            "bin_start": 0.5,
            "bin_end": 0.6000000000000001,
            "count": 0
           },
           {
            "bin_start": 0.6000000000000001,
            "bin_end": 0.7000000000000001,
            "count": 0
           },
           {
            "bin_start": 0.7000000000000001,
            "bin_end": 0.8,
            "count": 0
           },
           {
            "bin_start": 0.8,
            "bin_end": 0.9,
            "count": 0
           },
           {
            "bin_start": 0.9,
            "bin_end": 1,
            "count": 1
           }
          ]
         }
        },
        {
         "name": "USE_CODE_Municipal",
         "dtype": "uint8",
         "stats": {
          "unique_count": 2,
          "nan_count": 0,
          "min": "0",
          "max": "1",
          "histogram": [
           {
            "bin_start": 0,
            "bin_end": 0.1,
            "count": 3432
           },
           {
            "bin_start": 0.1,
            "bin_end": 0.2,
            "count": 0
           },
           {
            "bin_start": 0.2,
            "bin_end": 0.30000000000000004,
            "count": 0
           },
           {
            "bin_start": 0.30000000000000004,
            "bin_end": 0.4,
            "count": 0
           },
           {
            "bin_start": 0.4,
            "bin_end": 0.5,
            "count": 0
           },
           {
            "bin_start": 0.5,
            "bin_end": 0.6000000000000001,
            "count": 0
           },
           {
            "bin_start": 0.6000000000000001,
            "bin_end": 0.7000000000000001,
            "count": 0
           },
           {
            "bin_start": 0.7000000000000001,
            "bin_end": 0.8,
            "count": 0
           },
           {
            "bin_start": 0.8,
            "bin_end": 0.9,
            "count": 0
           },
           {
            "bin_start": 0.9,
            "bin_end": 1,
            "count": 78
           }
          ]
         }
        },
        {
         "name": "USE_CODE_Other",
         "dtype": "uint8"
        },
        {
         "name": "USE_CODE_Power",
         "dtype": "uint8"
        },
        {
         "name": "USE_CODE_Recreational",
         "dtype": "uint8"
        },
        {
         "name": "USE_CODE_Snow Making",
         "dtype": "uint8"
        },
        {
         "name": "USE_CODE_Stockwatering",
         "dtype": "uint8"
        },
        {
         "name": "QUANT_INCLUDED",
         "dtype": "bool"
        },
        {
         "name": "USE_POP_INC",
         "dtype": "bool"
        },
        {
         "name": "A/NP",
         "dtype": "int64"
        },
        {
         "name": "predictions",
         "dtype": "int64"
        },
        {
         "name": "_deepnote_index_column",
         "dtype": "int64"
        }
       ],
       "rows": [
        {
         "FACE_VALUE_AMOUNT": 3.1250399099872372,
         "NUM_OF_VIOLATIONS": -0.15240496695287173,
         "USE_COUNT": 3.4136281561541235,
         "NUMBER_OF_PROTESTS": -0.311803566668875,
         "COUNT_NPO_OR_OTHER": -0.5803677405261058,
         "LATITUDE": 1.7877460582563378,
         "PRIMARY_OWNER_ENTITY_TYPE_Estate": 0,
         "PRIMARY_OWNER_ENTITY_TYPE_Federal Government": 0,
         "PRIMARY_OWNER_ENTITY_TYPE_Government (State/Municipal)": 1,
         "PRIMARY_OWNER_ENTITY_TYPE_Individual": 0,
         "PRIMARY_OWNER_ENTITY_TYPE_Limited Liability Company": 0,
         "PRIMARY_OWNER_ENTITY_TYPE_Limited Partner": 0,
         "PRIMARY_OWNER_ENTITY_TYPE_Organization/Association": 0,
         "PRIMARY_OWNER_ENTITY_TYPE_Partnership or Co-owners": 0,
         "PRIMARY_OWNER_ENTITY_TYPE_Receivership/Fiduciary": 0,
         "PRIMARY_OWNER_ENTITY_TYPE_Trust": 0,
         "USE_CODE_Aquaculture": 1,
         "USE_CODE_Domestic": 0,
         "USE_CODE_Dust Control": 0,
         "USE_CODE_Fire Protection": 0,
         "USE_CODE_Fish and Wildlife Preservation and Enhancement": 0,
         "USE_CODE_Frost Protection": 0,
         "USE_CODE_Heat Control": 0,
         "USE_CODE_Incidental Power": 0,
         "USE_CODE_Industrial": 0,
         "USE_CODE_Irrigation": 0,
         "USE_CODE_Mining": 0,
         "USE_CODE_Municipal": 0,
         "USE_CODE_Other": 0,
         "USE_CODE_Power": 0,
         "USE_CODE_Recreational": 0,
         "USE_CODE_Snow Making": 0,
         "USE_CODE_Stockwatering": 0,
         "QUANT_INCLUDED": true,
         "USE_POP_INC": false,
         "A/NP": 0,
         "predictions": 1,
         "_deepnote_index_column": 5941
        },
        {
         "FACE_VALUE_AMOUNT": 3.1250399099872372,
         "NUM_OF_VIOLATIONS": -0.15240496695287173,
         "USE_COUNT": -0.5538668200382517,
         "NUMBER_OF_PROTESTS": -0.311803566668875,
         "COUNT_NPO_OR_OTHER": -0.5803677405261058,
         "LATITUDE": 1.7877460582563378,
         "PRIMARY_OWNER_ENTITY_TYPE_Estate": 0,
         "PRIMARY_OWNER_ENTITY_TYPE_Federal Government": 0,
         "PRIMARY_OWNER_ENTITY_TYPE_Government (State/Municipal)": 1,
         "PRIMARY_OWNER_ENTITY_TYPE_Individual": 0,
         "PRIMARY_OWNER_ENTITY_TYPE_Limited Liability Company": 0,
         "PRIMARY_OWNER_ENTITY_TYPE_Limited Partner": 0,
         "PRIMARY_OWNER_ENTITY_TYPE_Organization/Association": 0,
         "PRIMARY_OWNER_ENTITY_TYPE_Partnership or Co-owners": 0,
         "PRIMARY_OWNER_ENTITY_TYPE_Receivership/Fiduciary": 0,
         "PRIMARY_OWNER_ENTITY_TYPE_Trust": 0,
         "USE_CODE_Aquaculture": 0,
         "USE_CODE_Domestic": 0,
         "USE_CODE_Dust Control": 0,
         "USE_CODE_Fire Protection": 0,
         "USE_CODE_Fish and Wildlife Preservation and Enhancement": 0,
         "USE_CODE_Frost Protection": 0,
         "USE_CODE_Heat Control": 0,
         "USE_CODE_Incidental Power": 0,
         "USE_CODE_Industrial": 0,
         "USE_CODE_Irrigation": 0,
         "USE_CODE_Mining": 0,
         "USE_CODE_Municipal": 0,
         "USE_CODE_Other": 0,
         "USE_CODE_Power": 1,
         "USE_CODE_Recreational": 0,
         "USE_CODE_Snow Making": 0,
         "USE_CODE_Stockwatering": 0,
         "QUANT_INCLUDED": true,
         "USE_POP_INC": false,
         "A/NP": 0,
         "predictions": 1,
         "_deepnote_index_column": 5942
        },
        {
         "FACE_VALUE_AMOUNT": 9.254784228696096,
         "NUM_OF_VIOLATIONS": -0.15240496695287173,
         "USE_COUNT": 4.074877318852852,
         "NUMBER_OF_PROTESTS": -0.311803566668875,
         "COUNT_NPO_OR_OTHER": -0.5803677405261058,
         "LATITUDE": 1.042316922124035,
         "PRIMARY_OWNER_ENTITY_TYPE_Estate": 0,
         "PRIMARY_OWNER_ENTITY_TYPE_Federal Government": 0,
         "PRIMARY_OWNER_ENTITY_TYPE_Government (State/Municipal)": 1,
         "PRIMARY_OWNER_ENTITY_TYPE_Individual": 0,
         "PRIMARY_OWNER_ENTITY_TYPE_Limited Liability Company": 0,
         "PRIMARY_OWNER_ENTITY_TYPE_Limited Partner": 0,
         "PRIMARY_OWNER_ENTITY_TYPE_Organization/Association": 0,
         "PRIMARY_OWNER_ENTITY_TYPE_Partnership or Co-owners": 0,
         "PRIMARY_OWNER_ENTITY_TYPE_Receivership/Fiduciary": 0,
         "PRIMARY_OWNER_ENTITY_TYPE_Trust": 0,
         "USE_CODE_Aquaculture": 1,
         "USE_CODE_Domestic": 0,
         "USE_CODE_Dust Control": 0,
         "USE_CODE_Fire Protection": 0,
         "USE_CODE_Fish and Wildlife Preservation and Enhancement": 0,
         "USE_CODE_Frost Protection": 0,
         "USE_CODE_Heat Control": 0,
         "USE_CODE_Incidental Power": 0,
         "USE_CODE_Industrial": 0,
         "USE_CODE_Irrigation": 0,
         "USE_CODE_Mining": 0,
         "USE_CODE_Municipal": 0,
         "USE_CODE_Other": 0,
         "USE_CODE_Power": 0,
         "USE_CODE_Recreational": 0,
         "USE_CODE_Snow Making": 0,
         "USE_CODE_Stockwatering": 0,
         "QUANT_INCLUDED": true,
         "USE_POP_INC": false,
         "A/NP": 0,
         "predictions": 1,
         "_deepnote_index_column": 5943
        },
        {
         "FACE_VALUE_AMOUNT": 9.254784228696096,
         "NUM_OF_VIOLATIONS": -0.15240496695287173,
         "USE_COUNT": -0.5538668200382517,
         "NUMBER_OF_PROTESTS": -0.311803566668875,
         "COUNT_NPO_OR_OTHER": -0.5803677405261058,
         "LATITUDE": 1.042316922124035,
         "PRIMARY_OWNER_ENTITY_TYPE_Estate": 0,
         "PRIMARY_OWNER_ENTITY_TYPE_Federal Government": 0,
         "PRIMARY_OWNER_ENTITY_TYPE_Government (State/Municipal)": 1,
         "PRIMARY_OWNER_ENTITY_TYPE_Individual": 0,
         "PRIMARY_OWNER_ENTITY_TYPE_Limited Liability Company": 0,
         "PRIMARY_OWNER_ENTITY_TYPE_Limited Partner": 0,
         "PRIMARY_OWNER_ENTITY_TYPE_Organization/Association": 0,
         "PRIMARY_OWNER_ENTITY_TYPE_Partnership or Co-owners": 0,
         "PRIMARY_OWNER_ENTITY_TYPE_Receivership/Fiduciary": 0,
         "PRIMARY_OWNER_ENTITY_TYPE_Trust": 0,
         "USE_CODE_Aquaculture": 0,
         "USE_CODE_Domestic": 0,
         "USE_CODE_Dust Control": 0,
         "USE_CODE_Fire Protection": 0,
         "USE_CODE_Fish and Wildlife Preservation and Enhancement": 0,
         "USE_CODE_Frost Protection": 0,
         "USE_CODE_Heat Control": 0,
         "USE_CODE_Incidental Power": 0,
         "USE_CODE_Industrial": 0,
         "USE_CODE_Irrigation": 0,
         "USE_CODE_Mining": 0,
         "USE_CODE_Municipal": 0,
         "USE_CODE_Other": 0,
         "USE_CODE_Power": 1,
         "USE_CODE_Recreational": 0,
         "USE_CODE_Snow Making": 0,
         "USE_CODE_Stockwatering": 0,
         "QUANT_INCLUDED": true,
         "USE_POP_INC": false,
         "A/NP": 0,
         "predictions": 1,
         "_deepnote_index_column": 5944
        },
        {
         "FACE_VALUE_AMOUNT": 4.594842362429688,
         "NUM_OF_VIOLATIONS": -0.15240496695287173,
         "USE_COUNT": 4.074877318852852,
         "NUMBER_OF_PROTESTS": -0.311803566668875,
         "COUNT_NPO_OR_OTHER": -0.5803677405261058,
         "LATITUDE": 0.7694893706177985,
         "PRIMARY_OWNER_ENTITY_TYPE_Estate": 0,
         "PRIMARY_OWNER_ENTITY_TYPE_Federal Government": 0,
         "PRIMARY_OWNER_ENTITY_TYPE_Government (State/Municipal)": 1,
         "PRIMARY_OWNER_ENTITY_TYPE_Individual": 0,
         "PRIMARY_OWNER_ENTITY_TYPE_Limited Liability Company": 0,
         "PRIMARY_OWNER_ENTITY_TYPE_Limited Partner": 0,
         "PRIMARY_OWNER_ENTITY_TYPE_Organization/Association": 0,
         "PRIMARY_OWNER_ENTITY_TYPE_Partnership or Co-owners": 0,
         "PRIMARY_OWNER_ENTITY_TYPE_Receivership/Fiduciary": 0,
         "PRIMARY_OWNER_ENTITY_TYPE_Trust": 0,
         "USE_CODE_Aquaculture": 1,
         "USE_CODE_Domestic": 0,
         "USE_CODE_Dust Control": 0,
         "USE_CODE_Fire Protection": 0,
         "USE_CODE_Fish and Wildlife Preservation and Enhancement": 0,
         "USE_CODE_Frost Protection": 0,
         "USE_CODE_Heat Control": 0,
         "USE_CODE_Incidental Power": 0,
         "USE_CODE_Industrial": 0,
         "USE_CODE_Irrigation": 0,
         "USE_CODE_Mining": 0,
         "USE_CODE_Municipal": 0,
         "USE_CODE_Other": 0,
         "USE_CODE_Power": 0,
         "USE_CODE_Recreational": 0,
         "USE_CODE_Snow Making": 0,
         "USE_CODE_Stockwatering": 0,
         "QUANT_INCLUDED": true,
         "USE_POP_INC": false,
         "A/NP": 0,
         "predictions": 1,
         "_deepnote_index_column": 5945
        },
        {
         "FACE_VALUE_AMOUNT": 4.594842362429688,
         "NUM_OF_VIOLATIONS": -0.15240496695287173,
         "USE_COUNT": -0.5538668200382517,
         "NUMBER_OF_PROTESTS": -0.311803566668875,
         "COUNT_NPO_OR_OTHER": -0.5803677405261058,
         "LATITUDE": 0.7694893706177985,
         "PRIMARY_OWNER_ENTITY_TYPE_Estate": 0,
         "PRIMARY_OWNER_ENTITY_TYPE_Federal Government": 0,
         "PRIMARY_OWNER_ENTITY_TYPE_Government (State/Municipal)": 1,
         "PRIMARY_OWNER_ENTITY_TYPE_Individual": 0,
         "PRIMARY_OWNER_ENTITY_TYPE_Limited Liability Company": 0,
         "PRIMARY_OWNER_ENTITY_TYPE_Limited Partner": 0,
         "PRIMARY_OWNER_ENTITY_TYPE_Organization/Association": 0,
         "PRIMARY_OWNER_ENTITY_TYPE_Partnership or Co-owners": 0,
         "PRIMARY_OWNER_ENTITY_TYPE_Receivership/Fiduciary": 0,
         "PRIMARY_OWNER_ENTITY_TYPE_Trust": 0,
         "USE_CODE_Aquaculture": 0,
         "USE_CODE_Domestic": 0,
         "USE_CODE_Dust Control": 0,
         "USE_CODE_Fire Protection": 0,
         "USE_CODE_Fish and Wildlife Preservation and Enhancement": 0,
         "USE_CODE_Frost Protection": 0,
         "USE_CODE_Heat Control": 0,
         "USE_CODE_Incidental Power": 0,
         "USE_CODE_Industrial": 0,
         "USE_CODE_Irrigation": 0,
         "USE_CODE_Mining": 0,
         "USE_CODE_Municipal": 0,
         "USE_CODE_Other": 0,
         "USE_CODE_Power": 1,
         "USE_CODE_Recreational": 0,
         "USE_CODE_Snow Making": 0,
         "USE_CODE_Stockwatering": 0,
         "QUANT_INCLUDED": true,
         "USE_POP_INC": false,
         "A/NP": 0,
         "predictions": 1,
         "_deepnote_index_column": 5946
        },
        {
         "FACE_VALUE_AMOUNT": 3.5592997254815972,
         "NUM_OF_VIOLATIONS": -0.15240496695287173,
         "USE_COUNT": 4.074877318852852,
         "NUMBER_OF_PROTESTS": -0.311803566668875,
         "COUNT_NPO_OR_OTHER": -0.5803677405261058,
         "LATITUDE": 0.5857165045350798,
         "PRIMARY_OWNER_ENTITY_TYPE_Estate": 0,
         "PRIMARY_OWNER_ENTITY_TYPE_Federal Government": 0,
         "PRIMARY_OWNER_ENTITY_TYPE_Government (State/Municipal)": 1,
         "PRIMARY_OWNER_ENTITY_TYPE_Individual": 0,
         "PRIMARY_OWNER_ENTITY_TYPE_Limited Liability Company": 0,
         "PRIMARY_OWNER_ENTITY_TYPE_Limited Partner": 0,
         "PRIMARY_OWNER_ENTITY_TYPE_Organization/Association": 0,
         "PRIMARY_OWNER_ENTITY_TYPE_Partnership or Co-owners": 0,
         "PRIMARY_OWNER_ENTITY_TYPE_Receivership/Fiduciary": 0,
         "PRIMARY_OWNER_ENTITY_TYPE_Trust": 0,
         "USE_CODE_Aquaculture": 1,
         "USE_CODE_Domestic": 0,
         "USE_CODE_Dust Control": 0,
         "USE_CODE_Fire Protection": 0,
         "USE_CODE_Fish and Wildlife Preservation and Enhancement": 0,
         "USE_CODE_Frost Protection": 0,
         "USE_CODE_Heat Control": 0,
         "USE_CODE_Incidental Power": 0,
         "USE_CODE_Industrial": 0,
         "USE_CODE_Irrigation": 0,
         "USE_CODE_Mining": 0,
         "USE_CODE_Municipal": 0,
         "USE_CODE_Other": 0,
         "USE_CODE_Power": 0,
         "USE_CODE_Recreational": 0,
         "USE_CODE_Snow Making": 0,
         "USE_CODE_Stockwatering": 0,
         "QUANT_INCLUDED": true,
         "USE_POP_INC": false,
         "A/NP": 0,
         "predictions": 1,
         "_deepnote_index_column": 5947
        },
        {
         "FACE_VALUE_AMOUNT": 3.5592997254815972,
         "NUM_OF_VIOLATIONS": -0.15240496695287173,
         "USE_COUNT": -0.5538668200382517,
         "NUMBER_OF_PROTESTS": -0.311803566668875,
         "COUNT_NPO_OR_OTHER": -0.5803677405261058,
         "LATITUDE": 0.5857165045350798,
         "PRIMARY_OWNER_ENTITY_TYPE_Estate": 0,
         "PRIMARY_OWNER_ENTITY_TYPE_Federal Government": 0,
         "PRIMARY_OWNER_ENTITY_TYPE_Government (State/Municipal)": 1,
         "PRIMARY_OWNER_ENTITY_TYPE_Individual": 0,
         "PRIMARY_OWNER_ENTITY_TYPE_Limited Liability Company": 0,
         "PRIMARY_OWNER_ENTITY_TYPE_Limited Partner": 0,
         "PRIMARY_OWNER_ENTITY_TYPE_Organization/Association": 0,
         "PRIMARY_OWNER_ENTITY_TYPE_Partnership or Co-owners": 0,
         "PRIMARY_OWNER_ENTITY_TYPE_Receivership/Fiduciary": 0,
         "PRIMARY_OWNER_ENTITY_TYPE_Trust": 0,
         "USE_CODE_Aquaculture": 0,
         "USE_CODE_Domestic": 0,
         "USE_CODE_Dust Control": 0,
         "USE_CODE_Fire Protection": 0,
         "USE_CODE_Fish and Wildlife Preservation and Enhancement": 0,
         "USE_CODE_Frost Protection": 0,
         "USE_CODE_Heat Control": 0,
         "USE_CODE_Incidental Power": 0,
         "USE_CODE_Industrial": 0,
         "USE_CODE_Irrigation": 0,
         "USE_CODE_Mining": 0,
         "USE_CODE_Municipal": 0,
         "USE_CODE_Other": 0,
         "USE_CODE_Power": 1,
         "USE_CODE_Recreational": 0,
         "USE_CODE_Snow Making": 0,
         "USE_CODE_Stockwatering": 0,
         "QUANT_INCLUDED": true,
         "USE_POP_INC": false,
         "A/NP": 0,
         "predictions": 1,
         "_deepnote_index_column": 5948
        },
        {
         "FACE_VALUE_AMOUNT": 1.8556650646960295,
         "NUM_OF_VIOLATIONS": -0.15240496695287173,
         "USE_COUNT": 4.074877318852852,
         "NUMBER_OF_PROTESTS": -0.311803566668875,
         "COUNT_NPO_OR_OTHER": -0.5803677405261058,
         "LATITUDE": 0.6723529784808393,
         "PRIMARY_OWNER_ENTITY_TYPE_Estate": 0,
         "PRIMARY_OWNER_ENTITY_TYPE_Federal Government": 0,
         "PRIMARY_OWNER_ENTITY_TYPE_Government (State/Municipal)": 1,
         "PRIMARY_OWNER_ENTITY_TYPE_Individual": 0,
         "PRIMARY_OWNER_ENTITY_TYPE_Limited Liability Company": 0,
         "PRIMARY_OWNER_ENTITY_TYPE_Limited Partner": 0,
         "PRIMARY_OWNER_ENTITY_TYPE_Organization/Association": 0,
         "PRIMARY_OWNER_ENTITY_TYPE_Partnership or Co-owners": 0,
         "PRIMARY_OWNER_ENTITY_TYPE_Receivership/Fiduciary": 0,
         "PRIMARY_OWNER_ENTITY_TYPE_Trust": 0,
         "USE_CODE_Aquaculture": 1,
         "USE_CODE_Domestic": 0,
         "USE_CODE_Dust Control": 0,
         "USE_CODE_Fire Protection": 0,
         "USE_CODE_Fish and Wildlife Preservation and Enhancement": 0,
         "USE_CODE_Frost Protection": 0,
         "USE_CODE_Heat Control": 0,
         "USE_CODE_Incidental Power": 0,
         "USE_CODE_Industrial": 0,
         "USE_CODE_Irrigation": 0,
         "USE_CODE_Mining": 0,
         "USE_CODE_Municipal": 0,
         "USE_CODE_Other": 0,
         "USE_CODE_Power": 0,
         "USE_CODE_Recreational": 0,
         "USE_CODE_Snow Making": 0,
         "USE_CODE_Stockwatering": 0,
         "QUANT_INCLUDED": true,
         "USE_POP_INC": false,
         "A/NP": 0,
         "predictions": 1,
         "_deepnote_index_column": 5949
        },
        {
         "FACE_VALUE_AMOUNT": 1.8556650646960295,
         "NUM_OF_VIOLATIONS": -0.15240496695287173,
         "USE_COUNT": -0.5538668200382517,
         "NUMBER_OF_PROTESTS": -0.311803566668875,
         "COUNT_NPO_OR_OTHER": -0.5803677405261058,
         "LATITUDE": 0.6723529784808393,
         "PRIMARY_OWNER_ENTITY_TYPE_Estate": 0,
         "PRIMARY_OWNER_ENTITY_TYPE_Federal Government": 0,
         "PRIMARY_OWNER_ENTITY_TYPE_Government (State/Municipal)": 1,
         "PRIMARY_OWNER_ENTITY_TYPE_Individual": 0,
         "PRIMARY_OWNER_ENTITY_TYPE_Limited Liability Company": 0,
         "PRIMARY_OWNER_ENTITY_TYPE_Limited Partner": 0,
         "PRIMARY_OWNER_ENTITY_TYPE_Organization/Association": 0,
         "PRIMARY_OWNER_ENTITY_TYPE_Partnership or Co-owners": 0,
         "PRIMARY_OWNER_ENTITY_TYPE_Receivership/Fiduciary": 0,
         "PRIMARY_OWNER_ENTITY_TYPE_Trust": 0,
         "USE_CODE_Aquaculture": 0,
         "USE_CODE_Domestic": 0,
         "USE_CODE_Dust Control": 0,
         "USE_CODE_Fire Protection": 0,
         "USE_CODE_Fish and Wildlife Preservation and Enhancement": 0,
         "USE_CODE_Frost Protection": 0,
         "USE_CODE_Heat Control": 0,
         "USE_CODE_Incidental Power": 0,
         "USE_CODE_Industrial": 0,
         "USE_CODE_Irrigation": 0,
         "USE_CODE_Mining": 0,
         "USE_CODE_Municipal": 0,
         "USE_CODE_Other": 0,
         "USE_CODE_Power": 1,
         "USE_CODE_Recreational": 0,
         "USE_CODE_Snow Making": 0,
         "USE_CODE_Stockwatering": 0,
         "QUANT_INCLUDED": true,
         "USE_POP_INC": false,
         "A/NP": 0,
         "predictions": 1,
         "_deepnote_index_column": 5950
        }
       ]
      },
      "text/plain": "       FACE_VALUE_AMOUNT  NUM_OF_VIOLATIONS  USE_COUNT  NUMBER_OF_PROTESTS  \\\n0              -0.115126          -0.152405  -0.553867           -0.311804   \n13             -0.112183          -0.152405   0.107382            0.446375   \n34              3.433175          -0.152405   0.107382           -0.311804   \n44             -0.070110           3.709988  -0.553867           -0.311804   \n48             -0.115205          -0.152405   0.107382           -0.311804   \n...                  ...                ...        ...                 ...   \n76480          -0.115204          -0.152405   0.107382           -0.311804   \n76481          -0.115206          -0.152405  -1.215116           -0.311804   \n76490          -0.115206          -0.152405  -1.215116           -0.311804   \n76500          -0.115206          -0.152405  -1.215116           -0.311804   \n76501          -0.115206          -0.152405  -1.215116           -0.311804   \n\n       COUNT_NPO_OR_OTHER  LATITUDE  PRIMARY_OWNER_ENTITY_TYPE_Estate  \\\n0               -0.580368 -4.036778                                 0   \n13               0.771205 -3.135666                                 0   \n34              -0.580368 -1.144123                                 0   \n44              -0.580368 -0.624722                                 0   \n48              -0.310053  1.049860                                 0   \n...                   ...       ...                               ...   \n76480           -0.310053  0.359828                                 0   \n76481           -0.310053 -0.336641                                 0   \n76490           -0.310053 -0.336641                                 0   \n76500           -0.310053 -0.336641                                 0   \n76501           -0.039739 -0.336641                                 0   \n\n       PRIMARY_OWNER_ENTITY_TYPE_Federal Government  \\\n0                                                 0   \n13                                                0   \n34                                                1   \n44                                                0   \n48                                                0   \n...                                             ...   \n76480                                             0   \n76481                                             0   \n76490                                             0   \n76500                                             0   \n76501                                             0   \n\n       PRIMARY_OWNER_ENTITY_TYPE_Government (State/Municipal)  \\\n0                                                      0        \n13                                                     0        \n34                                                     0        \n44                                                     1        \n48                                                     0        \n...                                                  ...        \n76480                                                  0        \n76481                                                  0        \n76490                                                  0        \n76500                                                  0        \n76501                                                  0        \n\n       PRIMARY_OWNER_ENTITY_TYPE_Individual  ...  USE_CODE_Municipal  \\\n0                                         0  ...                   0   \n13                                        0  ...                   0   \n34                                        0  ...                   0   \n44                                        0  ...                   0   \n48                                        1  ...                   0   \n...                                     ...  ...                 ...   \n76480                                     0  ...                   0   \n76481                                     1  ...                   0   \n76490                                     0  ...                   0   \n76500                                     1  ...                   0   \n76501                                     1  ...                   0   \n\n       USE_CODE_Other  USE_CODE_Power  USE_CODE_Recreational  \\\n0                   0               0                      0   \n13                  0               0                      0   \n34                  0               0                      0   \n44                  0               0                      0   \n48                  0               0                      0   \n...               ...             ...                    ...   \n76480               0               0                      0   \n76481               0               0                      0   \n76490               0               0                      0   \n76500               0               0                      0   \n76501               0               0                      0   \n\n       USE_CODE_Snow Making  USE_CODE_Stockwatering  QUANT_INCLUDED  \\\n0                         0                       0            True   \n13                        0                       0            True   \n34                        0                       0            True   \n44                        0                       0            True   \n48                        0                       0            True   \n...                     ...                     ...             ...   \n76480                     0                       0            True   \n76481                     0                       0            True   \n76490                     0                       0            True   \n76500                     0                       0            True   \n76501                     0                       0            True   \n\n       USE_POP_INC  A/NP  predictions  \n0            False     0            1  \n13           False     0            1  \n34           False     0            1  \n44           False     0            1  \n48           False     0            1  \n...            ...   ...          ...  \n76480         True     0            1  \n76481         True     0            1  \n76490         True     0            1  \n76500         True     0            1  \n76501         True     0            1  \n\n[3510 rows x 37 columns]",
      "text/html": "<div>\n<style scoped>\n    .dataframe tbody tr th:only-of-type {\n        vertical-align: middle;\n    }\n\n    .dataframe tbody tr th {\n        vertical-align: top;\n    }\n\n    .dataframe thead th {\n        text-align: right;\n    }\n</style>\n<table border=\"1\" class=\"dataframe\">\n  <thead>\n    <tr style=\"text-align: right;\">\n      <th></th>\n      <th>FACE_VALUE_AMOUNT</th>\n      <th>NUM_OF_VIOLATIONS</th>\n      <th>USE_COUNT</th>\n      <th>NUMBER_OF_PROTESTS</th>\n      <th>COUNT_NPO_OR_OTHER</th>\n      <th>LATITUDE</th>\n      <th>PRIMARY_OWNER_ENTITY_TYPE_Estate</th>\n      <th>PRIMARY_OWNER_ENTITY_TYPE_Federal Government</th>\n      <th>PRIMARY_OWNER_ENTITY_TYPE_Government (State/Municipal)</th>\n      <th>PRIMARY_OWNER_ENTITY_TYPE_Individual</th>\n      <th>...</th>\n      <th>USE_CODE_Municipal</th>\n      <th>USE_CODE_Other</th>\n      <th>USE_CODE_Power</th>\n      <th>USE_CODE_Recreational</th>\n      <th>USE_CODE_Snow Making</th>\n      <th>USE_CODE_Stockwatering</th>\n      <th>QUANT_INCLUDED</th>\n      <th>USE_POP_INC</th>\n      <th>A/NP</th>\n      <th>predictions</th>\n    </tr>\n  </thead>\n  <tbody>\n    <tr>\n      <th>0</th>\n      <td>-0.115126</td>\n      <td>-0.152405</td>\n      <td>-0.553867</td>\n      <td>-0.311804</td>\n      <td>-0.580368</td>\n      <td>-4.036778</td>\n      <td>0</td>\n      <td>0</td>\n      <td>0</td>\n      <td>0</td>\n      <td>...</td>\n      <td>0</td>\n      <td>0</td>\n      <td>0</td>\n      <td>0</td>\n      <td>0</td>\n      <td>0</td>\n      <td>True</td>\n      <td>False</td>\n      <td>0</td>\n      <td>1</td>\n    </tr>\n    <tr>\n      <th>13</th>\n      <td>-0.112183</td>\n      <td>-0.152405</td>\n      <td>0.107382</td>\n      <td>0.446375</td>\n      <td>0.771205</td>\n      <td>-3.135666</td>\n      <td>0</td>\n      <td>0</td>\n      <td>0</td>\n      <td>0</td>\n      <td>...</td>\n      <td>0</td>\n      <td>0</td>\n      <td>0</td>\n      <td>0</td>\n      <td>0</td>\n      <td>0</td>\n      <td>True</td>\n      <td>False</td>\n      <td>0</td>\n      <td>1</td>\n    </tr>\n    <tr>\n      <th>34</th>\n      <td>3.433175</td>\n      <td>-0.152405</td>\n      <td>0.107382</td>\n      <td>-0.311804</td>\n      <td>-0.580368</td>\n      <td>-1.144123</td>\n      <td>0</td>\n      <td>1</td>\n      <td>0</td>\n      <td>0</td>\n      <td>...</td>\n      <td>0</td>\n      <td>0</td>\n      <td>0</td>\n      <td>0</td>\n      <td>0</td>\n      <td>0</td>\n      <td>True</td>\n      <td>False</td>\n      <td>0</td>\n      <td>1</td>\n    </tr>\n    <tr>\n      <th>44</th>\n      <td>-0.070110</td>\n      <td>3.709988</td>\n      <td>-0.553867</td>\n      <td>-0.311804</td>\n      <td>-0.580368</td>\n      <td>-0.624722</td>\n      <td>0</td>\n      <td>0</td>\n      <td>1</td>\n      <td>0</td>\n      <td>...</td>\n      <td>0</td>\n      <td>0</td>\n      <td>0</td>\n      <td>0</td>\n      <td>0</td>\n      <td>0</td>\n      <td>True</td>\n      <td>False</td>\n      <td>0</td>\n      <td>1</td>\n    </tr>\n    <tr>\n      <th>48</th>\n      <td>-0.115205</td>\n      <td>-0.152405</td>\n      <td>0.107382</td>\n      <td>-0.311804</td>\n      <td>-0.310053</td>\n      <td>1.049860</td>\n      <td>0</td>\n      <td>0</td>\n      <td>0</td>\n      <td>1</td>\n      <td>...</td>\n      <td>0</td>\n      <td>0</td>\n      <td>0</td>\n      <td>0</td>\n      <td>0</td>\n      <td>0</td>\n      <td>True</td>\n      <td>False</td>\n      <td>0</td>\n      <td>1</td>\n    </tr>\n    <tr>\n      <th>...</th>\n      <td>...</td>\n      <td>...</td>\n      <td>...</td>\n      <td>...</td>\n      <td>...</td>\n      <td>...</td>\n      <td>...</td>\n      <td>...</td>\n      <td>...</td>\n      <td>...</td>\n      <td>...</td>\n      <td>...</td>\n      <td>...</td>\n      <td>...</td>\n      <td>...</td>\n      <td>...</td>\n      <td>...</td>\n      <td>...</td>\n      <td>...</td>\n      <td>...</td>\n      <td>...</td>\n    </tr>\n    <tr>\n      <th>76480</th>\n      <td>-0.115204</td>\n      <td>-0.152405</td>\n      <td>0.107382</td>\n      <td>-0.311804</td>\n      <td>-0.310053</td>\n      <td>0.359828</td>\n      <td>0</td>\n      <td>0</td>\n      <td>0</td>\n      <td>0</td>\n      <td>...</td>\n      <td>0</td>\n      <td>0</td>\n      <td>0</td>\n      <td>0</td>\n      <td>0</td>\n      <td>0</td>\n      <td>True</td>\n      <td>True</td>\n      <td>0</td>\n      <td>1</td>\n    </tr>\n    <tr>\n      <th>76481</th>\n      <td>-0.115206</td>\n      <td>-0.152405</td>\n      <td>-1.215116</td>\n      <td>-0.311804</td>\n      <td>-0.310053</td>\n      <td>-0.336641</td>\n      <td>0</td>\n      <td>0</td>\n      <td>0</td>\n      <td>1</td>\n      <td>...</td>\n      <td>0</td>\n      <td>0</td>\n      <td>0</td>\n      <td>0</td>\n      <td>0</td>\n      <td>0</td>\n      <td>True</td>\n      <td>True</td>\n      <td>0</td>\n      <td>1</td>\n    </tr>\n    <tr>\n      <th>76490</th>\n      <td>-0.115206</td>\n      <td>-0.152405</td>\n      <td>-1.215116</td>\n      <td>-0.311804</td>\n      <td>-0.310053</td>\n      <td>-0.336641</td>\n      <td>0</td>\n      <td>0</td>\n      <td>0</td>\n      <td>0</td>\n      <td>...</td>\n      <td>0</td>\n      <td>0</td>\n      <td>0</td>\n      <td>0</td>\n      <td>0</td>\n      <td>0</td>\n      <td>True</td>\n      <td>True</td>\n      <td>0</td>\n      <td>1</td>\n    </tr>\n    <tr>\n      <th>76500</th>\n      <td>-0.115206</td>\n      <td>-0.152405</td>\n      <td>-1.215116</td>\n      <td>-0.311804</td>\n      <td>-0.310053</td>\n      <td>-0.336641</td>\n      <td>0</td>\n      <td>0</td>\n      <td>0</td>\n      <td>1</td>\n      <td>...</td>\n      <td>0</td>\n      <td>0</td>\n      <td>0</td>\n      <td>0</td>\n      <td>0</td>\n      <td>0</td>\n      <td>True</td>\n      <td>True</td>\n      <td>0</td>\n      <td>1</td>\n    </tr>\n    <tr>\n      <th>76501</th>\n      <td>-0.115206</td>\n      <td>-0.152405</td>\n      <td>-1.215116</td>\n      <td>-0.311804</td>\n      <td>-0.039739</td>\n      <td>-0.336641</td>\n      <td>0</td>\n      <td>0</td>\n      <td>0</td>\n      <td>1</td>\n      <td>...</td>\n      <td>0</td>\n      <td>0</td>\n      <td>0</td>\n      <td>0</td>\n      <td>0</td>\n      <td>0</td>\n      <td>True</td>\n      <td>True</td>\n      <td>0</td>\n      <td>1</td>\n    </tr>\n  </tbody>\n</table>\n<p>3510 rows × 37 columns</p>\n</div>"
     },
     "metadata": {}
    }
   ],
   "execution_count": null
  },
  {
   "cell_type": "code",
   "source": "val",
   "metadata": {
    "cell_id": "91e3e0a14fb548c487aafa32a0e0298a",
    "tags": [],
    "deepnote_to_be_reexecuted": false,
    "source_hash": "41d0cc70",
    "execution_start": 1651706414132,
    "execution_millis": 131,
    "deepnote_cell_type": "code",
    "deepnote_cell_height": 600
   },
   "outputs": [
    {
     "output_type": "execute_result",
     "execution_count": 43,
     "data": {
      "application/vnd.deepnote.dataframe.v3+json": {
       "column_count": 37,
       "row_count": 3510,
       "columns": [
        {
         "name": "FACE_VALUE_AMOUNT",
         "dtype": "float64",
         "stats": {
          "unique_count": 1025,
          "nan_count": 0,
          "min": "-0.11520640562452968",
          "max": "25.9403825240371",
          "histogram": [
           {
            "bin_start": -0.11520640562452968,
            "bin_end": 2.4903524873416334,
            "count": 3467
           },
           {
            "bin_start": 2.4903524873416334,
            "bin_end": 5.095911380307796,
            "count": 24
           },
           {
            "bin_start": 5.095911380307796,
            "bin_end": 7.701470273273959,
            "count": 5
           },
           {
            "bin_start": 7.701470273273959,
            "bin_end": 10.307029166240122,
            "count": 6
           },
           {
            "bin_start": 10.307029166240122,
            "bin_end": 12.912588059206286,
            "count": 4
           },
           {
            "bin_start": 12.912588059206286,
            "bin_end": 15.518146952172447,
            "count": 2
           },
           {
            "bin_start": 15.518146952172447,
            "bin_end": 18.123705845138613,
            "count": 0
           },
           {
            "bin_start": 18.123705845138613,
            "bin_end": 20.729264738104774,
            "count": 0
           },
           {
            "bin_start": 20.729264738104774,
            "bin_end": 23.334823631070936,
            "count": 0
           },
           {
            "bin_start": 23.334823631070936,
            "bin_end": 25.9403825240371,
            "count": 2
           }
          ]
         }
        },
        {
         "name": "NUM_OF_VIOLATIONS",
         "dtype": "float64",
         "stats": {
          "unique_count": 9,
          "nan_count": 0,
          "min": "-0.15240496695287173",
          "max": "26.884346210173906",
          "histogram": [
           {
            "bin_start": -0.15240496695287173,
            "bin_end": 2.551270150759806,
            "count": 3445
           },
           {
            "bin_start": 2.551270150759806,
            "bin_end": 5.254945268472484,
            "count": 44
           },
           {
            "bin_start": 5.254945268472484,
            "bin_end": 7.958620386185163,
            "count": 12
           },
           {
            "bin_start": 7.958620386185163,
            "bin_end": 10.66229550389784,
            "count": 1
           },
           {
            "bin_start": 10.66229550389784,
            "bin_end": 13.365970621610517,
            "count": 4
           },
           {
            "bin_start": 13.365970621610517,
            "bin_end": 16.069645739323196,
            "count": 3
           },
           {
            "bin_start": 16.069645739323196,
            "bin_end": 18.773320857035873,
            "count": 0
           },
           {
            "bin_start": 18.773320857035873,
            "bin_end": 21.47699597474855,
            "count": 0
           },
           {
            "bin_start": 21.47699597474855,
            "bin_end": 24.18067109246123,
            "count": 0
           },
           {
            "bin_start": 24.18067109246123,
            "bin_end": 26.884346210173906,
            "count": 1
           }
          ]
         }
        },
        {
         "name": "USE_COUNT",
         "dtype": "float64",
         "stats": {
          "unique_count": 11,
          "nan_count": 0,
          "min": "-1.2151159827369808",
          "max": "6.058624806949039",
          "histogram": [
           {
            "bin_start": -1.2151159827369808,
            "bin_end": -0.4877419037683789,
            "count": 1995
           },
           {
            "bin_start": -0.4877419037683789,
            "bin_end": 0.23963217520022306,
            "count": 724
           },
           {
            "bin_start": 0.23963217520022306,
            "bin_end": 0.9670062541688249,
            "count": 335
           },
           {
            "bin_start": 0.9670062541688249,
            "bin_end": 1.694380333137427,
            "count": 190
           },
           {
            "bin_start": 1.694380333137427,
            "bin_end": 2.4217544121060293,
            "count": 154
           },
           {
            "bin_start": 2.4217544121060293,
            "bin_end": 3.149128491074631,
            "count": 51
           },
           {
            "bin_start": 3.149128491074631,
            "bin_end": 3.8765025700432334,
            "count": 35
           },
           {
            "bin_start": 3.8765025700432334,
            "bin_end": 4.603876649011835,
            "count": 22
           },
           {
            "bin_start": 4.603876649011835,
            "bin_end": 5.331250727980437,
            "count": 0
           },
           {
            "bin_start": 5.331250727980437,
            "bin_end": 6.058624806949039,
            "count": 4
           }
          ]
         }
        },
        {
         "name": "NUMBER_OF_PROTESTS",
         "dtype": "float64",
         "stats": {
          "unique_count": 25,
          "nan_count": 0,
          "min": "-0.311803566668875",
          "max": "12.956318416452461",
          "histogram": [
           {
            "bin_start": -0.311803566668875,
            "bin_end": 1.0150086316432587,
            "count": 3229
           },
           {
            "bin_start": 1.0150086316432587,
            "bin_end": 2.3418208299553926,
            "count": 188
           },
           {
            "bin_start": 2.3418208299553926,
            "bin_end": 3.668633028267526,
            "count": 52
           },
           {
            "bin_start": 3.668633028267526,
            "bin_end": 4.99544522657966,
            "count": 17
           },
           {
            "bin_start": 4.99544522657966,
            "bin_end": 6.322257424891793,
            "count": 8
           },
           {
            "bin_start": 6.322257424891793,
            "bin_end": 7.6490696232039275,
            "count": 4
           },
           {
            "bin_start": 7.6490696232039275,
            "bin_end": 8.975881821516062,
            "count": 3
           },
           {
            "bin_start": 8.975881821516062,
            "bin_end": 10.302694019828195,
            "count": 4
           },
           {
            "bin_start": 10.302694019828195,
            "bin_end": 11.629506218140328,
            "count": 2
           },
           {
            "bin_start": 11.629506218140328,
            "bin_end": 12.956318416452461,
            "count": 3
           }
          ]
         }
        },
        {
         "name": "COUNT_NPO_OR_OTHER",
         "dtype": "float64",
         "stats": {
          "unique_count": 31,
          "nan_count": 0,
          "min": "-0.5803677405261058",
          "max": "9.691586775314128",
          "histogram": [
           {
            "bin_start": -0.5803677405261058,
            "bin_end": 0.4468277110579175,
            "count": 2859
           },
           {
            "bin_start": 0.4468277110579175,
            "bin_end": 1.4740231626419409,
            "count": 405
           },
           {
            "bin_start": 1.4740231626419409,
            "bin_end": 2.501218614225964,
            "count": 144
           },
           {
            "bin_start": 2.501218614225964,
            "bin_end": 3.5284140658099874,
            "count": 45
           },
           {
            "bin_start": 3.5284140658099874,
            "bin_end": 4.555609517394011,
            "count": 22
           },
           {
            "bin_start": 4.555609517394011,
            "bin_end": 5.582804968978034,
            "count": 16
           },
           {
            "bin_start": 5.582804968978034,
            "bin_end": 6.6100004205620575,
            "count": 7
           },
           {
            "bin_start": 6.6100004205620575,
            "bin_end": 7.637195872146081,
            "count": 6
           },
           {
            "bin_start": 7.637195872146081,
            "bin_end": 8.664391323730106,
            "count": 2
           },
           {
            "bin_start": 8.664391323730106,
            "bin_end": 9.691586775314128,
            "count": 4
           }
          ]
         }
        },
        {
         "name": "LATITUDE",
         "dtype": "float64",
         "stats": {
          "unique_count": 2665,
          "nan_count": 0,
          "min": "-4.036778214998",
          "max": "2.140809620848621",
          "histogram": [
           {
            "bin_start": -4.036778214998,
            "bin_end": -3.4190194314133375,
            "count": 23
           },
           {
            "bin_start": -3.4190194314133375,
            "bin_end": -2.8012606478286757,
            "count": 50
           },
           {
            "bin_start": -2.8012606478286757,
            "bin_end": -2.183501864244014,
            "count": 53
           },
           {
            "bin_start": -2.183501864244014,
            "bin_end": -1.5657430806593515,
            "count": 125
           },
           {
            "bin_start": -1.5657430806593515,
            "bin_end": -0.9479842970746892,
            "count": 169
           },
           {
            "bin_start": -0.9479842970746892,
            "bin_end": -0.3302255134900274,
            "count": 868
           },
           {
            "bin_start": -0.3302255134900274,
            "bin_end": 0.2875332700946345,
            "count": 978
           },
           {
            "bin_start": 0.2875332700946345,
            "bin_end": 0.9052920536792968,
            "count": 521
           },
           {
            "bin_start": 0.9052920536792968,
            "bin_end": 1.523050837263959,
            "count": 605
           },
           {
            "bin_start": 1.523050837263959,
            "bin_end": 2.140809620848621,
            "count": 118
           }
          ]
         }
        },
        {
         "name": "PRIMARY_OWNER_ENTITY_TYPE_Estate",
         "dtype": "uint8",
         "stats": {
          "unique_count": 2,
          "nan_count": 0,
          "min": "0",
          "max": "1",
          "histogram": [
           {
            "bin_start": 0,
            "bin_end": 0.1,
            "count": 3506
           },
           {
            "bin_start": 0.1,
            "bin_end": 0.2,
            "count": 0
           },
           {
            "bin_start": 0.2,
            "bin_end": 0.30000000000000004,
            "count": 0
           },
           {
            "bin_start": 0.30000000000000004,
            "bin_end": 0.4,
            "count": 0
           },
           {
            "bin_start": 0.4,
            "bin_end": 0.5,
            "count": 0
           },
           {
            "bin_start": 0.5,
            "bin_end": 0.6000000000000001,
            "count": 0
           },
           {
            "bin_start": 0.6000000000000001,
            "bin_end": 0.7000000000000001,
            "count": 0
           },
           {
            "bin_start": 0.7000000000000001,
            "bin_end": 0.8,
            "count": 0
           },
           {
            "bin_start": 0.8,
            "bin_end": 0.9,
            "count": 0
           },
           {
            "bin_start": 0.9,
            "bin_end": 1,
            "count": 4
           }
          ]
         }
        },
        {
         "name": "PRIMARY_OWNER_ENTITY_TYPE_Federal Government",
         "dtype": "uint8",
         "stats": {
          "unique_count": 2,
          "nan_count": 0,
          "min": "0",
          "max": "1",
          "histogram": [
           {
            "bin_start": 0,
            "bin_end": 0.1,
            "count": 3474
           },
           {
            "bin_start": 0.1,
            "bin_end": 0.2,
            "count": 0
           },
           {
            "bin_start": 0.2,
            "bin_end": 0.30000000000000004,
            "count": 0
           },
           {
            "bin_start": 0.30000000000000004,
            "bin_end": 0.4,
            "count": 0
           },
           {
            "bin_start": 0.4,
            "bin_end": 0.5,
            "count": 0
           },
           {
            "bin_start": 0.5,
            "bin_end": 0.6000000000000001,
            "count": 0
           },
           {
            "bin_start": 0.6000000000000001,
            "bin_end": 0.7000000000000001,
            "count": 0
           },
           {
            "bin_start": 0.7000000000000001,
            "bin_end": 0.8,
            "count": 0
           },
           {
            "bin_start": 0.8,
            "bin_end": 0.9,
            "count": 0
           },
           {
            "bin_start": 0.9,
            "bin_end": 1,
            "count": 36
           }
          ]
         }
        },
        {
         "name": "PRIMARY_OWNER_ENTITY_TYPE_Government (State/Municipal)",
         "dtype": "uint8",
         "stats": {
          "unique_count": 2,
          "nan_count": 0,
          "min": "0",
          "max": "1",
          "histogram": [
           {
            "bin_start": 0,
            "bin_end": 0.1,
            "count": 2971
           },
           {
            "bin_start": 0.1,
            "bin_end": 0.2,
            "count": 0
           },
           {
            "bin_start": 0.2,
            "bin_end": 0.30000000000000004,
            "count": 0
           },
           {
            "bin_start": 0.30000000000000004,
            "bin_end": 0.4,
            "count": 0
           },
           {
            "bin_start": 0.4,
            "bin_end": 0.5,
            "count": 0
           },
           {
            "bin_start": 0.5,
            "bin_end": 0.6000000000000001,
            "count": 0
           },
           {
            "bin_start": 0.6000000000000001,
            "bin_end": 0.7000000000000001,
            "count": 0
           },
           {
            "bin_start": 0.7000000000000001,
            "bin_end": 0.8,
            "count": 0
           },
           {
            "bin_start": 0.8,
            "bin_end": 0.9,
            "count": 0
           },
           {
            "bin_start": 0.9,
            "bin_end": 1,
            "count": 539
           }
          ]
         }
        },
        {
         "name": "PRIMARY_OWNER_ENTITY_TYPE_Individual",
         "dtype": "uint8",
         "stats": {
          "unique_count": 2,
          "nan_count": 0,
          "min": "0",
          "max": "1",
          "histogram": [
           {
            "bin_start": 0,
            "bin_end": 0.1,
            "count": 1735
           },
           {
            "bin_start": 0.1,
            "bin_end": 0.2,
            "count": 0
           },
           {
            "bin_start": 0.2,
            "bin_end": 0.30000000000000004,
            "count": 0
           },
           {
            "bin_start": 0.30000000000000004,
            "bin_end": 0.4,
            "count": 0
           },
           {
            "bin_start": 0.4,
            "bin_end": 0.5,
            "count": 0
           },
           {
            "bin_start": 0.5,
            "bin_end": 0.6000000000000001,
            "count": 0
           },
           {
            "bin_start": 0.6000000000000001,
            "bin_end": 0.7000000000000001,
            "count": 0
           },
           {
            "bin_start": 0.7000000000000001,
            "bin_end": 0.8,
            "count": 0
           },
           {
            "bin_start": 0.8,
            "bin_end": 0.9,
            "count": 0
           },
           {
            "bin_start": 0.9,
            "bin_end": 1,
            "count": 1775
           }
          ]
         }
        },
        {
         "name": "PRIMARY_OWNER_ENTITY_TYPE_Limited Liability Company",
         "dtype": "uint8",
         "stats": {
          "unique_count": 2,
          "nan_count": 0,
          "min": "0",
          "max": "1",
          "histogram": [
           {
            "bin_start": 0,
            "bin_end": 0.1,
            "count": 3254
           },
           {
            "bin_start": 0.1,
            "bin_end": 0.2,
            "count": 0
           },
           {
            "bin_start": 0.2,
            "bin_end": 0.30000000000000004,
            "count": 0
           },
           {
            "bin_start": 0.30000000000000004,
            "bin_end": 0.4,
            "count": 0
           },
           {
            "bin_start": 0.4,
            "bin_end": 0.5,
            "count": 0
           },
           {
            "bin_start": 0.5,
            "bin_end": 0.6000000000000001,
            "count": 0
           },
           {
            "bin_start": 0.6000000000000001,
            "bin_end": 0.7000000000000001,
            "count": 0
           },
           {
            "bin_start": 0.7000000000000001,
            "bin_end": 0.8,
            "count": 0
           },
           {
            "bin_start": 0.8,
            "bin_end": 0.9,
            "count": 0
           },
           {
            "bin_start": 0.9,
            "bin_end": 1,
            "count": 256
           }
          ]
         }
        },
        {
         "name": "PRIMARY_OWNER_ENTITY_TYPE_Limited Partner",
         "dtype": "uint8",
         "stats": {
          "unique_count": 2,
          "nan_count": 0,
          "min": "0",
          "max": "1",
          "histogram": [
           {
            "bin_start": 0,
            "bin_end": 0.1,
            "count": 3493
           },
           {
            "bin_start": 0.1,
            "bin_end": 0.2,
            "count": 0
           },
           {
            "bin_start": 0.2,
            "bin_end": 0.30000000000000004,
            "count": 0
           },
           {
            "bin_start": 0.30000000000000004,
            "bin_end": 0.4,
            "count": 0
           },
           {
            "bin_start": 0.4,
            "bin_end": 0.5,
            "count": 0
           },
           {
            "bin_start": 0.5,
            "bin_end": 0.6000000000000001,
            "count": 0
           },
           {
            "bin_start": 0.6000000000000001,
            "bin_end": 0.7000000000000001,
            "count": 0
           },
           {
            "bin_start": 0.7000000000000001,
            "bin_end": 0.8,
            "count": 0
           },
           {
            "bin_start": 0.8,
            "bin_end": 0.9,
            "count": 0
           },
           {
            "bin_start": 0.9,
            "bin_end": 1,
            "count": 17
           }
          ]
         }
        },
        {
         "name": "PRIMARY_OWNER_ENTITY_TYPE_Organization/Association",
         "dtype": "uint8",
         "stats": {
          "unique_count": 2,
          "nan_count": 0,
          "min": "0",
          "max": "1",
          "histogram": [
           {
            "bin_start": 0,
            "bin_end": 0.1,
            "count": 3456
           },
           {
            "bin_start": 0.1,
            "bin_end": 0.2,
            "count": 0
           },
           {
            "bin_start": 0.2,
            "bin_end": 0.30000000000000004,
            "count": 0
           },
           {
            "bin_start": 0.30000000000000004,
            "bin_end": 0.4,
            "count": 0
           },
           {
            "bin_start": 0.4,
            "bin_end": 0.5,
            "count": 0
           },
           {
            "bin_start": 0.5,
            "bin_end": 0.6000000000000001,
            "count": 0
           },
           {
            "bin_start": 0.6000000000000001,
            "bin_end": 0.7000000000000001,
            "count": 0
           },
           {
            "bin_start": 0.7000000000000001,
            "bin_end": 0.8,
            "count": 0
           },
           {
            "bin_start": 0.8,
            "bin_end": 0.9,
            "count": 0
           },
           {
            "bin_start": 0.9,
            "bin_end": 1,
            "count": 54
           }
          ]
         }
        },
        {
         "name": "PRIMARY_OWNER_ENTITY_TYPE_Partnership or Co-owners",
         "dtype": "uint8",
         "stats": {
          "unique_count": 2,
          "nan_count": 0,
          "min": "0",
          "max": "1",
          "histogram": [
           {
            "bin_start": 0,
            "bin_end": 0.1,
            "count": 3468
           },
           {
            "bin_start": 0.1,
            "bin_end": 0.2,
            "count": 0
           },
           {
            "bin_start": 0.2,
            "bin_end": 0.30000000000000004,
            "count": 0
           },
           {
            "bin_start": 0.30000000000000004,
            "bin_end": 0.4,
            "count": 0
           },
           {
            "bin_start": 0.4,
            "bin_end": 0.5,
            "count": 0
           },
           {
            "bin_start": 0.5,
            "bin_end": 0.6000000000000001,
            "count": 0
           },
           {
            "bin_start": 0.6000000000000001,
            "bin_end": 0.7000000000000001,
            "count": 0
           },
           {
            "bin_start": 0.7000000000000001,
            "bin_end": 0.8,
            "count": 0
           },
           {
            "bin_start": 0.8,
            "bin_end": 0.9,
            "count": 0
           },
           {
            "bin_start": 0.9,
            "bin_end": 1,
            "count": 42
           }
          ]
         }
        },
        {
         "name": "PRIMARY_OWNER_ENTITY_TYPE_Receivership/Fiduciary",
         "dtype": "uint8",
         "stats": {
          "unique_count": 2,
          "nan_count": 0,
          "min": "0",
          "max": "1",
          "histogram": [
           {
            "bin_start": 0,
            "bin_end": 0.1,
            "count": 3509
           },
           {
            "bin_start": 0.1,
            "bin_end": 0.2,
            "count": 0
           },
           {
            "bin_start": 0.2,
            "bin_end": 0.30000000000000004,
            "count": 0
           },
           {
            "bin_start": 0.30000000000000004,
            "bin_end": 0.4,
            "count": 0
           },
           {
            "bin_start": 0.4,
            "bin_end": 0.5,
            "count": 0
           },
           {
            "bin_start": 0.5,
            "bin_end": 0.6000000000000001,
            "count": 0
           },
           {
            "bin_start": 0.6000000000000001,
            "bin_end": 0.7000000000000001,
            "count": 0
           },
           {
            "bin_start": 0.7000000000000001,
            "bin_end": 0.8,
            "count": 0
           },
           {
            "bin_start": 0.8,
            "bin_end": 0.9,
            "count": 0
           },
           {
            "bin_start": 0.9,
            "bin_end": 1,
            "count": 1
           }
          ]
         }
        },
        {
         "name": "PRIMARY_OWNER_ENTITY_TYPE_Trust",
         "dtype": "uint8",
         "stats": {
          "unique_count": 2,
          "nan_count": 0,
          "min": "0",
          "max": "1",
          "histogram": [
           {
            "bin_start": 0,
            "bin_end": 0.1,
            "count": 3406
           },
           {
            "bin_start": 0.1,
            "bin_end": 0.2,
            "count": 0
           },
           {
            "bin_start": 0.2,
            "bin_end": 0.30000000000000004,
            "count": 0
           },
           {
            "bin_start": 0.30000000000000004,
            "bin_end": 0.4,
            "count": 0
           },
           {
            "bin_start": 0.4,
            "bin_end": 0.5,
            "count": 0
           },
           {
            "bin_start": 0.5,
            "bin_end": 0.6000000000000001,
            "count": 0
           },
           {
            "bin_start": 0.6000000000000001,
            "bin_end": 0.7000000000000001,
            "count": 0
           },
           {
            "bin_start": 0.7000000000000001,
            "bin_end": 0.8,
            "count": 0
           },
           {
            "bin_start": 0.8,
            "bin_end": 0.9,
            "count": 0
           },
           {
            "bin_start": 0.9,
            "bin_end": 1,
            "count": 104
           }
          ]
         }
        },
        {
         "name": "USE_CODE_Aquaculture",
         "dtype": "uint8",
         "stats": {
          "unique_count": 2,
          "nan_count": 0,
          "min": "0",
          "max": "1",
          "histogram": [
           {
            "bin_start": 0,
            "bin_end": 0.1,
            "count": 3466
           },
           {
            "bin_start": 0.1,
            "bin_end": 0.2,
            "count": 0
           },
           {
            "bin_start": 0.2,
            "bin_end": 0.30000000000000004,
            "count": 0
           },
           {
            "bin_start": 0.30000000000000004,
            "bin_end": 0.4,
            "count": 0
           },
           {
            "bin_start": 0.4,
            "bin_end": 0.5,
            "count": 0
           },
           {
            "bin_start": 0.5,
            "bin_end": 0.6000000000000001,
            "count": 0
           },
           {
            "bin_start": 0.6000000000000001,
            "bin_end": 0.7000000000000001,
            "count": 0
           },
           {
            "bin_start": 0.7000000000000001,
            "bin_end": 0.8,
            "count": 0
           },
           {
            "bin_start": 0.8,
            "bin_end": 0.9,
            "count": 0
           },
           {
            "bin_start": 0.9,
            "bin_end": 1,
            "count": 44
           }
          ]
         }
        },
        {
         "name": "USE_CODE_Domestic",
         "dtype": "uint8",
         "stats": {
          "unique_count": 2,
          "nan_count": 0,
          "min": "0",
          "max": "1",
          "histogram": [
           {
            "bin_start": 0,
            "bin_end": 0.1,
            "count": 2486
           },
           {
            "bin_start": 0.1,
            "bin_end": 0.2,
            "count": 0
           },
           {
            "bin_start": 0.2,
            "bin_end": 0.30000000000000004,
            "count": 0
           },
           {
            "bin_start": 0.30000000000000004,
            "bin_end": 0.4,
            "count": 0
           },
           {
            "bin_start": 0.4,
            "bin_end": 0.5,
            "count": 0
           },
           {
            "bin_start": 0.5,
            "bin_end": 0.6000000000000001,
            "count": 0
           },
           {
            "bin_start": 0.6000000000000001,
            "bin_end": 0.7000000000000001,
            "count": 0
           },
           {
            "bin_start": 0.7000000000000001,
            "bin_end": 0.8,
            "count": 0
           },
           {
            "bin_start": 0.8,
            "bin_end": 0.9,
            "count": 0
           },
           {
            "bin_start": 0.9,
            "bin_end": 1,
            "count": 1024
           }
          ]
         }
        },
        {
         "name": "USE_CODE_Dust Control",
         "dtype": "uint8",
         "stats": {
          "unique_count": 2,
          "nan_count": 0,
          "min": "0",
          "max": "1",
          "histogram": [
           {
            "bin_start": 0,
            "bin_end": 0.1,
            "count": 3498
           },
           {
            "bin_start": 0.1,
            "bin_end": 0.2,
            "count": 0
           },
           {
            "bin_start": 0.2,
            "bin_end": 0.30000000000000004,
            "count": 0
           },
           {
            "bin_start": 0.30000000000000004,
            "bin_end": 0.4,
            "count": 0
           },
           {
            "bin_start": 0.4,
            "bin_end": 0.5,
            "count": 0
           },
           {
            "bin_start": 0.5,
            "bin_end": 0.6000000000000001,
            "count": 0
           },
           {
            "bin_start": 0.6000000000000001,
            "bin_end": 0.7000000000000001,
            "count": 0
           },
           {
            "bin_start": 0.7000000000000001,
            "bin_end": 0.8,
            "count": 0
           },
           {
            "bin_start": 0.8,
            "bin_end": 0.9,
            "count": 0
           },
           {
            "bin_start": 0.9,
            "bin_end": 1,
            "count": 12
           }
          ]
         }
        },
        {
         "name": "USE_CODE_Fire Protection",
         "dtype": "uint8",
         "stats": {
          "unique_count": 2,
          "nan_count": 0,
          "min": "0",
          "max": "1",
          "histogram": [
           {
            "bin_start": 0,
            "bin_end": 0.1,
            "count": 3274
           },
           {
            "bin_start": 0.1,
            "bin_end": 0.2,
            "count": 0
           },
           {
            "bin_start": 0.2,
            "bin_end": 0.30000000000000004,
            "count": 0
           },
           {
            "bin_start": 0.30000000000000004,
            "bin_end": 0.4,
            "count": 0
           },
           {
            "bin_start": 0.4,
            "bin_end": 0.5,
            "count": 0
           },
           {
            "bin_start": 0.5,
            "bin_end": 0.6000000000000001,
            "count": 0
           },
           {
            "bin_start": 0.6000000000000001,
            "bin_end": 0.7000000000000001,
            "count": 0
           },
           {
            "bin_start": 0.7000000000000001,
            "bin_end": 0.8,
            "count": 0
           },
           {
            "bin_start": 0.8,
            "bin_end": 0.9,
            "count": 0
           },
           {
            "bin_start": 0.9,
            "bin_end": 1,
            "count": 236
           }
          ]
         }
        },
        {
         "name": "USE_CODE_Fish and Wildlife Preservation and Enhancement",
         "dtype": "uint8",
         "stats": {
          "unique_count": 2,
          "nan_count": 0,
          "min": "0",
          "max": "1",
          "histogram": [
           {
            "bin_start": 0,
            "bin_end": 0.1,
            "count": 3408
           },
           {
            "bin_start": 0.1,
            "bin_end": 0.2,
            "count": 0
           },
           {
            "bin_start": 0.2,
            "bin_end": 0.30000000000000004,
            "count": 0
           },
           {
            "bin_start": 0.30000000000000004,
            "bin_end": 0.4,
            "count": 0
           },
           {
            "bin_start": 0.4,
            "bin_end": 0.5,
            "count": 0
           },
           {
            "bin_start": 0.5,
            "bin_end": 0.6000000000000001,
            "count": 0
           },
           {
            "bin_start": 0.6000000000000001,
            "bin_end": 0.7000000000000001,
            "count": 0
           },
           {
            "bin_start": 0.7000000000000001,
            "bin_end": 0.8,
            "count": 0
           },
           {
            "bin_start": 0.8,
            "bin_end": 0.9,
            "count": 0
           },
           {
            "bin_start": 0.9,
            "bin_end": 1,
            "count": 102
           }
          ]
         }
        },
        {
         "name": "USE_CODE_Frost Protection",
         "dtype": "uint8",
         "stats": {
          "unique_count": 2,
          "nan_count": 0,
          "min": "0",
          "max": "1",
          "histogram": [
           {
            "bin_start": 0,
            "bin_end": 0.1,
            "count": 3279
           },
           {
            "bin_start": 0.1,
            "bin_end": 0.2,
            "count": 0
           },
           {
            "bin_start": 0.2,
            "bin_end": 0.30000000000000004,
            "count": 0
           },
           {
            "bin_start": 0.30000000000000004,
            "bin_end": 0.4,
            "count": 0
           },
           {
            "bin_start": 0.4,
            "bin_end": 0.5,
            "count": 0
           },
           {
            "bin_start": 0.5,
            "bin_end": 0.6000000000000001,
            "count": 0
           },
           {
            "bin_start": 0.6000000000000001,
            "bin_end": 0.7000000000000001,
            "count": 0
           },
           {
            "bin_start": 0.7000000000000001,
            "bin_end": 0.8,
            "count": 0
           },
           {
            "bin_start": 0.8,
            "bin_end": 0.9,
            "count": 0
           },
           {
            "bin_start": 0.9,
            "bin_end": 1,
            "count": 231
           }
          ]
         }
        },
        {
         "name": "USE_CODE_Heat Control",
         "dtype": "uint8",
         "stats": {
          "unique_count": 2,
          "nan_count": 0,
          "min": "0",
          "max": "1",
          "histogram": [
           {
            "bin_start": 0,
            "bin_end": 0.1,
            "count": 3502
           },
           {
            "bin_start": 0.1,
            "bin_end": 0.2,
            "count": 0
           },
           {
            "bin_start": 0.2,
            "bin_end": 0.30000000000000004,
            "count": 0
           },
           {
            "bin_start": 0.30000000000000004,
            "bin_end": 0.4,
            "count": 0
           },
           {
            "bin_start": 0.4,
            "bin_end": 0.5,
            "count": 0
           },
           {
            "bin_start": 0.5,
            "bin_end": 0.6000000000000001,
            "count": 0
           },
           {
            "bin_start": 0.6000000000000001,
            "bin_end": 0.7000000000000001,
            "count": 0
           },
           {
            "bin_start": 0.7000000000000001,
            "bin_end": 0.8,
            "count": 0
           },
           {
            "bin_start": 0.8,
            "bin_end": 0.9,
            "count": 0
           },
           {
            "bin_start": 0.9,
            "bin_end": 1,
            "count": 8
           }
          ]
         }
        },
        {
         "name": "USE_CODE_Incidental Power",
         "dtype": "uint8",
         "stats": {
          "unique_count": 2,
          "nan_count": 0,
          "min": "0",
          "max": "1",
          "histogram": [
           {
            "bin_start": 0,
            "bin_end": 0.1,
            "count": 3507
           },
           {
            "bin_start": 0.1,
            "bin_end": 0.2,
            "count": 0
           },
           {
            "bin_start": 0.2,
            "bin_end": 0.30000000000000004,
            "count": 0
           },
           {
            "bin_start": 0.30000000000000004,
            "bin_end": 0.4,
            "count": 0
           },
           {
            "bin_start": 0.4,
            "bin_end": 0.5,
            "count": 0
           },
           {
            "bin_start": 0.5,
            "bin_end": 0.6000000000000001,
            "count": 0
           },
           {
            "bin_start": 0.6000000000000001,
            "bin_end": 0.7000000000000001,
            "count": 0
           },
           {
            "bin_start": 0.7000000000000001,
            "bin_end": 0.8,
            "count": 0
           },
           {
            "bin_start": 0.8,
            "bin_end": 0.9,
            "count": 0
           },
           {
            "bin_start": 0.9,
            "bin_end": 1,
            "count": 3
           }
          ]
         }
        },
        {
         "name": "USE_CODE_Industrial",
         "dtype": "uint8",
         "stats": {
          "unique_count": 2,
          "nan_count": 0,
          "min": "0",
          "max": "1",
          "histogram": [
           {
            "bin_start": 0,
            "bin_end": 0.1,
            "count": 3490
           },
           {
            "bin_start": 0.1,
            "bin_end": 0.2,
            "count": 0
           },
           {
            "bin_start": 0.2,
            "bin_end": 0.30000000000000004,
            "count": 0
           },
           {
            "bin_start": 0.30000000000000004,
            "bin_end": 0.4,
            "count": 0
           },
           {
            "bin_start": 0.4,
            "bin_end": 0.5,
            "count": 0
           },
           {
            "bin_start": 0.5,
            "bin_end": 0.6000000000000001,
            "count": 0
           },
           {
            "bin_start": 0.6000000000000001,
            "bin_end": 0.7000000000000001,
            "count": 0
           },
           {
            "bin_start": 0.7000000000000001,
            "bin_end": 0.8,
            "count": 0
           },
           {
            "bin_start": 0.8,
            "bin_end": 0.9,
            "count": 0
           },
           {
            "bin_start": 0.9,
            "bin_end": 1,
            "count": 20
           }
          ]
         }
        },
        {
         "name": "USE_CODE_Irrigation",
         "dtype": "uint8",
         "stats": {
          "unique_count": 2,
          "nan_count": 0,
          "min": "0",
          "max": "1",
          "histogram": [
           {
            "bin_start": 0,
            "bin_end": 0.1,
            "count": 3020
           },
           {
            "bin_start": 0.1,
            "bin_end": 0.2,
            "count": 0
           },
           {
            "bin_start": 0.2,
            "bin_end": 0.30000000000000004,
            "count": 0
           },
           {
            "bin_start": 0.30000000000000004,
            "bin_end": 0.4,
            "count": 0
           },
           {
            "bin_start": 0.4,
            "bin_end": 0.5,
            "count": 0
           },
           {
            "bin_start": 0.5,
            "bin_end": 0.6000000000000001,
            "count": 0
           },
           {
            "bin_start": 0.6000000000000001,
            "bin_end": 0.7000000000000001,
            "count": 0
           },
           {
            "bin_start": 0.7000000000000001,
            "bin_end": 0.8,
            "count": 0
           },
           {
            "bin_start": 0.8,
            "bin_end": 0.9,
            "count": 0
           },
           {
            "bin_start": 0.9,
            "bin_end": 1,
            "count": 490
           }
          ]
         }
        },
        {
         "name": "USE_CODE_Mining",
         "dtype": "uint8",
         "stats": {
          "unique_count": 2,
          "nan_count": 0,
          "min": "0",
          "max": "1",
          "histogram": [
           {
            "bin_start": 0,
            "bin_end": 0.1,
            "count": 3509
           },
           {
            "bin_start": 0.1,
            "bin_end": 0.2,
            "count": 0
           },
           {
            "bin_start": 0.2,
            "bin_end": 0.30000000000000004,
            "count": 0
           },
           {
            "bin_start": 0.30000000000000004,
            "bin_end": 0.4,
            "count": 0
           },
           {
            "bin_start": 0.4,
            "bin_end": 0.5,
            "count": 0
           },
           {
            "bin_start": 0.5,
            "bin_end": 0.6000000000000001,
            "count": 0
           },
           {
            "bin_start": 0.6000000000000001,
            "bin_end": 0.7000000000000001,
            "count": 0
           },
           {
            "bin_start": 0.7000000000000001,
            "bin_end": 0.8,
            "count": 0
           },
           {
            "bin_start": 0.8,
            "bin_end": 0.9,
            "count": 0
           },
           {
            "bin_start": 0.9,
            "bin_end": 1,
            "count": 1
           }
          ]
         }
        },
        {
         "name": "USE_CODE_Municipal",
         "dtype": "uint8",
         "stats": {
          "unique_count": 2,
          "nan_count": 0,
          "min": "0",
          "max": "1",
          "histogram": [
           {
            "bin_start": 0,
            "bin_end": 0.1,
            "count": 3432
           },
           {
            "bin_start": 0.1,
            "bin_end": 0.2,
            "count": 0
           },
           {
            "bin_start": 0.2,
            "bin_end": 0.30000000000000004,
            "count": 0
           },
           {
            "bin_start": 0.30000000000000004,
            "bin_end": 0.4,
            "count": 0
           },
           {
            "bin_start": 0.4,
            "bin_end": 0.5,
            "count": 0
           },
           {
            "bin_start": 0.5,
            "bin_end": 0.6000000000000001,
            "count": 0
           },
           {
            "bin_start": 0.6000000000000001,
            "bin_end": 0.7000000000000001,
            "count": 0
           },
           {
            "bin_start": 0.7000000000000001,
            "bin_end": 0.8,
            "count": 0
           },
           {
            "bin_start": 0.8,
            "bin_end": 0.9,
            "count": 0
           },
           {
            "bin_start": 0.9,
            "bin_end": 1,
            "count": 78
           }
          ]
         }
        },
        {
         "name": "USE_CODE_Other",
         "dtype": "uint8"
        },
        {
         "name": "USE_CODE_Power",
         "dtype": "uint8"
        },
        {
         "name": "USE_CODE_Recreational",
         "dtype": "uint8"
        },
        {
         "name": "USE_CODE_Snow Making",
         "dtype": "uint8"
        },
        {
         "name": "USE_CODE_Stockwatering",
         "dtype": "uint8"
        },
        {
         "name": "QUANT_INCLUDED",
         "dtype": "bool"
        },
        {
         "name": "USE_POP_INC",
         "dtype": "bool"
        },
        {
         "name": "A/NP",
         "dtype": "int64"
        },
        {
         "name": "predictions",
         "dtype": "int64"
        },
        {
         "name": "_deepnote_index_column",
         "dtype": "int64"
        }
       ],
       "rows": [
        {
         "FACE_VALUE_AMOUNT": -0.11512623458166918,
         "NUM_OF_VIOLATIONS": -0.15240496695287173,
         "USE_COUNT": -0.5538668200382517,
         "NUMBER_OF_PROTESTS": -0.311803566668875,
         "COUNT_NPO_OR_OTHER": -0.5803677405261058,
         "LATITUDE": -4.036778214998,
         "PRIMARY_OWNER_ENTITY_TYPE_Estate": 0,
         "PRIMARY_OWNER_ENTITY_TYPE_Federal Government": 0,
         "PRIMARY_OWNER_ENTITY_TYPE_Government (State/Municipal)": 0,
         "PRIMARY_OWNER_ENTITY_TYPE_Individual": 0,
         "PRIMARY_OWNER_ENTITY_TYPE_Limited Liability Company": 1,
         "PRIMARY_OWNER_ENTITY_TYPE_Limited Partner": 0,
         "PRIMARY_OWNER_ENTITY_TYPE_Organization/Association": 0,
         "PRIMARY_OWNER_ENTITY_TYPE_Partnership or Co-owners": 0,
         "PRIMARY_OWNER_ENTITY_TYPE_Receivership/Fiduciary": 0,
         "PRIMARY_OWNER_ENTITY_TYPE_Trust": 0,
         "USE_CODE_Aquaculture": 0,
         "USE_CODE_Domestic": 0,
         "USE_CODE_Dust Control": 1,
         "USE_CODE_Fire Protection": 0,
         "USE_CODE_Fish and Wildlife Preservation and Enhancement": 0,
         "USE_CODE_Frost Protection": 0,
         "USE_CODE_Heat Control": 0,
         "USE_CODE_Incidental Power": 0,
         "USE_CODE_Industrial": 0,
         "USE_CODE_Irrigation": 0,
         "USE_CODE_Mining": 0,
         "USE_CODE_Municipal": 0,
         "USE_CODE_Other": 0,
         "USE_CODE_Power": 0,
         "USE_CODE_Recreational": 0,
         "USE_CODE_Snow Making": 0,
         "USE_CODE_Stockwatering": 0,
         "QUANT_INCLUDED": true,
         "USE_POP_INC": false,
         "A/NP": 0,
         "predictions": 1,
         "_deepnote_index_column": 0
        },
        {
         "FACE_VALUE_AMOUNT": -0.11218345623967106,
         "NUM_OF_VIOLATIONS": -0.15240496695287173,
         "USE_COUNT": 0.10738234266047744,
         "NUMBER_OF_PROTESTS": 0.44637483236662984,
         "COUNT_NPO_OR_OTHER": 0.7712052220844512,
         "LATITUDE": -3.135665734530635,
         "PRIMARY_OWNER_ENTITY_TYPE_Estate": 0,
         "PRIMARY_OWNER_ENTITY_TYPE_Federal Government": 0,
         "PRIMARY_OWNER_ENTITY_TYPE_Government (State/Municipal)": 0,
         "PRIMARY_OWNER_ENTITY_TYPE_Individual": 0,
         "PRIMARY_OWNER_ENTITY_TYPE_Limited Liability Company": 0,
         "PRIMARY_OWNER_ENTITY_TYPE_Limited Partner": 0,
         "PRIMARY_OWNER_ENTITY_TYPE_Organization/Association": 1,
         "PRIMARY_OWNER_ENTITY_TYPE_Partnership or Co-owners": 0,
         "PRIMARY_OWNER_ENTITY_TYPE_Receivership/Fiduciary": 0,
         "PRIMARY_OWNER_ENTITY_TYPE_Trust": 0,
         "USE_CODE_Aquaculture": 0,
         "USE_CODE_Domestic": 0,
         "USE_CODE_Dust Control": 0,
         "USE_CODE_Fire Protection": 0,
         "USE_CODE_Fish and Wildlife Preservation and Enhancement": 0,
         "USE_CODE_Frost Protection": 0,
         "USE_CODE_Heat Control": 0,
         "USE_CODE_Incidental Power": 0,
         "USE_CODE_Industrial": 0,
         "USE_CODE_Irrigation": 1,
         "USE_CODE_Mining": 0,
         "USE_CODE_Municipal": 0,
         "USE_CODE_Other": 0,
         "USE_CODE_Power": 0,
         "USE_CODE_Recreational": 0,
         "USE_CODE_Snow Making": 0,
         "USE_CODE_Stockwatering": 0,
         "QUANT_INCLUDED": true,
         "USE_POP_INC": false,
         "A/NP": 0,
         "predictions": 1,
         "_deepnote_index_column": 13
        },
        {
         "FACE_VALUE_AMOUNT": 3.4331748078764694,
         "NUM_OF_VIOLATIONS": -0.15240496695287173,
         "USE_COUNT": 0.10738234266047744,
         "NUMBER_OF_PROTESTS": -0.311803566668875,
         "COUNT_NPO_OR_OTHER": -0.5803677405261058,
         "LATITUDE": -1.1441229411985743,
         "PRIMARY_OWNER_ENTITY_TYPE_Estate": 0,
         "PRIMARY_OWNER_ENTITY_TYPE_Federal Government": 1,
         "PRIMARY_OWNER_ENTITY_TYPE_Government (State/Municipal)": 0,
         "PRIMARY_OWNER_ENTITY_TYPE_Individual": 0,
         "PRIMARY_OWNER_ENTITY_TYPE_Limited Liability Company": 0,
         "PRIMARY_OWNER_ENTITY_TYPE_Limited Partner": 0,
         "PRIMARY_OWNER_ENTITY_TYPE_Organization/Association": 0,
         "PRIMARY_OWNER_ENTITY_TYPE_Partnership or Co-owners": 0,
         "PRIMARY_OWNER_ENTITY_TYPE_Receivership/Fiduciary": 0,
         "PRIMARY_OWNER_ENTITY_TYPE_Trust": 0,
         "USE_CODE_Aquaculture": 0,
         "USE_CODE_Domestic": 1,
         "USE_CODE_Dust Control": 0,
         "USE_CODE_Fire Protection": 0,
         "USE_CODE_Fish and Wildlife Preservation and Enhancement": 0,
         "USE_CODE_Frost Protection": 0,
         "USE_CODE_Heat Control": 0,
         "USE_CODE_Incidental Power": 0,
         "USE_CODE_Industrial": 0,
         "USE_CODE_Irrigation": 0,
         "USE_CODE_Mining": 0,
         "USE_CODE_Municipal": 0,
         "USE_CODE_Other": 0,
         "USE_CODE_Power": 0,
         "USE_CODE_Recreational": 0,
         "USE_CODE_Snow Making": 0,
         "USE_CODE_Stockwatering": 0,
         "QUANT_INCLUDED": true,
         "USE_POP_INC": false,
         "A/NP": 0,
         "predictions": 1,
         "_deepnote_index_column": 34
        },
        {
         "FACE_VALUE_AMOUNT": -0.07011019401549994,
         "NUM_OF_VIOLATIONS": 3.7099880583509535,
         "USE_COUNT": -0.5538668200382517,
         "NUMBER_OF_PROTESTS": -0.311803566668875,
         "COUNT_NPO_OR_OTHER": -0.5803677405261058,
         "LATITUDE": -0.624721839295145,
         "PRIMARY_OWNER_ENTITY_TYPE_Estate": 0,
         "PRIMARY_OWNER_ENTITY_TYPE_Federal Government": 0,
         "PRIMARY_OWNER_ENTITY_TYPE_Government (State/Municipal)": 1,
         "PRIMARY_OWNER_ENTITY_TYPE_Individual": 0,
         "PRIMARY_OWNER_ENTITY_TYPE_Limited Liability Company": 0,
         "PRIMARY_OWNER_ENTITY_TYPE_Limited Partner": 0,
         "PRIMARY_OWNER_ENTITY_TYPE_Organization/Association": 0,
         "PRIMARY_OWNER_ENTITY_TYPE_Partnership or Co-owners": 0,
         "PRIMARY_OWNER_ENTITY_TYPE_Receivership/Fiduciary": 0,
         "PRIMARY_OWNER_ENTITY_TYPE_Trust": 0,
         "USE_CODE_Aquaculture": 0,
         "USE_CODE_Domestic": 0,
         "USE_CODE_Dust Control": 0,
         "USE_CODE_Fire Protection": 0,
         "USE_CODE_Fish and Wildlife Preservation and Enhancement": 0,
         "USE_CODE_Frost Protection": 0,
         "USE_CODE_Heat Control": 0,
         "USE_CODE_Incidental Power": 0,
         "USE_CODE_Industrial": 0,
         "USE_CODE_Irrigation": 1,
         "USE_CODE_Mining": 0,
         "USE_CODE_Municipal": 0,
         "USE_CODE_Other": 0,
         "USE_CODE_Power": 0,
         "USE_CODE_Recreational": 0,
         "USE_CODE_Snow Making": 0,
         "USE_CODE_Stockwatering": 0,
         "QUANT_INCLUDED": true,
         "USE_POP_INC": false,
         "A/NP": 0,
         "predictions": 1,
         "_deepnote_index_column": 44
        },
        {
         "FACE_VALUE_AMOUNT": -0.11520473539447008,
         "NUM_OF_VIOLATIONS": -0.15240496695287173,
         "USE_COUNT": 0.10738234266047744,
         "NUMBER_OF_PROTESTS": -0.311803566668875,
         "COUNT_NPO_OR_OTHER": -0.3100531480039944,
         "LATITUDE": 1.0498600114295296,
         "PRIMARY_OWNER_ENTITY_TYPE_Estate": 0,
         "PRIMARY_OWNER_ENTITY_TYPE_Federal Government": 0,
         "PRIMARY_OWNER_ENTITY_TYPE_Government (State/Municipal)": 0,
         "PRIMARY_OWNER_ENTITY_TYPE_Individual": 1,
         "PRIMARY_OWNER_ENTITY_TYPE_Limited Liability Company": 0,
         "PRIMARY_OWNER_ENTITY_TYPE_Limited Partner": 0,
         "PRIMARY_OWNER_ENTITY_TYPE_Organization/Association": 0,
         "PRIMARY_OWNER_ENTITY_TYPE_Partnership or Co-owners": 0,
         "PRIMARY_OWNER_ENTITY_TYPE_Receivership/Fiduciary": 0,
         "PRIMARY_OWNER_ENTITY_TYPE_Trust": 0,
         "USE_CODE_Aquaculture": 0,
         "USE_CODE_Domestic": 1,
         "USE_CODE_Dust Control": 0,
         "USE_CODE_Fire Protection": 0,
         "USE_CODE_Fish and Wildlife Preservation and Enhancement": 0,
         "USE_CODE_Frost Protection": 0,
         "USE_CODE_Heat Control": 0,
         "USE_CODE_Incidental Power": 0,
         "USE_CODE_Industrial": 0,
         "USE_CODE_Irrigation": 0,
         "USE_CODE_Mining": 0,
         "USE_CODE_Municipal": 0,
         "USE_CODE_Other": 0,
         "USE_CODE_Power": 0,
         "USE_CODE_Recreational": 0,
         "USE_CODE_Snow Making": 0,
         "USE_CODE_Stockwatering": 0,
         "QUANT_INCLUDED": true,
         "USE_POP_INC": false,
         "A/NP": 0,
         "predictions": 1,
         "_deepnote_index_column": 48
        },
        {
         "FACE_VALUE_AMOUNT": -0.11501265893761681,
         "NUM_OF_VIOLATIONS": -0.15240496695287173,
         "USE_COUNT": 2.0911298307566653,
         "NUMBER_OF_PROTESTS": 0.44637483236662984,
         "COUNT_NPO_OR_OTHER": 1.5821489996507856,
         "LATITUDE": -3.1538347593447384,
         "PRIMARY_OWNER_ENTITY_TYPE_Estate": 0,
         "PRIMARY_OWNER_ENTITY_TYPE_Federal Government": 0,
         "PRIMARY_OWNER_ENTITY_TYPE_Government (State/Municipal)": 0,
         "PRIMARY_OWNER_ENTITY_TYPE_Individual": 0,
         "PRIMARY_OWNER_ENTITY_TYPE_Limited Liability Company": 0,
         "PRIMARY_OWNER_ENTITY_TYPE_Limited Partner": 0,
         "PRIMARY_OWNER_ENTITY_TYPE_Organization/Association": 1,
         "PRIMARY_OWNER_ENTITY_TYPE_Partnership or Co-owners": 0,
         "PRIMARY_OWNER_ENTITY_TYPE_Receivership/Fiduciary": 0,
         "PRIMARY_OWNER_ENTITY_TYPE_Trust": 0,
         "USE_CODE_Aquaculture": 0,
         "USE_CODE_Domestic": 1,
         "USE_CODE_Dust Control": 0,
         "USE_CODE_Fire Protection": 0,
         "USE_CODE_Fish and Wildlife Preservation and Enhancement": 0,
         "USE_CODE_Frost Protection": 0,
         "USE_CODE_Heat Control": 0,
         "USE_CODE_Incidental Power": 0,
         "USE_CODE_Industrial": 0,
         "USE_CODE_Irrigation": 0,
         "USE_CODE_Mining": 0,
         "USE_CODE_Municipal": 0,
         "USE_CODE_Other": 0,
         "USE_CODE_Power": 0,
         "USE_CODE_Recreational": 0,
         "USE_CODE_Snow Making": 0,
         "USE_CODE_Stockwatering": 0,
         "QUANT_INCLUDED": true,
         "USE_POP_INC": true,
         "A/NP": 0,
         "predictions": 1,
         "_deepnote_index_column": 87
        },
        {
         "FACE_VALUE_AMOUNT": -0.1149819267045203,
         "NUM_OF_VIOLATIONS": -0.15240496695287173,
         "USE_COUNT": -0.5538668200382517,
         "NUMBER_OF_PROTESTS": -0.311803566668875,
         "COUNT_NPO_OR_OTHER": 1.852463592172897,
         "LATITUDE": -0.26140037346124073,
         "PRIMARY_OWNER_ENTITY_TYPE_Estate": 0,
         "PRIMARY_OWNER_ENTITY_TYPE_Federal Government": 0,
         "PRIMARY_OWNER_ENTITY_TYPE_Government (State/Municipal)": 0,
         "PRIMARY_OWNER_ENTITY_TYPE_Individual": 0,
         "PRIMARY_OWNER_ENTITY_TYPE_Limited Liability Company": 0,
         "PRIMARY_OWNER_ENTITY_TYPE_Limited Partner": 0,
         "PRIMARY_OWNER_ENTITY_TYPE_Organization/Association": 0,
         "PRIMARY_OWNER_ENTITY_TYPE_Partnership or Co-owners": 0,
         "PRIMARY_OWNER_ENTITY_TYPE_Receivership/Fiduciary": 0,
         "PRIMARY_OWNER_ENTITY_TYPE_Trust": 0,
         "USE_CODE_Aquaculture": 0,
         "USE_CODE_Domestic": 0,
         "USE_CODE_Dust Control": 0,
         "USE_CODE_Fire Protection": 0,
         "USE_CODE_Fish and Wildlife Preservation and Enhancement": 0,
         "USE_CODE_Frost Protection": 0,
         "USE_CODE_Heat Control": 0,
         "USE_CODE_Incidental Power": 0,
         "USE_CODE_Industrial": 0,
         "USE_CODE_Irrigation": 1,
         "USE_CODE_Mining": 0,
         "USE_CODE_Municipal": 0,
         "USE_CODE_Other": 0,
         "USE_CODE_Power": 0,
         "USE_CODE_Recreational": 0,
         "USE_CODE_Snow Making": 0,
         "USE_CODE_Stockwatering": 0,
         "QUANT_INCLUDED": true,
         "USE_POP_INC": false,
         "A/NP": 0,
         "predictions": 1,
         "_deepnote_index_column": 102
        },
        {
         "FACE_VALUE_AMOUNT": -0.11068175239309036,
         "NUM_OF_VIOLATIONS": -0.15240496695287173,
         "USE_COUNT": 1.429880668057936,
         "NUMBER_OF_PROTESTS": -0.311803566668875,
         "COUNT_NPO_OR_OTHER": -0.3100531480039944,
         "LATITUDE": 1.7783369871507646,
         "PRIMARY_OWNER_ENTITY_TYPE_Estate": 0,
         "PRIMARY_OWNER_ENTITY_TYPE_Federal Government": 1,
         "PRIMARY_OWNER_ENTITY_TYPE_Government (State/Municipal)": 0,
         "PRIMARY_OWNER_ENTITY_TYPE_Individual": 0,
         "PRIMARY_OWNER_ENTITY_TYPE_Limited Liability Company": 0,
         "PRIMARY_OWNER_ENTITY_TYPE_Limited Partner": 0,
         "PRIMARY_OWNER_ENTITY_TYPE_Organization/Association": 0,
         "PRIMARY_OWNER_ENTITY_TYPE_Partnership or Co-owners": 0,
         "PRIMARY_OWNER_ENTITY_TYPE_Receivership/Fiduciary": 0,
         "PRIMARY_OWNER_ENTITY_TYPE_Trust": 0,
         "USE_CODE_Aquaculture": 0,
         "USE_CODE_Domestic": 0,
         "USE_CODE_Dust Control": 0,
         "USE_CODE_Fire Protection": 0,
         "USE_CODE_Fish and Wildlife Preservation and Enhancement": 1,
         "USE_CODE_Frost Protection": 0,
         "USE_CODE_Heat Control": 0,
         "USE_CODE_Incidental Power": 0,
         "USE_CODE_Industrial": 0,
         "USE_CODE_Irrigation": 0,
         "USE_CODE_Mining": 0,
         "USE_CODE_Municipal": 0,
         "USE_CODE_Other": 0,
         "USE_CODE_Power": 0,
         "USE_CODE_Recreational": 0,
         "USE_CODE_Snow Making": 0,
         "USE_CODE_Stockwatering": 0,
         "QUANT_INCLUDED": true,
         "USE_POP_INC": true,
         "A/NP": 0,
         "predictions": 1,
         "_deepnote_index_column": 123
        },
        {
         "FACE_VALUE_AMOUNT": -0.05674835353875038,
         "NUM_OF_VIOLATIONS": -0.15240496695287173,
         "USE_COUNT": -0.5538668200382517,
         "NUMBER_OF_PROTESTS": 0.06728563284887741,
         "COUNT_NPO_OR_OTHER": -0.3100531480039944,
         "LATITUDE": 1.8474796905557291,
         "PRIMARY_OWNER_ENTITY_TYPE_Estate": 0,
         "PRIMARY_OWNER_ENTITY_TYPE_Federal Government": 0,
         "PRIMARY_OWNER_ENTITY_TYPE_Government (State/Municipal)": 0,
         "PRIMARY_OWNER_ENTITY_TYPE_Individual": 0,
         "PRIMARY_OWNER_ENTITY_TYPE_Limited Liability Company": 0,
         "PRIMARY_OWNER_ENTITY_TYPE_Limited Partner": 0,
         "PRIMARY_OWNER_ENTITY_TYPE_Organization/Association": 0,
         "PRIMARY_OWNER_ENTITY_TYPE_Partnership or Co-owners": 0,
         "PRIMARY_OWNER_ENTITY_TYPE_Receivership/Fiduciary": 0,
         "PRIMARY_OWNER_ENTITY_TYPE_Trust": 0,
         "USE_CODE_Aquaculture": 0,
         "USE_CODE_Domestic": 0,
         "USE_CODE_Dust Control": 0,
         "USE_CODE_Fire Protection": 0,
         "USE_CODE_Fish and Wildlife Preservation and Enhancement": 0,
         "USE_CODE_Frost Protection": 0,
         "USE_CODE_Heat Control": 0,
         "USE_CODE_Incidental Power": 0,
         "USE_CODE_Industrial": 0,
         "USE_CODE_Irrigation": 1,
         "USE_CODE_Mining": 0,
         "USE_CODE_Municipal": 0,
         "USE_CODE_Other": 0,
         "USE_CODE_Power": 0,
         "USE_CODE_Recreational": 0,
         "USE_CODE_Snow Making": 0,
         "USE_CODE_Stockwatering": 0,
         "QUANT_INCLUDED": true,
         "USE_POP_INC": false,
         "A/NP": 0,
         "predictions": 1,
         "_deepnote_index_column": 599
        },
        {
         "FACE_VALUE_AMOUNT": 0.01417963617195544,
         "NUM_OF_VIOLATIONS": -0.15240496695287173,
         "USE_COUNT": 0.10738234266047744,
         "NUMBER_OF_PROTESTS": -0.311803566668875,
         "COUNT_NPO_OR_OTHER": -0.5803677405261058,
         "LATITUDE": 0.32096130583877897,
         "PRIMARY_OWNER_ENTITY_TYPE_Estate": 0,
         "PRIMARY_OWNER_ENTITY_TYPE_Federal Government": 0,
         "PRIMARY_OWNER_ENTITY_TYPE_Government (State/Municipal)": 1,
         "PRIMARY_OWNER_ENTITY_TYPE_Individual": 0,
         "PRIMARY_OWNER_ENTITY_TYPE_Limited Liability Company": 0,
         "PRIMARY_OWNER_ENTITY_TYPE_Limited Partner": 0,
         "PRIMARY_OWNER_ENTITY_TYPE_Organization/Association": 0,
         "PRIMARY_OWNER_ENTITY_TYPE_Partnership or Co-owners": 0,
         "PRIMARY_OWNER_ENTITY_TYPE_Receivership/Fiduciary": 0,
         "PRIMARY_OWNER_ENTITY_TYPE_Trust": 0,
         "USE_CODE_Aquaculture": 0,
         "USE_CODE_Domestic": 1,
         "USE_CODE_Dust Control": 0,
         "USE_CODE_Fire Protection": 0,
         "USE_CODE_Fish and Wildlife Preservation and Enhancement": 0,
         "USE_CODE_Frost Protection": 0,
         "USE_CODE_Heat Control": 0,
         "USE_CODE_Incidental Power": 0,
         "USE_CODE_Industrial": 0,
         "USE_CODE_Irrigation": 0,
         "USE_CODE_Mining": 0,
         "USE_CODE_Municipal": 0,
         "USE_CODE_Other": 0,
         "USE_CODE_Power": 0,
         "USE_CODE_Recreational": 0,
         "USE_CODE_Snow Making": 0,
         "USE_CODE_Stockwatering": 0,
         "QUANT_INCLUDED": true,
         "USE_POP_INC": false,
         "A/NP": 0,
         "predictions": 1,
         "_deepnote_index_column": 1135
        }
       ]
      },
      "text/plain": "       FACE_VALUE_AMOUNT  NUM_OF_VIOLATIONS  USE_COUNT  NUMBER_OF_PROTESTS  \\\n0              -0.115126          -0.152405  -0.553867           -0.311804   \n13             -0.112183          -0.152405   0.107382            0.446375   \n34              3.433175          -0.152405   0.107382           -0.311804   \n44             -0.070110           3.709988  -0.553867           -0.311804   \n48             -0.115205          -0.152405   0.107382           -0.311804   \n...                  ...                ...        ...                 ...   \n76480          -0.115204          -0.152405   0.107382           -0.311804   \n76481          -0.115206          -0.152405  -1.215116           -0.311804   \n76490          -0.115206          -0.152405  -1.215116           -0.311804   \n76500          -0.115206          -0.152405  -1.215116           -0.311804   \n76501          -0.115206          -0.152405  -1.215116           -0.311804   \n\n       COUNT_NPO_OR_OTHER  LATITUDE  PRIMARY_OWNER_ENTITY_TYPE_Estate  \\\n0               -0.580368 -4.036778                                 0   \n13               0.771205 -3.135666                                 0   \n34              -0.580368 -1.144123                                 0   \n44              -0.580368 -0.624722                                 0   \n48              -0.310053  1.049860                                 0   \n...                   ...       ...                               ...   \n76480           -0.310053  0.359828                                 0   \n76481           -0.310053 -0.336641                                 0   \n76490           -0.310053 -0.336641                                 0   \n76500           -0.310053 -0.336641                                 0   \n76501           -0.039739 -0.336641                                 0   \n\n       PRIMARY_OWNER_ENTITY_TYPE_Federal Government  \\\n0                                                 0   \n13                                                0   \n34                                                1   \n44                                                0   \n48                                                0   \n...                                             ...   \n76480                                             0   \n76481                                             0   \n76490                                             0   \n76500                                             0   \n76501                                             0   \n\n       PRIMARY_OWNER_ENTITY_TYPE_Government (State/Municipal)  \\\n0                                                      0        \n13                                                     0        \n34                                                     0        \n44                                                     1        \n48                                                     0        \n...                                                  ...        \n76480                                                  0        \n76481                                                  0        \n76490                                                  0        \n76500                                                  0        \n76501                                                  0        \n\n       PRIMARY_OWNER_ENTITY_TYPE_Individual  ...  USE_CODE_Municipal  \\\n0                                         0  ...                   0   \n13                                        0  ...                   0   \n34                                        0  ...                   0   \n44                                        0  ...                   0   \n48                                        1  ...                   0   \n...                                     ...  ...                 ...   \n76480                                     0  ...                   0   \n76481                                     1  ...                   0   \n76490                                     0  ...                   0   \n76500                                     1  ...                   0   \n76501                                     1  ...                   0   \n\n       USE_CODE_Other  USE_CODE_Power  USE_CODE_Recreational  \\\n0                   0               0                      0   \n13                  0               0                      0   \n34                  0               0                      0   \n44                  0               0                      0   \n48                  0               0                      0   \n...               ...             ...                    ...   \n76480               0               0                      0   \n76481               0               0                      0   \n76490               0               0                      0   \n76500               0               0                      0   \n76501               0               0                      0   \n\n       USE_CODE_Snow Making  USE_CODE_Stockwatering  QUANT_INCLUDED  \\\n0                         0                       0            True   \n13                        0                       0            True   \n34                        0                       0            True   \n44                        0                       0            True   \n48                        0                       0            True   \n...                     ...                     ...             ...   \n76480                     0                       0            True   \n76481                     0                       0            True   \n76490                     0                       0            True   \n76500                     0                       0            True   \n76501                     0                       0            True   \n\n       USE_POP_INC  A/NP  predictions  \n0            False     0            1  \n13           False     0            1  \n34           False     0            1  \n44           False     0            1  \n48           False     0            1  \n...            ...   ...          ...  \n76480         True     0            1  \n76481         True     0            1  \n76490         True     0            1  \n76500         True     0            1  \n76501         True     0            1  \n\n[3510 rows x 37 columns]",
      "text/html": "<div>\n<style scoped>\n    .dataframe tbody tr th:only-of-type {\n        vertical-align: middle;\n    }\n\n    .dataframe tbody tr th {\n        vertical-align: top;\n    }\n\n    .dataframe thead th {\n        text-align: right;\n    }\n</style>\n<table border=\"1\" class=\"dataframe\">\n  <thead>\n    <tr style=\"text-align: right;\">\n      <th></th>\n      <th>FACE_VALUE_AMOUNT</th>\n      <th>NUM_OF_VIOLATIONS</th>\n      <th>USE_COUNT</th>\n      <th>NUMBER_OF_PROTESTS</th>\n      <th>COUNT_NPO_OR_OTHER</th>\n      <th>LATITUDE</th>\n      <th>PRIMARY_OWNER_ENTITY_TYPE_Estate</th>\n      <th>PRIMARY_OWNER_ENTITY_TYPE_Federal Government</th>\n      <th>PRIMARY_OWNER_ENTITY_TYPE_Government (State/Municipal)</th>\n      <th>PRIMARY_OWNER_ENTITY_TYPE_Individual</th>\n      <th>...</th>\n      <th>USE_CODE_Municipal</th>\n      <th>USE_CODE_Other</th>\n      <th>USE_CODE_Power</th>\n      <th>USE_CODE_Recreational</th>\n      <th>USE_CODE_Snow Making</th>\n      <th>USE_CODE_Stockwatering</th>\n      <th>QUANT_INCLUDED</th>\n      <th>USE_POP_INC</th>\n      <th>A/NP</th>\n      <th>predictions</th>\n    </tr>\n  </thead>\n  <tbody>\n    <tr>\n      <th>0</th>\n      <td>-0.115126</td>\n      <td>-0.152405</td>\n      <td>-0.553867</td>\n      <td>-0.311804</td>\n      <td>-0.580368</td>\n      <td>-4.036778</td>\n      <td>0</td>\n      <td>0</td>\n      <td>0</td>\n      <td>0</td>\n      <td>...</td>\n      <td>0</td>\n      <td>0</td>\n      <td>0</td>\n      <td>0</td>\n      <td>0</td>\n      <td>0</td>\n      <td>True</td>\n      <td>False</td>\n      <td>0</td>\n      <td>1</td>\n    </tr>\n    <tr>\n      <th>13</th>\n      <td>-0.112183</td>\n      <td>-0.152405</td>\n      <td>0.107382</td>\n      <td>0.446375</td>\n      <td>0.771205</td>\n      <td>-3.135666</td>\n      <td>0</td>\n      <td>0</td>\n      <td>0</td>\n      <td>0</td>\n      <td>...</td>\n      <td>0</td>\n      <td>0</td>\n      <td>0</td>\n      <td>0</td>\n      <td>0</td>\n      <td>0</td>\n      <td>True</td>\n      <td>False</td>\n      <td>0</td>\n      <td>1</td>\n    </tr>\n    <tr>\n      <th>34</th>\n      <td>3.433175</td>\n      <td>-0.152405</td>\n      <td>0.107382</td>\n      <td>-0.311804</td>\n      <td>-0.580368</td>\n      <td>-1.144123</td>\n      <td>0</td>\n      <td>1</td>\n      <td>0</td>\n      <td>0</td>\n      <td>...</td>\n      <td>0</td>\n      <td>0</td>\n      <td>0</td>\n      <td>0</td>\n      <td>0</td>\n      <td>0</td>\n      <td>True</td>\n      <td>False</td>\n      <td>0</td>\n      <td>1</td>\n    </tr>\n    <tr>\n      <th>44</th>\n      <td>-0.070110</td>\n      <td>3.709988</td>\n      <td>-0.553867</td>\n      <td>-0.311804</td>\n      <td>-0.580368</td>\n      <td>-0.624722</td>\n      <td>0</td>\n      <td>0</td>\n      <td>1</td>\n      <td>0</td>\n      <td>...</td>\n      <td>0</td>\n      <td>0</td>\n      <td>0</td>\n      <td>0</td>\n      <td>0</td>\n      <td>0</td>\n      <td>True</td>\n      <td>False</td>\n      <td>0</td>\n      <td>1</td>\n    </tr>\n    <tr>\n      <th>48</th>\n      <td>-0.115205</td>\n      <td>-0.152405</td>\n      <td>0.107382</td>\n      <td>-0.311804</td>\n      <td>-0.310053</td>\n      <td>1.049860</td>\n      <td>0</td>\n      <td>0</td>\n      <td>0</td>\n      <td>1</td>\n      <td>...</td>\n      <td>0</td>\n      <td>0</td>\n      <td>0</td>\n      <td>0</td>\n      <td>0</td>\n      <td>0</td>\n      <td>True</td>\n      <td>False</td>\n      <td>0</td>\n      <td>1</td>\n    </tr>\n    <tr>\n      <th>...</th>\n      <td>...</td>\n      <td>...</td>\n      <td>...</td>\n      <td>...</td>\n      <td>...</td>\n      <td>...</td>\n      <td>...</td>\n      <td>...</td>\n      <td>...</td>\n      <td>...</td>\n      <td>...</td>\n      <td>...</td>\n      <td>...</td>\n      <td>...</td>\n      <td>...</td>\n      <td>...</td>\n      <td>...</td>\n      <td>...</td>\n      <td>...</td>\n      <td>...</td>\n      <td>...</td>\n    </tr>\n    <tr>\n      <th>76480</th>\n      <td>-0.115204</td>\n      <td>-0.152405</td>\n      <td>0.107382</td>\n      <td>-0.311804</td>\n      <td>-0.310053</td>\n      <td>0.359828</td>\n      <td>0</td>\n      <td>0</td>\n      <td>0</td>\n      <td>0</td>\n      <td>...</td>\n      <td>0</td>\n      <td>0</td>\n      <td>0</td>\n      <td>0</td>\n      <td>0</td>\n      <td>0</td>\n      <td>True</td>\n      <td>True</td>\n      <td>0</td>\n      <td>1</td>\n    </tr>\n    <tr>\n      <th>76481</th>\n      <td>-0.115206</td>\n      <td>-0.152405</td>\n      <td>-1.215116</td>\n      <td>-0.311804</td>\n      <td>-0.310053</td>\n      <td>-0.336641</td>\n      <td>0</td>\n      <td>0</td>\n      <td>0</td>\n      <td>1</td>\n      <td>...</td>\n      <td>0</td>\n      <td>0</td>\n      <td>0</td>\n      <td>0</td>\n      <td>0</td>\n      <td>0</td>\n      <td>True</td>\n      <td>True</td>\n      <td>0</td>\n      <td>1</td>\n    </tr>\n    <tr>\n      <th>76490</th>\n      <td>-0.115206</td>\n      <td>-0.152405</td>\n      <td>-1.215116</td>\n      <td>-0.311804</td>\n      <td>-0.310053</td>\n      <td>-0.336641</td>\n      <td>0</td>\n      <td>0</td>\n      <td>0</td>\n      <td>0</td>\n      <td>...</td>\n      <td>0</td>\n      <td>0</td>\n      <td>0</td>\n      <td>0</td>\n      <td>0</td>\n      <td>0</td>\n      <td>True</td>\n      <td>True</td>\n      <td>0</td>\n      <td>1</td>\n    </tr>\n    <tr>\n      <th>76500</th>\n      <td>-0.115206</td>\n      <td>-0.152405</td>\n      <td>-1.215116</td>\n      <td>-0.311804</td>\n      <td>-0.310053</td>\n      <td>-0.336641</td>\n      <td>0</td>\n      <td>0</td>\n      <td>0</td>\n      <td>1</td>\n      <td>...</td>\n      <td>0</td>\n      <td>0</td>\n      <td>0</td>\n      <td>0</td>\n      <td>0</td>\n      <td>0</td>\n      <td>True</td>\n      <td>True</td>\n      <td>0</td>\n      <td>1</td>\n    </tr>\n    <tr>\n      <th>76501</th>\n      <td>-0.115206</td>\n      <td>-0.152405</td>\n      <td>-1.215116</td>\n      <td>-0.311804</td>\n      <td>-0.039739</td>\n      <td>-0.336641</td>\n      <td>0</td>\n      <td>0</td>\n      <td>0</td>\n      <td>1</td>\n      <td>...</td>\n      <td>0</td>\n      <td>0</td>\n      <td>0</td>\n      <td>0</td>\n      <td>0</td>\n      <td>0</td>\n      <td>True</td>\n      <td>True</td>\n      <td>0</td>\n      <td>1</td>\n    </tr>\n  </tbody>\n</table>\n<p>3510 rows × 37 columns</p>\n</div>"
     },
     "metadata": {}
    }
   ],
   "execution_count": null
  },
  {
   "cell_type": "code",
   "metadata": {
    "cell_id": "876e2157c90a413cb4c5014673417ab5",
    "tags": [],
    "deepnote_to_be_reexecuted": false,
    "source_hash": "7037851a",
    "execution_start": 1651706602764,
    "execution_millis": 2,
    "deepnote_cell_type": "code",
    "deepnote_cell_height": 290,
    "deepnote_output_heights": [
     21
    ]
   },
   "source": "ped[ped['predictions'] == 0]\nprint(classification_report(val.iloc[:, -2], ped['predictions']))",
   "outputs": [
    {
     "name": "stdout",
     "text": "              precision    recall  f1-score   support\n\n           0       1.00      0.00      0.01      3510\n           1       0.00      0.00      0.00         0\n\n    accuracy                           0.00      3510\n   macro avg       0.50      0.00      0.00      3510\nweighted avg       1.00      0.00      0.01      3510\n\n",
     "output_type": "stream"
    }
   ],
   "execution_count": null
  },
  {
   "cell_type": "code",
   "metadata": {
    "cell_id": "1fe9e6e5d1af44c29a0a2d6bbd6119dc",
    "tags": [],
    "deepnote_to_be_reexecuted": true,
    "source_hash": "62a27065",
    "execution_start": 1650327031566,
    "execution_millis": 5,
    "owner_user_id": "22c007f8-f872-42a2-b9ec-fc8368a5376d",
    "deepnote_cell_type": "code",
    "deepnote_cell_height": 262,
    "deepnote_output_heights": [
     21
    ]
   },
   "source": "tp = np.sum((predicts_on_pending == 1) & (y_test == 1))\ntn = np.sum((predicts == 0) & (y_test == 0))\n\nfp = np.sum((predicts == 1) & (y_test == 0))\nfn = np.sum((predicts == 0) & (y_test == 1))\nPrecision = tp / (tp + fp)\nRecall = tp/ (tp + fn)\nf_1_score = 2 * (Precision * Recall) / (Precision + Recall)\nf_1_score",
   "execution_count": null,
   "outputs": [
    {
     "output_type": "execute_result",
     "execution_count": 107,
     "data": {
      "text/plain": "0.8545438047275532"
     },
     "metadata": {}
    }
   ]
  },
  {
   "cell_type": "code",
   "metadata": {
    "cell_id": "5e1e4699cd244afeae427b9e48a309c6",
    "tags": [],
    "deepnote_to_be_reexecuted": true,
    "source_hash": "1965e1a2",
    "execution_start": 1650324436691,
    "execution_millis": 13,
    "deepnote_cell_type": "code",
    "deepnote_cell_height": 498,
    "deepnote_output_heights": [
     401
    ]
   },
   "source": "best",
   "execution_count": null,
   "outputs": [
    {
     "output_type": "execute_result",
     "execution_count": 99,
     "data": {
      "text/plain": "array(['USE_COUNT', 'NUMBER_OF_PROTESTS', 'QUANT_INCLUDED', 'USE_POP_INC',\n       'PRIMARY_OWNER_ENTITY_TYPE_Estate',\n       'PRIMARY_OWNER_ENTITY_TYPE_Federal Government',\n       'PRIMARY_OWNER_ENTITY_TYPE_Government (State/Municipal)',\n       'PRIMARY_OWNER_ENTITY_TYPE_Individual',\n       'PRIMARY_OWNER_ENTITY_TYPE_Joint Venture',\n       'PRIMARY_OWNER_ENTITY_TYPE_Limited Liability Company',\n       'PRIMARY_OWNER_ENTITY_TYPE_Limited Partner',\n       'PRIMARY_OWNER_ENTITY_TYPE_Organization/Association',\n       'PRIMARY_OWNER_ENTITY_TYPE_Partnership or Co-owners',\n       'PRIMARY_OWNER_ENTITY_TYPE_Receivership/Fiduciary',\n       'PRIMARY_OWNER_ENTITY_TYPE_Trust', 'USE_CODE_Aquaculture',\n       'USE_CODE_Domestic', 'USE_CODE_Dust Control',\n       'USE_CODE_Fire Protection',\n       'USE_CODE_Fish and Wildlife Preservation and Enhancement',\n       'USE_CODE_Frost Protection', 'USE_CODE_Heat Control',\n       'USE_CODE_Incidental Power', 'USE_CODE_Industrial',\n       'USE_CODE_Irrigation', 'USE_CODE_Milling', 'USE_CODE_Mining',\n       'USE_CODE_Municipal', 'USE_CODE_Other', 'USE_CODE_Power',\n       'USE_CODE_Recreational', 'USE_CODE_Snow Making',\n       'USE_CODE_Stockwatering', 'USE_CODE_Water Quality'], dtype=object)"
     },
     "metadata": {}
    }
   ]
  },
  {
   "cell_type": "code",
   "metadata": {
    "cell_id": "3850778f6d714b9485df75e3cb7f6d84",
    "tags": [],
    "deepnote_to_be_reexecuted": true,
    "source_hash": "9e46d465",
    "execution_start": 1649963151942,
    "execution_millis": 196,
    "deepnote_cell_type": "code",
    "deepnote_cell_height": 280,
    "deepnote_output_heights": [
     21
    ]
   },
   "source": "from sklearn.feature_selection import SelectKBest, chi2\nfs = SelectKBest(score_func=chi2, k='all')\nfs.fit(X_train, y_train)\nX_train_fs = fs.transform(X_train)\nX_test_fs = fs.transform(X_test)\n\n#for i in range(len(fs.scores_)):\n\t#print('Feature %d: %f' % (i, fs.scores_[i]))\n\npd.DataFrame(fs.scores_).iloc[:, 0].sort_values(ascending = False).iloc[:10].index",
   "execution_count": null,
   "outputs": [
    {
     "output_type": "execute_result",
     "execution_count": 24,
     "data": {
      "text/plain": "Int64Index([1, 0, 3, 4, 6, 33, 20, 29, 18, 2], dtype='int64')"
     },
     "metadata": {}
    }
   ]
  },
  {
   "cell_type": "code",
   "metadata": {
    "cell_id": "5260c33f20ff413bb0a1b587e24b7b8d",
    "tags": [],
    "deepnote_to_be_reexecuted": true,
    "source_hash": "245876d0",
    "execution_start": 1649963663463,
    "execution_millis": 104,
    "deepnote_cell_type": "code",
    "deepnote_cell_height": 395
   },
   "source": "df.head(5)",
   "execution_count": null,
   "outputs": [
    {
     "output_type": "execute_result",
     "execution_count": 34,
     "data": {
      "application/vnd.deepnote.dataframe.v3+json": {
       "column_count": 9,
       "row_count": 5,
       "columns": [
        {
         "name": "FACE_VALUE_AMOUNT",
         "dtype": "float64",
         "stats": {
          "unique_count": 4,
          "nan_count": 0,
          "min": "18.1",
          "max": "53673.0",
          "histogram": [
           {
            "bin_start": 18.1,
            "bin_end": 5383.59,
            "count": 3
           },
           {
            "bin_start": 5383.59,
            "bin_end": 10749.08,
            "count": 0
           },
           {
            "bin_start": 10749.08,
            "bin_end": 16114.57,
            "count": 0
           },
           {
            "bin_start": 16114.57,
            "bin_end": 21480.059999999998,
            "count": 0
           },
           {
            "bin_start": 21480.059999999998,
            "bin_end": 26845.549999999996,
            "count": 0
           },
           {
            "bin_start": 26845.549999999996,
            "bin_end": 32211.039999999997,
            "count": 0
           },
           {
            "bin_start": 32211.039999999997,
            "bin_end": 37576.53,
            "count": 0
           },
           {
            "bin_start": 37576.53,
            "bin_end": 42942.02,
            "count": 0
           },
           {
            "bin_start": 42942.02,
            "bin_end": 48307.509999999995,
            "count": 1
           },
           {
            "bin_start": 48307.509999999995,
            "bin_end": 53673,
            "count": 1
           }
          ]
         }
        },
        {
         "name": "QUANTITY_OF_WATER_DIVERTED",
         "dtype": "int64",
         "stats": {
          "unique_count": 1,
          "nan_count": 0,
          "min": "0",
          "max": "0",
          "histogram": [
           {
            "bin_start": -0.5,
            "bin_end": -0.4,
            "count": 0
           },
           {
            "bin_start": -0.4,
            "bin_end": -0.3,
            "count": 0
           },
           {
            "bin_start": -0.3,
            "bin_end": -0.19999999999999996,
            "count": 0
           },
           {
            "bin_start": -0.19999999999999996,
            "bin_end": -0.09999999999999998,
            "count": 0
           },
           {
            "bin_start": -0.09999999999999998,
            "bin_end": 0,
            "count": 0
           },
           {
            "bin_start": 0,
            "bin_end": 0.10000000000000009,
            "count": 5
           },
           {
            "bin_start": 0.10000000000000009,
            "bin_end": 0.20000000000000007,
            "count": 0
           },
           {
            "bin_start": 0.20000000000000007,
            "bin_end": 0.30000000000000004,
            "count": 0
           },
           {
            "bin_start": 0.30000000000000004,
            "bin_end": 0.4,
            "count": 0
           },
           {
            "bin_start": 0.4,
            "bin_end": 0.5,
            "count": 0
           }
          ]
         }
        },
        {
         "name": "USE_COUNT",
         "dtype": "int64",
         "stats": {
          "unique_count": 3,
          "nan_count": 0,
          "min": "1",
          "max": "3",
          "histogram": [
           {
            "bin_start": 1,
            "bin_end": 1.2,
            "count": 2
           },
           {
            "bin_start": 1.2,
            "bin_end": 1.4,
            "count": 0
           },
           {
            "bin_start": 1.4,
            "bin_end": 1.6,
            "count": 0
           },
           {
            "bin_start": 1.6,
            "bin_end": 1.8,
            "count": 0
           },
           {
            "bin_start": 1.8,
            "bin_end": 2,
            "count": 0
           },
           {
            "bin_start": 2,
            "bin_end": 2.2,
            "count": 2
           },
           {
            "bin_start": 2.2,
            "bin_end": 2.4000000000000004,
            "count": 0
           },
           {
            "bin_start": 2.4000000000000004,
            "bin_end": 2.6,
            "count": 0
           },
           {
            "bin_start": 2.6,
            "bin_end": 2.8,
            "count": 0
           },
           {
            "bin_start": 2.8,
            "bin_end": 3,
            "count": 1
           }
          ]
         }
        },
        {
         "name": "USE_POPULATION",
         "dtype": "int64",
         "stats": {
          "unique_count": 1,
          "nan_count": 0,
          "min": "0",
          "max": "0",
          "histogram": [
           {
            "bin_start": -0.5,
            "bin_end": -0.4,
            "count": 0
           },
           {
            "bin_start": -0.4,
            "bin_end": -0.3,
            "count": 0
           },
           {
            "bin_start": -0.3,
            "bin_end": -0.19999999999999996,
            "count": 0
           },
           {
            "bin_start": -0.19999999999999996,
            "bin_end": -0.09999999999999998,
            "count": 0
           },
           {
            "bin_start": -0.09999999999999998,
            "bin_end": 0,
            "count": 0
           },
           {
            "bin_start": 0,
            "bin_end": 0.10000000000000009,
            "count": 5
           },
           {
            "bin_start": 0.10000000000000009,
            "bin_end": 0.20000000000000007,
            "count": 0
           },
           {
            "bin_start": 0.20000000000000007,
            "bin_end": 0.30000000000000004,
            "count": 0
           },
           {
            "bin_start": 0.30000000000000004,
            "bin_end": 0.4,
            "count": 0
           },
           {
            "bin_start": 0.4,
            "bin_end": 0.5,
            "count": 0
           }
          ]
         }
        },
        {
         "name": "NUMBER_OF_PROTESTS",
         "dtype": "float64",
         "stats": {
          "unique_count": 1,
          "nan_count": 0,
          "min": "0.0",
          "max": "0.0",
          "histogram": [
           {
            "bin_start": -0.5,
            "bin_end": -0.4,
            "count": 0
           },
           {
            "bin_start": -0.4,
            "bin_end": -0.3,
            "count": 0
           },
           {
            "bin_start": -0.3,
            "bin_end": -0.19999999999999996,
            "count": 0
           },
           {
            "bin_start": -0.19999999999999996,
            "bin_end": -0.09999999999999998,
            "count": 0
           },
           {
            "bin_start": -0.09999999999999998,
            "bin_end": 0,
            "count": 0
           },
           {
            "bin_start": 0,
            "bin_end": 0.10000000000000009,
            "count": 5
           },
           {
            "bin_start": 0.10000000000000009,
            "bin_end": 0.20000000000000007,
            "count": 0
           },
           {
            "bin_start": 0.20000000000000007,
            "bin_end": 0.30000000000000004,
            "count": 0
           },
           {
            "bin_start": 0.30000000000000004,
            "bin_end": 0.4,
            "count": 0
           },
           {
            "bin_start": 0.4,
            "bin_end": 0.5,
            "count": 0
           }
          ]
         }
        },
        {
         "name": "PRIMARY_OWNER_ENTITY_TYPE",
         "dtype": "object",
         "stats": {
          "unique_count": 4,
          "nan_count": 0,
          "categories": [
           {
            "name": "Limited Liability Company",
            "count": 2
           },
           {
            "name": "Corporation",
            "count": 1
           },
           {
            "name": "2 others",
            "count": 2
           }
          ]
         }
        },
        {
         "name": "COUNT_NPO_OR_OTHER",
         "dtype": "int64",
         "stats": {
          "unique_count": 3,
          "nan_count": 0,
          "min": "0",
          "max": "3",
          "histogram": [
           {
            "bin_start": 0,
            "bin_end": 0.3,
            "count": 3
           },
           {
            "bin_start": 0.3,
            "bin_end": 0.6,
            "count": 0
           },
           {
            "bin_start": 0.6,
            "bin_end": 0.8999999999999999,
            "count": 0
           },
           {
            "bin_start": 0.8999999999999999,
            "bin_end": 1.2,
            "count": 0
           },
           {
            "bin_start": 1.2,
            "bin_end": 1.5,
            "count": 0
           },
           {
            "bin_start": 1.5,
            "bin_end": 1.7999999999999998,
            "count": 0
           },
           {
            "bin_start": 1.7999999999999998,
            "bin_end": 2.1,
            "count": 1
           },
           {
            "bin_start": 2.1,
            "bin_end": 2.4,
            "count": 0
           },
           {
            "bin_start": 2.4,
            "bin_end": 2.6999999999999997,
            "count": 0
           },
           {
            "bin_start": 2.6999999999999997,
            "bin_end": 3,
            "count": 1
           }
          ]
         }
        },
        {
         "name": "USE_CODE",
         "dtype": "object",
         "stats": {
          "unique_count": 3,
          "nan_count": 0,
          "categories": [
           {
            "name": "Dust Control",
            "count": 2
           },
           {
            "name": "Domestic",
            "count": 2
           },
           {
            "name": "Irrigation",
            "count": 1
           }
          ]
         }
        },
        {
         "name": "A/NP",
         "dtype": "bool",
         "stats": {
          "unique_count": 2,
          "nan_count": 0,
          "categories": [
           {
            "name": "True",
            "count": 3
           },
           {
            "name": "False",
            "count": 2
           }
          ]
         }
        },
        {
         "name": "_deepnote_index_column",
         "dtype": "int64"
        }
       ],
       "rows": [
        {
         "FACE_VALUE_AMOUNT": 48,
         "QUANTITY_OF_WATER_DIVERTED": 0,
         "USE_COUNT": 1,
         "USE_POPULATION": 0,
         "NUMBER_OF_PROTESTS": 0,
         "PRIMARY_OWNER_ENTITY_TYPE": "Limited Liability Company",
         "COUNT_NPO_OR_OTHER": 0,
         "USE_CODE": "Dust Control",
         "A/NP": false,
         "_deepnote_index_column": 0
        },
        {
         "FACE_VALUE_AMOUNT": 48,
         "QUANTITY_OF_WATER_DIVERTED": 0,
         "USE_COUNT": 1,
         "USE_POPULATION": 0,
         "NUMBER_OF_PROTESTS": 0,
         "PRIMARY_OWNER_ENTITY_TYPE": "Limited Liability Company",
         "COUNT_NPO_OR_OTHER": 0,
         "USE_CODE": "Dust Control",
         "A/NP": false,
         "_deepnote_index_column": 1
        },
        {
         "FACE_VALUE_AMOUNT": 18.1,
         "QUANTITY_OF_WATER_DIVERTED": 0,
         "USE_COUNT": 2,
         "USE_POPULATION": 0,
         "NUMBER_OF_PROTESTS": 0,
         "PRIMARY_OWNER_ENTITY_TYPE": "Corporation",
         "COUNT_NPO_OR_OTHER": 2,
         "USE_CODE": "Domestic",
         "A/NP": true,
         "_deepnote_index_column": 2
        },
        {
         "FACE_VALUE_AMOUNT": 53673,
         "QUANTITY_OF_WATER_DIVERTED": 0,
         "USE_COUNT": 2,
         "USE_POPULATION": 0,
         "NUMBER_OF_PROTESTS": 0,
         "PRIMARY_OWNER_ENTITY_TYPE": "Government (State/Municipal)",
         "COUNT_NPO_OR_OTHER": 3,
         "USE_CODE": "Irrigation",
         "A/NP": true,
         "_deepnote_index_column": 3
        },
        {
         "FACE_VALUE_AMOUNT": 44340,
         "QUANTITY_OF_WATER_DIVERTED": 0,
         "USE_COUNT": 3,
         "USE_POPULATION": 0,
         "NUMBER_OF_PROTESTS": 0,
         "PRIMARY_OWNER_ENTITY_TYPE": "Federal Government",
         "COUNT_NPO_OR_OTHER": 0,
         "USE_CODE": "Domestic",
         "A/NP": true,
         "_deepnote_index_column": 4
        }
       ]
      },
      "text/plain": "   FACE_VALUE_AMOUNT  QUANTITY_OF_WATER_DIVERTED  USE_COUNT  USE_POPULATION  \\\n0               48.0                           0          1               0   \n1               48.0                           0          1               0   \n2               18.1                           0          2               0   \n3            53673.0                           0          2               0   \n4            44340.0                           0          3               0   \n\n   NUMBER_OF_PROTESTS     PRIMARY_OWNER_ENTITY_TYPE  COUNT_NPO_OR_OTHER  \\\n0                 0.0     Limited Liability Company                   0   \n1                 0.0     Limited Liability Company                   0   \n2                 0.0                   Corporation                   2   \n3                 0.0  Government (State/Municipal)                   3   \n4                 0.0            Federal Government                   0   \n\n       USE_CODE   A/NP  \n0  Dust Control  False  \n1  Dust Control  False  \n2      Domestic   True  \n3    Irrigation   True  \n4      Domestic   True  ",
      "text/html": "<div>\n<style scoped>\n    .dataframe tbody tr th:only-of-type {\n        vertical-align: middle;\n    }\n\n    .dataframe tbody tr th {\n        vertical-align: top;\n    }\n\n    .dataframe thead th {\n        text-align: right;\n    }\n</style>\n<table border=\"1\" class=\"dataframe\">\n  <thead>\n    <tr style=\"text-align: right;\">\n      <th></th>\n      <th>FACE_VALUE_AMOUNT</th>\n      <th>QUANTITY_OF_WATER_DIVERTED</th>\n      <th>USE_COUNT</th>\n      <th>USE_POPULATION</th>\n      <th>NUMBER_OF_PROTESTS</th>\n      <th>PRIMARY_OWNER_ENTITY_TYPE</th>\n      <th>COUNT_NPO_OR_OTHER</th>\n      <th>USE_CODE</th>\n      <th>A/NP</th>\n    </tr>\n  </thead>\n  <tbody>\n    <tr>\n      <th>0</th>\n      <td>48.0</td>\n      <td>0</td>\n      <td>1</td>\n      <td>0</td>\n      <td>0.0</td>\n      <td>Limited Liability Company</td>\n      <td>0</td>\n      <td>Dust Control</td>\n      <td>False</td>\n    </tr>\n    <tr>\n      <th>1</th>\n      <td>48.0</td>\n      <td>0</td>\n      <td>1</td>\n      <td>0</td>\n      <td>0.0</td>\n      <td>Limited Liability Company</td>\n      <td>0</td>\n      <td>Dust Control</td>\n      <td>False</td>\n    </tr>\n    <tr>\n      <th>2</th>\n      <td>18.1</td>\n      <td>0</td>\n      <td>2</td>\n      <td>0</td>\n      <td>0.0</td>\n      <td>Corporation</td>\n      <td>2</td>\n      <td>Domestic</td>\n      <td>True</td>\n    </tr>\n    <tr>\n      <th>3</th>\n      <td>53673.0</td>\n      <td>0</td>\n      <td>2</td>\n      <td>0</td>\n      <td>0.0</td>\n      <td>Government (State/Municipal)</td>\n      <td>3</td>\n      <td>Irrigation</td>\n      <td>True</td>\n    </tr>\n    <tr>\n      <th>4</th>\n      <td>44340.0</td>\n      <td>0</td>\n      <td>3</td>\n      <td>0</td>\n      <td>0.0</td>\n      <td>Federal Government</td>\n      <td>0</td>\n      <td>Domestic</td>\n      <td>True</td>\n    </tr>\n  </tbody>\n</table>\n</div>"
     },
     "metadata": {}
    }
   ]
  },
  {
   "cell_type": "code",
   "metadata": {
    "cell_id": "d9841eb040e34f508c9edb2d9c0f2209",
    "tags": [],
    "deepnote_to_be_reexecuted": true,
    "source_hash": "f9a25d29",
    "execution_start": 1649964166634,
    "execution_millis": 72,
    "deepnote_cell_type": "code",
    "deepnote_cell_height": 924,
    "deepnote_output_heights": [
     611
    ]
   },
   "source": "from sklearn.preprocessing import OrdinalEncoder\ndef prepare_inputs(X_train, X_test):\n\toe = OrdinalEncoder()\n\toe.fit(X_train)\n\tX_train_enc = oe.transform(X_train)\n\tX_test_enc = oe.transform(X_test)\n\treturn X_train_enc, X_test_enc\n\nX = df.iloc[: , : -1]\n    \ny = df.iloc[:, -1]\n    \nX, y",
   "execution_count": null,
   "outputs": [
    {
     "output_type": "execute_result",
     "execution_count": 42,
     "data": {
      "text/plain": "(       FACE_VALUE_AMOUNT  QUANTITY_OF_WATER_DIVERTED  USE_COUNT  \\\n 0                   48.0                           0          1   \n 1                   48.0                           0          1   \n 2                   18.1                           0          2   \n 3                53673.0                           0          2   \n 4                44340.0                           0          3   \n ...                  ...                         ...        ...   \n 76499                0.0                           0          0   \n 76500                0.0                           0          0   \n 76501                0.0                           0          0   \n 76502                0.0                           0          0   \n 76503                0.0                           0          0   \n \n        USE_POPULATION  NUMBER_OF_PROTESTS     PRIMARY_OWNER_ENTITY_TYPE  \\\n 0                   0                 0.0     Limited Liability Company   \n 1                   0                 0.0     Limited Liability Company   \n 2                   0                 0.0                   Corporation   \n 3                   0                 0.0  Government (State/Municipal)   \n 4                   0                 0.0            Federal Government   \n ...               ...                 ...                           ...   \n 76499               0                 0.0                    Individual   \n 76500               0                 0.0                    Individual   \n 76501               0                 0.0                    Individual   \n 76502               0                 0.0                           NaN   \n 76503               0                 0.0                           NaN   \n \n        COUNT_NPO_OR_OTHER      USE_CODE  \n 0                       0  Dust Control  \n 1                       0  Dust Control  \n 2                       2      Domestic  \n 3                       3    Irrigation  \n 4                       0      Domestic  \n ...                   ...           ...  \n 76499                   0           NaN  \n 76500                   1           NaN  \n 76501                   2           NaN  \n 76502                   0           NaN  \n 76503                   0           NaN  \n \n [76504 rows x 8 columns],\n 0        0\n 1        0\n 2        1\n 3        1\n 4        1\n         ..\n 76499    1\n 76500    0\n 76501    0\n 76502    1\n 76503    1\n Name: A/NP, Length: 76504, dtype: int64)"
     },
     "metadata": {}
    }
   ]
  },
  {
   "cell_type": "code",
   "metadata": {
    "cell_id": "fc5273870b094a12bf97a97bffe36f16",
    "tags": [],
    "deepnote_to_be_reexecuted": true,
    "source_hash": "b98e27fa",
    "execution_start": 1649964339907,
    "execution_millis": 121,
    "deepnote_cell_type": "code",
    "deepnote_cell_height": 600
   },
   "source": "X_train",
   "execution_count": null,
   "outputs": [
    {
     "output_type": "execute_result",
     "execution_count": 47,
     "data": {
      "application/vnd.deepnote.dataframe.v3+json": {
       "column_count": 8,
       "row_count": 51257,
       "columns": [
        {
         "name": "FACE_VALUE_AMOUNT",
         "dtype": "float64",
         "stats": {
          "unique_count": 2963,
          "nan_count": 0,
          "min": "0.0",
          "max": "15600000.0",
          "histogram": [
           {
            "bin_start": 0,
            "bin_end": 1560000,
            "count": 51192
           },
           {
            "bin_start": 1560000,
            "bin_end": 3120000,
            "count": 31
           },
           {
            "bin_start": 3120000,
            "bin_end": 4680000,
            "count": 11
           },
           {
            "bin_start": 4680000,
            "bin_end": 6240000,
            "count": 11
           },
           {
            "bin_start": 6240000,
            "bin_end": 7800000,
            "count": 4
           },
           {
            "bin_start": 7800000,
            "bin_end": 9360000,
            "count": 4
           },
           {
            "bin_start": 9360000,
            "bin_end": 10920000,
            "count": 1
           },
           {
            "bin_start": 10920000,
            "bin_end": 12480000,
            "count": 2
           },
           {
            "bin_start": 12480000,
            "bin_end": 14040000,
            "count": 0
           },
           {
            "bin_start": 14040000,
            "bin_end": 15600000,
            "count": 1
           }
          ]
         }
        },
        {
         "name": "QUANTITY_OF_WATER_DIVERTED",
         "dtype": "int64"
        },
        {
         "name": "USE_COUNT",
         "dtype": "int64"
        },
        {
         "name": "USE_POPULATION",
         "dtype": "int64"
        },
        {
         "name": "NUMBER_OF_PROTESTS",
         "dtype": "float64"
        },
        {
         "name": "PRIMARY_OWNER_ENTITY_TYPE",
         "dtype": "object"
        },
        {
         "name": "COUNT_NPO_OR_OTHER",
         "dtype": "int64"
        },
        {
         "name": "USE_CODE",
         "dtype": "object"
        },
        {
         "name": "_deepnote_index_column",
         "dtype": "int64"
        }
       ],
       "rows": [
        {
         "FACE_VALUE_AMOUNT": 0,
         "QUANTITY_OF_WATER_DIVERTED": 424000,
         "USE_COUNT": 1,
         "USE_POPULATION": 0,
         "NUMBER_OF_PROTESTS": 0,
         "PRIMARY_OWNER_ENTITY_TYPE": "Corporation",
         "COUNT_NPO_OR_OTHER": 0,
         "USE_CODE": "Dust Control",
         "_deepnote_index_column": 63151
        },
        {
         "FACE_VALUE_AMOUNT": 0,
         "QUANTITY_OF_WATER_DIVERTED": 0,
         "USE_COUNT": 1,
         "USE_POPULATION": 0,
         "NUMBER_OF_PROTESTS": 0,
         "PRIMARY_OWNER_ENTITY_TYPE": "Individual",
         "COUNT_NPO_OR_OTHER": 0,
         "USE_CODE": "Aquaculture",
         "_deepnote_index_column": 38198
        },
        {
         "FACE_VALUE_AMOUNT": 0,
         "QUANTITY_OF_WATER_DIVERTED": 0,
         "USE_COUNT": 1,
         "USE_POPULATION": 0,
         "NUMBER_OF_PROTESTS": 0,
         "PRIMARY_OWNER_ENTITY_TYPE": "Organization/Association",
         "COUNT_NPO_OR_OTHER": 1,
         "USE_CODE": "Irrigation",
         "_deepnote_index_column": 52013
        },
        {
         "FACE_VALUE_AMOUNT": 9.4,
         "QUANTITY_OF_WATER_DIVERTED": 0,
         "USE_COUNT": 4,
         "USE_POPULATION": 0,
         "NUMBER_OF_PROTESTS": 0,
         "PRIMARY_OWNER_ENTITY_TYPE": "Trust",
         "COUNT_NPO_OR_OTHER": 2,
         "USE_CODE": "Fire Protection",
         "_deepnote_index_column": 14359
        },
        {
         "FACE_VALUE_AMOUNT": 0,
         "QUANTITY_OF_WATER_DIVERTED": 0,
         "USE_COUNT": 1,
         "USE_POPULATION": 0,
         "NUMBER_OF_PROTESTS": 0,
         "PRIMARY_OWNER_ENTITY_TYPE": "nan",
         "COUNT_NPO_OR_OTHER": 0,
         "USE_CODE": "Other",
         "_deepnote_index_column": 27422
        },
        {
         "FACE_VALUE_AMOUNT": 0,
         "QUANTITY_OF_WATER_DIVERTED": 0,
         "USE_COUNT": 2,
         "USE_POPULATION": 0,
         "NUMBER_OF_PROTESTS": 0,
         "PRIMARY_OWNER_ENTITY_TYPE": "Corporation",
         "COUNT_NPO_OR_OTHER": 1,
         "USE_CODE": "Domestic",
         "_deepnote_index_column": 43407
        },
        {
         "FACE_VALUE_AMOUNT": 0,
         "QUANTITY_OF_WATER_DIVERTED": 0,
         "USE_COUNT": 0,
         "USE_POPULATION": 0,
         "NUMBER_OF_PROTESTS": 0,
         "PRIMARY_OWNER_ENTITY_TYPE": "Government (State/Municipal)",
         "COUNT_NPO_OR_OTHER": 0,
         "USE_CODE": "nan",
         "_deepnote_index_column": 46446
        },
        {
         "FACE_VALUE_AMOUNT": 0,
         "QUANTITY_OF_WATER_DIVERTED": 0,
         "USE_COUNT": 1,
         "USE_POPULATION": 0,
         "NUMBER_OF_PROTESTS": 0,
         "PRIMARY_OWNER_ENTITY_TYPE": "Corporation",
         "COUNT_NPO_OR_OTHER": 1,
         "USE_CODE": "Irrigation",
         "_deepnote_index_column": 56195
        },
        {
         "FACE_VALUE_AMOUNT": 0,
         "QUANTITY_OF_WATER_DIVERTED": 0,
         "USE_COUNT": 2,
         "USE_POPULATION": 0,
         "NUMBER_OF_PROTESTS": 0,
         "PRIMARY_OWNER_ENTITY_TYPE": "Individual",
         "COUNT_NPO_OR_OTHER": 0,
         "USE_CODE": "Domestic",
         "_deepnote_index_column": 59441
        },
        {
         "FACE_VALUE_AMOUNT": 0,
         "QUANTITY_OF_WATER_DIVERTED": 0,
         "USE_COUNT": 1,
         "USE_POPULATION": 0,
         "NUMBER_OF_PROTESTS": 0,
         "PRIMARY_OWNER_ENTITY_TYPE": "Corporation",
         "COUNT_NPO_OR_OTHER": 0,
         "USE_CODE": "Fish and Wildlife Preservation and Enhancement",
         "_deepnote_index_column": 41904
        }
       ]
      },
      "text/plain": "       FACE_VALUE_AMOUNT  QUANTITY_OF_WATER_DIVERTED  USE_COUNT  \\\n63151                0.0                      424000          1   \n38198                0.0                           0          1   \n52013                0.0                           0          1   \n14359                9.4                           0          4   \n27422                0.0                           0          1   \n...                  ...                         ...        ...   \n37194                0.0                           0          1   \n6265                 3.9                           0          1   \n54886                0.0                           0          1   \n860              30828.3                           0          1   \n15795                0.0                           0          4   \n\n       USE_POPULATION  NUMBER_OF_PROTESTS     PRIMARY_OWNER_ENTITY_TYPE  \\\n63151               0                 0.0                   Corporation   \n38198               0                 0.0                    Individual   \n52013               0                 0.0      Organization/Association   \n14359               0                 0.0                         Trust   \n27422               0                 0.0                           NaN   \n...               ...                 ...                           ...   \n37194               0                 0.0                    Individual   \n6265                0                 0.0                    Individual   \n54886               0                 0.0                    Individual   \n860                 0                 0.0  Government (State/Municipal)   \n15795               3                 0.0                           NaN   \n\n       COUNT_NPO_OR_OTHER         USE_CODE  \n63151                   0     Dust Control  \n38198                   0      Aquaculture  \n52013                   1       Irrigation  \n14359                   2  Fire Protection  \n27422                   0            Other  \n...                   ...              ...  \n37194                   0         Domestic  \n6265                    0       Irrigation  \n54886                   0       Irrigation  \n860                     6       Irrigation  \n15795                   0         Domestic  \n\n[51257 rows x 8 columns]",
      "text/html": "<div>\n<style scoped>\n    .dataframe tbody tr th:only-of-type {\n        vertical-align: middle;\n    }\n\n    .dataframe tbody tr th {\n        vertical-align: top;\n    }\n\n    .dataframe thead th {\n        text-align: right;\n    }\n</style>\n<table border=\"1\" class=\"dataframe\">\n  <thead>\n    <tr style=\"text-align: right;\">\n      <th></th>\n      <th>FACE_VALUE_AMOUNT</th>\n      <th>QUANTITY_OF_WATER_DIVERTED</th>\n      <th>USE_COUNT</th>\n      <th>USE_POPULATION</th>\n      <th>NUMBER_OF_PROTESTS</th>\n      <th>PRIMARY_OWNER_ENTITY_TYPE</th>\n      <th>COUNT_NPO_OR_OTHER</th>\n      <th>USE_CODE</th>\n    </tr>\n  </thead>\n  <tbody>\n    <tr>\n      <th>63151</th>\n      <td>0.0</td>\n      <td>424000</td>\n      <td>1</td>\n      <td>0</td>\n      <td>0.0</td>\n      <td>Corporation</td>\n      <td>0</td>\n      <td>Dust Control</td>\n    </tr>\n    <tr>\n      <th>38198</th>\n      <td>0.0</td>\n      <td>0</td>\n      <td>1</td>\n      <td>0</td>\n      <td>0.0</td>\n      <td>Individual</td>\n      <td>0</td>\n      <td>Aquaculture</td>\n    </tr>\n    <tr>\n      <th>52013</th>\n      <td>0.0</td>\n      <td>0</td>\n      <td>1</td>\n      <td>0</td>\n      <td>0.0</td>\n      <td>Organization/Association</td>\n      <td>1</td>\n      <td>Irrigation</td>\n    </tr>\n    <tr>\n      <th>14359</th>\n      <td>9.4</td>\n      <td>0</td>\n      <td>4</td>\n      <td>0</td>\n      <td>0.0</td>\n      <td>Trust</td>\n      <td>2</td>\n      <td>Fire Protection</td>\n    </tr>\n    <tr>\n      <th>27422</th>\n      <td>0.0</td>\n      <td>0</td>\n      <td>1</td>\n      <td>0</td>\n      <td>0.0</td>\n      <td>NaN</td>\n      <td>0</td>\n      <td>Other</td>\n    </tr>\n    <tr>\n      <th>...</th>\n      <td>...</td>\n      <td>...</td>\n      <td>...</td>\n      <td>...</td>\n      <td>...</td>\n      <td>...</td>\n      <td>...</td>\n      <td>...</td>\n    </tr>\n    <tr>\n      <th>37194</th>\n      <td>0.0</td>\n      <td>0</td>\n      <td>1</td>\n      <td>0</td>\n      <td>0.0</td>\n      <td>Individual</td>\n      <td>0</td>\n      <td>Domestic</td>\n    </tr>\n    <tr>\n      <th>6265</th>\n      <td>3.9</td>\n      <td>0</td>\n      <td>1</td>\n      <td>0</td>\n      <td>0.0</td>\n      <td>Individual</td>\n      <td>0</td>\n      <td>Irrigation</td>\n    </tr>\n    <tr>\n      <th>54886</th>\n      <td>0.0</td>\n      <td>0</td>\n      <td>1</td>\n      <td>0</td>\n      <td>0.0</td>\n      <td>Individual</td>\n      <td>0</td>\n      <td>Irrigation</td>\n    </tr>\n    <tr>\n      <th>860</th>\n      <td>30828.3</td>\n      <td>0</td>\n      <td>1</td>\n      <td>0</td>\n      <td>0.0</td>\n      <td>Government (State/Municipal)</td>\n      <td>6</td>\n      <td>Irrigation</td>\n    </tr>\n    <tr>\n      <th>15795</th>\n      <td>0.0</td>\n      <td>0</td>\n      <td>4</td>\n      <td>3</td>\n      <td>0.0</td>\n      <td>NaN</td>\n      <td>0</td>\n      <td>Domestic</td>\n    </tr>\n  </tbody>\n</table>\n<p>51257 rows × 8 columns</p>\n</div>"
     },
     "metadata": {}
    }
   ]
  },
  {
   "cell_type": "code",
   "metadata": {
    "cell_id": "ac7cbe9330d042bd8eaeb5390718d476",
    "tags": [],
    "deepnote_to_be_reexecuted": true,
    "source_hash": "93f36f06",
    "execution_start": 1649964614986,
    "execution_millis": 2171,
    "deepnote_table_state": {
     "pageSize": 10,
     "pageIndex": 0,
     "filters": [],
     "sortBy": []
    },
    "deepnote_table_loading": false,
    "deepnote_cell_type": "code",
    "deepnote_cell_height": 396
   },
   "source": "X = df.iloc[: , : -1]\n    \ny = df.iloc[:, -1]\nX_train, X_test, y_train, y_test = train_test_split(X, y, test_size=0.33, random_state=42)\nfs = SelectKBest(score_func = chi2, k=6)\nfs.fit(X_train, y_train)\nX_train_fs = fs.transform(X_train)\nX_test_fs = fs.transform(X_test)\nmodel_1 = LogisticRegression(solver='lbfgs')\nmodel_1.fit(X_train_fs, y_train)\n# evaluate the model\nyhat = model.predict(X_test_fs)\n# evaluate predictions\naccuracy = accuracy_score(y_test, yhat)\nprint('Accuracy: %.2f' % (accuracy*100))",
   "execution_count": null,
   "outputs": [
    {
     "output_type": "error",
     "ename": "ValueError",
     "evalue": "X has 6 features, but LogisticRegression is expecting 35 features as input.",
     "traceback": [
      "\u001b[0;31m---------------------------------------------------------------------------\u001b[0m",
      "\u001b[0;31mValueError\u001b[0m                                Traceback (most recent call last)",
      "\u001b[0;32m<ipython-input-56-42edc457571e>\u001b[0m in \u001b[0;36m<module>\u001b[0;34m\u001b[0m\n\u001b[1;32m     11\u001b[0m \u001b[0mmodel_1\u001b[0m\u001b[0;34m.\u001b[0m\u001b[0mfit\u001b[0m\u001b[0;34m(\u001b[0m\u001b[0mX_train_fs\u001b[0m\u001b[0;34m,\u001b[0m \u001b[0my_train\u001b[0m\u001b[0;34m)\u001b[0m\u001b[0;34m\u001b[0m\u001b[0;34m\u001b[0m\u001b[0m\n\u001b[1;32m     12\u001b[0m \u001b[0;31m# evaluate the model\u001b[0m\u001b[0;34m\u001b[0m\u001b[0;34m\u001b[0m\u001b[0;34m\u001b[0m\u001b[0m\n\u001b[0;32m---> 13\u001b[0;31m \u001b[0myhat\u001b[0m \u001b[0;34m=\u001b[0m \u001b[0mmodel\u001b[0m\u001b[0;34m.\u001b[0m\u001b[0mpredict\u001b[0m\u001b[0;34m(\u001b[0m\u001b[0mX_test_fs\u001b[0m\u001b[0;34m)\u001b[0m\u001b[0;34m\u001b[0m\u001b[0;34m\u001b[0m\u001b[0m\n\u001b[0m\u001b[1;32m     14\u001b[0m \u001b[0;31m# evaluate predictions\u001b[0m\u001b[0;34m\u001b[0m\u001b[0;34m\u001b[0m\u001b[0;34m\u001b[0m\u001b[0m\n\u001b[1;32m     15\u001b[0m \u001b[0maccuracy\u001b[0m \u001b[0;34m=\u001b[0m \u001b[0maccuracy_score\u001b[0m\u001b[0;34m(\u001b[0m\u001b[0my_test\u001b[0m\u001b[0;34m,\u001b[0m \u001b[0myhat\u001b[0m\u001b[0;34m)\u001b[0m\u001b[0;34m\u001b[0m\u001b[0;34m\u001b[0m\u001b[0m\n",
      "\u001b[0;32m/shared-libs/python3.7/py/lib/python3.7/site-packages/sklearn/linear_model/_base.py\u001b[0m in \u001b[0;36mpredict\u001b[0;34m(self, X)\u001b[0m\n\u001b[1;32m    423\u001b[0m             \u001b[0mVector\u001b[0m \u001b[0mcontaining\u001b[0m \u001b[0mthe\u001b[0m \u001b[0;32mclass\u001b[0m \u001b[0mlabels\u001b[0m \u001b[0;32mfor\u001b[0m \u001b[0meach\u001b[0m \u001b[0msample\u001b[0m\u001b[0;34m.\u001b[0m\u001b[0;34m\u001b[0m\u001b[0;34m\u001b[0m\u001b[0m\n\u001b[1;32m    424\u001b[0m         \"\"\"\n\u001b[0;32m--> 425\u001b[0;31m         \u001b[0mscores\u001b[0m \u001b[0;34m=\u001b[0m \u001b[0mself\u001b[0m\u001b[0;34m.\u001b[0m\u001b[0mdecision_function\u001b[0m\u001b[0;34m(\u001b[0m\u001b[0mX\u001b[0m\u001b[0;34m)\u001b[0m\u001b[0;34m\u001b[0m\u001b[0;34m\u001b[0m\u001b[0m\n\u001b[0m\u001b[1;32m    426\u001b[0m         \u001b[0;32mif\u001b[0m \u001b[0mlen\u001b[0m\u001b[0;34m(\u001b[0m\u001b[0mscores\u001b[0m\u001b[0;34m.\u001b[0m\u001b[0mshape\u001b[0m\u001b[0;34m)\u001b[0m \u001b[0;34m==\u001b[0m \u001b[0;36m1\u001b[0m\u001b[0;34m:\u001b[0m\u001b[0;34m\u001b[0m\u001b[0;34m\u001b[0m\u001b[0m\n\u001b[1;32m    427\u001b[0m             \u001b[0mindices\u001b[0m \u001b[0;34m=\u001b[0m \u001b[0;34m(\u001b[0m\u001b[0mscores\u001b[0m \u001b[0;34m>\u001b[0m \u001b[0;36m0\u001b[0m\u001b[0;34m)\u001b[0m\u001b[0;34m.\u001b[0m\u001b[0mastype\u001b[0m\u001b[0;34m(\u001b[0m\u001b[0mint\u001b[0m\u001b[0;34m)\u001b[0m\u001b[0;34m\u001b[0m\u001b[0;34m\u001b[0m\u001b[0m\n",
      "\u001b[0;32m/shared-libs/python3.7/py/lib/python3.7/site-packages/sklearn/linear_model/_base.py\u001b[0m in \u001b[0;36mdecision_function\u001b[0;34m(self, X)\u001b[0m\n\u001b[1;32m    405\u001b[0m         \u001b[0mcheck_is_fitted\u001b[0m\u001b[0;34m(\u001b[0m\u001b[0mself\u001b[0m\u001b[0;34m)\u001b[0m\u001b[0;34m\u001b[0m\u001b[0;34m\u001b[0m\u001b[0m\n\u001b[1;32m    406\u001b[0m \u001b[0;34m\u001b[0m\u001b[0m\n\u001b[0;32m--> 407\u001b[0;31m         \u001b[0mX\u001b[0m \u001b[0;34m=\u001b[0m \u001b[0mself\u001b[0m\u001b[0;34m.\u001b[0m\u001b[0m_validate_data\u001b[0m\u001b[0;34m(\u001b[0m\u001b[0mX\u001b[0m\u001b[0;34m,\u001b[0m \u001b[0maccept_sparse\u001b[0m\u001b[0;34m=\u001b[0m\u001b[0;34m\"csr\"\u001b[0m\u001b[0;34m,\u001b[0m \u001b[0mreset\u001b[0m\u001b[0;34m=\u001b[0m\u001b[0;32mFalse\u001b[0m\u001b[0;34m)\u001b[0m\u001b[0;34m\u001b[0m\u001b[0;34m\u001b[0m\u001b[0m\n\u001b[0m\u001b[1;32m    408\u001b[0m         \u001b[0mscores\u001b[0m \u001b[0;34m=\u001b[0m \u001b[0msafe_sparse_dot\u001b[0m\u001b[0;34m(\u001b[0m\u001b[0mX\u001b[0m\u001b[0;34m,\u001b[0m \u001b[0mself\u001b[0m\u001b[0;34m.\u001b[0m\u001b[0mcoef_\u001b[0m\u001b[0;34m.\u001b[0m\u001b[0mT\u001b[0m\u001b[0;34m,\u001b[0m \u001b[0mdense_output\u001b[0m\u001b[0;34m=\u001b[0m\u001b[0;32mTrue\u001b[0m\u001b[0;34m)\u001b[0m \u001b[0;34m+\u001b[0m \u001b[0mself\u001b[0m\u001b[0;34m.\u001b[0m\u001b[0mintercept_\u001b[0m\u001b[0;34m\u001b[0m\u001b[0;34m\u001b[0m\u001b[0m\n\u001b[1;32m    409\u001b[0m         \u001b[0;32mreturn\u001b[0m \u001b[0mscores\u001b[0m\u001b[0;34m.\u001b[0m\u001b[0mravel\u001b[0m\u001b[0;34m(\u001b[0m\u001b[0;34m)\u001b[0m \u001b[0;32mif\u001b[0m \u001b[0mscores\u001b[0m\u001b[0;34m.\u001b[0m\u001b[0mshape\u001b[0m\u001b[0;34m[\u001b[0m\u001b[0;36m1\u001b[0m\u001b[0;34m]\u001b[0m \u001b[0;34m==\u001b[0m \u001b[0;36m1\u001b[0m \u001b[0;32melse\u001b[0m \u001b[0mscores\u001b[0m\u001b[0;34m\u001b[0m\u001b[0;34m\u001b[0m\u001b[0m\n",
      "\u001b[0;32m/shared-libs/python3.7/py/lib/python3.7/site-packages/sklearn/base.py\u001b[0m in \u001b[0;36m_validate_data\u001b[0;34m(self, X, y, reset, validate_separately, **check_params)\u001b[0m\n\u001b[1;32m    583\u001b[0m \u001b[0;34m\u001b[0m\u001b[0m\n\u001b[1;32m    584\u001b[0m         \u001b[0;32mif\u001b[0m \u001b[0;32mnot\u001b[0m \u001b[0mno_val_X\u001b[0m \u001b[0;32mand\u001b[0m \u001b[0mcheck_params\u001b[0m\u001b[0;34m.\u001b[0m\u001b[0mget\u001b[0m\u001b[0;34m(\u001b[0m\u001b[0;34m\"ensure_2d\"\u001b[0m\u001b[0;34m,\u001b[0m \u001b[0;32mTrue\u001b[0m\u001b[0;34m)\u001b[0m\u001b[0;34m:\u001b[0m\u001b[0;34m\u001b[0m\u001b[0;34m\u001b[0m\u001b[0m\n\u001b[0;32m--> 585\u001b[0;31m             \u001b[0mself\u001b[0m\u001b[0;34m.\u001b[0m\u001b[0m_check_n_features\u001b[0m\u001b[0;34m(\u001b[0m\u001b[0mX\u001b[0m\u001b[0;34m,\u001b[0m \u001b[0mreset\u001b[0m\u001b[0;34m=\u001b[0m\u001b[0mreset\u001b[0m\u001b[0;34m)\u001b[0m\u001b[0;34m\u001b[0m\u001b[0;34m\u001b[0m\u001b[0m\n\u001b[0m\u001b[1;32m    586\u001b[0m \u001b[0;34m\u001b[0m\u001b[0m\n\u001b[1;32m    587\u001b[0m         \u001b[0;32mreturn\u001b[0m \u001b[0mout\u001b[0m\u001b[0;34m\u001b[0m\u001b[0;34m\u001b[0m\u001b[0m\n",
      "\u001b[0;32m/shared-libs/python3.7/py/lib/python3.7/site-packages/sklearn/base.py\u001b[0m in \u001b[0;36m_check_n_features\u001b[0;34m(self, X, reset)\u001b[0m\n\u001b[1;32m    399\u001b[0m         \u001b[0;32mif\u001b[0m \u001b[0mn_features\u001b[0m \u001b[0;34m!=\u001b[0m \u001b[0mself\u001b[0m\u001b[0;34m.\u001b[0m\u001b[0mn_features_in_\u001b[0m\u001b[0;34m:\u001b[0m\u001b[0;34m\u001b[0m\u001b[0;34m\u001b[0m\u001b[0m\n\u001b[1;32m    400\u001b[0m             raise ValueError(\n\u001b[0;32m--> 401\u001b[0;31m                 \u001b[0;34mf\"X has {n_features} features, but {self.__class__.__name__} \"\u001b[0m\u001b[0;34m\u001b[0m\u001b[0;34m\u001b[0m\u001b[0m\n\u001b[0m\u001b[1;32m    402\u001b[0m                 \u001b[0;34mf\"is expecting {self.n_features_in_} features as input.\"\u001b[0m\u001b[0;34m\u001b[0m\u001b[0;34m\u001b[0m\u001b[0m\n\u001b[1;32m    403\u001b[0m             )\n",
      "\u001b[0;31mValueError\u001b[0m: X has 6 features, but LogisticRegression is expecting 35 features as input."
     ]
    }
   ]
  },
  {
   "cell_type": "code",
   "metadata": {
    "cell_id": "77b9deb35a2543f08dbb3178165e289f",
    "tags": [],
    "deepnote_to_be_reexecuted": true,
    "source_hash": "349c729d",
    "execution_start": 1649964258356,
    "execution_millis": 126,
    "deepnote_cell_type": "code",
    "deepnote_cell_height": 612
   },
   "source": "\n \n# feature selection\ndef select_features(X_train, y_train, X_test):\n\tfs = SelectKBest(score_func=chi2, k=6)\n\tfs.fit(X_train, y_train)\n\tX_train_fs = fs.transform(X_train)\n\tX_test_fs = fs.transform(X_test)\n\treturn X_train_fs, X_test_fs\n \n# load the dataset\nX = df.iloc[: , : -1]\n    \ny = df.iloc[:, -1]\n# split into train and test sets\nX_train, X_test, y_train, y_test = train_test_split(X, y, test_size=0.33, random_state=42)\n\n# feature selection\nX_train_fs, X_test_fs = select_features(X_train, y_train, X_test)\n# fit the model\nmodel_1 = LogisticRegression(solver='lbfgs')\nmodel_1.fit(X_train_fs, y_train_enc)\n# evaluate the model\nyhat = model.predict(X_test_fs)\n# evaluate predictions\naccuracy = accuracy_score(y_test_enc, yhat)\nprint('Accuracy: %.2f' % (accuracy*100))",
   "execution_count": null,
   "outputs": [
    {
     "output_type": "error",
     "ename": "ValueError",
     "evalue": "could not convert string to float: 'Corporation'",
     "traceback": [
      "\u001b[0;31m---------------------------------------------------------------------------\u001b[0m",
      "\u001b[0;31mValueError\u001b[0m                                Traceback (most recent call last)",
      "\u001b[0;32m<ipython-input-44-85b7862d2f75>\u001b[0m in \u001b[0;36m<module>\u001b[0;34m\u001b[0m\n\u001b[1;32m     13\u001b[0m \u001b[0;34m\u001b[0m\u001b[0m\n\u001b[1;32m     14\u001b[0m \u001b[0;31m# feature selection\u001b[0m\u001b[0;34m\u001b[0m\u001b[0;34m\u001b[0m\u001b[0;34m\u001b[0m\u001b[0m\n\u001b[0;32m---> 15\u001b[0;31m \u001b[0mX_train_fs\u001b[0m\u001b[0;34m,\u001b[0m \u001b[0mX_test_fs\u001b[0m \u001b[0;34m=\u001b[0m \u001b[0mselect_features\u001b[0m\u001b[0;34m(\u001b[0m\u001b[0mX_train\u001b[0m\u001b[0;34m,\u001b[0m \u001b[0my_train\u001b[0m\u001b[0;34m,\u001b[0m \u001b[0mX_test\u001b[0m\u001b[0;34m)\u001b[0m\u001b[0;34m\u001b[0m\u001b[0;34m\u001b[0m\u001b[0m\n\u001b[0m\u001b[1;32m     16\u001b[0m \u001b[0;31m# fit the model\u001b[0m\u001b[0;34m\u001b[0m\u001b[0;34m\u001b[0m\u001b[0;34m\u001b[0m\u001b[0m\n\u001b[1;32m     17\u001b[0m \u001b[0mmodel_1\u001b[0m \u001b[0;34m=\u001b[0m \u001b[0mLogisticRegression\u001b[0m\u001b[0;34m(\u001b[0m\u001b[0msolver\u001b[0m\u001b[0;34m=\u001b[0m\u001b[0;34m'lbfgs'\u001b[0m\u001b[0;34m)\u001b[0m\u001b[0;34m\u001b[0m\u001b[0;34m\u001b[0m\u001b[0m\n",
      "\u001b[0;32m<ipython-input-44-85b7862d2f75>\u001b[0m in \u001b[0;36mselect_features\u001b[0;34m(X_train, y_train, X_test)\u001b[0m\n\u001b[1;32m      2\u001b[0m \u001b[0;32mdef\u001b[0m \u001b[0mselect_features\u001b[0m\u001b[0;34m(\u001b[0m\u001b[0mX_train\u001b[0m\u001b[0;34m,\u001b[0m \u001b[0my_train\u001b[0m\u001b[0;34m,\u001b[0m \u001b[0mX_test\u001b[0m\u001b[0;34m)\u001b[0m\u001b[0;34m:\u001b[0m\u001b[0;34m\u001b[0m\u001b[0;34m\u001b[0m\u001b[0m\n\u001b[1;32m      3\u001b[0m         \u001b[0mfs\u001b[0m \u001b[0;34m=\u001b[0m \u001b[0mSelectKBest\u001b[0m\u001b[0;34m(\u001b[0m\u001b[0mscore_func\u001b[0m\u001b[0;34m=\u001b[0m\u001b[0mchi2\u001b[0m\u001b[0;34m,\u001b[0m \u001b[0mk\u001b[0m\u001b[0;34m=\u001b[0m\u001b[0;36m6\u001b[0m\u001b[0;34m)\u001b[0m\u001b[0;34m\u001b[0m\u001b[0;34m\u001b[0m\u001b[0m\n\u001b[0;32m----> 4\u001b[0;31m         \u001b[0mfs\u001b[0m\u001b[0;34m.\u001b[0m\u001b[0mfit\u001b[0m\u001b[0;34m(\u001b[0m\u001b[0mX_train\u001b[0m\u001b[0;34m,\u001b[0m \u001b[0my_train\u001b[0m\u001b[0;34m)\u001b[0m\u001b[0;34m\u001b[0m\u001b[0;34m\u001b[0m\u001b[0m\n\u001b[0m\u001b[1;32m      5\u001b[0m         \u001b[0mX_train_fs\u001b[0m \u001b[0;34m=\u001b[0m \u001b[0mfs\u001b[0m\u001b[0;34m.\u001b[0m\u001b[0mtransform\u001b[0m\u001b[0;34m(\u001b[0m\u001b[0mX_train\u001b[0m\u001b[0;34m)\u001b[0m\u001b[0;34m\u001b[0m\u001b[0;34m\u001b[0m\u001b[0m\n\u001b[1;32m      6\u001b[0m         \u001b[0mX_test_fs\u001b[0m \u001b[0;34m=\u001b[0m \u001b[0mfs\u001b[0m\u001b[0;34m.\u001b[0m\u001b[0mtransform\u001b[0m\u001b[0;34m(\u001b[0m\u001b[0mX_test\u001b[0m\u001b[0;34m)\u001b[0m\u001b[0;34m\u001b[0m\u001b[0;34m\u001b[0m\u001b[0m\n",
      "\u001b[0;32m/shared-libs/python3.7/py/lib/python3.7/site-packages/sklearn/feature_selection/_univariate_selection.py\u001b[0m in \u001b[0;36mfit\u001b[0;34m(self, X, y)\u001b[0m\n\u001b[1;32m    396\u001b[0m         \"\"\"\n\u001b[1;32m    397\u001b[0m         X, y = self._validate_data(\n\u001b[0;32m--> 398\u001b[0;31m             \u001b[0mX\u001b[0m\u001b[0;34m,\u001b[0m \u001b[0my\u001b[0m\u001b[0;34m,\u001b[0m \u001b[0maccept_sparse\u001b[0m\u001b[0;34m=\u001b[0m\u001b[0;34m[\u001b[0m\u001b[0;34m\"csr\"\u001b[0m\u001b[0;34m,\u001b[0m \u001b[0;34m\"csc\"\u001b[0m\u001b[0;34m]\u001b[0m\u001b[0;34m,\u001b[0m \u001b[0mmulti_output\u001b[0m\u001b[0;34m=\u001b[0m\u001b[0;32mTrue\u001b[0m\u001b[0;34m\u001b[0m\u001b[0;34m\u001b[0m\u001b[0m\n\u001b[0m\u001b[1;32m    399\u001b[0m         )\n\u001b[1;32m    400\u001b[0m \u001b[0;34m\u001b[0m\u001b[0m\n",
      "\u001b[0;32m/shared-libs/python3.7/py/lib/python3.7/site-packages/sklearn/base.py\u001b[0m in \u001b[0;36m_validate_data\u001b[0;34m(self, X, y, reset, validate_separately, **check_params)\u001b[0m\n\u001b[1;32m    579\u001b[0m                 \u001b[0my\u001b[0m \u001b[0;34m=\u001b[0m \u001b[0mcheck_array\u001b[0m\u001b[0;34m(\u001b[0m\u001b[0my\u001b[0m\u001b[0;34m,\u001b[0m \u001b[0;34m**\u001b[0m\u001b[0mcheck_y_params\u001b[0m\u001b[0;34m)\u001b[0m\u001b[0;34m\u001b[0m\u001b[0;34m\u001b[0m\u001b[0m\n\u001b[1;32m    580\u001b[0m             \u001b[0;32melse\u001b[0m\u001b[0;34m:\u001b[0m\u001b[0;34m\u001b[0m\u001b[0;34m\u001b[0m\u001b[0m\n\u001b[0;32m--> 581\u001b[0;31m                 \u001b[0mX\u001b[0m\u001b[0;34m,\u001b[0m \u001b[0my\u001b[0m \u001b[0;34m=\u001b[0m \u001b[0mcheck_X_y\u001b[0m\u001b[0;34m(\u001b[0m\u001b[0mX\u001b[0m\u001b[0;34m,\u001b[0m \u001b[0my\u001b[0m\u001b[0;34m,\u001b[0m \u001b[0;34m**\u001b[0m\u001b[0mcheck_params\u001b[0m\u001b[0;34m)\u001b[0m\u001b[0;34m\u001b[0m\u001b[0;34m\u001b[0m\u001b[0m\n\u001b[0m\u001b[1;32m    582\u001b[0m             \u001b[0mout\u001b[0m \u001b[0;34m=\u001b[0m \u001b[0mX\u001b[0m\u001b[0;34m,\u001b[0m \u001b[0my\u001b[0m\u001b[0;34m\u001b[0m\u001b[0;34m\u001b[0m\u001b[0m\n\u001b[1;32m    583\u001b[0m \u001b[0;34m\u001b[0m\u001b[0m\n",
      "\u001b[0;32m/shared-libs/python3.7/py/lib/python3.7/site-packages/sklearn/utils/validation.py\u001b[0m in \u001b[0;36mcheck_X_y\u001b[0;34m(X, y, accept_sparse, accept_large_sparse, dtype, order, copy, force_all_finite, ensure_2d, allow_nd, multi_output, ensure_min_samples, ensure_min_features, y_numeric, estimator)\u001b[0m\n\u001b[1;32m    974\u001b[0m         \u001b[0mensure_min_samples\u001b[0m\u001b[0;34m=\u001b[0m\u001b[0mensure_min_samples\u001b[0m\u001b[0;34m,\u001b[0m\u001b[0;34m\u001b[0m\u001b[0;34m\u001b[0m\u001b[0m\n\u001b[1;32m    975\u001b[0m         \u001b[0mensure_min_features\u001b[0m\u001b[0;34m=\u001b[0m\u001b[0mensure_min_features\u001b[0m\u001b[0;34m,\u001b[0m\u001b[0;34m\u001b[0m\u001b[0;34m\u001b[0m\u001b[0m\n\u001b[0;32m--> 976\u001b[0;31m         \u001b[0mestimator\u001b[0m\u001b[0;34m=\u001b[0m\u001b[0mestimator\u001b[0m\u001b[0;34m,\u001b[0m\u001b[0;34m\u001b[0m\u001b[0;34m\u001b[0m\u001b[0m\n\u001b[0m\u001b[1;32m    977\u001b[0m     )\n\u001b[1;32m    978\u001b[0m \u001b[0;34m\u001b[0m\u001b[0m\n",
      "\u001b[0;32m/shared-libs/python3.7/py/lib/python3.7/site-packages/sklearn/utils/validation.py\u001b[0m in \u001b[0;36mcheck_array\u001b[0;34m(array, accept_sparse, accept_large_sparse, dtype, order, copy, force_all_finite, ensure_2d, allow_nd, ensure_min_samples, ensure_min_features, estimator)\u001b[0m\n\u001b[1;32m    744\u001b[0m                     \u001b[0marray\u001b[0m \u001b[0;34m=\u001b[0m \u001b[0marray\u001b[0m\u001b[0;34m.\u001b[0m\u001b[0mastype\u001b[0m\u001b[0;34m(\u001b[0m\u001b[0mdtype\u001b[0m\u001b[0;34m,\u001b[0m \u001b[0mcasting\u001b[0m\u001b[0;34m=\u001b[0m\u001b[0;34m\"unsafe\"\u001b[0m\u001b[0;34m,\u001b[0m \u001b[0mcopy\u001b[0m\u001b[0;34m=\u001b[0m\u001b[0;32mFalse\u001b[0m\u001b[0;34m)\u001b[0m\u001b[0;34m\u001b[0m\u001b[0;34m\u001b[0m\u001b[0m\n\u001b[1;32m    745\u001b[0m                 \u001b[0;32melse\u001b[0m\u001b[0;34m:\u001b[0m\u001b[0;34m\u001b[0m\u001b[0;34m\u001b[0m\u001b[0m\n\u001b[0;32m--> 746\u001b[0;31m                     \u001b[0marray\u001b[0m \u001b[0;34m=\u001b[0m \u001b[0mnp\u001b[0m\u001b[0;34m.\u001b[0m\u001b[0masarray\u001b[0m\u001b[0;34m(\u001b[0m\u001b[0marray\u001b[0m\u001b[0;34m,\u001b[0m \u001b[0morder\u001b[0m\u001b[0;34m=\u001b[0m\u001b[0morder\u001b[0m\u001b[0;34m,\u001b[0m \u001b[0mdtype\u001b[0m\u001b[0;34m=\u001b[0m\u001b[0mdtype\u001b[0m\u001b[0;34m)\u001b[0m\u001b[0;34m\u001b[0m\u001b[0;34m\u001b[0m\u001b[0m\n\u001b[0m\u001b[1;32m    747\u001b[0m             \u001b[0;32mexcept\u001b[0m \u001b[0mComplexWarning\u001b[0m \u001b[0;32mas\u001b[0m \u001b[0mcomplex_warning\u001b[0m\u001b[0;34m:\u001b[0m\u001b[0;34m\u001b[0m\u001b[0;34m\u001b[0m\u001b[0m\n\u001b[1;32m    748\u001b[0m                 raise ValueError(\n",
      "\u001b[0;32m/shared-libs/python3.7/py/lib/python3.7/site-packages/pandas/core/generic.py\u001b[0m in \u001b[0;36m__array__\u001b[0;34m(self, dtype)\u001b[0m\n\u001b[1;32m   1897\u001b[0m \u001b[0;34m\u001b[0m\u001b[0m\n\u001b[1;32m   1898\u001b[0m     \u001b[0;32mdef\u001b[0m \u001b[0m__array__\u001b[0m\u001b[0;34m(\u001b[0m\u001b[0mself\u001b[0m\u001b[0;34m,\u001b[0m \u001b[0mdtype\u001b[0m\u001b[0;34m=\u001b[0m\u001b[0;32mNone\u001b[0m\u001b[0;34m)\u001b[0m \u001b[0;34m->\u001b[0m \u001b[0mnp\u001b[0m\u001b[0;34m.\u001b[0m\u001b[0mndarray\u001b[0m\u001b[0;34m:\u001b[0m\u001b[0;34m\u001b[0m\u001b[0;34m\u001b[0m\u001b[0m\n\u001b[0;32m-> 1899\u001b[0;31m         \u001b[0;32mreturn\u001b[0m \u001b[0mnp\u001b[0m\u001b[0;34m.\u001b[0m\u001b[0masarray\u001b[0m\u001b[0;34m(\u001b[0m\u001b[0mself\u001b[0m\u001b[0;34m.\u001b[0m\u001b[0m_values\u001b[0m\u001b[0;34m,\u001b[0m \u001b[0mdtype\u001b[0m\u001b[0;34m=\u001b[0m\u001b[0mdtype\u001b[0m\u001b[0;34m)\u001b[0m\u001b[0;34m\u001b[0m\u001b[0;34m\u001b[0m\u001b[0m\n\u001b[0m\u001b[1;32m   1900\u001b[0m \u001b[0;34m\u001b[0m\u001b[0m\n\u001b[1;32m   1901\u001b[0m     def __array_wrap__(\n",
      "\u001b[0;31mValueError\u001b[0m: could not convert string to float: 'Corporation'"
     ]
    }
   ]
  },
  {
   "cell_type": "code",
   "metadata": {
    "cell_id": "be64eb70fe174ec3b4e3b47759d26858",
    "tags": [],
    "deepnote_to_be_reexecuted": true,
    "source_hash": "762464ba",
    "execution_start": 1649895587513,
    "execution_millis": 285,
    "deepnote_table_state": {
     "pageSize": 10,
     "pageIndex": 1,
     "filters": [],
     "sortBy": []
    },
    "deepnote_table_loading": false,
    "deepnote_cell_type": "code",
    "deepnote_cell_height": 190
   },
   "source": "df[df['FACE_VALUE_AMOUNT'].isnull()]",
   "execution_count": null,
   "outputs": [
    {
     "output_type": "execute_result",
     "execution_count": 33,
     "data": {
      "application/vnd.deepnote.dataframe.v3+json": {
       "column_count": 143,
       "row_count": 0,
       "columns": [
        {
         "name": "FACE_VALUE_AMOUNT",
         "dtype": "float64",
         "stats": {
          "unique_count": 0,
          "nan_count": 0,
          "min": null,
          "max": null,
          "histogram": [
           {
            "bin_start": 0,
            "bin_end": 0.1,
            "count": 0
           },
           {
            "bin_start": 0.1,
            "bin_end": 0.2,
            "count": 0
           },
           {
            "bin_start": 0.2,
            "bin_end": 0.30000000000000004,
            "count": 0
           },
           {
            "bin_start": 0.30000000000000004,
            "bin_end": 0.4,
            "count": 0
           },
           {
            "bin_start": 0.4,
            "bin_end": 0.5,
            "count": 0
           },
           {
            "bin_start": 0.5,
            "bin_end": 0.6000000000000001,
            "count": 0
           },
           {
            "bin_start": 0.6000000000000001,
            "bin_end": 0.7000000000000001,
            "count": 0
           },
           {
            "bin_start": 0.7000000000000001,
            "bin_end": 0.8,
            "count": 0
           },
           {
            "bin_start": 0.8,
            "bin_end": 0.9,
            "count": 0
           },
           {
            "bin_start": 0.9,
            "bin_end": 1,
            "count": 0
           }
          ]
         }
        },
        {
         "name": "QUANTITY_OF_WATER_DIVERTED",
         "dtype": "int64",
         "stats": {
          "unique_count": 0,
          "nan_count": 0,
          "min": null,
          "max": null,
          "histogram": [
           {
            "bin_start": 0,
            "bin_end": 0.1,
            "count": 0
           },
           {
            "bin_start": 0.1,
            "bin_end": 0.2,
            "count": 0
           },
           {
            "bin_start": 0.2,
            "bin_end": 0.30000000000000004,
            "count": 0
           },
           {
            "bin_start": 0.30000000000000004,
            "bin_end": 0.4,
            "count": 0
           },
           {
            "bin_start": 0.4,
            "bin_end": 0.5,
            "count": 0
           },
           {
            "bin_start": 0.5,
            "bin_end": 0.6000000000000001,
            "count": 0
           },
           {
            "bin_start": 0.6000000000000001,
            "bin_end": 0.7000000000000001,
            "count": 0
           },
           {
            "bin_start": 0.7000000000000001,
            "bin_end": 0.8,
            "count": 0
           },
           {
            "bin_start": 0.8,
            "bin_end": 0.9,
            "count": 0
           },
           {
            "bin_start": 0.9,
            "bin_end": 1,
            "count": 0
           }
          ]
         }
        },
        {
         "name": "USE_COUNT",
         "dtype": "int64",
         "stats": {
          "unique_count": 0,
          "nan_count": 0,
          "min": null,
          "max": null,
          "histogram": [
           {
            "bin_start": 0,
            "bin_end": 0.1,
            "count": 0
           },
           {
            "bin_start": 0.1,
            "bin_end": 0.2,
            "count": 0
           },
           {
            "bin_start": 0.2,
            "bin_end": 0.30000000000000004,
            "count": 0
           },
           {
            "bin_start": 0.30000000000000004,
            "bin_end": 0.4,
            "count": 0
           },
           {
            "bin_start": 0.4,
            "bin_end": 0.5,
            "count": 0
           },
           {
            "bin_start": 0.5,
            "bin_end": 0.6000000000000001,
            "count": 0
           },
           {
            "bin_start": 0.6000000000000001,
            "bin_end": 0.7000000000000001,
            "count": 0
           },
           {
            "bin_start": 0.7000000000000001,
            "bin_end": 0.8,
            "count": 0
           },
           {
            "bin_start": 0.8,
            "bin_end": 0.9,
            "count": 0
           },
           {
            "bin_start": 0.9,
            "bin_end": 1,
            "count": 0
           }
          ]
         }
        },
        {
         "name": "USE_POPULATION",
         "dtype": "int64",
         "stats": {
          "unique_count": 0,
          "nan_count": 0,
          "min": null,
          "max": null,
          "histogram": [
           {
            "bin_start": 0,
            "bin_end": 0.1,
            "count": 0
           },
           {
            "bin_start": 0.1,
            "bin_end": 0.2,
            "count": 0
           },
           {
            "bin_start": 0.2,
            "bin_end": 0.30000000000000004,
            "count": 0
           },
           {
            "bin_start": 0.30000000000000004,
            "bin_end": 0.4,
            "count": 0
           },
           {
            "bin_start": 0.4,
            "bin_end": 0.5,
            "count": 0
           },
           {
            "bin_start": 0.5,
            "bin_end": 0.6000000000000001,
            "count": 0
           },
           {
            "bin_start": 0.6000000000000001,
            "bin_end": 0.7000000000000001,
            "count": 0
           },
           {
            "bin_start": 0.7000000000000001,
            "bin_end": 0.8,
            "count": 0
           },
           {
            "bin_start": 0.8,
            "bin_end": 0.9,
            "count": 0
           },
           {
            "bin_start": 0.9,
            "bin_end": 1,
            "count": 0
           }
          ]
         }
        },
        {
         "name": "NUMBER_OF_PROTESTS",
         "dtype": "float64",
         "stats": {
          "unique_count": 0,
          "nan_count": 0,
          "min": null,
          "max": null,
          "histogram": [
           {
            "bin_start": 0,
            "bin_end": 0.1,
            "count": 0
           },
           {
            "bin_start": 0.1,
            "bin_end": 0.2,
            "count": 0
           },
           {
            "bin_start": 0.2,
            "bin_end": 0.30000000000000004,
            "count": 0
           },
           {
            "bin_start": 0.30000000000000004,
            "bin_end": 0.4,
            "count": 0
           },
           {
            "bin_start": 0.4,
            "bin_end": 0.5,
            "count": 0
           },
           {
            "bin_start": 0.5,
            "bin_end": 0.6000000000000001,
            "count": 0
           },
           {
            "bin_start": 0.6000000000000001,
            "bin_end": 0.7000000000000001,
            "count": 0
           },
           {
            "bin_start": 0.7000000000000001,
            "bin_end": 0.8,
            "count": 0
           },
           {
            "bin_start": 0.8,
            "bin_end": 0.9,
            "count": 0
           },
           {
            "bin_start": 0.9,
            "bin_end": 1,
            "count": 0
           }
          ]
         }
        },
        {
         "name": "HUC_8_NAME_Antelope-Fremont Valleys",
         "dtype": "uint8",
         "stats": {
          "unique_count": 0,
          "nan_count": 0,
          "min": null,
          "max": null,
          "histogram": [
           {
            "bin_start": 0,
            "bin_end": 0.1,
            "count": 0
           },
           {
            "bin_start": 0.1,
            "bin_end": 0.2,
            "count": 0
           },
           {
            "bin_start": 0.2,
            "bin_end": 0.30000000000000004,
            "count": 0
           },
           {
            "bin_start": 0.30000000000000004,
            "bin_end": 0.4,
            "count": 0
           },
           {
            "bin_start": 0.4,
            "bin_end": 0.5,
            "count": 0
           },
           {
            "bin_start": 0.5,
            "bin_end": 0.6000000000000001,
            "count": 0
           },
           {
            "bin_start": 0.6000000000000001,
            "bin_end": 0.7000000000000001,
            "count": 0
           },
           {
            "bin_start": 0.7000000000000001,
            "bin_end": 0.8,
            "count": 0
           },
           {
            "bin_start": 0.8,
            "bin_end": 0.9,
            "count": 0
           },
           {
            "bin_start": 0.9,
            "bin_end": 1,
            "count": 0
           }
          ]
         }
        },
        {
         "name": "HUC_8_NAME_Applegate",
         "dtype": "uint8",
         "stats": {
          "unique_count": 0,
          "nan_count": 0,
          "min": null,
          "max": null,
          "histogram": [
           {
            "bin_start": 0,
            "bin_end": 0.1,
            "count": 0
           },
           {
            "bin_start": 0.1,
            "bin_end": 0.2,
            "count": 0
           },
           {
            "bin_start": 0.2,
            "bin_end": 0.30000000000000004,
            "count": 0
           },
           {
            "bin_start": 0.30000000000000004,
            "bin_end": 0.4,
            "count": 0
           },
           {
            "bin_start": 0.4,
            "bin_end": 0.5,
            "count": 0
           },
           {
            "bin_start": 0.5,
            "bin_end": 0.6000000000000001,
            "count": 0
           },
           {
            "bin_start": 0.6000000000000001,
            "bin_end": 0.7000000000000001,
            "count": 0
           },
           {
            "bin_start": 0.7000000000000001,
            "bin_end": 0.8,
            "count": 0
           },
           {
            "bin_start": 0.8,
            "bin_end": 0.9,
            "count": 0
           },
           {
            "bin_start": 0.9,
            "bin_end": 1,
            "count": 0
           }
          ]
         }
        },
        {
         "name": "HUC_8_NAME_Battle Creek",
         "dtype": "uint8",
         "stats": {
          "unique_count": 0,
          "nan_count": 0,
          "min": null,
          "max": null,
          "histogram": [
           {
            "bin_start": 0,
            "bin_end": 0.1,
            "count": 0
           },
           {
            "bin_start": 0.1,
            "bin_end": 0.2,
            "count": 0
           },
           {
            "bin_start": 0.2,
            "bin_end": 0.30000000000000004,
            "count": 0
           },
           {
            "bin_start": 0.30000000000000004,
            "bin_end": 0.4,
            "count": 0
           },
           {
            "bin_start": 0.4,
            "bin_end": 0.5,
            "count": 0
           },
           {
            "bin_start": 0.5,
            "bin_end": 0.6000000000000001,
            "count": 0
           },
           {
            "bin_start": 0.6000000000000001,
            "bin_end": 0.7000000000000001,
            "count": 0
           },
           {
            "bin_start": 0.7000000000000001,
            "bin_end": 0.8,
            "count": 0
           },
           {
            "bin_start": 0.8,
            "bin_end": 0.9,
            "count": 0
           },
           {
            "bin_start": 0.9,
            "bin_end": 1,
            "count": 0
           }
          ]
         }
        },
        {
         "name": "HUC_8_NAME_Big Chico Creek-Sacramento River",
         "dtype": "uint8",
         "stats": {
          "unique_count": 0,
          "nan_count": 0,
          "min": null,
          "max": null,
          "histogram": [
           {
            "bin_start": 0,
            "bin_end": 0.1,
            "count": 0
           },
           {
            "bin_start": 0.1,
            "bin_end": 0.2,
            "count": 0
           },
           {
            "bin_start": 0.2,
            "bin_end": 0.30000000000000004,
            "count": 0
           },
           {
            "bin_start": 0.30000000000000004,
            "bin_end": 0.4,
            "count": 0
           },
           {
            "bin_start": 0.4,
            "bin_end": 0.5,
            "count": 0
           },
           {
            "bin_start": 0.5,
            "bin_end": 0.6000000000000001,
            "count": 0
           },
           {
            "bin_start": 0.6000000000000001,
            "bin_end": 0.7000000000000001,
            "count": 0
           },
           {
            "bin_start": 0.7000000000000001,
            "bin_end": 0.8,
            "count": 0
           },
           {
            "bin_start": 0.8,
            "bin_end": 0.9,
            "count": 0
           },
           {
            "bin_start": 0.9,
            "bin_end": 1,
            "count": 0
           }
          ]
         }
        },
        {
         "name": "HUC_8_NAME_Big-Navarro-Garcia",
         "dtype": "uint8",
         "stats": {
          "unique_count": 0,
          "nan_count": 0,
          "min": null,
          "max": null,
          "histogram": [
           {
            "bin_start": 0,
            "bin_end": 0.1,
            "count": 0
           },
           {
            "bin_start": 0.1,
            "bin_end": 0.2,
            "count": 0
           },
           {
            "bin_start": 0.2,
            "bin_end": 0.30000000000000004,
            "count": 0
           },
           {
            "bin_start": 0.30000000000000004,
            "bin_end": 0.4,
            "count": 0
           },
           {
            "bin_start": 0.4,
            "bin_end": 0.5,
            "count": 0
           },
           {
            "bin_start": 0.5,
            "bin_end": 0.6000000000000001,
            "count": 0
           },
           {
            "bin_start": 0.6000000000000001,
            "bin_end": 0.7000000000000001,
            "count": 0
           },
           {
            "bin_start": 0.7000000000000001,
            "bin_end": 0.8,
            "count": 0
           },
           {
            "bin_start": 0.8,
            "bin_end": 0.9,
            "count": 0
           },
           {
            "bin_start": 0.9,
            "bin_end": 1,
            "count": 0
           }
          ]
         }
        },
        {
         "name": "HUC_8_NAME_Butte",
         "dtype": "uint8",
         "stats": {
          "unique_count": 0,
          "nan_count": 0,
          "min": null,
          "max": null,
          "histogram": [
           {
            "bin_start": 0,
            "bin_end": 0.1,
            "count": 0
           },
           {
            "bin_start": 0.1,
            "bin_end": 0.2,
            "count": 0
           },
           {
            "bin_start": 0.2,
            "bin_end": 0.30000000000000004,
            "count": 0
           },
           {
            "bin_start": 0.30000000000000004,
            "bin_end": 0.4,
            "count": 0
           },
           {
            "bin_start": 0.4,
            "bin_end": 0.5,
            "count": 0
           },
           {
            "bin_start": 0.5,
            "bin_end": 0.6000000000000001,
            "count": 0
           },
           {
            "bin_start": 0.6000000000000001,
            "bin_end": 0.7000000000000001,
            "count": 0
           },
           {
            "bin_start": 0.7000000000000001,
            "bin_end": 0.8,
            "count": 0
           },
           {
            "bin_start": 0.8,
            "bin_end": 0.9,
            "count": 0
           },
           {
            "bin_start": 0.9,
            "bin_end": 1,
            "count": 0
           }
          ]
         }
        },
        {
         "name": "HUC_8_NAME_Butte Creek",
         "dtype": "uint8",
         "stats": {
          "unique_count": 0,
          "nan_count": 0,
          "min": null,
          "max": null,
          "histogram": [
           {
            "bin_start": 0,
            "bin_end": 0.1,
            "count": 0
           },
           {
            "bin_start": 0.1,
            "bin_end": 0.2,
            "count": 0
           },
           {
            "bin_start": 0.2,
            "bin_end": 0.30000000000000004,
            "count": 0
           },
           {
            "bin_start": 0.30000000000000004,
            "bin_end": 0.4,
            "count": 0
           },
           {
            "bin_start": 0.4,
            "bin_end": 0.5,
            "count": 0
           },
           {
            "bin_start": 0.5,
            "bin_end": 0.6000000000000001,
            "count": 0
           },
           {
            "bin_start": 0.6000000000000001,
            "bin_end": 0.7000000000000001,
            "count": 0
           },
           {
            "bin_start": 0.7000000000000001,
            "bin_end": 0.8,
            "count": 0
           },
           {
            "bin_start": 0.8,
            "bin_end": 0.9,
            "count": 0
           },
           {
            "bin_start": 0.9,
            "bin_end": 1,
            "count": 0
           }
          ]
         }
        },
        {
         "name": "HUC_8_NAME_Calleguas",
         "dtype": "uint8",
         "stats": {
          "unique_count": 0,
          "nan_count": 0,
          "min": null,
          "max": null,
          "histogram": [
           {
            "bin_start": 0,
            "bin_end": 0.1,
            "count": 0
           },
           {
            "bin_start": 0.1,
            "bin_end": 0.2,
            "count": 0
           },
           {
            "bin_start": 0.2,
            "bin_end": 0.30000000000000004,
            "count": 0
           },
           {
            "bin_start": 0.30000000000000004,
            "bin_end": 0.4,
            "count": 0
           },
           {
            "bin_start": 0.4,
            "bin_end": 0.5,
            "count": 0
           },
           {
            "bin_start": 0.5,
            "bin_end": 0.6000000000000001,
            "count": 0
           },
           {
            "bin_start": 0.6000000000000001,
            "bin_end": 0.7000000000000001,
            "count": 0
           },
           {
            "bin_start": 0.7000000000000001,
            "bin_end": 0.8,
            "count": 0
           },
           {
            "bin_start": 0.8,
            "bin_end": 0.9,
            "count": 0
           },
           {
            "bin_start": 0.9,
            "bin_end": 1,
            "count": 0
           }
          ]
         }
        },
        {
         "name": "HUC_8_NAME_Carrizo Creek",
         "dtype": "uint8",
         "stats": {
          "unique_count": 0,
          "nan_count": 0,
          "min": null,
          "max": null,
          "histogram": [
           {
            "bin_start": 0,
            "bin_end": 0.1,
            "count": 0
           },
           {
            "bin_start": 0.1,
            "bin_end": 0.2,
            "count": 0
           },
           {
            "bin_start": 0.2,
            "bin_end": 0.30000000000000004,
            "count": 0
           },
           {
            "bin_start": 0.30000000000000004,
            "bin_end": 0.4,
            "count": 0
           },
           {
            "bin_start": 0.4,
            "bin_end": 0.5,
            "count": 0
           },
           {
            "bin_start": 0.5,
            "bin_end": 0.6000000000000001,
            "count": 0
           },
           {
            "bin_start": 0.6000000000000001,
            "bin_end": 0.7000000000000001,
            "count": 0
           },
           {
            "bin_start": 0.7000000000000001,
            "bin_end": 0.8,
            "count": 0
           },
           {
            "bin_start": 0.8,
            "bin_end": 0.9,
            "count": 0
           },
           {
            "bin_start": 0.9,
            "bin_end": 1,
            "count": 0
           }
          ]
         }
        },
        {
         "name": "HUC_8_NAME_Carrizo Plain",
         "dtype": "uint8",
         "stats": {
          "unique_count": 0,
          "nan_count": 0,
          "min": null,
          "max": null,
          "histogram": [
           {
            "bin_start": 0,
            "bin_end": 0.1,
            "count": 0
           },
           {
            "bin_start": 0.1,
            "bin_end": 0.2,
            "count": 0
           },
           {
            "bin_start": 0.2,
            "bin_end": 0.30000000000000004,
            "count": 0
           },
           {
            "bin_start": 0.30000000000000004,
            "bin_end": 0.4,
            "count": 0
           },
           {
            "bin_start": 0.4,
            "bin_end": 0.5,
            "count": 0
           },
           {
            "bin_start": 0.5,
            "bin_end": 0.6000000000000001,
            "count": 0
           },
           {
            "bin_start": 0.6000000000000001,
            "bin_end": 0.7000000000000001,
            "count": 0
           },
           {
            "bin_start": 0.7000000000000001,
            "bin_end": 0.8,
            "count": 0
           },
           {
            "bin_start": 0.8,
            "bin_end": 0.9,
            "count": 0
           },
           {
            "bin_start": 0.9,
            "bin_end": 1,
            "count": 0
           }
          ]
         }
        },
        {
         "name": "HUC_8_NAME_Central Coastal",
         "dtype": "uint8",
         "stats": {
          "unique_count": 0,
          "nan_count": 0,
          "min": null,
          "max": null,
          "histogram": [
           {
            "bin_start": 0,
            "bin_end": 0.1,
            "count": 0
           },
           {
            "bin_start": 0.1,
            "bin_end": 0.2,
            "count": 0
           },
           {
            "bin_start": 0.2,
            "bin_end": 0.30000000000000004,
            "count": 0
           },
           {
            "bin_start": 0.30000000000000004,
            "bin_end": 0.4,
            "count": 0
           },
           {
            "bin_start": 0.4,
            "bin_end": 0.5,
            "count": 0
           },
           {
            "bin_start": 0.5,
            "bin_end": 0.6000000000000001,
            "count": 0
           },
           {
            "bin_start": 0.6000000000000001,
            "bin_end": 0.7000000000000001,
            "count": 0
           },
           {
            "bin_start": 0.7000000000000001,
            "bin_end": 0.8,
            "count": 0
           },
           {
            "bin_start": 0.8,
            "bin_end": 0.9,
            "count": 0
           },
           {
            "bin_start": 0.9,
            "bin_end": 1,
            "count": 0
           }
          ]
         }
        },
        {
         "name": "HUC_8_NAME_Chetco",
         "dtype": "uint8",
         "stats": {
          "unique_count": 0,
          "nan_count": 0,
          "min": null,
          "max": null,
          "histogram": [
           {
            "bin_start": 0,
            "bin_end": 0.1,
            "count": 0
           },
           {
            "bin_start": 0.1,
            "bin_end": 0.2,
            "count": 0
           },
           {
            "bin_start": 0.2,
            "bin_end": 0.30000000000000004,
            "count": 0
           },
           {
            "bin_start": 0.30000000000000004,
            "bin_end": 0.4,
            "count": 0
           },
           {
            "bin_start": 0.4,
            "bin_end": 0.5,
            "count": 0
           },
           {
            "bin_start": 0.5,
            "bin_end": 0.6000000000000001,
            "count": 0
           },
           {
            "bin_start": 0.6000000000000001,
            "bin_end": 0.7000000000000001,
            "count": 0
           },
           {
            "bin_start": 0.7000000000000001,
            "bin_end": 0.8,
            "count": 0
           },
           {
            "bin_start": 0.8,
            "bin_end": 0.9,
            "count": 0
           },
           {
            "bin_start": 0.9,
            "bin_end": 1,
            "count": 0
           }
          ]
         }
        },
        {
         "name": "HUC_8_NAME_Clear Creek-Sacramento River",
         "dtype": "uint8",
         "stats": {
          "unique_count": 0,
          "nan_count": 0,
          "min": null,
          "max": null,
          "histogram": [
           {
            "bin_start": 0,
            "bin_end": 0.1,
            "count": 0
           },
           {
            "bin_start": 0.1,
            "bin_end": 0.2,
            "count": 0
           },
           {
            "bin_start": 0.2,
            "bin_end": 0.30000000000000004,
            "count": 0
           },
           {
            "bin_start": 0.30000000000000004,
            "bin_end": 0.4,
            "count": 0
           },
           {
            "bin_start": 0.4,
            "bin_end": 0.5,
            "count": 0
           },
           {
            "bin_start": 0.5,
            "bin_end": 0.6000000000000001,
            "count": 0
           },
           {
            "bin_start": 0.6000000000000001,
            "bin_end": 0.7000000000000001,
            "count": 0
           },
           {
            "bin_start": 0.7000000000000001,
            "bin_end": 0.8,
            "count": 0
           },
           {
            "bin_start": 0.8,
            "bin_end": 0.9,
            "count": 0
           },
           {
            "bin_start": 0.9,
            "bin_end": 1,
            "count": 0
           }
          ]
         }
        },
        {
         "name": "HUC_8_NAME_Cottonwood Creek",
         "dtype": "uint8",
         "stats": {
          "unique_count": 0,
          "nan_count": 0,
          "min": null,
          "max": null,
          "histogram": [
           {
            "bin_start": 0,
            "bin_end": 0.1,
            "count": 0
           },
           {
            "bin_start": 0.1,
            "bin_end": 0.2,
            "count": 0
           },
           {
            "bin_start": 0.2,
            "bin_end": 0.30000000000000004,
            "count": 0
           },
           {
            "bin_start": 0.30000000000000004,
            "bin_end": 0.4,
            "count": 0
           },
           {
            "bin_start": 0.4,
            "bin_end": 0.5,
            "count": 0
           },
           {
            "bin_start": 0.5,
            "bin_end": 0.6000000000000001,
            "count": 0
           },
           {
            "bin_start": 0.6000000000000001,
            "bin_end": 0.7000000000000001,
            "count": 0
           },
           {
            "bin_start": 0.7000000000000001,
            "bin_end": 0.8,
            "count": 0
           },
           {
            "bin_start": 0.8,
            "bin_end": 0.9,
            "count": 0
           },
           {
            "bin_start": 0.9,
            "bin_end": 1,
            "count": 0
           }
          ]
         }
        },
        {
         "name": "HUC_8_NAME_Cottonwood-Tijuana",
         "dtype": "uint8",
         "stats": {
          "unique_count": 0,
          "nan_count": 0,
          "min": null,
          "max": null,
          "histogram": [
           {
            "bin_start": 0,
            "bin_end": 0.1,
            "count": 0
           },
           {
            "bin_start": 0.1,
            "bin_end": 0.2,
            "count": 0
           },
           {
            "bin_start": 0.2,
            "bin_end": 0.30000000000000004,
            "count": 0
           },
           {
            "bin_start": 0.30000000000000004,
            "bin_end": 0.4,
            "count": 0
           },
           {
            "bin_start": 0.4,
            "bin_end": 0.5,
            "count": 0
           },
           {
            "bin_start": 0.5,
            "bin_end": 0.6000000000000001,
            "count": 0
           },
           {
            "bin_start": 0.6000000000000001,
            "bin_end": 0.7000000000000001,
            "count": 0
           },
           {
            "bin_start": 0.7000000000000001,
            "bin_end": 0.8,
            "count": 0
           },
           {
            "bin_start": 0.8,
            "bin_end": 0.9,
            "count": 0
           },
           {
            "bin_start": 0.9,
            "bin_end": 1,
            "count": 0
           }
          ]
         }
        },
        {
         "name": "HUC_8_NAME_Cow Creek",
         "dtype": "uint8",
         "stats": {
          "unique_count": 0,
          "nan_count": 0,
          "min": null,
          "max": null,
          "histogram": [
           {
            "bin_start": 0,
            "bin_end": 0.1,
            "count": 0
           },
           {
            "bin_start": 0.1,
            "bin_end": 0.2,
            "count": 0
           },
           {
            "bin_start": 0.2,
            "bin_end": 0.30000000000000004,
            "count": 0
           },
           {
            "bin_start": 0.30000000000000004,
            "bin_end": 0.4,
            "count": 0
           },
           {
            "bin_start": 0.4,
            "bin_end": 0.5,
            "count": 0
           },
           {
            "bin_start": 0.5,
            "bin_end": 0.6000000000000001,
            "count": 0
           },
           {
            "bin_start": 0.6000000000000001,
            "bin_end": 0.7000000000000001,
            "count": 0
           },
           {
            "bin_start": 0.7000000000000001,
            "bin_end": 0.8,
            "count": 0
           },
           {
            "bin_start": 0.8,
            "bin_end": 0.9,
            "count": 0
           },
           {
            "bin_start": 0.9,
            "bin_end": 1,
            "count": 0
           }
          ]
         }
        },
        {
         "name": "HUC_8_NAME_Coyote",
         "dtype": "uint8",
         "stats": {
          "unique_count": 0,
          "nan_count": 0,
          "min": null,
          "max": null,
          "histogram": [
           {
            "bin_start": 0,
            "bin_end": 0.1,
            "count": 0
           },
           {
            "bin_start": 0.1,
            "bin_end": 0.2,
            "count": 0
           },
           {
            "bin_start": 0.2,
            "bin_end": 0.30000000000000004,
            "count": 0
           },
           {
            "bin_start": 0.30000000000000004,
            "bin_end": 0.4,
            "count": 0
           },
           {
            "bin_start": 0.4,
            "bin_end": 0.5,
            "count": 0
           },
           {
            "bin_start": 0.5,
            "bin_end": 0.6000000000000001,
            "count": 0
           },
           {
            "bin_start": 0.6000000000000001,
            "bin_end": 0.7000000000000001,
            "count": 0
           },
           {
            "bin_start": 0.7000000000000001,
            "bin_end": 0.8,
            "count": 0
           },
           {
            "bin_start": 0.8,
            "bin_end": 0.9,
            "count": 0
           },
           {
            "bin_start": 0.9,
            "bin_end": 1,
            "count": 0
           }
          ]
         }
        },
        {
         "name": "HUC_8_NAME_Coyote-Cuddeback Lakes",
         "dtype": "uint8",
         "stats": {
          "unique_count": 0,
          "nan_count": 0,
          "min": null,
          "max": null,
          "histogram": [
           {
            "bin_start": 0,
            "bin_end": 0.1,
            "count": 0
           },
           {
            "bin_start": 0.1,
            "bin_end": 0.2,
            "count": 0
           },
           {
            "bin_start": 0.2,
            "bin_end": 0.30000000000000004,
            "count": 0
           },
           {
            "bin_start": 0.30000000000000004,
            "bin_end": 0.4,
            "count": 0
           },
           {
            "bin_start": 0.4,
            "bin_end": 0.5,
            "count": 0
           },
           {
            "bin_start": 0.5,
            "bin_end": 0.6000000000000001,
            "count": 0
           },
           {
            "bin_start": 0.6000000000000001,
            "bin_end": 0.7000000000000001,
            "count": 0
           },
           {
            "bin_start": 0.7000000000000001,
            "bin_end": 0.8,
            "count": 0
           },
           {
            "bin_start": 0.8,
            "bin_end": 0.9,
            "count": 0
           },
           {
            "bin_start": 0.9,
            "bin_end": 1,
            "count": 0
           }
          ]
         }
        },
        {
         "name": "HUC_8_NAME_Crowley Lake",
         "dtype": "uint8",
         "stats": {
          "unique_count": 0,
          "nan_count": 0,
          "min": null,
          "max": null,
          "histogram": [
           {
            "bin_start": 0,
            "bin_end": 0.1,
            "count": 0
           },
           {
            "bin_start": 0.1,
            "bin_end": 0.2,
            "count": 0
           },
           {
            "bin_start": 0.2,
            "bin_end": 0.30000000000000004,
            "count": 0
           },
           {
            "bin_start": 0.30000000000000004,
            "bin_end": 0.4,
            "count": 0
           },
           {
            "bin_start": 0.4,
            "bin_end": 0.5,
            "count": 0
           },
           {
            "bin_start": 0.5,
            "bin_end": 0.6000000000000001,
            "count": 0
           },
           {
            "bin_start": 0.6000000000000001,
            "bin_end": 0.7000000000000001,
            "count": 0
           },
           {
            "bin_start": 0.7000000000000001,
            "bin_end": 0.8,
            "count": 0
           },
           {
            "bin_start": 0.8,
            "bin_end": 0.9,
            "count": 0
           },
           {
            "bin_start": 0.9,
            "bin_end": 1,
            "count": 0
           }
          ]
         }
        },
        {
         "name": "HUC_8_NAME_Cuyama",
         "dtype": "uint8",
         "stats": {
          "unique_count": 0,
          "nan_count": 0,
          "min": null,
          "max": null,
          "histogram": [
           {
            "bin_start": 0,
            "bin_end": 0.1,
            "count": 0
           },
           {
            "bin_start": 0.1,
            "bin_end": 0.2,
            "count": 0
           },
           {
            "bin_start": 0.2,
            "bin_end": 0.30000000000000004,
            "count": 0
           },
           {
            "bin_start": 0.30000000000000004,
            "bin_end": 0.4,
            "count": 0
           },
           {
            "bin_start": 0.4,
            "bin_end": 0.5,
            "count": 0
           },
           {
            "bin_start": 0.5,
            "bin_end": 0.6000000000000001,
            "count": 0
           },
           {
            "bin_start": 0.6000000000000001,
            "bin_end": 0.7000000000000001,
            "count": 0
           },
           {
            "bin_start": 0.7000000000000001,
            "bin_end": 0.8,
            "count": 0
           },
           {
            "bin_start": 0.8,
            "bin_end": 0.9,
            "count": 0
           },
           {
            "bin_start": 0.9,
            "bin_end": 1,
            "count": 0
           }
          ]
         }
        },
        {
         "name": "HUC_8_NAME_Death Valley-Lower Amargosa",
         "dtype": "uint8",
         "stats": {
          "unique_count": 0,
          "nan_count": 0,
          "min": null,
          "max": null,
          "histogram": [
           {
            "bin_start": 0,
            "bin_end": 0.1,
            "count": 0
           },
           {
            "bin_start": 0.1,
            "bin_end": 0.2,
            "count": 0
           },
           {
            "bin_start": 0.2,
            "bin_end": 0.30000000000000004,
            "count": 0
           },
           {
            "bin_start": 0.30000000000000004,
            "bin_end": 0.4,
            "count": 0
           },
           {
            "bin_start": 0.4,
            "bin_end": 0.5,
            "count": 0
           },
           {
            "bin_start": 0.5,
            "bin_end": 0.6000000000000001,
            "count": 0
           },
           {
            "bin_start": 0.6000000000000001,
            "bin_end": 0.7000000000000001,
            "count": 0
           },
           {
            "bin_start": 0.7000000000000001,
            "bin_end": 0.8,
            "count": 0
           },
           {
            "bin_start": 0.8,
            "bin_end": 0.9,
            "count": 0
           },
           {
            "bin_start": 0.9,
            "bin_end": 1,
            "count": 0
           }
          ]
         }
        },
        {
         "name": "HUC_8_NAME_East Branch North Fork Feather",
         "dtype": "uint8",
         "stats": {
          "unique_count": 0,
          "nan_count": 0,
          "min": null,
          "max": null,
          "histogram": [
           {
            "bin_start": 0,
            "bin_end": 0.1,
            "count": 0
           },
           {
            "bin_start": 0.1,
            "bin_end": 0.2,
            "count": 0
           },
           {
            "bin_start": 0.2,
            "bin_end": 0.30000000000000004,
            "count": 0
           },
           {
            "bin_start": 0.30000000000000004,
            "bin_end": 0.4,
            "count": 0
           },
           {
            "bin_start": 0.4,
            "bin_end": 0.5,
            "count": 0
           },
           {
            "bin_start": 0.5,
            "bin_end": 0.6000000000000001,
            "count": 0
           },
           {
            "bin_start": 0.6000000000000001,
            "bin_end": 0.7000000000000001,
            "count": 0
           },
           {
            "bin_start": 0.7000000000000001,
            "bin_end": 0.8,
            "count": 0
           },
           {
            "bin_start": 0.8,
            "bin_end": 0.9,
            "count": 0
           },
           {
            "bin_start": 0.9,
            "bin_end": 1,
            "count": 0
           }
          ]
         }
        },
        {
         "name": "HUC_8_NAME_East Walker",
         "dtype": "uint8",
         "stats": {
          "unique_count": 0,
          "nan_count": 0,
          "min": null,
          "max": null,
          "histogram": [
           {
            "bin_start": 0,
            "bin_end": 0.1,
            "count": 0
           },
           {
            "bin_start": 0.1,
            "bin_end": 0.2,
            "count": 0
           },
           {
            "bin_start": 0.2,
            "bin_end": 0.30000000000000004,
            "count": 0
           },
           {
            "bin_start": 0.30000000000000004,
            "bin_end": 0.4,
            "count": 0
           },
           {
            "bin_start": 0.4,
            "bin_end": 0.5,
            "count": 0
           },
           {
            "bin_start": 0.5,
            "bin_end": 0.6000000000000001,
            "count": 0
           },
           {
            "bin_start": 0.6000000000000001,
            "bin_end": 0.7000000000000001,
            "count": 0
           },
           {
            "bin_start": 0.7000000000000001,
            "bin_end": 0.8,
            "count": 0
           },
           {
            "bin_start": 0.8,
            "bin_end": 0.9,
            "count": 0
           },
           {
            "bin_start": 0.9,
            "bin_end": 1,
            "count": 0
           }
          ]
         }
        },
        {
         "name": "HUC_8_NAME_Estrella",
         "dtype": "uint8",
         "stats": {
          "unique_count": 0,
          "nan_count": 0,
          "min": null,
          "max": null,
          "histogram": [
           {
            "bin_start": 0,
            "bin_end": 0.1,
            "count": 0
           },
           {
            "bin_start": 0.1,
            "bin_end": 0.2,
            "count": 0
           },
           {
            "bin_start": 0.2,
            "bin_end": 0.30000000000000004,
            "count": 0
           },
           {
            "bin_start": 0.30000000000000004,
            "bin_end": 0.4,
            "count": 0
           },
           {
            "bin_start": 0.4,
            "bin_end": 0.5,
            "count": 0
           },
           {
            "bin_start": 0.5,
            "bin_end": 0.6000000000000001,
            "count": 0
           },
           {
            "bin_start": 0.6000000000000001,
            "bin_end": 0.7000000000000001,
            "count": 0
           },
           {
            "bin_start": 0.7000000000000001,
            "bin_end": 0.8,
            "count": 0
           },
           {
            "bin_start": 0.8,
            "bin_end": 0.9,
            "count": 0
           },
           {
            "bin_start": 0.9,
            "bin_end": 1,
            "count": 0
           }
          ]
         }
        },
        {
         "name": "HUC_8_NAME_Eureka-Saline Valleys",
         "dtype": "uint8",
         "stats": {
          "unique_count": 0,
          "nan_count": 0,
          "min": null,
          "max": null,
          "histogram": [
           {
            "bin_start": 0,
            "bin_end": 0.1,
            "count": 0
           },
           {
            "bin_start": 0.1,
            "bin_end": 0.2,
            "count": 0
           },
           {
            "bin_start": 0.2,
            "bin_end": 0.30000000000000004,
            "count": 0
           },
           {
            "bin_start": 0.30000000000000004,
            "bin_end": 0.4,
            "count": 0
           },
           {
            "bin_start": 0.4,
            "bin_end": 0.5,
            "count": 0
           },
           {
            "bin_start": 0.5,
            "bin_end": 0.6000000000000001,
            "count": 0
           },
           {
            "bin_start": 0.6000000000000001,
            "bin_end": 0.7000000000000001,
            "count": 0
           },
           {
            "bin_start": 0.7000000000000001,
            "bin_end": 0.8,
            "count": 0
           },
           {
            "bin_start": 0.8,
            "bin_end": 0.9,
            "count": 0
           },
           {
            "bin_start": 0.9,
            "bin_end": 1,
            "count": 0
           }
          ]
         }
        },
        {
         "name": "HUC_8_NAME_Fish Lake-Soda Spring Valleys",
         "dtype": "uint8",
         "stats": {
          "unique_count": 0,
          "nan_count": 0,
          "min": null,
          "max": null,
          "histogram": [
           {
            "bin_start": 0,
            "bin_end": 0.1,
            "count": 0
           },
           {
            "bin_start": 0.1,
            "bin_end": 0.2,
            "count": 0
           },
           {
            "bin_start": 0.2,
            "bin_end": 0.30000000000000004,
            "count": 0
           },
           {
            "bin_start": 0.30000000000000004,
            "bin_end": 0.4,
            "count": 0
           },
           {
            "bin_start": 0.4,
            "bin_end": 0.5,
            "count": 0
           },
           {
            "bin_start": 0.5,
            "bin_end": 0.6000000000000001,
            "count": 0
           },
           {
            "bin_start": 0.6000000000000001,
            "bin_end": 0.7000000000000001,
            "count": 0
           },
           {
            "bin_start": 0.7000000000000001,
            "bin_end": 0.8,
            "count": 0
           },
           {
            "bin_start": 0.8,
            "bin_end": 0.9,
            "count": 0
           },
           {
            "bin_start": 0.9,
            "bin_end": 1,
            "count": 0
           }
          ]
         }
        },
        {
         "name": "HUC_8_NAME_Fresno River",
         "dtype": "uint8",
         "stats": {
          "unique_count": 0,
          "nan_count": 0,
          "min": null,
          "max": null,
          "histogram": [
           {
            "bin_start": 0,
            "bin_end": 0.1,
            "count": 0
           },
           {
            "bin_start": 0.1,
            "bin_end": 0.2,
            "count": 0
           },
           {
            "bin_start": 0.2,
            "bin_end": 0.30000000000000004,
            "count": 0
           },
           {
            "bin_start": 0.30000000000000004,
            "bin_end": 0.4,
            "count": 0
           },
           {
            "bin_start": 0.4,
            "bin_end": 0.5,
            "count": 0
           },
           {
            "bin_start": 0.5,
            "bin_end": 0.6000000000000001,
            "count": 0
           },
           {
            "bin_start": 0.6000000000000001,
            "bin_end": 0.7000000000000001,
            "count": 0
           },
           {
            "bin_start": 0.7000000000000001,
            "bin_end": 0.8,
            "count": 0
           },
           {
            "bin_start": 0.8,
            "bin_end": 0.9,
            "count": 0
           },
           {
            "bin_start": 0.9,
            "bin_end": 1,
            "count": 0
           }
          ]
         }
        },
        {
         "name": "HUC_8_NAME_Goose Lake",
         "dtype": "uint8",
         "stats": {
          "unique_count": 0,
          "nan_count": 0,
          "min": null,
          "max": null,
          "histogram": [
           {
            "bin_start": 0,
            "bin_end": 0.1,
            "count": 0
           },
           {
            "bin_start": 0.1,
            "bin_end": 0.2,
            "count": 0
           },
           {
            "bin_start": 0.2,
            "bin_end": 0.30000000000000004,
            "count": 0
           },
           {
            "bin_start": 0.30000000000000004,
            "bin_end": 0.4,
            "count": 0
           },
           {
            "bin_start": 0.4,
            "bin_end": 0.5,
            "count": 0
           },
           {
            "bin_start": 0.5,
            "bin_end": 0.6000000000000001,
            "count": 0
           },
           {
            "bin_start": 0.6000000000000001,
            "bin_end": 0.7000000000000001,
            "count": 0
           },
           {
            "bin_start": 0.7000000000000001,
            "bin_end": 0.8,
            "count": 0
           },
           {
            "bin_start": 0.8,
            "bin_end": 0.9,
            "count": 0
           },
           {
            "bin_start": 0.9,
            "bin_end": 1,
            "count": 0
           }
          ]
         }
        },
        {
         "name": "HUC_8_NAME_Gualala-Salmon",
         "dtype": "uint8",
         "stats": {
          "unique_count": 0,
          "nan_count": 0,
          "min": null,
          "max": null,
          "histogram": [
           {
            "bin_start": 0,
            "bin_end": 0.1,
            "count": 0
           },
           {
            "bin_start": 0.1,
            "bin_end": 0.2,
            "count": 0
           },
           {
            "bin_start": 0.2,
            "bin_end": 0.30000000000000004,
            "count": 0
           },
           {
            "bin_start": 0.30000000000000004,
            "bin_end": 0.4,
            "count": 0
           },
           {
            "bin_start": 0.4,
            "bin_end": 0.5,
            "count": 0
           },
           {
            "bin_start": 0.5,
            "bin_end": 0.6000000000000001,
            "count": 0
           },
           {
            "bin_start": 0.6000000000000001,
            "bin_end": 0.7000000000000001,
            "count": 0
           },
           {
            "bin_start": 0.7000000000000001,
            "bin_end": 0.8,
            "count": 0
           },
           {
            "bin_start": 0.8,
            "bin_end": 0.9,
            "count": 0
           },
           {
            "bin_start": 0.9,
            "bin_end": 1,
            "count": 0
           }
          ]
         }
        },
        {
         "name": "HUC_8_NAME_Havasu-Mohave Lakes",
         "dtype": "uint8",
         "stats": {
          "unique_count": 0,
          "nan_count": 0,
          "min": null,
          "max": null,
          "histogram": [
           {
            "bin_start": 0,
            "bin_end": 0.1,
            "count": 0
           },
           {
            "bin_start": 0.1,
            "bin_end": 0.2,
            "count": 0
           },
           {
            "bin_start": 0.2,
            "bin_end": 0.30000000000000004,
            "count": 0
           },
           {
            "bin_start": 0.30000000000000004,
            "bin_end": 0.4,
            "count": 0
           },
           {
            "bin_start": 0.4,
            "bin_end": 0.5,
            "count": 0
           },
           {
            "bin_start": 0.5,
            "bin_end": 0.6000000000000001,
            "count": 0
           },
           {
            "bin_start": 0.6000000000000001,
            "bin_end": 0.7000000000000001,
            "count": 0
           },
           {
            "bin_start": 0.7000000000000001,
            "bin_end": 0.8,
            "count": 0
           },
           {
            "bin_start": 0.8,
            "bin_end": 0.9,
            "count": 0
           },
           {
            "bin_start": 0.9,
            "bin_end": 1,
            "count": 0
           }
          ]
         }
        },
        {
         "name": "HUC_8_NAME_Honcut Headwaters-Lower Feather",
         "dtype": "uint8",
         "stats": {
          "unique_count": 0,
          "nan_count": 0,
          "min": null,
          "max": null,
          "histogram": [
           {
            "bin_start": 0,
            "bin_end": 0.1,
            "count": 0
           },
           {
            "bin_start": 0.1,
            "bin_end": 0.2,
            "count": 0
           },
           {
            "bin_start": 0.2,
            "bin_end": 0.30000000000000004,
            "count": 0
           },
           {
            "bin_start": 0.30000000000000004,
            "bin_end": 0.4,
            "count": 0
           },
           {
            "bin_start": 0.4,
            "bin_end": 0.5,
            "count": 0
           },
           {
            "bin_start": 0.5,
            "bin_end": 0.6000000000000001,
            "count": 0
           },
           {
            "bin_start": 0.6000000000000001,
            "bin_end": 0.7000000000000001,
            "count": 0
           },
           {
            "bin_start": 0.7000000000000001,
            "bin_end": 0.8,
            "count": 0
           },
           {
            "bin_start": 0.8,
            "bin_end": 0.9,
            "count": 0
           },
           {
            "bin_start": 0.9,
            "bin_end": 1,
            "count": 0
           }
          ]
         }
        },
        {
         "name": "HUC_8_NAME_Honey-Eagle Lakes",
         "dtype": "uint8",
         "stats": {
          "unique_count": 0,
          "nan_count": 0,
          "min": null,
          "max": null,
          "histogram": [
           {
            "bin_start": 0,
            "bin_end": 0.1,
            "count": 0
           },
           {
            "bin_start": 0.1,
            "bin_end": 0.2,
            "count": 0
           },
           {
            "bin_start": 0.2,
            "bin_end": 0.30000000000000004,
            "count": 0
           },
           {
            "bin_start": 0.30000000000000004,
            "bin_end": 0.4,
            "count": 0
           },
           {
            "bin_start": 0.4,
            "bin_end": 0.5,
            "count": 0
           },
           {
            "bin_start": 0.5,
            "bin_end": 0.6000000000000001,
            "count": 0
           },
           {
            "bin_start": 0.6000000000000001,
            "bin_end": 0.7000000000000001,
            "count": 0
           },
           {
            "bin_start": 0.7000000000000001,
            "bin_end": 0.8,
            "count": 0
           },
           {
            "bin_start": 0.8,
            "bin_end": 0.9,
            "count": 0
           },
           {
            "bin_start": 0.9,
            "bin_end": 1,
            "count": 0
           }
          ]
         }
        },
        {
         "name": "HUC_8_NAME_Illinois",
         "dtype": "uint8",
         "stats": {
          "unique_count": 0,
          "nan_count": 0,
          "min": null,
          "max": null,
          "histogram": [
           {
            "bin_start": 0,
            "bin_end": 0.1,
            "count": 0
           },
           {
            "bin_start": 0.1,
            "bin_end": 0.2,
            "count": 0
           },
           {
            "bin_start": 0.2,
            "bin_end": 0.30000000000000004,
            "count": 0
           },
           {
            "bin_start": 0.30000000000000004,
            "bin_end": 0.4,
            "count": 0
           },
           {
            "bin_start": 0.4,
            "bin_end": 0.5,
            "count": 0
           },
           {
            "bin_start": 0.5,
            "bin_end": 0.6000000000000001,
            "count": 0
           },
           {
            "bin_start": 0.6000000000000001,
            "bin_end": 0.7000000000000001,
            "count": 0
           },
           {
            "bin_start": 0.7000000000000001,
            "bin_end": 0.8,
            "count": 0
           },
           {
            "bin_start": 0.8,
            "bin_end": 0.9,
            "count": 0
           },
           {
            "bin_start": 0.9,
            "bin_end": 1,
            "count": 0
           }
          ]
         }
        },
        {
         "name": "HUC_8_NAME_Imperial Reservoir",
         "dtype": "uint8",
         "stats": {
          "unique_count": 0,
          "nan_count": 0,
          "min": null,
          "max": null,
          "histogram": [
           {
            "bin_start": 0,
            "bin_end": 0.1,
            "count": 0
           },
           {
            "bin_start": 0.1,
            "bin_end": 0.2,
            "count": 0
           },
           {
            "bin_start": 0.2,
            "bin_end": 0.30000000000000004,
            "count": 0
           },
           {
            "bin_start": 0.30000000000000004,
            "bin_end": 0.4,
            "count": 0
           },
           {
            "bin_start": 0.4,
            "bin_end": 0.5,
            "count": 0
           },
           {
            "bin_start": 0.5,
            "bin_end": 0.6000000000000001,
            "count": 0
           },
           {
            "bin_start": 0.6000000000000001,
            "bin_end": 0.7000000000000001,
            "count": 0
           },
           {
            "bin_start": 0.7000000000000001,
            "bin_end": 0.8,
            "count": 0
           },
           {
            "bin_start": 0.8,
            "bin_end": 0.9,
            "count": 0
           },
           {
            "bin_start": 0.9,
            "bin_end": 1,
            "count": 0
           }
          ]
         }
        },
        {
         "name": "HUC_8_NAME_Indian Wells-Searles Valleys",
         "dtype": "uint8",
         "stats": {
          "unique_count": 0,
          "nan_count": 0,
          "min": null,
          "max": null,
          "histogram": [
           {
            "bin_start": 0,
            "bin_end": 0.1,
            "count": 0
           },
           {
            "bin_start": 0.1,
            "bin_end": 0.2,
            "count": 0
           },
           {
            "bin_start": 0.2,
            "bin_end": 0.30000000000000004,
            "count": 0
           },
           {
            "bin_start": 0.30000000000000004,
            "bin_end": 0.4,
            "count": 0
           },
           {
            "bin_start": 0.4,
            "bin_end": 0.5,
            "count": 0
           },
           {
            "bin_start": 0.5,
            "bin_end": 0.6000000000000001,
            "count": 0
           },
           {
            "bin_start": 0.6000000000000001,
            "bin_end": 0.7000000000000001,
            "count": 0
           },
           {
            "bin_start": 0.7000000000000001,
            "bin_end": 0.8,
            "count": 0
           },
           {
            "bin_start": 0.8,
            "bin_end": 0.9,
            "count": 0
           },
           {
            "bin_start": 0.9,
            "bin_end": 1,
            "count": 0
           }
          ]
         }
        },
        {
         "name": "HUC_8_NAME_Ivanpah-Pahrump Valleys",
         "dtype": "uint8",
         "stats": {
          "unique_count": 0,
          "nan_count": 0,
          "min": null,
          "max": null,
          "histogram": [
           {
            "bin_start": 0,
            "bin_end": 0.1,
            "count": 0
           },
           {
            "bin_start": 0.1,
            "bin_end": 0.2,
            "count": 0
           },
           {
            "bin_start": 0.2,
            "bin_end": 0.30000000000000004,
            "count": 0
           },
           {
            "bin_start": 0.30000000000000004,
            "bin_end": 0.4,
            "count": 0
           },
           {
            "bin_start": 0.4,
            "bin_end": 0.5,
            "count": 0
           },
           {
            "bin_start": 0.5,
            "bin_end": 0.6000000000000001,
            "count": 0
           },
           {
            "bin_start": 0.6000000000000001,
            "bin_end": 0.7000000000000001,
            "count": 0
           },
           {
            "bin_start": 0.7000000000000001,
            "bin_end": 0.8,
            "count": 0
           },
           {
            "bin_start": 0.8,
            "bin_end": 0.9,
            "count": 0
           },
           {
            "bin_start": 0.9,
            "bin_end": 1,
            "count": 0
           }
          ]
         }
        },
        {
         "name": "HUC_8_NAME_Lake Tahoe",
         "dtype": "uint8",
         "stats": {
          "unique_count": 0,
          "nan_count": 0,
          "min": null,
          "max": null,
          "histogram": [
           {
            "bin_start": 0,
            "bin_end": 0.1,
            "count": 0
           },
           {
            "bin_start": 0.1,
            "bin_end": 0.2,
            "count": 0
           },
           {
            "bin_start": 0.2,
            "bin_end": 0.30000000000000004,
            "count": 0
           },
           {
            "bin_start": 0.30000000000000004,
            "bin_end": 0.4,
            "count": 0
           },
           {
            "bin_start": 0.4,
            "bin_end": 0.5,
            "count": 0
           },
           {
            "bin_start": 0.5,
            "bin_end": 0.6000000000000001,
            "count": 0
           },
           {
            "bin_start": 0.6000000000000001,
            "bin_end": 0.7000000000000001,
            "count": 0
           },
           {
            "bin_start": 0.7000000000000001,
            "bin_end": 0.8,
            "count": 0
           },
           {
            "bin_start": 0.8,
            "bin_end": 0.9,
            "count": 0
           },
           {
            "bin_start": 0.9,
            "bin_end": 1,
            "count": 0
           }
          ]
         }
        },
        {
         "name": "HUC_8_NAME_Los Angeles",
         "dtype": "uint8",
         "stats": {
          "unique_count": 0,
          "nan_count": 0,
          "min": null,
          "max": null,
          "histogram": [
           {
            "bin_start": 0,
            "bin_end": 0.1,
            "count": 0
           },
           {
            "bin_start": 0.1,
            "bin_end": 0.2,
            "count": 0
           },
           {
            "bin_start": 0.2,
            "bin_end": 0.30000000000000004,
            "count": 0
           },
           {
            "bin_start": 0.30000000000000004,
            "bin_end": 0.4,
            "count": 0
           },
           {
            "bin_start": 0.4,
            "bin_end": 0.5,
            "count": 0
           },
           {
            "bin_start": 0.5,
            "bin_end": 0.6000000000000001,
            "count": 0
           },
           {
            "bin_start": 0.6000000000000001,
            "bin_end": 0.7000000000000001,
            "count": 0
           },
           {
            "bin_start": 0.7000000000000001,
            "bin_end": 0.8,
            "count": 0
           },
           {
            "bin_start": 0.8,
            "bin_end": 0.9,
            "count": 0
           },
           {
            "bin_start": 0.9,
            "bin_end": 1,
            "count": 0
           }
          ]
         }
        },
        {
         "name": "HUC_8_NAME_Lost",
         "dtype": "uint8",
         "stats": {
          "unique_count": 0,
          "nan_count": 0,
          "min": null,
          "max": null,
          "histogram": [
           {
            "bin_start": 0,
            "bin_end": 0.1,
            "count": 0
           },
           {
            "bin_start": 0.1,
            "bin_end": 0.2,
            "count": 0
           },
           {
            "bin_start": 0.2,
            "bin_end": 0.30000000000000004,
            "count": 0
           },
           {
            "bin_start": 0.30000000000000004,
            "bin_end": 0.4,
            "count": 0
           },
           {
            "bin_start": 0.4,
            "bin_end": 0.5,
            "count": 0
           },
           {
            "bin_start": 0.5,
            "bin_end": 0.6000000000000001,
            "count": 0
           },
           {
            "bin_start": 0.6000000000000001,
            "bin_end": 0.7000000000000001,
            "count": 0
           },
           {
            "bin_start": 0.7000000000000001,
            "bin_end": 0.8,
            "count": 0
           },
           {
            "bin_start": 0.8,
            "bin_end": 0.9,
            "count": 0
           },
           {
            "bin_start": 0.9,
            "bin_end": 1,
            "count": 0
           }
          ]
         }
        },
        {
         "name": "HUC_8_NAME_Lower American",
         "dtype": "uint8",
         "stats": {
          "unique_count": 0,
          "nan_count": 0,
          "min": null,
          "max": null,
          "histogram": [
           {
            "bin_start": 0,
            "bin_end": 0.1,
            "count": 0
           },
           {
            "bin_start": 0.1,
            "bin_end": 0.2,
            "count": 0
           },
           {
            "bin_start": 0.2,
            "bin_end": 0.30000000000000004,
            "count": 0
           },
           {
            "bin_start": 0.30000000000000004,
            "bin_end": 0.4,
            "count": 0
           },
           {
            "bin_start": 0.4,
            "bin_end": 0.5,
            "count": 0
           },
           {
            "bin_start": 0.5,
            "bin_end": 0.6000000000000001,
            "count": 0
           },
           {
            "bin_start": 0.6000000000000001,
            "bin_end": 0.7000000000000001,
            "count": 0
           },
           {
            "bin_start": 0.7000000000000001,
            "bin_end": 0.8,
            "count": 0
           },
           {
            "bin_start": 0.8,
            "bin_end": 0.9,
            "count": 0
           },
           {
            "bin_start": 0.9,
            "bin_end": 1,
            "count": 0
           }
          ]
         }
        },
        {
         "name": "HUC_8_NAME_Lower Colorado",
         "dtype": "uint8",
         "stats": {
          "unique_count": 0,
          "nan_count": 0,
          "min": null,
          "max": null,
          "histogram": [
           {
            "bin_start": 0,
            "bin_end": 0.1,
            "count": 0
           },
           {
            "bin_start": 0.1,
            "bin_end": 0.2,
            "count": 0
           },
           {
            "bin_start": 0.2,
            "bin_end": 0.30000000000000004,
            "count": 0
           },
           {
            "bin_start": 0.30000000000000004,
            "bin_end": 0.4,
            "count": 0
           },
           {
            "bin_start": 0.4,
            "bin_end": 0.5,
            "count": 0
           },
           {
            "bin_start": 0.5,
            "bin_end": 0.6000000000000001,
            "count": 0
           },
           {
            "bin_start": 0.6000000000000001,
            "bin_end": 0.7000000000000001,
            "count": 0
           },
           {
            "bin_start": 0.7000000000000001,
            "bin_end": 0.8,
            "count": 0
           },
           {
            "bin_start": 0.8,
            "bin_end": 0.9,
            "count": 0
           },
           {
            "bin_start": 0.9,
            "bin_end": 1,
            "count": 0
           }
          ]
         }
        },
        {
         "name": "HUC_8_NAME_Lower Eel",
         "dtype": "uint8",
         "stats": {
          "unique_count": 0,
          "nan_count": 0,
          "min": null,
          "max": null,
          "histogram": [
           {
            "bin_start": 0,
            "bin_end": 0.1,
            "count": 0
           },
           {
            "bin_start": 0.1,
            "bin_end": 0.2,
            "count": 0
           },
           {
            "bin_start": 0.2,
            "bin_end": 0.30000000000000004,
            "count": 0
           },
           {
            "bin_start": 0.30000000000000004,
            "bin_end": 0.4,
            "count": 0
           },
           {
            "bin_start": 0.4,
            "bin_end": 0.5,
            "count": 0
           },
           {
            "bin_start": 0.5,
            "bin_end": 0.6000000000000001,
            "count": 0
           },
           {
            "bin_start": 0.6000000000000001,
            "bin_end": 0.7000000000000001,
            "count": 0
           },
           {
            "bin_start": 0.7000000000000001,
            "bin_end": 0.8,
            "count": 0
           },
           {
            "bin_start": 0.8,
            "bin_end": 0.9,
            "count": 0
           },
           {
            "bin_start": 0.9,
            "bin_end": 1,
            "count": 0
           }
          ]
         }
        },
        {
         "name": "HUC_8_NAME_Lower Klamath",
         "dtype": "uint8",
         "stats": {
          "unique_count": 0,
          "nan_count": 0,
          "min": null,
          "max": null,
          "histogram": [
           {
            "bin_start": 0,
            "bin_end": 0.1,
            "count": 0
           },
           {
            "bin_start": 0.1,
            "bin_end": 0.2,
            "count": 0
           },
           {
            "bin_start": 0.2,
            "bin_end": 0.30000000000000004,
            "count": 0
           },
           {
            "bin_start": 0.30000000000000004,
            "bin_end": 0.4,
            "count": 0
           },
           {
            "bin_start": 0.4,
            "bin_end": 0.5,
            "count": 0
           },
           {
            "bin_start": 0.5,
            "bin_end": 0.6000000000000001,
            "count": 0
           },
           {
            "bin_start": 0.6000000000000001,
            "bin_end": 0.7000000000000001,
            "count": 0
           },
           {
            "bin_start": 0.7000000000000001,
            "bin_end": 0.8,
            "count": 0
           },
           {
            "bin_start": 0.8,
            "bin_end": 0.9,
            "count": 0
           },
           {
            "bin_start": 0.9,
            "bin_end": 1,
            "count": 0
           }
          ]
         }
        },
        {
         "name": "HUC_8_NAME_Lower Pit",
         "dtype": "uint8",
         "stats": {
          "unique_count": 0,
          "nan_count": 0,
          "min": null,
          "max": null,
          "histogram": [
           {
            "bin_start": 0,
            "bin_end": 0.1,
            "count": 0
           },
           {
            "bin_start": 0.1,
            "bin_end": 0.2,
            "count": 0
           },
           {
            "bin_start": 0.2,
            "bin_end": 0.30000000000000004,
            "count": 0
           },
           {
            "bin_start": 0.30000000000000004,
            "bin_end": 0.4,
            "count": 0
           },
           {
            "bin_start": 0.4,
            "bin_end": 0.5,
            "count": 0
           },
           {
            "bin_start": 0.5,
            "bin_end": 0.6000000000000001,
            "count": 0
           },
           {
            "bin_start": 0.6000000000000001,
            "bin_end": 0.7000000000000001,
            "count": 0
           },
           {
            "bin_start": 0.7000000000000001,
            "bin_end": 0.8,
            "count": 0
           },
           {
            "bin_start": 0.8,
            "bin_end": 0.9,
            "count": 0
           },
           {
            "bin_start": 0.9,
            "bin_end": 1,
            "count": 0
           }
          ]
         }
        },
        {
         "name": "HUC_8_NAME_Lower Sacramento",
         "dtype": "uint8",
         "stats": {
          "unique_count": 0,
          "nan_count": 0,
          "min": null,
          "max": null,
          "histogram": [
           {
            "bin_start": 0,
            "bin_end": 0.1,
            "count": 0
           },
           {
            "bin_start": 0.1,
            "bin_end": 0.2,
            "count": 0
           },
           {
            "bin_start": 0.2,
            "bin_end": 0.30000000000000004,
            "count": 0
           },
           {
            "bin_start": 0.30000000000000004,
            "bin_end": 0.4,
            "count": 0
           },
           {
            "bin_start": 0.4,
            "bin_end": 0.5,
            "count": 0
           },
           {
            "bin_start": 0.5,
            "bin_end": 0.6000000000000001,
            "count": 0
           },
           {
            "bin_start": 0.6000000000000001,
            "bin_end": 0.7000000000000001,
            "count": 0
           },
           {
            "bin_start": 0.7000000000000001,
            "bin_end": 0.8,
            "count": 0
           },
           {
            "bin_start": 0.8,
            "bin_end": 0.9,
            "count": 0
           },
           {
            "bin_start": 0.9,
            "bin_end": 1,
            "count": 0
           }
          ]
         }
        },
        {
         "name": "HUC_8_NAME_Lower San Joaquin River",
         "dtype": "uint8",
         "stats": {
          "unique_count": 0,
          "nan_count": 0,
          "min": null,
          "max": null,
          "histogram": [
           {
            "bin_start": 0,
            "bin_end": 0.1,
            "count": 0
           },
           {
            "bin_start": 0.1,
            "bin_end": 0.2,
            "count": 0
           },
           {
            "bin_start": 0.2,
            "bin_end": 0.30000000000000004,
            "count": 0
           },
           {
            "bin_start": 0.30000000000000004,
            "bin_end": 0.4,
            "count": 0
           },
           {
            "bin_start": 0.4,
            "bin_end": 0.5,
            "count": 0
           },
           {
            "bin_start": 0.5,
            "bin_end": 0.6000000000000001,
            "count": 0
           },
           {
            "bin_start": 0.6000000000000001,
            "bin_end": 0.7000000000000001,
            "count": 0
           },
           {
            "bin_start": 0.7000000000000001,
            "bin_end": 0.8,
            "count": 0
           },
           {
            "bin_start": 0.8,
            "bin_end": 0.9,
            "count": 0
           },
           {
            "bin_start": 0.9,
            "bin_end": 1,
            "count": 0
           }
          ]
         }
        },
        {
         "name": "HUC_8_NAME_Mad-Redwood",
         "dtype": "uint8",
         "stats": {
          "unique_count": 0,
          "nan_count": 0,
          "min": null,
          "max": null,
          "histogram": [
           {
            "bin_start": 0,
            "bin_end": 0.1,
            "count": 0
           },
           {
            "bin_start": 0.1,
            "bin_end": 0.2,
            "count": 0
           },
           {
            "bin_start": 0.2,
            "bin_end": 0.30000000000000004,
            "count": 0
           },
           {
            "bin_start": 0.30000000000000004,
            "bin_end": 0.4,
            "count": 0
           },
           {
            "bin_start": 0.4,
            "bin_end": 0.5,
            "count": 0
           },
           {
            "bin_start": 0.5,
            "bin_end": 0.6000000000000001,
            "count": 0
           },
           {
            "bin_start": 0.6000000000000001,
            "bin_end": 0.7000000000000001,
            "count": 0
           },
           {
            "bin_start": 0.7000000000000001,
            "bin_end": 0.8,
            "count": 0
           },
           {
            "bin_start": 0.8,
            "bin_end": 0.9,
            "count": 0
           },
           {
            "bin_start": 0.9,
            "bin_end": 1,
            "count": 0
           }
          ]
         }
        },
        {
         "name": "HUC_8_NAME_Madeline Plains",
         "dtype": "uint8",
         "stats": {
          "unique_count": 0,
          "nan_count": 0,
          "min": null,
          "max": null,
          "histogram": [
           {
            "bin_start": 0,
            "bin_end": 0.1,
            "count": 0
           },
           {
            "bin_start": 0.1,
            "bin_end": 0.2,
            "count": 0
           },
           {
            "bin_start": 0.2,
            "bin_end": 0.30000000000000004,
            "count": 0
           },
           {
            "bin_start": 0.30000000000000004,
            "bin_end": 0.4,
            "count": 0
           },
           {
            "bin_start": 0.4,
            "bin_end": 0.5,
            "count": 0
           },
           {
            "bin_start": 0.5,
            "bin_end": 0.6000000000000001,
            "count": 0
           },
           {
            "bin_start": 0.6000000000000001,
            "bin_end": 0.7000000000000001,
            "count": 0
           },
           {
            "bin_start": 0.7000000000000001,
            "bin_end": 0.8,
            "count": 0
           },
           {
            "bin_start": 0.8,
            "bin_end": 0.9,
            "count": 0
           },
           {
            "bin_start": 0.9,
            "bin_end": 1,
            "count": 0
           }
          ]
         }
        },
        {
         "name": "HUC_8_NAME_Massacre Lake",
         "dtype": "uint8",
         "stats": {
          "unique_count": 0,
          "nan_count": 0,
          "min": null,
          "max": null,
          "histogram": [
           {
            "bin_start": 0,
            "bin_end": 0.1,
            "count": 0
           },
           {
            "bin_start": 0.1,
            "bin_end": 0.2,
            "count": 0
           },
           {
            "bin_start": 0.2,
            "bin_end": 0.30000000000000004,
            "count": 0
           },
           {
            "bin_start": 0.30000000000000004,
            "bin_end": 0.4,
            "count": 0
           },
           {
            "bin_start": 0.4,
            "bin_end": 0.5,
            "count": 0
           },
           {
            "bin_start": 0.5,
            "bin_end": 0.6000000000000001,
            "count": 0
           },
           {
            "bin_start": 0.6000000000000001,
            "bin_end": 0.7000000000000001,
            "count": 0
           },
           {
            "bin_start": 0.7000000000000001,
            "bin_end": 0.8,
            "count": 0
           },
           {
            "bin_start": 0.8,
            "bin_end": 0.9,
            "count": 0
           },
           {
            "bin_start": 0.9,
            "bin_end": 1,
            "count": 0
           }
          ]
         }
        },
        {
         "name": "HUC_8_NAME_Mattole",
         "dtype": "uint8",
         "stats": {
          "unique_count": 0,
          "nan_count": 0,
          "min": null,
          "max": null,
          "histogram": [
           {
            "bin_start": 0,
            "bin_end": 0.1,
            "count": 0
           },
           {
            "bin_start": 0.1,
            "bin_end": 0.2,
            "count": 0
           },
           {
            "bin_start": 0.2,
            "bin_end": 0.30000000000000004,
            "count": 0
           },
           {
            "bin_start": 0.30000000000000004,
            "bin_end": 0.4,
            "count": 0
           },
           {
            "bin_start": 0.4,
            "bin_end": 0.5,
            "count": 0
           },
           {
            "bin_start": 0.5,
            "bin_end": 0.6000000000000001,
            "count": 0
           },
           {
            "bin_start": 0.6000000000000001,
            "bin_end": 0.7000000000000001,
            "count": 0
           },
           {
            "bin_start": 0.7000000000000001,
            "bin_end": 0.8,
            "count": 0
           },
           {
            "bin_start": 0.8,
            "bin_end": 0.9,
            "count": 0
           },
           {
            "bin_start": 0.9,
            "bin_end": 1,
            "count": 0
           }
          ]
         }
        },
        {
         "name": "HUC_8_NAME_McCloud",
         "dtype": "uint8",
         "stats": {
          "unique_count": 0,
          "nan_count": 0,
          "min": null,
          "max": null,
          "histogram": [
           {
            "bin_start": 0,
            "bin_end": 0.1,
            "count": 0
           },
           {
            "bin_start": 0.1,
            "bin_end": 0.2,
            "count": 0
           },
           {
            "bin_start": 0.2,
            "bin_end": 0.30000000000000004,
            "count": 0
           },
           {
            "bin_start": 0.30000000000000004,
            "bin_end": 0.4,
            "count": 0
           },
           {
            "bin_start": 0.4,
            "bin_end": 0.5,
            "count": 0
           },
           {
            "bin_start": 0.5,
            "bin_end": 0.6000000000000001,
            "count": 0
           },
           {
            "bin_start": 0.6000000000000001,
            "bin_end": 0.7000000000000001,
            "count": 0
           },
           {
            "bin_start": 0.7000000000000001,
            "bin_end": 0.8,
            "count": 0
           },
           {
            "bin_start": 0.8,
            "bin_end": 0.9,
            "count": 0
           },
           {
            "bin_start": 0.9,
            "bin_end": 1,
            "count": 0
           }
          ]
         }
        },
        {
         "name": "HUC_8_NAME_Middle Fork Eel",
         "dtype": "uint8",
         "stats": {
          "unique_count": 0,
          "nan_count": 0,
          "min": null,
          "max": null,
          "histogram": [
           {
            "bin_start": 0,
            "bin_end": 0.1,
            "count": 0
           },
           {
            "bin_start": 0.1,
            "bin_end": 0.2,
            "count": 0
           },
           {
            "bin_start": 0.2,
            "bin_end": 0.30000000000000004,
            "count": 0
           },
           {
            "bin_start": 0.30000000000000004,
            "bin_end": 0.4,
            "count": 0
           },
           {
            "bin_start": 0.4,
            "bin_end": 0.5,
            "count": 0
           },
           {
            "bin_start": 0.5,
            "bin_end": 0.6000000000000001,
            "count": 0
           },
           {
            "bin_start": 0.6000000000000001,
            "bin_end": 0.7000000000000001,
            "count": 0
           },
           {
            "bin_start": 0.7000000000000001,
            "bin_end": 0.8,
            "count": 0
           },
           {
            "bin_start": 0.8,
            "bin_end": 0.9,
            "count": 0
           },
           {
            "bin_start": 0.9,
            "bin_end": 1,
            "count": 0
           }
          ]
         }
        },
        {
         "name": "HUC_8_NAME_Middle Fork Feather",
         "dtype": "uint8",
         "stats": {
          "unique_count": 0,
          "nan_count": 0,
          "min": null,
          "max": null,
          "histogram": [
           {
            "bin_start": 0,
            "bin_end": 0.1,
            "count": 0
           },
           {
            "bin_start": 0.1,
            "bin_end": 0.2,
            "count": 0
           },
           {
            "bin_start": 0.2,
            "bin_end": 0.30000000000000004,
            "count": 0
           },
           {
            "bin_start": 0.30000000000000004,
            "bin_end": 0.4,
            "count": 0
           },
           {
            "bin_start": 0.4,
            "bin_end": 0.5,
            "count": 0
           },
           {
            "bin_start": 0.5,
            "bin_end": 0.6000000000000001,
            "count": 0
           },
           {
            "bin_start": 0.6000000000000001,
            "bin_end": 0.7000000000000001,
            "count": 0
           },
           {
            "bin_start": 0.7000000000000001,
            "bin_end": 0.8,
            "count": 0
           },
           {
            "bin_start": 0.8,
            "bin_end": 0.9,
            "count": 0
           },
           {
            "bin_start": 0.9,
            "bin_end": 1,
            "count": 0
           }
          ]
         }
        },
        {
         "name": "HUC_8_NAME_Middle Kern-Upper Tehachapi-Grapevine",
         "dtype": "uint8",
         "stats": {
          "unique_count": 0,
          "nan_count": 0,
          "min": null,
          "max": null,
          "histogram": [
           {
            "bin_start": 0,
            "bin_end": 0.1,
            "count": 0
           },
           {
            "bin_start": 0.1,
            "bin_end": 0.2,
            "count": 0
           },
           {
            "bin_start": 0.2,
            "bin_end": 0.30000000000000004,
            "count": 0
           },
           {
            "bin_start": 0.30000000000000004,
            "bin_end": 0.4,
            "count": 0
           },
           {
            "bin_start": 0.4,
            "bin_end": 0.5,
            "count": 0
           },
           {
            "bin_start": 0.5,
            "bin_end": 0.6000000000000001,
            "count": 0
           },
           {
            "bin_start": 0.6000000000000001,
            "bin_end": 0.7000000000000001,
            "count": 0
           },
           {
            "bin_start": 0.7000000000000001,
            "bin_end": 0.8,
            "count": 0
           },
           {
            "bin_start": 0.8,
            "bin_end": 0.9,
            "count": 0
           },
           {
            "bin_start": 0.9,
            "bin_end": 1,
            "count": 0
           }
          ]
         }
        },
        {
         "name": "HUC_8_NAME_Middle San Joaquin-Lower Chowchilla",
         "dtype": "uint8",
         "stats": {
          "unique_count": 0,
          "nan_count": 0,
          "min": null,
          "max": null,
          "histogram": [
           {
            "bin_start": 0,
            "bin_end": 0.1,
            "count": 0
           },
           {
            "bin_start": 0.1,
            "bin_end": 0.2,
            "count": 0
           },
           {
            "bin_start": 0.2,
            "bin_end": 0.30000000000000004,
            "count": 0
           },
           {
            "bin_start": 0.30000000000000004,
            "bin_end": 0.4,
            "count": 0
           },
           {
            "bin_start": 0.4,
            "bin_end": 0.5,
            "count": 0
           },
           {
            "bin_start": 0.5,
            "bin_end": 0.6000000000000001,
            "count": 0
           },
           {
            "bin_start": 0.6000000000000001,
            "bin_end": 0.7000000000000001,
            "count": 0
           },
           {
            "bin_start": 0.7000000000000001,
            "bin_end": 0.8,
            "count": 0
           },
           {
            "bin_start": 0.8,
            "bin_end": 0.9,
            "count": 0
           },
           {
            "bin_start": 0.9,
            "bin_end": 1,
            "count": 0
           }
          ]
         }
        },
        {
         "name": "HUC_8_NAME_Mojave",
         "dtype": "uint8",
         "stats": {
          "unique_count": 0,
          "nan_count": 0,
          "min": null,
          "max": null,
          "histogram": [
           {
            "bin_start": 0,
            "bin_end": 0.1,
            "count": 0
           },
           {
            "bin_start": 0.1,
            "bin_end": 0.2,
            "count": 0
           },
           {
            "bin_start": 0.2,
            "bin_end": 0.30000000000000004,
            "count": 0
           },
           {
            "bin_start": 0.30000000000000004,
            "bin_end": 0.4,
            "count": 0
           },
           {
            "bin_start": 0.4,
            "bin_end": 0.5,
            "count": 0
           },
           {
            "bin_start": 0.5,
            "bin_end": 0.6000000000000001,
            "count": 0
           },
           {
            "bin_start": 0.6000000000000001,
            "bin_end": 0.7000000000000001,
            "count": 0
           },
           {
            "bin_start": 0.7000000000000001,
            "bin_end": 0.8,
            "count": 0
           },
           {
            "bin_start": 0.8,
            "bin_end": 0.9,
            "count": 0
           },
           {
            "bin_start": 0.9,
            "bin_end": 1,
            "count": 0
           }
          ]
         }
        },
        {
         "name": "HUC_8_NAME_Mono Lake",
         "dtype": "uint8",
         "stats": {
          "unique_count": 0,
          "nan_count": 0,
          "min": null,
          "max": null,
          "histogram": [
           {
            "bin_start": 0,
            "bin_end": 0.1,
            "count": 0
           },
           {
            "bin_start": 0.1,
            "bin_end": 0.2,
            "count": 0
           },
           {
            "bin_start": 0.2,
            "bin_end": 0.30000000000000004,
            "count": 0
           },
           {
            "bin_start": 0.30000000000000004,
            "bin_end": 0.4,
            "count": 0
           },
           {
            "bin_start": 0.4,
            "bin_end": 0.5,
            "count": 0
           },
           {
            "bin_start": 0.5,
            "bin_end": 0.6000000000000001,
            "count": 0
           },
           {
            "bin_start": 0.6000000000000001,
            "bin_end": 0.7000000000000001,
            "count": 0
           },
           {
            "bin_start": 0.7000000000000001,
            "bin_end": 0.8,
            "count": 0
           },
           {
            "bin_start": 0.8,
            "bin_end": 0.9,
            "count": 0
           },
           {
            "bin_start": 0.9,
            "bin_end": 1,
            "count": 0
           }
          ]
         }
        },
        {
         "name": "HUC_8_NAME_Monterey Bay",
         "dtype": "uint8",
         "stats": {
          "unique_count": 0,
          "nan_count": 0,
          "min": null,
          "max": null,
          "histogram": [
           {
            "bin_start": 0,
            "bin_end": 0.1,
            "count": 0
           },
           {
            "bin_start": 0.1,
            "bin_end": 0.2,
            "count": 0
           },
           {
            "bin_start": 0.2,
            "bin_end": 0.30000000000000004,
            "count": 0
           },
           {
            "bin_start": 0.30000000000000004,
            "bin_end": 0.4,
            "count": 0
           },
           {
            "bin_start": 0.4,
            "bin_end": 0.5,
            "count": 0
           },
           {
            "bin_start": 0.5,
            "bin_end": 0.6000000000000001,
            "count": 0
           },
           {
            "bin_start": 0.6000000000000001,
            "bin_end": 0.7000000000000001,
            "count": 0
           },
           {
            "bin_start": 0.7000000000000001,
            "bin_end": 0.8,
            "count": 0
           },
           {
            "bin_start": 0.8,
            "bin_end": 0.9,
            "count": 0
           },
           {
            "bin_start": 0.9,
            "bin_end": 1,
            "count": 0
           }
          ]
         }
        },
        {
         "name": "HUC_8_NAME_Newport Bay",
         "dtype": "uint8",
         "stats": {
          "unique_count": 0,
          "nan_count": 0,
          "min": null,
          "max": null,
          "histogram": [
           {
            "bin_start": 0,
            "bin_end": 0.1,
            "count": 0
           },
           {
            "bin_start": 0.1,
            "bin_end": 0.2,
            "count": 0
           },
           {
            "bin_start": 0.2,
            "bin_end": 0.30000000000000004,
            "count": 0
           },
           {
            "bin_start": 0.30000000000000004,
            "bin_end": 0.4,
            "count": 0
           },
           {
            "bin_start": 0.4,
            "bin_end": 0.5,
            "count": 0
           },
           {
            "bin_start": 0.5,
            "bin_end": 0.6000000000000001,
            "count": 0
           },
           {
            "bin_start": 0.6000000000000001,
            "bin_end": 0.7000000000000001,
            "count": 0
           },
           {
            "bin_start": 0.7000000000000001,
            "bin_end": 0.8,
            "count": 0
           },
           {
            "bin_start": 0.8,
            "bin_end": 0.9,
            "count": 0
           },
           {
            "bin_start": 0.9,
            "bin_end": 1,
            "count": 0
           }
          ]
         }
        },
        {
         "name": "HUC_8_NAME_North Fork American",
         "dtype": "uint8",
         "stats": {
          "unique_count": 0,
          "nan_count": 0,
          "min": null,
          "max": null,
          "histogram": [
           {
            "bin_start": 0,
            "bin_end": 0.1,
            "count": 0
           },
           {
            "bin_start": 0.1,
            "bin_end": 0.2,
            "count": 0
           },
           {
            "bin_start": 0.2,
            "bin_end": 0.30000000000000004,
            "count": 0
           },
           {
            "bin_start": 0.30000000000000004,
            "bin_end": 0.4,
            "count": 0
           },
           {
            "bin_start": 0.4,
            "bin_end": 0.5,
            "count": 0
           },
           {
            "bin_start": 0.5,
            "bin_end": 0.6000000000000001,
            "count": 0
           },
           {
            "bin_start": 0.6000000000000001,
            "bin_end": 0.7000000000000001,
            "count": 0
           },
           {
            "bin_start": 0.7000000000000001,
            "bin_end": 0.8,
            "count": 0
           },
           {
            "bin_start": 0.8,
            "bin_end": 0.9,
            "count": 0
           },
           {
            "bin_start": 0.9,
            "bin_end": 1,
            "count": 0
           }
          ]
         }
        },
        {
         "name": "HUC_8_NAME_North Fork Feather",
         "dtype": "uint8",
         "stats": {
          "unique_count": 0,
          "nan_count": 0,
          "min": null,
          "max": null,
          "histogram": [
           {
            "bin_start": 0,
            "bin_end": 0.1,
            "count": 0
           },
           {
            "bin_start": 0.1,
            "bin_end": 0.2,
            "count": 0
           },
           {
            "bin_start": 0.2,
            "bin_end": 0.30000000000000004,
            "count": 0
           },
           {
            "bin_start": 0.30000000000000004,
            "bin_end": 0.4,
            "count": 0
           },
           {
            "bin_start": 0.4,
            "bin_end": 0.5,
            "count": 0
           },
           {
            "bin_start": 0.5,
            "bin_end": 0.6000000000000001,
            "count": 0
           },
           {
            "bin_start": 0.6000000000000001,
            "bin_end": 0.7000000000000001,
            "count": 0
           },
           {
            "bin_start": 0.7000000000000001,
            "bin_end": 0.8,
            "count": 0
           },
           {
            "bin_start": 0.8,
            "bin_end": 0.9,
            "count": 0
           },
           {
            "bin_start": 0.9,
            "bin_end": 1,
            "count": 0
           }
          ]
         }
        },
        {
         "name": "HUC_8_NAME_Owens Lake",
         "dtype": "uint8",
         "stats": {
          "unique_count": 0,
          "nan_count": 0,
          "min": null,
          "max": null,
          "histogram": [
           {
            "bin_start": 0,
            "bin_end": 0.1,
            "count": 0
           },
           {
            "bin_start": 0.1,
            "bin_end": 0.2,
            "count": 0
           },
           {
            "bin_start": 0.2,
            "bin_end": 0.30000000000000004,
            "count": 0
           },
           {
            "bin_start": 0.30000000000000004,
            "bin_end": 0.4,
            "count": 0
           },
           {
            "bin_start": 0.4,
            "bin_end": 0.5,
            "count": 0
           },
           {
            "bin_start": 0.5,
            "bin_end": 0.6000000000000001,
            "count": 0
           },
           {
            "bin_start": 0.6000000000000001,
            "bin_end": 0.7000000000000001,
            "count": 0
           },
           {
            "bin_start": 0.7000000000000001,
            "bin_end": 0.8,
            "count": 0
           },
           {
            "bin_start": 0.8,
            "bin_end": 0.9,
            "count": 0
           },
           {
            "bin_start": 0.9,
            "bin_end": 1,
            "count": 0
           }
          ]
         }
        },
        {
         "name": "HUC_8_NAME_Pajaro",
         "dtype": "uint8",
         "stats": {
          "unique_count": 0,
          "nan_count": 0,
          "min": null,
          "max": null,
          "histogram": [
           {
            "bin_start": 0,
            "bin_end": 0.1,
            "count": 0
           },
           {
            "bin_start": 0.1,
            "bin_end": 0.2,
            "count": 0
           },
           {
            "bin_start": 0.2,
            "bin_end": 0.30000000000000004,
            "count": 0
           },
           {
            "bin_start": 0.30000000000000004,
            "bin_end": 0.4,
            "count": 0
           },
           {
            "bin_start": 0.4,
            "bin_end": 0.5,
            "count": 0
           },
           {
            "bin_start": 0.5,
            "bin_end": 0.6000000000000001,
            "count": 0
           },
           {
            "bin_start": 0.6000000000000001,
            "bin_end": 0.7000000000000001,
            "count": 0
           },
           {
            "bin_start": 0.7000000000000001,
            "bin_end": 0.8,
            "count": 0
           },
           {
            "bin_start": 0.8,
            "bin_end": 0.9,
            "count": 0
           },
           {
            "bin_start": 0.9,
            "bin_end": 1,
            "count": 0
           }
          ]
         }
        },
        {
         "name": "HUC_8_NAME_Panamint Valley",
         "dtype": "uint8",
         "stats": {
          "unique_count": 0,
          "nan_count": 0,
          "min": null,
          "max": null,
          "histogram": [
           {
            "bin_start": 0,
            "bin_end": 0.1,
            "count": 0
           },
           {
            "bin_start": 0.1,
            "bin_end": 0.2,
            "count": 0
           },
           {
            "bin_start": 0.2,
            "bin_end": 0.30000000000000004,
            "count": 0
           },
           {
            "bin_start": 0.30000000000000004,
            "bin_end": 0.4,
            "count": 0
           },
           {
            "bin_start": 0.4,
            "bin_end": 0.5,
            "count": 0
           },
           {
            "bin_start": 0.5,
            "bin_end": 0.6000000000000001,
            "count": 0
           },
           {
            "bin_start": 0.6000000000000001,
            "bin_end": 0.7000000000000001,
            "count": 0
           },
           {
            "bin_start": 0.7000000000000001,
            "bin_end": 0.8,
            "count": 0
           },
           {
            "bin_start": 0.8,
            "bin_end": 0.9,
            "count": 0
           },
           {
            "bin_start": 0.9,
            "bin_end": 1,
            "count": 0
           }
          ]
         }
        },
        {
         "name": "HUC_8_NAME_Panoche-San Luis Reservoir",
         "dtype": "uint8",
         "stats": {
          "unique_count": 0,
          "nan_count": 0,
          "min": null,
          "max": null,
          "histogram": [
           {
            "bin_start": 0,
            "bin_end": 0.1,
            "count": 0
           },
           {
            "bin_start": 0.1,
            "bin_end": 0.2,
            "count": 0
           },
           {
            "bin_start": 0.2,
            "bin_end": 0.30000000000000004,
            "count": 0
           },
           {
            "bin_start": 0.30000000000000004,
            "bin_end": 0.4,
            "count": 0
           },
           {
            "bin_start": 0.4,
            "bin_end": 0.5,
            "count": 0
           },
           {
            "bin_start": 0.5,
            "bin_end": 0.6000000000000001,
            "count": 0
           },
           {
            "bin_start": 0.6000000000000001,
            "bin_end": 0.7000000000000001,
            "count": 0
           },
           {
            "bin_start": 0.7000000000000001,
            "bin_end": 0.8,
            "count": 0
           },
           {
            "bin_start": 0.8,
            "bin_end": 0.9,
            "count": 0
           },
           {
            "bin_start": 0.9,
            "bin_end": 1,
            "count": 0
           }
          ]
         }
        },
        {
         "name": "HUC_8_NAME_Paynes Creek-Sacramento River",
         "dtype": "uint8",
         "stats": {
          "unique_count": 0,
          "nan_count": 0,
          "min": null,
          "max": null,
          "histogram": [
           {
            "bin_start": 0,
            "bin_end": 0.1,
            "count": 0
           },
           {
            "bin_start": 0.1,
            "bin_end": 0.2,
            "count": 0
           },
           {
            "bin_start": 0.2,
            "bin_end": 0.30000000000000004,
            "count": 0
           },
           {
            "bin_start": 0.30000000000000004,
            "bin_end": 0.4,
            "count": 0
           },
           {
            "bin_start": 0.4,
            "bin_end": 0.5,
            "count": 0
           },
           {
            "bin_start": 0.5,
            "bin_end": 0.6000000000000001,
            "count": 0
           },
           {
            "bin_start": 0.6000000000000001,
            "bin_end": 0.7000000000000001,
            "count": 0
           },
           {
            "bin_start": 0.7000000000000001,
            "bin_end": 0.8,
            "count": 0
           },
           {
            "bin_start": 0.8,
            "bin_end": 0.9,
            "count": 0
           },
           {
            "bin_start": 0.9,
            "bin_end": 1,
            "count": 0
           }
          ]
         }
        },
        {
         "name": "HUC_8_NAME_Piute Wash",
         "dtype": "uint8",
         "stats": {
          "unique_count": 0,
          "nan_count": 0,
          "min": null,
          "max": null,
          "histogram": [
           {
            "bin_start": 0,
            "bin_end": 0.1,
            "count": 0
           },
           {
            "bin_start": 0.1,
            "bin_end": 0.2,
            "count": 0
           },
           {
            "bin_start": 0.2,
            "bin_end": 0.30000000000000004,
            "count": 0
           },
           {
            "bin_start": 0.30000000000000004,
            "bin_end": 0.4,
            "count": 0
           },
           {
            "bin_start": 0.4,
            "bin_end": 0.5,
            "count": 0
           },
           {
            "bin_start": 0.5,
            "bin_end": 0.6000000000000001,
            "count": 0
           },
           {
            "bin_start": 0.6000000000000001,
            "bin_end": 0.7000000000000001,
            "count": 0
           },
           {
            "bin_start": 0.7000000000000001,
            "bin_end": 0.8,
            "count": 0
           },
           {
            "bin_start": 0.8,
            "bin_end": 0.9,
            "count": 0
           },
           {
            "bin_start": 0.9,
            "bin_end": 1,
            "count": 0
           }
          ]
         }
        },
        {
         "name": "HUC_8_NAME_Rock Creek-French Camp Slough",
         "dtype": "uint8",
         "stats": {
          "unique_count": 0,
          "nan_count": 0,
          "min": null,
          "max": null,
          "histogram": [
           {
            "bin_start": 0,
            "bin_end": 0.1,
            "count": 0
           },
           {
            "bin_start": 0.1,
            "bin_end": 0.2,
            "count": 0
           },
           {
            "bin_start": 0.2,
            "bin_end": 0.30000000000000004,
            "count": 0
           },
           {
            "bin_start": 0.30000000000000004,
            "bin_end": 0.4,
            "count": 0
           },
           {
            "bin_start": 0.4,
            "bin_end": 0.5,
            "count": 0
           },
           {
            "bin_start": 0.5,
            "bin_end": 0.6000000000000001,
            "count": 0
           },
           {
            "bin_start": 0.6000000000000001,
            "bin_end": 0.7000000000000001,
            "count": 0
           },
           {
            "bin_start": 0.7000000000000001,
            "bin_end": 0.8,
            "count": 0
           },
           {
            "bin_start": 0.8,
            "bin_end": 0.9,
            "count": 0
           },
           {
            "bin_start": 0.9,
            "bin_end": 1,
            "count": 0
           }
          ]
         }
        },
        {
         "name": "HUC_8_NAME_Russian",
         "dtype": "uint8",
         "stats": {
          "unique_count": 0,
          "nan_count": 0,
          "min": null,
          "max": null,
          "histogram": [
           {
            "bin_start": 0,
            "bin_end": 0.1,
            "count": 0
           },
           {
            "bin_start": 0.1,
            "bin_end": 0.2,
            "count": 0
           },
           {
            "bin_start": 0.2,
            "bin_end": 0.30000000000000004,
            "count": 0
           },
           {
            "bin_start": 0.30000000000000004,
            "bin_end": 0.4,
            "count": 0
           },
           {
            "bin_start": 0.4,
            "bin_end": 0.5,
            "count": 0
           },
           {
            "bin_start": 0.5,
            "bin_end": 0.6000000000000001,
            "count": 0
           },
           {
            "bin_start": 0.6000000000000001,
            "bin_end": 0.7000000000000001,
            "count": 0
           },
           {
            "bin_start": 0.7000000000000001,
            "bin_end": 0.8,
            "count": 0
           },
           {
            "bin_start": 0.8,
            "bin_end": 0.9,
            "count": 0
           },
           {
            "bin_start": 0.9,
            "bin_end": 1,
            "count": 0
           }
          ]
         }
        },
        {
         "name": "HUC_8_NAME_Sacramento Headwaters",
         "dtype": "uint8",
         "stats": {
          "unique_count": 0,
          "nan_count": 0,
          "min": null,
          "max": null,
          "histogram": [
           {
            "bin_start": 0,
            "bin_end": 0.1,
            "count": 0
           },
           {
            "bin_start": 0.1,
            "bin_end": 0.2,
            "count": 0
           },
           {
            "bin_start": 0.2,
            "bin_end": 0.30000000000000004,
            "count": 0
           },
           {
            "bin_start": 0.30000000000000004,
            "bin_end": 0.4,
            "count": 0
           },
           {
            "bin_start": 0.4,
            "bin_end": 0.5,
            "count": 0
           },
           {
            "bin_start": 0.5,
            "bin_end": 0.6000000000000001,
            "count": 0
           },
           {
            "bin_start": 0.6000000000000001,
            "bin_end": 0.7000000000000001,
            "count": 0
           },
           {
            "bin_start": 0.7000000000000001,
            "bin_end": 0.8,
            "count": 0
           },
           {
            "bin_start": 0.8,
            "bin_end": 0.9,
            "count": 0
           },
           {
            "bin_start": 0.9,
            "bin_end": 1,
            "count": 0
           }
          ]
         }
        },
        {
         "name": "HUC_8_NAME_Sacramento-Stone Corral",
         "dtype": "uint8",
         "stats": {
          "unique_count": 0,
          "nan_count": 0,
          "min": null,
          "max": null,
          "histogram": [
           {
            "bin_start": 0,
            "bin_end": 0.1,
            "count": 0
           },
           {
            "bin_start": 0.1,
            "bin_end": 0.2,
            "count": 0
           },
           {
            "bin_start": 0.2,
            "bin_end": 0.30000000000000004,
            "count": 0
           },
           {
            "bin_start": 0.30000000000000004,
            "bin_end": 0.4,
            "count": 0
           },
           {
            "bin_start": 0.4,
            "bin_end": 0.5,
            "count": 0
           },
           {
            "bin_start": 0.5,
            "bin_end": 0.6000000000000001,
            "count": 0
           },
           {
            "bin_start": 0.6000000000000001,
            "bin_end": 0.7000000000000001,
            "count": 0
           },
           {
            "bin_start": 0.7000000000000001,
            "bin_end": 0.8,
            "count": 0
           },
           {
            "bin_start": 0.8,
            "bin_end": 0.9,
            "count": 0
           },
           {
            "bin_start": 0.9,
            "bin_end": 1,
            "count": 0
           }
          ]
         }
        },
        {
         "name": "HUC_8_NAME_Salinas",
         "dtype": "uint8",
         "stats": {
          "unique_count": 0,
          "nan_count": 0,
          "min": null,
          "max": null,
          "histogram": [
           {
            "bin_start": 0,
            "bin_end": 0.1,
            "count": 0
           },
           {
            "bin_start": 0.1,
            "bin_end": 0.2,
            "count": 0
           },
           {
            "bin_start": 0.2,
            "bin_end": 0.30000000000000004,
            "count": 0
           },
           {
            "bin_start": 0.30000000000000004,
            "bin_end": 0.4,
            "count": 0
           },
           {
            "bin_start": 0.4,
            "bin_end": 0.5,
            "count": 0
           },
           {
            "bin_start": 0.5,
            "bin_end": 0.6000000000000001,
            "count": 0
           },
           {
            "bin_start": 0.6000000000000001,
            "bin_end": 0.7000000000000001,
            "count": 0
           },
           {
            "bin_start": 0.7000000000000001,
            "bin_end": 0.8,
            "count": 0
           },
           {
            "bin_start": 0.8,
            "bin_end": 0.9,
            "count": 0
           },
           {
            "bin_start": 0.9,
            "bin_end": 1,
            "count": 0
           }
          ]
         }
        },
        {
         "name": "HUC_8_NAME_Salmon",
         "dtype": "uint8",
         "stats": {
          "unique_count": 0,
          "nan_count": 0,
          "min": null,
          "max": null,
          "histogram": [
           {
            "bin_start": 0,
            "bin_end": 0.1,
            "count": 0
           },
           {
            "bin_start": 0.1,
            "bin_end": 0.2,
            "count": 0
           },
           {
            "bin_start": 0.2,
            "bin_end": 0.30000000000000004,
            "count": 0
           },
           {
            "bin_start": 0.30000000000000004,
            "bin_end": 0.4,
            "count": 0
           },
           {
            "bin_start": 0.4,
            "bin_end": 0.5,
            "count": 0
           },
           {
            "bin_start": 0.5,
            "bin_end": 0.6000000000000001,
            "count": 0
           },
           {
            "bin_start": 0.6000000000000001,
            "bin_end": 0.7000000000000001,
            "count": 0
           },
           {
            "bin_start": 0.7000000000000001,
            "bin_end": 0.8,
            "count": 0
           },
           {
            "bin_start": 0.8,
            "bin_end": 0.9,
            "count": 0
           },
           {
            "bin_start": 0.9,
            "bin_end": 1,
            "count": 0
           }
          ]
         }
        },
        {
         "name": "HUC_8_NAME_Salton Sea",
         "dtype": "uint8",
         "stats": {
          "unique_count": 0,
          "nan_count": 0,
          "min": null,
          "max": null,
          "histogram": [
           {
            "bin_start": 0,
            "bin_end": 0.1,
            "count": 0
           },
           {
            "bin_start": 0.1,
            "bin_end": 0.2,
            "count": 0
           },
           {
            "bin_start": 0.2,
            "bin_end": 0.30000000000000004,
            "count": 0
           },
           {
            "bin_start": 0.30000000000000004,
            "bin_end": 0.4,
            "count": 0
           },
           {
            "bin_start": 0.4,
            "bin_end": 0.5,
            "count": 0
           },
           {
            "bin_start": 0.5,
            "bin_end": 0.6000000000000001,
            "count": 0
           },
           {
            "bin_start": 0.6000000000000001,
            "bin_end": 0.7000000000000001,
            "count": 0
           },
           {
            "bin_start": 0.7000000000000001,
            "bin_end": 0.8,
            "count": 0
           },
           {
            "bin_start": 0.8,
            "bin_end": 0.9,
            "count": 0
           },
           {
            "bin_start": 0.9,
            "bin_end": 1,
            "count": 0
           }
          ]
         }
        },
        {
         "name": "HUC_8_NAME_San Antonio",
         "dtype": "uint8",
         "stats": {
          "unique_count": 0,
          "nan_count": 0,
          "min": null,
          "max": null,
          "histogram": [
           {
            "bin_start": 0,
            "bin_end": 0.1,
            "count": 0
           },
           {
            "bin_start": 0.1,
            "bin_end": 0.2,
            "count": 0
           },
           {
            "bin_start": 0.2,
            "bin_end": 0.30000000000000004,
            "count": 0
           },
           {
            "bin_start": 0.30000000000000004,
            "bin_end": 0.4,
            "count": 0
           },
           {
            "bin_start": 0.4,
            "bin_end": 0.5,
            "count": 0
           },
           {
            "bin_start": 0.5,
            "bin_end": 0.6000000000000001,
            "count": 0
           },
           {
            "bin_start": 0.6000000000000001,
            "bin_end": 0.7000000000000001,
            "count": 0
           },
           {
            "bin_start": 0.7000000000000001,
            "bin_end": 0.8,
            "count": 0
           },
           {
            "bin_start": 0.8,
            "bin_end": 0.9,
            "count": 0
           },
           {
            "bin_start": 0.9,
            "bin_end": 1,
            "count": 0
           }
          ]
         }
        },
        {
         "name": "HUC_8_NAME_San Diego",
         "dtype": "uint8",
         "stats": {
          "unique_count": 0,
          "nan_count": 0,
          "min": null,
          "max": null,
          "histogram": [
           {
            "bin_start": 0,
            "bin_end": 0.1,
            "count": 0
           },
           {
            "bin_start": 0.1,
            "bin_end": 0.2,
            "count": 0
           },
           {
            "bin_start": 0.2,
            "bin_end": 0.30000000000000004,
            "count": 0
           },
           {
            "bin_start": 0.30000000000000004,
            "bin_end": 0.4,
            "count": 0
           },
           {
            "bin_start": 0.4,
            "bin_end": 0.5,
            "count": 0
           },
           {
            "bin_start": 0.5,
            "bin_end": 0.6000000000000001,
            "count": 0
           },
           {
            "bin_start": 0.6000000000000001,
            "bin_end": 0.7000000000000001,
            "count": 0
           },
           {
            "bin_start": 0.7000000000000001,
            "bin_end": 0.8,
            "count": 0
           },
           {
            "bin_start": 0.8,
            "bin_end": 0.9,
            "count": 0
           },
           {
            "bin_start": 0.9,
            "bin_end": 1,
            "count": 0
           }
          ]
         }
        },
        {
         "name": "HUC_8_NAME_San Felipe Creek",
         "dtype": "uint8",
         "stats": {
          "unique_count": 0,
          "nan_count": 0,
          "min": null,
          "max": null,
          "histogram": [
           {
            "bin_start": 0,
            "bin_end": 0.1,
            "count": 0
           },
           {
            "bin_start": 0.1,
            "bin_end": 0.2,
            "count": 0
           },
           {
            "bin_start": 0.2,
            "bin_end": 0.30000000000000004,
            "count": 0
           },
           {
            "bin_start": 0.30000000000000004,
            "bin_end": 0.4,
            "count": 0
           },
           {
            "bin_start": 0.4,
            "bin_end": 0.5,
            "count": 0
           },
           {
            "bin_start": 0.5,
            "bin_end": 0.6000000000000001,
            "count": 0
           },
           {
            "bin_start": 0.6000000000000001,
            "bin_end": 0.7000000000000001,
            "count": 0
           },
           {
            "bin_start": 0.7000000000000001,
            "bin_end": 0.8,
            "count": 0
           },
           {
            "bin_start": 0.8,
            "bin_end": 0.9,
            "count": 0
           },
           {
            "bin_start": 0.9,
            "bin_end": 1,
            "count": 0
           }
          ]
         }
        },
        {
         "name": "HUC_8_NAME_San Francisco Bay",
         "dtype": "uint8",
         "stats": {
          "unique_count": 0,
          "nan_count": 0,
          "min": null,
          "max": null,
          "histogram": [
           {
            "bin_start": 0,
            "bin_end": 0.1,
            "count": 0
           },
           {
            "bin_start": 0.1,
            "bin_end": 0.2,
            "count": 0
           },
           {
            "bin_start": 0.2,
            "bin_end": 0.30000000000000004,
            "count": 0
           },
           {
            "bin_start": 0.30000000000000004,
            "bin_end": 0.4,
            "count": 0
           },
           {
            "bin_start": 0.4,
            "bin_end": 0.5,
            "count": 0
           },
           {
            "bin_start": 0.5,
            "bin_end": 0.6000000000000001,
            "count": 0
           },
           {
            "bin_start": 0.6000000000000001,
            "bin_end": 0.7000000000000001,
            "count": 0
           },
           {
            "bin_start": 0.7000000000000001,
            "bin_end": 0.8,
            "count": 0
           },
           {
            "bin_start": 0.8,
            "bin_end": 0.9,
            "count": 0
           },
           {
            "bin_start": 0.9,
            "bin_end": 1,
            "count": 0
           }
          ]
         }
        },
        {
         "name": "HUC_8_NAME_San Francisco Coastal South",
         "dtype": "uint8",
         "stats": {
          "unique_count": 0,
          "nan_count": 0,
          "min": null,
          "max": null,
          "histogram": [
           {
            "bin_start": 0,
            "bin_end": 0.1,
            "count": 0
           },
           {
            "bin_start": 0.1,
            "bin_end": 0.2,
            "count": 0
           },
           {
            "bin_start": 0.2,
            "bin_end": 0.30000000000000004,
            "count": 0
           },
           {
            "bin_start": 0.30000000000000004,
            "bin_end": 0.4,
            "count": 0
           },
           {
            "bin_start": 0.4,
            "bin_end": 0.5,
            "count": 0
           },
           {
            "bin_start": 0.5,
            "bin_end": 0.6000000000000001,
            "count": 0
           },
           {
            "bin_start": 0.6000000000000001,
            "bin_end": 0.7000000000000001,
            "count": 0
           },
           {
            "bin_start": 0.7000000000000001,
            "bin_end": 0.8,
            "count": 0
           },
           {
            "bin_start": 0.8,
            "bin_end": 0.9,
            "count": 0
           },
           {
            "bin_start": 0.9,
            "bin_end": 1,
            "count": 0
           }
          ]
         }
        },
        {
         "name": "HUC_8_NAME_San Gabriel",
         "dtype": "uint8",
         "stats": {
          "unique_count": 0,
          "nan_count": 0,
          "min": null,
          "max": null,
          "histogram": [
           {
            "bin_start": 0,
            "bin_end": 0.1,
            "count": 0
           },
           {
            "bin_start": 0.1,
            "bin_end": 0.2,
            "count": 0
           },
           {
            "bin_start": 0.2,
            "bin_end": 0.30000000000000004,
            "count": 0
           },
           {
            "bin_start": 0.30000000000000004,
            "bin_end": 0.4,
            "count": 0
           },
           {
            "bin_start": 0.4,
            "bin_end": 0.5,
            "count": 0
           },
           {
            "bin_start": 0.5,
            "bin_end": 0.6000000000000001,
            "count": 0
           },
           {
            "bin_start": 0.6000000000000001,
            "bin_end": 0.7000000000000001,
            "count": 0
           },
           {
            "bin_start": 0.7000000000000001,
            "bin_end": 0.8,
            "count": 0
           },
           {
            "bin_start": 0.8,
            "bin_end": 0.9,
            "count": 0
           },
           {
            "bin_start": 0.9,
            "bin_end": 1,
            "count": 0
           }
          ]
         }
        },
        {
         "name": "HUC_8_NAME_San Jacinto",
         "dtype": "uint8",
         "stats": {
          "unique_count": 0,
          "nan_count": 0,
          "min": null,
          "max": null,
          "histogram": [
           {
            "bin_start": 0,
            "bin_end": 0.1,
            "count": 0
           },
           {
            "bin_start": 0.1,
            "bin_end": 0.2,
            "count": 0
           },
           {
            "bin_start": 0.2,
            "bin_end": 0.30000000000000004,
            "count": 0
           },
           {
            "bin_start": 0.30000000000000004,
            "bin_end": 0.4,
            "count": 0
           },
           {
            "bin_start": 0.4,
            "bin_end": 0.5,
            "count": 0
           },
           {
            "bin_start": 0.5,
            "bin_end": 0.6000000000000001,
            "count": 0
           },
           {
            "bin_start": 0.6000000000000001,
            "bin_end": 0.7000000000000001,
            "count": 0
           },
           {
            "bin_start": 0.7000000000000001,
            "bin_end": 0.8,
            "count": 0
           },
           {
            "bin_start": 0.8,
            "bin_end": 0.9,
            "count": 0
           },
           {
            "bin_start": 0.9,
            "bin_end": 1,
            "count": 0
           }
          ]
         }
        },
        {
         "name": "HUC_8_NAME_San Joaquin Delta",
         "dtype": "uint8",
         "stats": {
          "unique_count": 0,
          "nan_count": 0,
          "min": null,
          "max": null,
          "histogram": [
           {
            "bin_start": 0,
            "bin_end": 0.1,
            "count": 0
           },
           {
            "bin_start": 0.1,
            "bin_end": 0.2,
            "count": 0
           },
           {
            "bin_start": 0.2,
            "bin_end": 0.30000000000000004,
            "count": 0
           },
           {
            "bin_start": 0.30000000000000004,
            "bin_end": 0.4,
            "count": 0
           },
           {
            "bin_start": 0.4,
            "bin_end": 0.5,
            "count": 0
           },
           {
            "bin_start": 0.5,
            "bin_end": 0.6000000000000001,
            "count": 0
           },
           {
            "bin_start": 0.6000000000000001,
            "bin_end": 0.7000000000000001,
            "count": 0
           },
           {
            "bin_start": 0.7000000000000001,
            "bin_end": 0.8,
            "count": 0
           },
           {
            "bin_start": 0.8,
            "bin_end": 0.9,
            "count": 0
           },
           {
            "bin_start": 0.9,
            "bin_end": 1,
            "count": 0
           }
          ]
         }
        },
        {
         "name": "HUC_8_NAME_San Luis Rey-Escondido",
         "dtype": "uint8",
         "stats": {
          "unique_count": 0,
          "nan_count": 0,
          "min": null,
          "max": null,
          "histogram": [
           {
            "bin_start": 0,
            "bin_end": 0.1,
            "count": 0
           },
           {
            "bin_start": 0.1,
            "bin_end": 0.2,
            "count": 0
           },
           {
            "bin_start": 0.2,
            "bin_end": 0.30000000000000004,
            "count": 0
           },
           {
            "bin_start": 0.30000000000000004,
            "bin_end": 0.4,
            "count": 0
           },
           {
            "bin_start": 0.4,
            "bin_end": 0.5,
            "count": 0
           },
           {
            "bin_start": 0.5,
            "bin_end": 0.6000000000000001,
            "count": 0
           },
           {
            "bin_start": 0.6000000000000001,
            "bin_end": 0.7000000000000001,
            "count": 0
           },
           {
            "bin_start": 0.7000000000000001,
            "bin_end": 0.8,
            "count": 0
           },
           {
            "bin_start": 0.8,
            "bin_end": 0.9,
            "count": 0
           },
           {
            "bin_start": 0.9,
            "bin_end": 1,
            "count": 0
           }
          ]
         }
        },
        {
         "name": "HUC_8_NAME_San Pablo Bay",
         "dtype": "uint8",
         "stats": {
          "unique_count": 0,
          "nan_count": 0,
          "min": null,
          "max": null,
          "histogram": [
           {
            "bin_start": 0,
            "bin_end": 0.1,
            "count": 0
           },
           {
            "bin_start": 0.1,
            "bin_end": 0.2,
            "count": 0
           },
           {
            "bin_start": 0.2,
            "bin_end": 0.30000000000000004,
            "count": 0
           },
           {
            "bin_start": 0.30000000000000004,
            "bin_end": 0.4,
            "count": 0
           },
           {
            "bin_start": 0.4,
            "bin_end": 0.5,
            "count": 0
           },
           {
            "bin_start": 0.5,
            "bin_end": 0.6000000000000001,
            "count": 0
           },
           {
            "bin_start": 0.6000000000000001,
            "bin_end": 0.7000000000000001,
            "count": 0
           },
           {
            "bin_start": 0.7000000000000001,
            "bin_end": 0.8,
            "count": 0
           },
           {
            "bin_start": 0.8,
            "bin_end": 0.9,
            "count": 0
           },
           {
            "bin_start": 0.9,
            "bin_end": 1,
            "count": 0
           }
          ]
         }
        },
        {
         "name": "HUC_8_NAME_San Pedro Channel Islands",
         "dtype": "uint8",
         "stats": {
          "unique_count": 0,
          "nan_count": 0,
          "min": null,
          "max": null,
          "histogram": [
           {
            "bin_start": 0,
            "bin_end": 0.1,
            "count": 0
           },
           {
            "bin_start": 0.1,
            "bin_end": 0.2,
            "count": 0
           },
           {
            "bin_start": 0.2,
            "bin_end": 0.30000000000000004,
            "count": 0
           },
           {
            "bin_start": 0.30000000000000004,
            "bin_end": 0.4,
            "count": 0
           },
           {
            "bin_start": 0.4,
            "bin_end": 0.5,
            "count": 0
           },
           {
            "bin_start": 0.5,
            "bin_end": 0.6000000000000001,
            "count": 0
           },
           {
            "bin_start": 0.6000000000000001,
            "bin_end": 0.7000000000000001,
            "count": 0
           },
           {
            "bin_start": 0.7000000000000001,
            "bin_end": 0.8,
            "count": 0
           },
           {
            "bin_start": 0.8,
            "bin_end": 0.9,
            "count": 0
           },
           {
            "bin_start": 0.9,
            "bin_end": 1,
            "count": 0
           }
          ]
         }
        },
        {
         "name": "HUC_8_NAME_Santa Ana",
         "dtype": "uint8",
         "stats": {
          "unique_count": 0,
          "nan_count": 0,
          "min": null,
          "max": null,
          "histogram": [
           {
            "bin_start": 0,
            "bin_end": 0.1,
            "count": 0
           },
           {
            "bin_start": 0.1,
            "bin_end": 0.2,
            "count": 0
           },
           {
            "bin_start": 0.2,
            "bin_end": 0.30000000000000004,
            "count": 0
           },
           {
            "bin_start": 0.30000000000000004,
            "bin_end": 0.4,
            "count": 0
           },
           {
            "bin_start": 0.4,
            "bin_end": 0.5,
            "count": 0
           },
           {
            "bin_start": 0.5,
            "bin_end": 0.6000000000000001,
            "count": 0
           },
           {
            "bin_start": 0.6000000000000001,
            "bin_end": 0.7000000000000001,
            "count": 0
           },
           {
            "bin_start": 0.7000000000000001,
            "bin_end": 0.8,
            "count": 0
           },
           {
            "bin_start": 0.8,
            "bin_end": 0.9,
            "count": 0
           },
           {
            "bin_start": 0.9,
            "bin_end": 1,
            "count": 0
           }
          ]
         }
        },
        {
         "name": "HUC_8_NAME_Santa Barbara Coastal",
         "dtype": "uint8",
         "stats": {
          "unique_count": 0,
          "nan_count": 0,
          "min": null,
          "max": null,
          "histogram": [
           {
            "bin_start": 0,
            "bin_end": 0.1,
            "count": 0
           },
           {
            "bin_start": 0.1,
            "bin_end": 0.2,
            "count": 0
           },
           {
            "bin_start": 0.2,
            "bin_end": 0.30000000000000004,
            "count": 0
           },
           {
            "bin_start": 0.30000000000000004,
            "bin_end": 0.4,
            "count": 0
           },
           {
            "bin_start": 0.4,
            "bin_end": 0.5,
            "count": 0
           },
           {
            "bin_start": 0.5,
            "bin_end": 0.6000000000000001,
            "count": 0
           },
           {
            "bin_start": 0.6000000000000001,
            "bin_end": 0.7000000000000001,
            "count": 0
           },
           {
            "bin_start": 0.7000000000000001,
            "bin_end": 0.8,
            "count": 0
           },
           {
            "bin_start": 0.8,
            "bin_end": 0.9,
            "count": 0
           },
           {
            "bin_start": 0.9,
            "bin_end": 1,
            "count": 0
           }
          ]
         }
        },
        {
         "name": "HUC_8_NAME_Santa Clara",
         "dtype": "uint8",
         "stats": {
          "unique_count": 0,
          "nan_count": 0,
          "min": null,
          "max": null,
          "histogram": [
           {
            "bin_start": 0,
            "bin_end": 0.1,
            "count": 0
           },
           {
            "bin_start": 0.1,
            "bin_end": 0.2,
            "count": 0
           },
           {
            "bin_start": 0.2,
            "bin_end": 0.30000000000000004,
            "count": 0
           },
           {
            "bin_start": 0.30000000000000004,
            "bin_end": 0.4,
            "count": 0
           },
           {
            "bin_start": 0.4,
            "bin_end": 0.5,
            "count": 0
           },
           {
            "bin_start": 0.5,
            "bin_end": 0.6000000000000001,
            "count": 0
           },
           {
            "bin_start": 0.6000000000000001,
            "bin_end": 0.7000000000000001,
            "count": 0
           },
           {
            "bin_start": 0.7000000000000001,
            "bin_end": 0.8,
            "count": 0
           },
           {
            "bin_start": 0.8,
            "bin_end": 0.9,
            "count": 0
           },
           {
            "bin_start": 0.9,
            "bin_end": 1,
            "count": 0
           }
          ]
         }
        },
        {
         "name": "HUC_8_NAME_Santa Margarita",
         "dtype": "uint8",
         "stats": {
          "unique_count": 0,
          "nan_count": 0,
          "min": null,
          "max": null,
          "histogram": [
           {
            "bin_start": 0,
            "bin_end": 0.1,
            "count": 0
           },
           {
            "bin_start": 0.1,
            "bin_end": 0.2,
            "count": 0
           },
           {
            "bin_start": 0.2,
            "bin_end": 0.30000000000000004,
            "count": 0
           },
           {
            "bin_start": 0.30000000000000004,
            "bin_end": 0.4,
            "count": 0
           },
           {
            "bin_start": 0.4,
            "bin_end": 0.5,
            "count": 0
           },
           {
            "bin_start": 0.5,
            "bin_end": 0.6000000000000001,
            "count": 0
           },
           {
            "bin_start": 0.6000000000000001,
            "bin_end": 0.7000000000000001,
            "count": 0
           },
           {
            "bin_start": 0.7000000000000001,
            "bin_end": 0.8,
            "count": 0
           },
           {
            "bin_start": 0.8,
            "bin_end": 0.9,
            "count": 0
           },
           {
            "bin_start": 0.9,
            "bin_end": 1,
            "count": 0
           }
          ]
         }
        },
        {
         "name": "HUC_8_NAME_Santa Maria",
         "dtype": "uint8",
         "stats": {
          "unique_count": 0,
          "nan_count": 0,
          "min": null,
          "max": null,
          "histogram": [
           {
            "bin_start": 0,
            "bin_end": 0.1,
            "count": 0
           },
           {
            "bin_start": 0.1,
            "bin_end": 0.2,
            "count": 0
           },
           {
            "bin_start": 0.2,
            "bin_end": 0.30000000000000004,
            "count": 0
           },
           {
            "bin_start": 0.30000000000000004,
            "bin_end": 0.4,
            "count": 0
           },
           {
            "bin_start": 0.4,
            "bin_end": 0.5,
            "count": 0
           },
           {
            "bin_start": 0.5,
            "bin_end": 0.6000000000000001,
            "count": 0
           },
           {
            "bin_start": 0.6000000000000001,
            "bin_end": 0.7000000000000001,
            "count": 0
           },
           {
            "bin_start": 0.7000000000000001,
            "bin_end": 0.8,
            "count": 0
           },
           {
            "bin_start": 0.8,
            "bin_end": 0.9,
            "count": 0
           },
           {
            "bin_start": 0.9,
            "bin_end": 1,
            "count": 0
           }
          ]
         }
        },
        {
         "name": "HUC_8_NAME_Santa Monica Bay",
         "dtype": "uint8",
         "stats": {
          "unique_count": 0,
          "nan_count": 0,
          "min": null,
          "max": null,
          "histogram": [
           {
            "bin_start": 0,
            "bin_end": 0.1,
            "count": 0
           },
           {
            "bin_start": 0.1,
            "bin_end": 0.2,
            "count": 0
           },
           {
            "bin_start": 0.2,
            "bin_end": 0.30000000000000004,
            "count": 0
           },
           {
            "bin_start": 0.30000000000000004,
            "bin_end": 0.4,
            "count": 0
           },
           {
            "bin_start": 0.4,
            "bin_end": 0.5,
            "count": 0
           },
           {
            "bin_start": 0.5,
            "bin_end": 0.6000000000000001,
            "count": 0
           },
           {
            "bin_start": 0.6000000000000001,
            "bin_end": 0.7000000000000001,
            "count": 0
           },
           {
            "bin_start": 0.7000000000000001,
            "bin_end": 0.8,
            "count": 0
           },
           {
            "bin_start": 0.8,
            "bin_end": 0.9,
            "count": 0
           },
           {
            "bin_start": 0.9,
            "bin_end": 1,
            "count": 0
           }
          ]
         }
        },
        {
         "name": "HUC_8_NAME_Santa Ynez",
         "dtype": "uint8",
         "stats": {
          "unique_count": 0,
          "nan_count": 0,
          "min": null,
          "max": null,
          "histogram": [
           {
            "bin_start": 0,
            "bin_end": 0.1,
            "count": 0
           },
           {
            "bin_start": 0.1,
            "bin_end": 0.2,
            "count": 0
           },
           {
            "bin_start": 0.2,
            "bin_end": 0.30000000000000004,
            "count": 0
           },
           {
            "bin_start": 0.30000000000000004,
            "bin_end": 0.4,
            "count": 0
           },
           {
            "bin_start": 0.4,
            "bin_end": 0.5,
            "count": 0
           },
           {
            "bin_start": 0.5,
            "bin_end": 0.6000000000000001,
            "count": 0
           },
           {
            "bin_start": 0.6000000000000001,
            "bin_end": 0.7000000000000001,
            "count": 0
           },
           {
            "bin_start": 0.7000000000000001,
            "bin_end": 0.8,
            "count": 0
           },
           {
            "bin_start": 0.8,
            "bin_end": 0.9,
            "count": 0
           },
           {
            "bin_start": 0.9,
            "bin_end": 1,
            "count": 0
           }
          ]
         }
        },
        {
         "name": "HUC_8_NAME_Scott",
         "dtype": "uint8",
         "stats": {
          "unique_count": 0,
          "nan_count": 0,
          "min": null,
          "max": null,
          "histogram": [
           {
            "bin_start": 0,
            "bin_end": 0.1,
            "count": 0
           },
           {
            "bin_start": 0.1,
            "bin_end": 0.2,
            "count": 0
           },
           {
            "bin_start": 0.2,
            "bin_end": 0.30000000000000004,
            "count": 0
           },
           {
            "bin_start": 0.30000000000000004,
            "bin_end": 0.4,
            "count": 0
           },
           {
            "bin_start": 0.4,
            "bin_end": 0.5,
            "count": 0
           },
           {
            "bin_start": 0.5,
            "bin_end": 0.6000000000000001,
            "count": 0
           },
           {
            "bin_start": 0.6000000000000001,
            "bin_end": 0.7000000000000001,
            "count": 0
           },
           {
            "bin_start": 0.7000000000000001,
            "bin_end": 0.8,
            "count": 0
           },
           {
            "bin_start": 0.8,
            "bin_end": 0.9,
            "count": 0
           },
           {
            "bin_start": 0.9,
            "bin_end": 1,
            "count": 0
           }
          ]
         }
        },
        {
         "name": "HUC_8_NAME_Shasta",
         "dtype": "uint8",
         "stats": {
          "unique_count": 0,
          "nan_count": 0,
          "min": null,
          "max": null,
          "histogram": [
           {
            "bin_start": 0,
            "bin_end": 0.1,
            "count": 0
           },
           {
            "bin_start": 0.1,
            "bin_end": 0.2,
            "count": 0
           },
           {
            "bin_start": 0.2,
            "bin_end": 0.30000000000000004,
            "count": 0
           },
           {
            "bin_start": 0.30000000000000004,
            "bin_end": 0.4,
            "count": 0
           },
           {
            "bin_start": 0.4,
            "bin_end": 0.5,
            "count": 0
           },
           {
            "bin_start": 0.5,
            "bin_end": 0.6000000000000001,
            "count": 0
           },
           {
            "bin_start": 0.6000000000000001,
            "bin_end": 0.7000000000000001,
            "count": 0
           },
           {
            "bin_start": 0.7000000000000001,
            "bin_end": 0.8,
            "count": 0
           },
           {
            "bin_start": 0.8,
            "bin_end": 0.9,
            "count": 0
           },
           {
            "bin_start": 0.9,
            "bin_end": 1,
            "count": 0
           }
          ]
         }
        },
        {
         "name": "HUC_8_NAME_Smith",
         "dtype": "uint8",
         "stats": {
          "unique_count": 0,
          "nan_count": 0,
          "min": null,
          "max": null,
          "histogram": [
           {
            "bin_start": 0,
            "bin_end": 0.1,
            "count": 0
           },
           {
            "bin_start": 0.1,
            "bin_end": 0.2,
            "count": 0
           },
           {
            "bin_start": 0.2,
            "bin_end": 0.30000000000000004,
            "count": 0
           },
           {
            "bin_start": 0.30000000000000004,
            "bin_end": 0.4,
            "count": 0
           },
           {
            "bin_start": 0.4,
            "bin_end": 0.5,
            "count": 0
           },
           {
            "bin_start": 0.5,
            "bin_end": 0.6000000000000001,
            "count": 0
           },
           {
            "bin_start": 0.6000000000000001,
            "bin_end": 0.7000000000000001,
            "count": 0
           },
           {
            "bin_start": 0.7000000000000001,
            "bin_end": 0.8,
            "count": 0
           },
           {
            "bin_start": 0.8,
            "bin_end": 0.9,
            "count": 0
           },
           {
            "bin_start": 0.9,
            "bin_end": 1,
            "count": 0
           }
          ]
         }
        },
        {
         "name": "HUC_8_NAME_Smoke Creek Desert",
         "dtype": "uint8",
         "stats": {
          "unique_count": 0,
          "nan_count": 0,
          "min": null,
          "max": null,
          "histogram": [
           {
            "bin_start": 0,
            "bin_end": 0.1,
            "count": 0
           },
           {
            "bin_start": 0.1,
            "bin_end": 0.2,
            "count": 0
           },
           {
            "bin_start": 0.2,
            "bin_end": 0.30000000000000004,
            "count": 0
           },
           {
            "bin_start": 0.30000000000000004,
            "bin_end": 0.4,
            "count": 0
           },
           {
            "bin_start": 0.4,
            "bin_end": 0.5,
            "count": 0
           },
           {
            "bin_start": 0.5,
            "bin_end": 0.6000000000000001,
            "count": 0
           },
           {
            "bin_start": 0.6000000000000001,
            "bin_end": 0.7000000000000001,
            "count": 0
           },
           {
            "bin_start": 0.7000000000000001,
            "bin_end": 0.8,
            "count": 0
           },
           {
            "bin_start": 0.8,
            "bin_end": 0.9,
            "count": 0
           },
           {
            "bin_start": 0.9,
            "bin_end": 1,
            "count": 0
           }
          ]
         }
        },
        {
         "name": "HUC_8_NAME_South Fork American",
         "dtype": "uint8",
         "stats": {
          "unique_count": 0,
          "nan_count": 0,
          "min": null,
          "max": null,
          "histogram": [
           {
            "bin_start": 0,
            "bin_end": 0.1,
            "count": 0
           },
           {
            "bin_start": 0.1,
            "bin_end": 0.2,
            "count": 0
           },
           {
            "bin_start": 0.2,
            "bin_end": 0.30000000000000004,
            "count": 0
           },
           {
            "bin_start": 0.30000000000000004,
            "bin_end": 0.4,
            "count": 0
           },
           {
            "bin_start": 0.4,
            "bin_end": 0.5,
            "count": 0
           },
           {
            "bin_start": 0.5,
            "bin_end": 0.6000000000000001,
            "count": 0
           },
           {
            "bin_start": 0.6000000000000001,
            "bin_end": 0.7000000000000001,
            "count": 0
           },
           {
            "bin_start": 0.7000000000000001,
            "bin_end": 0.8,
            "count": 0
           },
           {
            "bin_start": 0.8,
            "bin_end": 0.9,
            "count": 0
           },
           {
            "bin_start": 0.9,
            "bin_end": 1,
            "count": 0
           }
          ]
         }
        },
        {
         "name": "HUC_8_NAME_South Fork Eel",
         "dtype": "uint8",
         "stats": {
          "unique_count": 0,
          "nan_count": 0,
          "min": null,
          "max": null,
          "histogram": [
           {
            "bin_start": 0,
            "bin_end": 0.1,
            "count": 0
           },
           {
            "bin_start": 0.1,
            "bin_end": 0.2,
            "count": 0
           },
           {
            "bin_start": 0.2,
            "bin_end": 0.30000000000000004,
            "count": 0
           },
           {
            "bin_start": 0.30000000000000004,
            "bin_end": 0.4,
            "count": 0
           },
           {
            "bin_start": 0.4,
            "bin_end": 0.5,
            "count": 0
           },
           {
            "bin_start": 0.5,
            "bin_end": 0.6000000000000001,
            "count": 0
           },
           {
            "bin_start": 0.6000000000000001,
            "bin_end": 0.7000000000000001,
            "count": 0
           },
           {
            "bin_start": 0.7000000000000001,
            "bin_end": 0.8,
            "count": 0
           },
           {
            "bin_start": 0.8,
            "bin_end": 0.9,
            "count": 0
           },
           {
            "bin_start": 0.9,
            "bin_end": 1,
            "count": 0
           }
          ]
         }
        },
        {
         "name": "HUC_8_NAME_South Fork Kern",
         "dtype": "uint8",
         "stats": {
          "unique_count": 0,
          "nan_count": 0,
          "min": null,
          "max": null,
          "histogram": [
           {
            "bin_start": 0,
            "bin_end": 0.1,
            "count": 0
           },
           {
            "bin_start": 0.1,
            "bin_end": 0.2,
            "count": 0
           },
           {
            "bin_start": 0.2,
            "bin_end": 0.30000000000000004,
            "count": 0
           },
           {
            "bin_start": 0.30000000000000004,
            "bin_end": 0.4,
            "count": 0
           },
           {
            "bin_start": 0.4,
            "bin_end": 0.5,
            "count": 0
           },
           {
            "bin_start": 0.5,
            "bin_end": 0.6000000000000001,
            "count": 0
           },
           {
            "bin_start": 0.6000000000000001,
            "bin_end": 0.7000000000000001,
            "count": 0
           },
           {
            "bin_start": 0.7000000000000001,
            "bin_end": 0.8,
            "count": 0
           },
           {
            "bin_start": 0.8,
            "bin_end": 0.9,
            "count": 0
           },
           {
            "bin_start": 0.9,
            "bin_end": 1,
            "count": 0
           }
          ]
         }
        },
        {
         "name": "HUC_8_NAME_South Fork Trinity",
         "dtype": "uint8",
         "stats": {
          "unique_count": 0,
          "nan_count": 0,
          "min": null,
          "max": null,
          "histogram": [
           {
            "bin_start": 0,
            "bin_end": 0.1,
            "count": 0
           },
           {
            "bin_start": 0.1,
            "bin_end": 0.2,
            "count": 0
           },
           {
            "bin_start": 0.2,
            "bin_end": 0.30000000000000004,
            "count": 0
           },
           {
            "bin_start": 0.30000000000000004,
            "bin_end": 0.4,
            "count": 0
           },
           {
            "bin_start": 0.4,
            "bin_end": 0.5,
            "count": 0
           },
           {
            "bin_start": 0.5,
            "bin_end": 0.6000000000000001,
            "count": 0
           },
           {
            "bin_start": 0.6000000000000001,
            "bin_end": 0.7000000000000001,
            "count": 0
           },
           {
            "bin_start": 0.7000000000000001,
            "bin_end": 0.8,
            "count": 0
           },
           {
            "bin_start": 0.8,
            "bin_end": 0.9,
            "count": 0
           },
           {
            "bin_start": 0.9,
            "bin_end": 1,
            "count": 0
           }
          ]
         }
        },
        {
         "name": "HUC_8_NAME_Southern Mojave",
         "dtype": "uint8",
         "stats": {
          "unique_count": 0,
          "nan_count": 0,
          "min": null,
          "max": null,
          "histogram": [
           {
            "bin_start": 0,
            "bin_end": 0.1,
            "count": 0
           },
           {
            "bin_start": 0.1,
            "bin_end": 0.2,
            "count": 0
           },
           {
            "bin_start": 0.2,
            "bin_end": 0.30000000000000004,
            "count": 0
           },
           {
            "bin_start": 0.30000000000000004,
            "bin_end": 0.4,
            "count": 0
           },
           {
            "bin_start": 0.4,
            "bin_end": 0.5,
            "count": 0
           },
           {
            "bin_start": 0.5,
            "bin_end": 0.6000000000000001,
            "count": 0
           },
           {
            "bin_start": 0.6000000000000001,
            "bin_end": 0.7000000000000001,
            "count": 0
           },
           {
            "bin_start": 0.7000000000000001,
            "bin_end": 0.8,
            "count": 0
           },
           {
            "bin_start": 0.8,
            "bin_end": 0.9,
            "count": 0
           },
           {
            "bin_start": 0.9,
            "bin_end": 1,
            "count": 0
           }
          ]
         }
        },
        {
         "name": "HUC_8_NAME_Suisun Bay",
         "dtype": "uint8",
         "stats": {
          "unique_count": 0,
          "nan_count": 0,
          "min": null,
          "max": null,
          "histogram": [
           {
            "bin_start": 0,
            "bin_end": 0.1,
            "count": 0
           },
           {
            "bin_start": 0.1,
            "bin_end": 0.2,
            "count": 0
           },
           {
            "bin_start": 0.2,
            "bin_end": 0.30000000000000004,
            "count": 0
           },
           {
            "bin_start": 0.30000000000000004,
            "bin_end": 0.4,
            "count": 0
           },
           {
            "bin_start": 0.4,
            "bin_end": 0.5,
            "count": 0
           },
           {
            "bin_start": 0.5,
            "bin_end": 0.6000000000000001,
            "count": 0
           },
           {
            "bin_start": 0.6000000000000001,
            "bin_end": 0.7000000000000001,
            "count": 0
           },
           {
            "bin_start": 0.7000000000000001,
            "bin_end": 0.8,
            "count": 0
           },
           {
            "bin_start": 0.8,
            "bin_end": 0.9,
            "count": 0
           },
           {
            "bin_start": 0.9,
            "bin_end": 1,
            "count": 0
           }
          ]
         }
        },
        {
         "name": "HUC_8_NAME_Surprise Valley",
         "dtype": "uint8",
         "stats": {
          "unique_count": 0,
          "nan_count": 0,
          "min": null,
          "max": null,
          "histogram": [
           {
            "bin_start": 0,
            "bin_end": 0.1,
            "count": 0
           },
           {
            "bin_start": 0.1,
            "bin_end": 0.2,
            "count": 0
           },
           {
            "bin_start": 0.2,
            "bin_end": 0.30000000000000004,
            "count": 0
           },
           {
            "bin_start": 0.30000000000000004,
            "bin_end": 0.4,
            "count": 0
           },
           {
            "bin_start": 0.4,
            "bin_end": 0.5,
            "count": 0
           },
           {
            "bin_start": 0.5,
            "bin_end": 0.6000000000000001,
            "count": 0
           },
           {
            "bin_start": 0.6000000000000001,
            "bin_end": 0.7000000000000001,
            "count": 0
           },
           {
            "bin_start": 0.7000000000000001,
            "bin_end": 0.8,
            "count": 0
           },
           {
            "bin_start": 0.8,
            "bin_end": 0.9,
            "count": 0
           },
           {
            "bin_start": 0.9,
            "bin_end": 1,
            "count": 0
           }
          ]
         }
        },
        {
         "name": "HUC_8_NAME_Thomes Creek-Sacramento River",
         "dtype": "uint8",
         "stats": {
          "unique_count": 0,
          "nan_count": 0,
          "min": null,
          "max": null,
          "histogram": [
           {
            "bin_start": 0,
            "bin_end": 0.1,
            "count": 0
           },
           {
            "bin_start": 0.1,
            "bin_end": 0.2,
            "count": 0
           },
           {
            "bin_start": 0.2,
            "bin_end": 0.30000000000000004,
            "count": 0
           },
           {
            "bin_start": 0.30000000000000004,
            "bin_end": 0.4,
            "count": 0
           },
           {
            "bin_start": 0.4,
            "bin_end": 0.5,
            "count": 0
           },
           {
            "bin_start": 0.5,
            "bin_end": 0.6000000000000001,
            "count": 0
           },
           {
            "bin_start": 0.6000000000000001,
            "bin_end": 0.7000000000000001,
            "count": 0
           },
           {
            "bin_start": 0.7000000000000001,
            "bin_end": 0.8,
            "count": 0
           },
           {
            "bin_start": 0.8,
            "bin_end": 0.9,
            "count": 0
           },
           {
            "bin_start": 0.9,
            "bin_end": 1,
            "count": 0
           }
          ]
         }
        },
        {
         "name": "HUC_8_NAME_Tomales-Drake Bays",
         "dtype": "uint8",
         "stats": {
          "unique_count": 0,
          "nan_count": 0,
          "min": null,
          "max": null,
          "histogram": [
           {
            "bin_start": 0,
            "bin_end": 0.1,
            "count": 0
           },
           {
            "bin_start": 0.1,
            "bin_end": 0.2,
            "count": 0
           },
           {
            "bin_start": 0.2,
            "bin_end": 0.30000000000000004,
            "count": 0
           },
           {
            "bin_start": 0.30000000000000004,
            "bin_end": 0.4,
            "count": 0
           },
           {
            "bin_start": 0.4,
            "bin_end": 0.5,
            "count": 0
           },
           {
            "bin_start": 0.5,
            "bin_end": 0.6000000000000001,
            "count": 0
           },
           {
            "bin_start": 0.6000000000000001,
            "bin_end": 0.7000000000000001,
            "count": 0
           },
           {
            "bin_start": 0.7000000000000001,
            "bin_end": 0.8,
            "count": 0
           },
           {
            "bin_start": 0.8,
            "bin_end": 0.9,
            "count": 0
           },
           {
            "bin_start": 0.9,
            "bin_end": 1,
            "count": 0
           }
          ]
         }
        },
        {
         "name": "HUC_8_NAME_Trinity",
         "dtype": "uint8",
         "stats": {
          "unique_count": 0,
          "nan_count": 0,
          "min": null,
          "max": null,
          "histogram": [
           {
            "bin_start": 0,
            "bin_end": 0.1,
            "count": 0
           },
           {
            "bin_start": 0.1,
            "bin_end": 0.2,
            "count": 0
           },
           {
            "bin_start": 0.2,
            "bin_end": 0.30000000000000004,
            "count": 0
           },
           {
            "bin_start": 0.30000000000000004,
            "bin_end": 0.4,
            "count": 0
           },
           {
            "bin_start": 0.4,
            "bin_end": 0.5,
            "count": 0
           },
           {
            "bin_start": 0.5,
            "bin_end": 0.6000000000000001,
            "count": 0
           },
           {
            "bin_start": 0.6000000000000001,
            "bin_end": 0.7000000000000001,
            "count": 0
           },
           {
            "bin_start": 0.7000000000000001,
            "bin_end": 0.8,
            "count": 0
           },
           {
            "bin_start": 0.8,
            "bin_end": 0.9,
            "count": 0
           },
           {
            "bin_start": 0.9,
            "bin_end": 1,
            "count": 0
           }
          ]
         }
        },
        {
         "name": "HUC_8_NAME_Truckee",
         "dtype": "uint8",
         "stats": {
          "unique_count": 0,
          "nan_count": 0,
          "min": null,
          "max": null,
          "histogram": [
           {
            "bin_start": 0,
            "bin_end": 0.1,
            "count": 0
           },
           {
            "bin_start": 0.1,
            "bin_end": 0.2,
            "count": 0
           },
           {
            "bin_start": 0.2,
            "bin_end": 0.30000000000000004,
            "count": 0
           },
           {
            "bin_start": 0.30000000000000004,
            "bin_end": 0.4,
            "count": 0
           },
           {
            "bin_start": 0.4,
            "bin_end": 0.5,
            "count": 0
           },
           {
            "bin_start": 0.5,
            "bin_end": 0.6000000000000001,
            "count": 0
           },
           {
            "bin_start": 0.6000000000000001,
            "bin_end": 0.7000000000000001,
            "count": 0
           },
           {
            "bin_start": 0.7000000000000001,
            "bin_end": 0.8,
            "count": 0
           },
           {
            "bin_start": 0.8,
            "bin_end": 0.9,
            "count": 0
           },
           {
            "bin_start": 0.9,
            "bin_end": 1,
            "count": 0
           }
          ]
         }
        },
        {
         "name": "HUC_8_NAME_Tulare Lake Bed",
         "dtype": "uint8",
         "stats": {
          "unique_count": 0,
          "nan_count": 0,
          "min": null,
          "max": null,
          "histogram": [
           {
            "bin_start": 0,
            "bin_end": 0.1,
            "count": 0
           },
           {
            "bin_start": 0.1,
            "bin_end": 0.2,
            "count": 0
           },
           {
            "bin_start": 0.2,
            "bin_end": 0.30000000000000004,
            "count": 0
           },
           {
            "bin_start": 0.30000000000000004,
            "bin_end": 0.4,
            "count": 0
           },
           {
            "bin_start": 0.4,
            "bin_end": 0.5,
            "count": 0
           },
           {
            "bin_start": 0.5,
            "bin_end": 0.6000000000000001,
            "count": 0
           },
           {
            "bin_start": 0.6000000000000001,
            "bin_end": 0.7000000000000001,
            "count": 0
           },
           {
            "bin_start": 0.7000000000000001,
            "bin_end": 0.8,
            "count": 0
           },
           {
            "bin_start": 0.8,
            "bin_end": 0.9,
            "count": 0
           },
           {
            "bin_start": 0.9,
            "bin_end": 1,
            "count": 0
           }
          ]
         }
        },
        {
         "name": "HUC_8_NAME_Upper Amargosa",
         "dtype": "uint8",
         "stats": {
          "unique_count": 0,
          "nan_count": 0,
          "min": null,
          "max": null,
          "histogram": [
           {
            "bin_start": 0,
            "bin_end": 0.1,
            "count": 0
           },
           {
            "bin_start": 0.1,
            "bin_end": 0.2,
            "count": 0
           },
           {
            "bin_start": 0.2,
            "bin_end": 0.30000000000000004,
            "count": 0
           },
           {
            "bin_start": 0.30000000000000004,
            "bin_end": 0.4,
            "count": 0
           },
           {
            "bin_start": 0.4,
            "bin_end": 0.5,
            "count": 0
           },
           {
            "bin_start": 0.5,
            "bin_end": 0.6000000000000001,
            "count": 0
           },
           {
            "bin_start": 0.6000000000000001,
            "bin_end": 0.7000000000000001,
            "count": 0
           },
           {
            "bin_start": 0.7000000000000001,
            "bin_end": 0.8,
            "count": 0
           },
           {
            "bin_start": 0.8,
            "bin_end": 0.9,
            "count": 0
           },
           {
            "bin_start": 0.9,
            "bin_end": 1,
            "count": 0
           }
          ]
         }
        },
        {
         "name": "HUC_8_NAME_Upper Bear",
         "dtype": "uint8",
         "stats": {
          "unique_count": 0,
          "nan_count": 0,
          "min": null,
          "max": null,
          "histogram": [
           {
            "bin_start": 0,
            "bin_end": 0.1,
            "count": 0
           },
           {
            "bin_start": 0.1,
            "bin_end": 0.2,
            "count": 0
           },
           {
            "bin_start": 0.2,
            "bin_end": 0.30000000000000004,
            "count": 0
           },
           {
            "bin_start": 0.30000000000000004,
            "bin_end": 0.4,
            "count": 0
           },
           {
            "bin_start": 0.4,
            "bin_end": 0.5,
            "count": 0
           },
           {
            "bin_start": 0.5,
            "bin_end": 0.6000000000000001,
            "count": 0
           },
           {
            "bin_start": 0.6000000000000001,
            "bin_end": 0.7000000000000001,
            "count": 0
           },
           {
            "bin_start": 0.7000000000000001,
            "bin_end": 0.8,
            "count": 0
           },
           {
            "bin_start": 0.8,
            "bin_end": 0.9,
            "count": 0
           },
           {
            "bin_start": 0.9,
            "bin_end": 1,
            "count": 0
           }
          ]
         }
        },
        {
         "name": "HUC_8_NAME_Upper Cache",
         "dtype": "uint8",
         "stats": {
          "unique_count": 0,
          "nan_count": 0,
          "min": null,
          "max": null,
          "histogram": [
           {
            "bin_start": 0,
            "bin_end": 0.1,
            "count": 0
           },
           {
            "bin_start": 0.1,
            "bin_end": 0.2,
            "count": 0
           },
           {
            "bin_start": 0.2,
            "bin_end": 0.30000000000000004,
            "count": 0
           },
           {
            "bin_start": 0.30000000000000004,
            "bin_end": 0.4,
            "count": 0
           },
           {
            "bin_start": 0.4,
            "bin_end": 0.5,
            "count": 0
           },
           {
            "bin_start": 0.5,
            "bin_end": 0.6000000000000001,
            "count": 0
           },
           {
            "bin_start": 0.6000000000000001,
            "bin_end": 0.7000000000000001,
            "count": 0
           },
           {
            "bin_start": 0.7000000000000001,
            "bin_end": 0.8,
            "count": 0
           },
           {
            "bin_start": 0.8,
            "bin_end": 0.9,
            "count": 0
           },
           {
            "bin_start": 0.9,
            "bin_end": 1,
            "count": 0
           }
          ]
         }
        },
        {
         "name": "HUC_8_NAME_Upper Calaveras California",
         "dtype": "uint8",
         "stats": {
          "unique_count": 0,
          "nan_count": 0,
          "min": null,
          "max": null,
          "histogram": [
           {
            "bin_start": 0,
            "bin_end": 0.1,
            "count": 0
           },
           {
            "bin_start": 0.1,
            "bin_end": 0.2,
            "count": 0
           },
           {
            "bin_start": 0.2,
            "bin_end": 0.30000000000000004,
            "count": 0
           },
           {
            "bin_start": 0.30000000000000004,
            "bin_end": 0.4,
            "count": 0
           },
           {
            "bin_start": 0.4,
            "bin_end": 0.5,
            "count": 0
           },
           {
            "bin_start": 0.5,
            "bin_end": 0.6000000000000001,
            "count": 0
           },
           {
            "bin_start": 0.6000000000000001,
            "bin_end": 0.7000000000000001,
            "count": 0
           },
           {
            "bin_start": 0.7000000000000001,
            "bin_end": 0.8,
            "count": 0
           },
           {
            "bin_start": 0.8,
            "bin_end": 0.9,
            "count": 0
           },
           {
            "bin_start": 0.9,
            "bin_end": 1,
            "count": 0
           }
          ]
         }
        },
        {
         "name": "HUC_8_NAME_Upper Carson",
         "dtype": "uint8",
         "stats": {
          "unique_count": 0,
          "nan_count": 0,
          "min": null,
          "max": null,
          "histogram": [
           {
            "bin_start": 0,
            "bin_end": 0.1,
            "count": 0
           },
           {
            "bin_start": 0.1,
            "bin_end": 0.2,
            "count": 0
           },
           {
            "bin_start": 0.2,
            "bin_end": 0.30000000000000004,
            "count": 0
           },
           {
            "bin_start": 0.30000000000000004,
            "bin_end": 0.4,
            "count": 0
           },
           {
            "bin_start": 0.4,
            "bin_end": 0.5,
            "count": 0
           },
           {
            "bin_start": 0.5,
            "bin_end": 0.6000000000000001,
            "count": 0
           },
           {
            "bin_start": 0.6000000000000001,
            "bin_end": 0.7000000000000001,
            "count": 0
           },
           {
            "bin_start": 0.7000000000000001,
            "bin_end": 0.8,
            "count": 0
           },
           {
            "bin_start": 0.8,
            "bin_end": 0.9,
            "count": 0
           },
           {
            "bin_start": 0.9,
            "bin_end": 1,
            "count": 0
           }
          ]
         }
        },
        {
         "name": "HUC_8_NAME_Upper Coon-Upper Auburn",
         "dtype": "uint8",
         "stats": {
          "unique_count": 0,
          "nan_count": 0,
          "min": null,
          "max": null,
          "histogram": [
           {
            "bin_start": 0,
            "bin_end": 0.1,
            "count": 0
           },
           {
            "bin_start": 0.1,
            "bin_end": 0.2,
            "count": 0
           },
           {
            "bin_start": 0.2,
            "bin_end": 0.30000000000000004,
            "count": 0
           },
           {
            "bin_start": 0.30000000000000004,
            "bin_end": 0.4,
            "count": 0
           },
           {
            "bin_start": 0.4,
            "bin_end": 0.5,
            "count": 0
           },
           {
            "bin_start": 0.5,
            "bin_end": 0.6000000000000001,
            "count": 0
           },
           {
            "bin_start": 0.6000000000000001,
            "bin_end": 0.7000000000000001,
            "count": 0
           },
           {
            "bin_start": 0.7000000000000001,
            "bin_end": 0.8,
            "count": 0
           },
           {
            "bin_start": 0.8,
            "bin_end": 0.9,
            "count": 0
           },
           {
            "bin_start": 0.9,
            "bin_end": 1,
            "count": 0
           }
          ]
         }
        },
        {
         "name": "HUC_8_NAME_Upper Cosumnes",
         "dtype": "uint8",
         "stats": {
          "unique_count": 0,
          "nan_count": 0,
          "min": null,
          "max": null,
          "histogram": [
           {
            "bin_start": 0,
            "bin_end": 0.1,
            "count": 0
           },
           {
            "bin_start": 0.1,
            "bin_end": 0.2,
            "count": 0
           },
           {
            "bin_start": 0.2,
            "bin_end": 0.30000000000000004,
            "count": 0
           },
           {
            "bin_start": 0.30000000000000004,
            "bin_end": 0.4,
            "count": 0
           },
           {
            "bin_start": 0.4,
            "bin_end": 0.5,
            "count": 0
           },
           {
            "bin_start": 0.5,
            "bin_end": 0.6000000000000001,
            "count": 0
           },
           {
            "bin_start": 0.6000000000000001,
            "bin_end": 0.7000000000000001,
            "count": 0
           },
           {
            "bin_start": 0.7000000000000001,
            "bin_end": 0.8,
            "count": 0
           },
           {
            "bin_start": 0.8,
            "bin_end": 0.9,
            "count": 0
           },
           {
            "bin_start": 0.9,
            "bin_end": 1,
            "count": 0
           }
          ]
         }
        },
        {
         "name": "HUC_8_NAME_Upper Deer-Upper White",
         "dtype": "uint8",
         "stats": {
          "unique_count": 0,
          "nan_count": 0,
          "min": null,
          "max": null,
          "histogram": [
           {
            "bin_start": 0,
            "bin_end": 0.1,
            "count": 0
           },
           {
            "bin_start": 0.1,
            "bin_end": 0.2,
            "count": 0
           },
           {
            "bin_start": 0.2,
            "bin_end": 0.30000000000000004,
            "count": 0
           },
           {
            "bin_start": 0.30000000000000004,
            "bin_end": 0.4,
            "count": 0
           },
           {
            "bin_start": 0.4,
            "bin_end": 0.5,
            "count": 0
           },
           {
            "bin_start": 0.5,
            "bin_end": 0.6000000000000001,
            "count": 0
           },
           {
            "bin_start": 0.6000000000000001,
            "bin_end": 0.7000000000000001,
            "count": 0
           },
           {
            "bin_start": 0.7000000000000001,
            "bin_end": 0.8,
            "count": 0
           },
           {
            "bin_start": 0.8,
            "bin_end": 0.9,
            "count": 0
           },
           {
            "bin_start": 0.9,
            "bin_end": 1,
            "count": 0
           }
          ]
         }
        },
        {
         "name": "HUC_8_NAME_Upper Dry",
         "dtype": "uint8",
         "stats": {
          "unique_count": 0,
          "nan_count": 0,
          "min": null,
          "max": null,
          "histogram": [
           {
            "bin_start": 0,
            "bin_end": 0.1,
            "count": 0
           },
           {
            "bin_start": 0.1,
            "bin_end": 0.2,
            "count": 0
           },
           {
            "bin_start": 0.2,
            "bin_end": 0.30000000000000004,
            "count": 0
           },
           {
            "bin_start": 0.30000000000000004,
            "bin_end": 0.4,
            "count": 0
           },
           {
            "bin_start": 0.4,
            "bin_end": 0.5,
            "count": 0
           },
           {
            "bin_start": 0.5,
            "bin_end": 0.6000000000000001,
            "count": 0
           },
           {
            "bin_start": 0.6000000000000001,
            "bin_end": 0.7000000000000001,
            "count": 0
           },
           {
            "bin_start": 0.7000000000000001,
            "bin_end": 0.8,
            "count": 0
           },
           {
            "bin_start": 0.8,
            "bin_end": 0.9,
            "count": 0
           },
           {
            "bin_start": 0.9,
            "bin_end": 1,
            "count": 0
           }
          ]
         }
        },
        {
         "name": "HUC_8_NAME_Upper Eel",
         "dtype": "uint8",
         "stats": {
          "unique_count": 0,
          "nan_count": 0,
          "min": null,
          "max": null,
          "histogram": [
           {
            "bin_start": 0,
            "bin_end": 0.1,
            "count": 0
           },
           {
            "bin_start": 0.1,
            "bin_end": 0.2,
            "count": 0
           },
           {
            "bin_start": 0.2,
            "bin_end": 0.30000000000000004,
            "count": 0
           },
           {
            "bin_start": 0.30000000000000004,
            "bin_end": 0.4,
            "count": 0
           },
           {
            "bin_start": 0.4,
            "bin_end": 0.5,
            "count": 0
           },
           {
            "bin_start": 0.5,
            "bin_end": 0.6000000000000001,
            "count": 0
           },
           {
            "bin_start": 0.6000000000000001,
            "bin_end": 0.7000000000000001,
            "count": 0
           },
           {
            "bin_start": 0.7000000000000001,
            "bin_end": 0.8,
            "count": 0
           },
           {
            "bin_start": 0.8,
            "bin_end": 0.9,
            "count": 0
           },
           {
            "bin_start": 0.9,
            "bin_end": 1,
            "count": 0
           }
          ]
         }
        },
        {
         "name": "HUC_8_NAME_Upper Kaweah",
         "dtype": "uint8",
         "stats": {
          "unique_count": 0,
          "nan_count": 0,
          "min": null,
          "max": null,
          "histogram": [
           {
            "bin_start": 0,
            "bin_end": 0.1,
            "count": 0
           },
           {
            "bin_start": 0.1,
            "bin_end": 0.2,
            "count": 0
           },
           {
            "bin_start": 0.2,
            "bin_end": 0.30000000000000004,
            "count": 0
           },
           {
            "bin_start": 0.30000000000000004,
            "bin_end": 0.4,
            "count": 0
           },
           {
            "bin_start": 0.4,
            "bin_end": 0.5,
            "count": 0
           },
           {
            "bin_start": 0.5,
            "bin_end": 0.6000000000000001,
            "count": 0
           },
           {
            "bin_start": 0.6000000000000001,
            "bin_end": 0.7000000000000001,
            "count": 0
           },
           {
            "bin_start": 0.7000000000000001,
            "bin_end": 0.8,
            "count": 0
           },
           {
            "bin_start": 0.8,
            "bin_end": 0.9,
            "count": 0
           },
           {
            "bin_start": 0.9,
            "bin_end": 1,
            "count": 0
           }
          ]
         }
        },
        {
         "name": "HUC_8_NAME_Upper Kern",
         "dtype": "uint8",
         "stats": {
          "unique_count": 0,
          "nan_count": 0,
          "min": null,
          "max": null,
          "histogram": [
           {
            "bin_start": 0,
            "bin_end": 0.1,
            "count": 0
           },
           {
            "bin_start": 0.1,
            "bin_end": 0.2,
            "count": 0
           },
           {
            "bin_start": 0.2,
            "bin_end": 0.30000000000000004,
            "count": 0
           },
           {
            "bin_start": 0.30000000000000004,
            "bin_end": 0.4,
            "count": 0
           },
           {
            "bin_start": 0.4,
            "bin_end": 0.5,
            "count": 0
           },
           {
            "bin_start": 0.5,
            "bin_end": 0.6000000000000001,
            "count": 0
           },
           {
            "bin_start": 0.6000000000000001,
            "bin_end": 0.7000000000000001,
            "count": 0
           },
           {
            "bin_start": 0.7000000000000001,
            "bin_end": 0.8,
            "count": 0
           },
           {
            "bin_start": 0.8,
            "bin_end": 0.9,
            "count": 0
           },
           {
            "bin_start": 0.9,
            "bin_end": 1,
            "count": 0
           }
          ]
         }
        },
        {
         "name": "HUC_8_NAME_Upper King",
         "dtype": "uint8",
         "stats": {
          "unique_count": 0,
          "nan_count": 0,
          "min": null,
          "max": null,
          "histogram": [
           {
            "bin_start": 0,
            "bin_end": 0.1,
            "count": 0
           },
           {
            "bin_start": 0.1,
            "bin_end": 0.2,
            "count": 0
           },
           {
            "bin_start": 0.2,
            "bin_end": 0.30000000000000004,
            "count": 0
           },
           {
            "bin_start": 0.30000000000000004,
            "bin_end": 0.4,
            "count": 0
           },
           {
            "bin_start": 0.4,
            "bin_end": 0.5,
            "count": 0
           },
           {
            "bin_start": 0.5,
            "bin_end": 0.6000000000000001,
            "count": 0
           },
           {
            "bin_start": 0.6000000000000001,
            "bin_end": 0.7000000000000001,
            "count": 0
           },
           {
            "bin_start": 0.7000000000000001,
            "bin_end": 0.8,
            "count": 0
           },
           {
            "bin_start": 0.8,
            "bin_end": 0.9,
            "count": 0
           },
           {
            "bin_start": 0.9,
            "bin_end": 1,
            "count": 0
           }
          ]
         }
        },
        {
         "name": "HUC_8_NAME_Upper Klamath",
         "dtype": "uint8",
         "stats": {
          "unique_count": 0,
          "nan_count": 0,
          "min": null,
          "max": null,
          "histogram": [
           {
            "bin_start": 0,
            "bin_end": 0.1,
            "count": 0
           },
           {
            "bin_start": 0.1,
            "bin_end": 0.2,
            "count": 0
           },
           {
            "bin_start": 0.2,
            "bin_end": 0.30000000000000004,
            "count": 0
           },
           {
            "bin_start": 0.30000000000000004,
            "bin_end": 0.4,
            "count": 0
           },
           {
            "bin_start": 0.4,
            "bin_end": 0.5,
            "count": 0
           },
           {
            "bin_start": 0.5,
            "bin_end": 0.6000000000000001,
            "count": 0
           },
           {
            "bin_start": 0.6000000000000001,
            "bin_end": 0.7000000000000001,
            "count": 0
           },
           {
            "bin_start": 0.7000000000000001,
            "bin_end": 0.8,
            "count": 0
           },
           {
            "bin_start": 0.8,
            "bin_end": 0.9,
            "count": 0
           },
           {
            "bin_start": 0.9,
            "bin_end": 1,
            "count": 0
           }
          ]
         }
        },
        {
         "name": "HUC_8_NAME_Upper Merced",
         "dtype": "uint8",
         "stats": {
          "unique_count": 0,
          "nan_count": 0,
          "min": null,
          "max": null,
          "histogram": [
           {
            "bin_start": 0,
            "bin_end": 0.1,
            "count": 0
           },
           {
            "bin_start": 0.1,
            "bin_end": 0.2,
            "count": 0
           },
           {
            "bin_start": 0.2,
            "bin_end": 0.30000000000000004,
            "count": 0
           },
           {
            "bin_start": 0.30000000000000004,
            "bin_end": 0.4,
            "count": 0
           },
           {
            "bin_start": 0.4,
            "bin_end": 0.5,
            "count": 0
           },
           {
            "bin_start": 0.5,
            "bin_end": 0.6000000000000001,
            "count": 0
           },
           {
            "bin_start": 0.6000000000000001,
            "bin_end": 0.7000000000000001,
            "count": 0
           },
           {
            "bin_start": 0.7000000000000001,
            "bin_end": 0.8,
            "count": 0
           },
           {
            "bin_start": 0.8,
            "bin_end": 0.9,
            "count": 0
           },
           {
            "bin_start": 0.9,
            "bin_end": 1,
            "count": 0
           }
          ]
         }
        },
        {
         "name": "HUC_8_NAME_Upper Mokelumne",
         "dtype": "uint8",
         "stats": {
          "unique_count": 0,
          "nan_count": 0,
          "min": null,
          "max": null,
          "histogram": [
           {
            "bin_start": 0,
            "bin_end": 0.1,
            "count": 0
           },
           {
            "bin_start": 0.1,
            "bin_end": 0.2,
            "count": 0
           },
           {
            "bin_start": 0.2,
            "bin_end": 0.30000000000000004,
            "count": 0
           },
           {
            "bin_start": 0.30000000000000004,
            "bin_end": 0.4,
            "count": 0
           },
           {
            "bin_start": 0.4,
            "bin_end": 0.5,
            "count": 0
           },
           {
            "bin_start": 0.5,
            "bin_end": 0.6000000000000001,
            "count": 0
           },
           {
            "bin_start": 0.6000000000000001,
            "bin_end": 0.7000000000000001,
            "count": 0
           },
           {
            "bin_start": 0.7000000000000001,
            "bin_end": 0.8,
            "count": 0
           },
           {
            "bin_start": 0.8,
            "bin_end": 0.9,
            "count": 0
           },
           {
            "bin_start": 0.9,
            "bin_end": 1,
            "count": 0
           }
          ]
         }
        },
        {
         "name": "HUC_8_NAME_Upper Pit",
         "dtype": "uint8",
         "stats": {
          "unique_count": 0,
          "nan_count": 0,
          "min": null,
          "max": null,
          "histogram": [
           {
            "bin_start": 0,
            "bin_end": 0.1,
            "count": 0
           },
           {
            "bin_start": 0.1,
            "bin_end": 0.2,
            "count": 0
           },
           {
            "bin_start": 0.2,
            "bin_end": 0.30000000000000004,
            "count": 0
           },
           {
            "bin_start": 0.30000000000000004,
            "bin_end": 0.4,
            "count": 0
           },
           {
            "bin_start": 0.4,
            "bin_end": 0.5,
            "count": 0
           },
           {
            "bin_start": 0.5,
            "bin_end": 0.6000000000000001,
            "count": 0
           },
           {
            "bin_start": 0.6000000000000001,
            "bin_end": 0.7000000000000001,
            "count": 0
           },
           {
            "bin_start": 0.7000000000000001,
            "bin_end": 0.8,
            "count": 0
           },
           {
            "bin_start": 0.8,
            "bin_end": 0.9,
            "count": 0
           },
           {
            "bin_start": 0.9,
            "bin_end": 1,
            "count": 0
           }
          ]
         }
        },
        {
         "name": "HUC_8_NAME_Upper Poso",
         "dtype": "uint8",
         "stats": {
          "unique_count": 0,
          "nan_count": 0,
          "min": null,
          "max": null,
          "histogram": [
           {
            "bin_start": 0,
            "bin_end": 0.1,
            "count": 0
           },
           {
            "bin_start": 0.1,
            "bin_end": 0.2,
            "count": 0
           },
           {
            "bin_start": 0.2,
            "bin_end": 0.30000000000000004,
            "count": 0
           },
           {
            "bin_start": 0.30000000000000004,
            "bin_end": 0.4,
            "count": 0
           },
           {
            "bin_start": 0.4,
            "bin_end": 0.5,
            "count": 0
           },
           {
            "bin_start": 0.5,
            "bin_end": 0.6000000000000001,
            "count": 0
           },
           {
            "bin_start": 0.6000000000000001,
            "bin_end": 0.7000000000000001,
            "count": 0
           },
           {
            "bin_start": 0.7000000000000001,
            "bin_end": 0.8,
            "count": 0
           },
           {
            "bin_start": 0.8,
            "bin_end": 0.9,
            "count": 0
           },
           {
            "bin_start": 0.9,
            "bin_end": 1,
            "count": 0
           }
          ]
         }
        },
        {
         "name": "HUC_8_NAME_Upper Putah",
         "dtype": "uint8",
         "stats": {
          "unique_count": 0,
          "nan_count": 0,
          "min": null,
          "max": null,
          "histogram": [
           {
            "bin_start": 0,
            "bin_end": 0.1,
            "count": 0
           },
           {
            "bin_start": 0.1,
            "bin_end": 0.2,
            "count": 0
           },
           {
            "bin_start": 0.2,
            "bin_end": 0.30000000000000004,
            "count": 0
           },
           {
            "bin_start": 0.30000000000000004,
            "bin_end": 0.4,
            "count": 0
           },
           {
            "bin_start": 0.4,
            "bin_end": 0.5,
            "count": 0
           },
           {
            "bin_start": 0.5,
            "bin_end": 0.6000000000000001,
            "count": 0
           },
           {
            "bin_start": 0.6000000000000001,
            "bin_end": 0.7000000000000001,
            "count": 0
           },
           {
            "bin_start": 0.7000000000000001,
            "bin_end": 0.8,
            "count": 0
           },
           {
            "bin_start": 0.8,
            "bin_end": 0.9,
            "count": 0
           },
           {
            "bin_start": 0.9,
            "bin_end": 1,
            "count": 0
           }
          ]
         }
        },
        {
         "name": "HUC_8_NAME_Upper San Joaquin",
         "dtype": "uint8",
         "stats": {
          "unique_count": 0,
          "nan_count": 0,
          "min": null,
          "max": null,
          "histogram": [
           {
            "bin_start": 0,
            "bin_end": 0.1,
            "count": 0
           },
           {
            "bin_start": 0.1,
            "bin_end": 0.2,
            "count": 0
           },
           {
            "bin_start": 0.2,
            "bin_end": 0.30000000000000004,
            "count": 0
           },
           {
            "bin_start": 0.30000000000000004,
            "bin_end": 0.4,
            "count": 0
           },
           {
            "bin_start": 0.4,
            "bin_end": 0.5,
            "count": 0
           },
           {
            "bin_start": 0.5,
            "bin_end": 0.6000000000000001,
            "count": 0
           },
           {
            "bin_start": 0.6000000000000001,
            "bin_end": 0.7000000000000001,
            "count": 0
           },
           {
            "bin_start": 0.7000000000000001,
            "bin_end": 0.8,
            "count": 0
           },
           {
            "bin_start": 0.8,
            "bin_end": 0.9,
            "count": 0
           },
           {
            "bin_start": 0.9,
            "bin_end": 1,
            "count": 0
           }
          ]
         }
        },
        {
         "name": "HUC_8_NAME_Upper Stanislaus",
         "dtype": "uint8",
         "stats": {
          "unique_count": 0,
          "nan_count": 0,
          "min": null,
          "max": null,
          "histogram": [
           {
            "bin_start": 0,
            "bin_end": 0.1,
            "count": 0
           },
           {
            "bin_start": 0.1,
            "bin_end": 0.2,
            "count": 0
           },
           {
            "bin_start": 0.2,
            "bin_end": 0.30000000000000004,
            "count": 0
           },
           {
            "bin_start": 0.30000000000000004,
            "bin_end": 0.4,
            "count": 0
           },
           {
            "bin_start": 0.4,
            "bin_end": 0.5,
            "count": 0
           },
           {
            "bin_start": 0.5,
            "bin_end": 0.6000000000000001,
            "count": 0
           },
           {
            "bin_start": 0.6000000000000001,
            "bin_end": 0.7000000000000001,
            "count": 0
           },
           {
            "bin_start": 0.7000000000000001,
            "bin_end": 0.8,
            "count": 0
           },
           {
            "bin_start": 0.8,
            "bin_end": 0.9,
            "count": 0
           },
           {
            "bin_start": 0.9,
            "bin_end": 1,
            "count": 0
           }
          ]
         }
        },
        {
         "name": "HUC_8_NAME_Upper Stony",
         "dtype": "uint8",
         "stats": {
          "unique_count": 0,
          "nan_count": 0,
          "min": null,
          "max": null,
          "histogram": [
           {
            "bin_start": 0,
            "bin_end": 0.1,
            "count": 0
           },
           {
            "bin_start": 0.1,
            "bin_end": 0.2,
            "count": 0
           },
           {
            "bin_start": 0.2,
            "bin_end": 0.30000000000000004,
            "count": 0
           },
           {
            "bin_start": 0.30000000000000004,
            "bin_end": 0.4,
            "count": 0
           },
           {
            "bin_start": 0.4,
            "bin_end": 0.5,
            "count": 0
           },
           {
            "bin_start": 0.5,
            "bin_end": 0.6000000000000001,
            "count": 0
           },
           {
            "bin_start": 0.6000000000000001,
            "bin_end": 0.7000000000000001,
            "count": 0
           },
           {
            "bin_start": 0.7000000000000001,
            "bin_end": 0.8,
            "count": 0
           },
           {
            "bin_start": 0.8,
            "bin_end": 0.9,
            "count": 0
           },
           {
            "bin_start": 0.9,
            "bin_end": 1,
            "count": 0
           }
          ]
         }
        },
        {
         "name": "HUC_8_NAME_Upper Tule",
         "dtype": "uint8",
         "stats": {
          "unique_count": 0,
          "nan_count": 0,
          "min": null,
          "max": null,
          "histogram": [
           {
            "bin_start": 0,
            "bin_end": 0.1,
            "count": 0
           },
           {
            "bin_start": 0.1,
            "bin_end": 0.2,
            "count": 0
           },
           {
            "bin_start": 0.2,
            "bin_end": 0.30000000000000004,
            "count": 0
           },
           {
            "bin_start": 0.30000000000000004,
            "bin_end": 0.4,
            "count": 0
           },
           {
            "bin_start": 0.4,
            "bin_end": 0.5,
            "count": 0
           },
           {
            "bin_start": 0.5,
            "bin_end": 0.6000000000000001,
            "count": 0
           },
           {
            "bin_start": 0.6000000000000001,
            "bin_end": 0.7000000000000001,
            "count": 0
           },
           {
            "bin_start": 0.7000000000000001,
            "bin_end": 0.8,
            "count": 0
           },
           {
            "bin_start": 0.8,
            "bin_end": 0.9,
            "count": 0
           },
           {
            "bin_start": 0.9,
            "bin_end": 1,
            "count": 0
           }
          ]
         }
        },
        {
         "name": "HUC_8_NAME_Upper Tuolumne",
         "dtype": "uint8",
         "stats": {
          "unique_count": 0,
          "nan_count": 0,
          "min": null,
          "max": null,
          "histogram": [
           {
            "bin_start": 0,
            "bin_end": 0.1,
            "count": 0
           },
           {
            "bin_start": 0.1,
            "bin_end": 0.2,
            "count": 0
           },
           {
            "bin_start": 0.2,
            "bin_end": 0.30000000000000004,
            "count": 0
           },
           {
            "bin_start": 0.30000000000000004,
            "bin_end": 0.4,
            "count": 0
           },
           {
            "bin_start": 0.4,
            "bin_end": 0.5,
            "count": 0
           },
           {
            "bin_start": 0.5,
            "bin_end": 0.6000000000000001,
            "count": 0
           },
           {
            "bin_start": 0.6000000000000001,
            "bin_end": 0.7000000000000001,
            "count": 0
           },
           {
            "bin_start": 0.7000000000000001,
            "bin_end": 0.8,
            "count": 0
           },
           {
            "bin_start": 0.8,
            "bin_end": 0.9,
            "count": 0
           },
           {
            "bin_start": 0.9,
            "bin_end": 1,
            "count": 0
           }
          ]
         }
        },
        {
         "name": "HUC_8_NAME_Upper Yuba",
         "dtype": "uint8",
         "stats": {
          "unique_count": 0,
          "nan_count": 0,
          "min": null,
          "max": null,
          "histogram": [
           {
            "bin_start": 0,
            "bin_end": 0.1,
            "count": 0
           },
           {
            "bin_start": 0.1,
            "bin_end": 0.2,
            "count": 0
           },
           {
            "bin_start": 0.2,
            "bin_end": 0.30000000000000004,
            "count": 0
           },
           {
            "bin_start": 0.30000000000000004,
            "bin_end": 0.4,
            "count": 0
           },
           {
            "bin_start": 0.4,
            "bin_end": 0.5,
            "count": 0
           },
           {
            "bin_start": 0.5,
            "bin_end": 0.6000000000000001,
            "count": 0
           },
           {
            "bin_start": 0.6000000000000001,
            "bin_end": 0.7000000000000001,
            "count": 0
           },
           {
            "bin_start": 0.7000000000000001,
            "bin_end": 0.8,
            "count": 0
           },
           {
            "bin_start": 0.8,
            "bin_end": 0.9,
            "count": 0
           },
           {
            "bin_start": 0.9,
            "bin_end": 1,
            "count": 0
           }
          ]
         }
        },
        {
         "name": "HUC_8_NAME_Ventura",
         "dtype": "uint8",
         "stats": {
          "unique_count": 0,
          "nan_count": 0,
          "min": null,
          "max": null,
          "histogram": [
           {
            "bin_start": 0,
            "bin_end": 0.1,
            "count": 0
           },
           {
            "bin_start": 0.1,
            "bin_end": 0.2,
            "count": 0
           },
           {
            "bin_start": 0.2,
            "bin_end": 0.30000000000000004,
            "count": 0
           },
           {
            "bin_start": 0.30000000000000004,
            "bin_end": 0.4,
            "count": 0
           },
           {
            "bin_start": 0.4,
            "bin_end": 0.5,
            "count": 0
           },
           {
            "bin_start": 0.5,
            "bin_end": 0.6000000000000001,
            "count": 0
           },
           {
            "bin_start": 0.6000000000000001,
            "bin_end": 0.7000000000000001,
            "count": 0
           },
           {
            "bin_start": 0.7000000000000001,
            "bin_end": 0.8,
            "count": 0
           },
           {
            "bin_start": 0.8,
            "bin_end": 0.9,
            "count": 0
           },
           {
            "bin_start": 0.9,
            "bin_end": 1,
            "count": 0
           }
          ]
         }
        },
        {
         "name": "HUC_8_NAME_Warner Lakes",
         "dtype": "uint8",
         "stats": {
          "unique_count": 0,
          "nan_count": 0,
          "min": null,
          "max": null,
          "histogram": [
           {
            "bin_start": 0,
            "bin_end": 0.1,
            "count": 0
           },
           {
            "bin_start": 0.1,
            "bin_end": 0.2,
            "count": 0
           },
           {
            "bin_start": 0.2,
            "bin_end": 0.30000000000000004,
            "count": 0
           },
           {
            "bin_start": 0.30000000000000004,
            "bin_end": 0.4,
            "count": 0
           },
           {
            "bin_start": 0.4,
            "bin_end": 0.5,
            "count": 0
           },
           {
            "bin_start": 0.5,
            "bin_end": 0.6000000000000001,
            "count": 0
           },
           {
            "bin_start": 0.6000000000000001,
            "bin_end": 0.7000000000000001,
            "count": 0
           },
           {
            "bin_start": 0.7000000000000001,
            "bin_end": 0.8,
            "count": 0
           },
           {
            "bin_start": 0.8,
            "bin_end": 0.9,
            "count": 0
           },
           {
            "bin_start": 0.9,
            "bin_end": 1,
            "count": 0
           }
          ]
         }
        },
        {
         "name": "HUC_8_NAME_West Walker",
         "dtype": "uint8",
         "stats": {
          "unique_count": 0,
          "nan_count": 0,
          "min": null,
          "max": null,
          "histogram": [
           {
            "bin_start": 0,
            "bin_end": 0.1,
            "count": 0
           },
           {
            "bin_start": 0.1,
            "bin_end": 0.2,
            "count": 0
           },
           {
            "bin_start": 0.2,
            "bin_end": 0.30000000000000004,
            "count": 0
           },
           {
            "bin_start": 0.30000000000000004,
            "bin_end": 0.4,
            "count": 0
           },
           {
            "bin_start": 0.4,
            "bin_end": 0.5,
            "count": 0
           },
           {
            "bin_start": 0.5,
            "bin_end": 0.6000000000000001,
            "count": 0
           },
           {
            "bin_start": 0.6000000000000001,
            "bin_end": 0.7000000000000001,
            "count": 0
           },
           {
            "bin_start": 0.7000000000000001,
            "bin_end": 0.8,
            "count": 0
           },
           {
            "bin_start": 0.8,
            "bin_end": 0.9,
            "count": 0
           },
           {
            "bin_start": 0.9,
            "bin_end": 1,
            "count": 0
           }
          ]
         }
        },
        {
         "name": "HUC_8_NAME_Whitewater River",
         "dtype": "uint8",
         "stats": {
          "unique_count": 0,
          "nan_count": 0,
          "min": null,
          "max": null,
          "histogram": [
           {
            "bin_start": 0,
            "bin_end": 0.1,
            "count": 0
           },
           {
            "bin_start": 0.1,
            "bin_end": 0.2,
            "count": 0
           },
           {
            "bin_start": 0.2,
            "bin_end": 0.30000000000000004,
            "count": 0
           },
           {
            "bin_start": 0.30000000000000004,
            "bin_end": 0.4,
            "count": 0
           },
           {
            "bin_start": 0.4,
            "bin_end": 0.5,
            "count": 0
           },
           {
            "bin_start": 0.5,
            "bin_end": 0.6000000000000001,
            "count": 0
           },
           {
            "bin_start": 0.6000000000000001,
            "bin_end": 0.7000000000000001,
            "count": 0
           },
           {
            "bin_start": 0.7000000000000001,
            "bin_end": 0.8,
            "count": 0
           },
           {
            "bin_start": 0.8,
            "bin_end": 0.9,
            "count": 0
           },
           {
            "bin_start": 0.9,
            "bin_end": 1,
            "count": 0
           }
          ]
         }
        },
        {
         "name": "A/NP",
         "dtype": "int64",
         "stats": {
          "unique_count": 0,
          "nan_count": 0,
          "min": null,
          "max": null,
          "histogram": [
           {
            "bin_start": 0,
            "bin_end": 0.1,
            "count": 0
           },
           {
            "bin_start": 0.1,
            "bin_end": 0.2,
            "count": 0
           },
           {
            "bin_start": 0.2,
            "bin_end": 0.30000000000000004,
            "count": 0
           },
           {
            "bin_start": 0.30000000000000004,
            "bin_end": 0.4,
            "count": 0
           },
           {
            "bin_start": 0.4,
            "bin_end": 0.5,
            "count": 0
           },
           {
            "bin_start": 0.5,
            "bin_end": 0.6000000000000001,
            "count": 0
           },
           {
            "bin_start": 0.6000000000000001,
            "bin_end": 0.7000000000000001,
            "count": 0
           },
           {
            "bin_start": 0.7000000000000001,
            "bin_end": 0.8,
            "count": 0
           },
           {
            "bin_start": 0.8,
            "bin_end": 0.9,
            "count": 0
           },
           {
            "bin_start": 0.9,
            "bin_end": 1,
            "count": 0
           }
          ]
         }
        },
        {
         "name": "_deepnote_index_column",
         "dtype": "int64"
        }
       ],
       "rows": []
      },
      "text/plain": "Empty DataFrame\nColumns: [FACE_VALUE_AMOUNT, QUANTITY_OF_WATER_DIVERTED, USE_COUNT, USE_POPULATION, NUMBER_OF_PROTESTS, HUC_8_NAME_Antelope-Fremont Valleys, HUC_8_NAME_Applegate, HUC_8_NAME_Battle Creek, HUC_8_NAME_Big Chico Creek-Sacramento River, HUC_8_NAME_Big-Navarro-Garcia, HUC_8_NAME_Butte, HUC_8_NAME_Butte Creek, HUC_8_NAME_Calleguas, HUC_8_NAME_Carrizo Creek, HUC_8_NAME_Carrizo Plain, HUC_8_NAME_Central Coastal, HUC_8_NAME_Chetco, HUC_8_NAME_Clear Creek-Sacramento River, HUC_8_NAME_Cottonwood Creek, HUC_8_NAME_Cottonwood-Tijuana, HUC_8_NAME_Cow Creek, HUC_8_NAME_Coyote, HUC_8_NAME_Coyote-Cuddeback Lakes, HUC_8_NAME_Crowley Lake, HUC_8_NAME_Cuyama, HUC_8_NAME_Death Valley-Lower Amargosa, HUC_8_NAME_East Branch North Fork Feather, HUC_8_NAME_East Walker, HUC_8_NAME_Estrella, HUC_8_NAME_Eureka-Saline Valleys, HUC_8_NAME_Fish Lake-Soda Spring Valleys, HUC_8_NAME_Fresno River, HUC_8_NAME_Goose Lake, HUC_8_NAME_Gualala-Salmon, HUC_8_NAME_Havasu-Mohave Lakes, HUC_8_NAME_Honcut Headwaters-Lower Feather, HUC_8_NAME_Honey-Eagle Lakes, HUC_8_NAME_Illinois, HUC_8_NAME_Imperial Reservoir, HUC_8_NAME_Indian Wells-Searles Valleys, HUC_8_NAME_Ivanpah-Pahrump Valleys, HUC_8_NAME_Lake Tahoe, HUC_8_NAME_Los Angeles, HUC_8_NAME_Lost, HUC_8_NAME_Lower American, HUC_8_NAME_Lower Colorado, HUC_8_NAME_Lower Eel, HUC_8_NAME_Lower Klamath, HUC_8_NAME_Lower Pit, HUC_8_NAME_Lower Sacramento, HUC_8_NAME_Lower San Joaquin River, HUC_8_NAME_Mad-Redwood, HUC_8_NAME_Madeline Plains, HUC_8_NAME_Massacre Lake, HUC_8_NAME_Mattole, HUC_8_NAME_McCloud, HUC_8_NAME_Middle Fork Eel, HUC_8_NAME_Middle Fork Feather, HUC_8_NAME_Middle Kern-Upper Tehachapi-Grapevine, HUC_8_NAME_Middle San Joaquin-Lower Chowchilla, HUC_8_NAME_Mojave, HUC_8_NAME_Mono Lake, HUC_8_NAME_Monterey Bay, HUC_8_NAME_Newport Bay, HUC_8_NAME_North Fork American, HUC_8_NAME_North Fork Feather, HUC_8_NAME_Owens Lake, HUC_8_NAME_Pajaro, HUC_8_NAME_Panamint Valley, HUC_8_NAME_Panoche-San Luis Reservoir, HUC_8_NAME_Paynes Creek-Sacramento River, HUC_8_NAME_Piute Wash, HUC_8_NAME_Rock Creek-French Camp Slough, HUC_8_NAME_Russian, HUC_8_NAME_Sacramento Headwaters, HUC_8_NAME_Sacramento-Stone Corral, HUC_8_NAME_Salinas, HUC_8_NAME_Salmon, HUC_8_NAME_Salton Sea, HUC_8_NAME_San Antonio, HUC_8_NAME_San Diego, HUC_8_NAME_San Felipe Creek, HUC_8_NAME_San Francisco Bay, HUC_8_NAME_San Francisco Coastal South, HUC_8_NAME_San Gabriel, HUC_8_NAME_San Jacinto, HUC_8_NAME_San Joaquin Delta, HUC_8_NAME_San Luis Rey-Escondido, HUC_8_NAME_San Pablo Bay, HUC_8_NAME_San Pedro Channel Islands, HUC_8_NAME_Santa Ana, HUC_8_NAME_Santa Barbara Coastal, HUC_8_NAME_Santa Clara, HUC_8_NAME_Santa Margarita, HUC_8_NAME_Santa Maria, HUC_8_NAME_Santa Monica Bay, HUC_8_NAME_Santa Ynez, HUC_8_NAME_Scott, HUC_8_NAME_Shasta, HUC_8_NAME_Smith, ...]\nIndex: []\n\n[0 rows x 143 columns]",
      "text/html": "<div>\n<style scoped>\n    .dataframe tbody tr th:only-of-type {\n        vertical-align: middle;\n    }\n\n    .dataframe tbody tr th {\n        vertical-align: top;\n    }\n\n    .dataframe thead th {\n        text-align: right;\n    }\n</style>\n<table border=\"1\" class=\"dataframe\">\n  <thead>\n    <tr style=\"text-align: right;\">\n      <th></th>\n      <th>FACE_VALUE_AMOUNT</th>\n      <th>QUANTITY_OF_WATER_DIVERTED</th>\n      <th>USE_COUNT</th>\n      <th>USE_POPULATION</th>\n      <th>NUMBER_OF_PROTESTS</th>\n      <th>HUC_8_NAME_Antelope-Fremont Valleys</th>\n      <th>HUC_8_NAME_Applegate</th>\n      <th>HUC_8_NAME_Battle Creek</th>\n      <th>HUC_8_NAME_Big Chico Creek-Sacramento River</th>\n      <th>HUC_8_NAME_Big-Navarro-Garcia</th>\n      <th>...</th>\n      <th>HUC_8_NAME_Upper Stanislaus</th>\n      <th>HUC_8_NAME_Upper Stony</th>\n      <th>HUC_8_NAME_Upper Tule</th>\n      <th>HUC_8_NAME_Upper Tuolumne</th>\n      <th>HUC_8_NAME_Upper Yuba</th>\n      <th>HUC_8_NAME_Ventura</th>\n      <th>HUC_8_NAME_Warner Lakes</th>\n      <th>HUC_8_NAME_West Walker</th>\n      <th>HUC_8_NAME_Whitewater River</th>\n      <th>A/NP</th>\n    </tr>\n  </thead>\n  <tbody>\n  </tbody>\n</table>\n<p>0 rows × 143 columns</p>\n</div>"
     },
     "metadata": {}
    }
   ]
  },
  {
   "cell_type": "code",
   "metadata": {
    "cell_id": "66f0205fc21d4d1c8cac1310c8d1ebb1",
    "tags": [],
    "deepnote_to_be_reexecuted": true,
    "source_hash": "b623e53d",
    "deepnote_cell_type": "code",
    "deepnote_cell_height": 81
   },
   "source": "",
   "execution_count": null,
   "outputs": []
  },
  {
   "cell_type": "markdown",
   "source": "<a style='text-decoration:none;line-height:16px;display:flex;color:#5B5B62;padding:10px;justify-content:end;' href='https://deepnote.com?utm_source=created-in-deepnote-cell&projectId=37b907c3-2635-4133-aca7-5282be3440ea' target=\"_blank\">\n<img alt='Created in deepnote.com' style='display:inline;max-height:16px;margin:0px;margin-right:7.5px;' src='data:image/svg+xml;base64,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' > </img>\nCreated in <span style='font-weight:600;margin-left:4px;'>Deepnote</span></a>",
   "metadata": {
    "tags": [],
    "created_in_deepnote_cell": true,
    "deepnote_cell_type": "markdown"
   }
  }
 ],
 "nbformat": 4,
 "nbformat_minor": 5,
 "metadata": {
  "kernelspec": {
   "display_name": "Python 3 (ipykernel)",
   "language": "python",
   "name": "python3"
  },
  "language_info": {
   "codemirror_mode": {
    "name": "ipython",
    "version": 3
   },
   "file_extension": ".py",
   "mimetype": "text/x-python",
   "name": "python",
   "nbconvert_exporter": "python",
   "pygments_lexer": "ipython3",
   "version": "3.9.12"
  },
  "deepnote_notebook_id": "a2dcc623-9da0-4222-85d7-b828e9c3c262",
  "deepnote": {},
  "deepnote_execution_queue": []
 }
}